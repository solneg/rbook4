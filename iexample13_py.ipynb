{
 "cells": [
  {
   "cell_type": "markdown",
   "metadata": {},
   "source": [
    "# Chapter 13.  Pooling Cross Sections across Time\n",
    "[Home](http://solomonegash.com/) | [Stata](http://solomonegash.com/woodridge1/index.html) | [R](http://solomonegash.com/econometrics/rbook1/index.html)\n"
   ]
  },
  {
   "cell_type": "code",
   "execution_count": 1,
   "metadata": {},
   "outputs": [],
   "source": [
    "import numpy as np\n",
    "import pandas as pd\n",
    "\n",
    "import statsmodels.stats.api as sms \n",
    "import statsmodels.formula.api as smf\n",
    "from statsmodels.iolib.summary2 import summary_col\n",
    "\n",
    "from wooldridge import *"
   ]
  },
  {
   "cell_type": "markdown",
   "metadata": {},
   "source": [
    "### Example 13.1. Women’s Fertility over Time"
   ]
  },
  {
   "cell_type": "code",
   "execution_count": 2,
   "metadata": {},
   "outputs": [],
   "source": [
    "df = dataWoo('fertil1')"
   ]
  },
  {
   "cell_type": "code",
   "execution_count": 3,
   "metadata": {},
   "outputs": [
    {
     "name": "stdout",
     "output_type": "stream",
     "text": [
      "                            OLS Regression Results                            \n",
      "==============================================================================\n",
      "Dep. Variable:                   kids   R-squared:                       0.130\n",
      "Model:                            OLS   Adj. R-squared:                  0.116\n",
      "Method:                 Least Squares   F-statistic:                     9.723\n",
      "Date:                Tue, 02 Jul 2024   Prob (F-statistic):           2.42e-24\n",
      "Time:                        18:12:09   Log-Likelihood:                -2091.2\n",
      "No. Observations:                1129   AIC:                             4218.\n",
      "Df Residuals:                    1111   BIC:                             4309.\n",
      "Df Model:                          17                                         \n",
      "Covariance Type:            nonrobust                                         \n",
      "==============================================================================\n",
      "                 coef    std err          t      P>|t|      [0.025      0.975]\n",
      "------------------------------------------------------------------------------\n",
      "Intercept     -7.7425      3.052     -2.537      0.011     -13.730      -1.755\n",
      "educ          -0.1284      0.018     -6.999      0.000      -0.164      -0.092\n",
      "age            0.5321      0.138      3.845      0.000       0.261       0.804\n",
      "agesq         -0.0058      0.002     -3.710      0.000      -0.009      -0.003\n",
      "black          1.0757      0.174      6.198      0.000       0.735       1.416\n",
      "east           0.2173      0.133      1.637      0.102      -0.043       0.478\n",
      "northcen       0.3631      0.121      3.004      0.003       0.126       0.600\n",
      "west           0.1976      0.167      1.184      0.237      -0.130       0.525\n",
      "farm          -0.0526      0.147     -0.357      0.721      -0.341       0.236\n",
      "othrural      -0.1629      0.175     -0.928      0.353      -0.507       0.181\n",
      "town           0.0844      0.125      0.677      0.498      -0.160       0.329\n",
      "smcity         0.2119      0.160      1.322      0.187      -0.103       0.526\n",
      "y74            0.2682      0.173      1.553      0.121      -0.071       0.607\n",
      "y76           -0.0974      0.179     -0.544      0.587      -0.449       0.254\n",
      "y78           -0.0687      0.182     -0.378      0.706      -0.425       0.288\n",
      "y80           -0.0713      0.183     -0.390      0.697      -0.430       0.287\n",
      "y82           -0.5225      0.172     -3.030      0.003      -0.861      -0.184\n",
      "y84           -0.5452      0.175     -3.124      0.002      -0.888      -0.203\n",
      "==============================================================================\n",
      "Omnibus:                        9.775   Durbin-Watson:                   2.011\n",
      "Prob(Omnibus):                  0.008   Jarque-Bera (JB):                9.966\n",
      "Skew:                           0.227   Prob(JB):                      0.00685\n",
      "Kurtosis:                       2.920   Cond. No.                     1.32e+05\n",
      "==============================================================================\n",
      "\n",
      "Notes:\n",
      "[1] Standard Errors assume that the covariance matrix of the errors is correctly specified.\n",
      "[2] The condition number is large, 1.32e+05. This might indicate that there are\n",
      "strong multicollinearity or other numerical problems.\n"
     ]
    }
   ],
   "source": [
    "fert_reg = smf.ols(\n",
    "    'kids ~ educ + age + agesq + black + east + northcen + west + farm + othrural + town + smcity + y74 + y76 + y78 + y80 + y82 + y84',\n",
    "    data=df).fit()\n",
    "print(fert_reg.summary())"
   ]
  },
  {
   "cell_type": "code",
   "execution_count": 4,
   "metadata": {},
   "outputs": [
    {
     "name": "stdout",
     "output_type": "stream",
     "text": [
      "<F test: F=5.869508671580268, p=4.85518986757229e-06, df_denom=1.11e+03, df_num=6>\n"
     ]
    }
   ],
   "source": [
    "hypotheses = '(y74 =y76 = y78 = y80 = y82 = y84 = 0)'\n",
    "f_test = fert_reg.f_test(hypotheses)\n",
    "print(f_test)"
   ]
  },
  {
   "cell_type": "code",
   "execution_count": 5,
   "metadata": {},
   "outputs": [
    {
     "name": "stdout",
     "output_type": "stream",
     "text": [
      "      Chi-Sq  Prob>Chi-Sq\n",
      "0  55.315373     0.000006\n"
     ]
    }
   ],
   "source": [
    "bptest = sms.diagnostic.het_breuschpagan(fert_reg.resid, fert_reg.model.exog)\n",
    "df2 = pd.DataFrame({'Chi-Sq':[bptest[0]],\n",
    "                   'Prob>Chi-Sq':[bptest[1]]})\n",
    "print(df2)"
   ]
  },
  {
   "cell_type": "markdown",
   "metadata": {},
   "source": [
    "### Example 13.2. Changes in the Return to Education and the Gender Wage Gap"
   ]
  },
  {
   "cell_type": "code",
   "execution_count": 6,
   "metadata": {
    "scrolled": true
   },
   "outputs": [
    {
     "name": "stdout",
     "output_type": "stream",
     "text": [
      "                            OLS Regression Results                            \n",
      "==============================================================================\n",
      "Dep. Variable:                  lwage   R-squared:                       0.426\n",
      "Model:                            OLS   Adj. R-squared:                  0.422\n",
      "Method:                 Least Squares   F-statistic:                     99.80\n",
      "Date:                Tue, 02 Jul 2024   Prob (F-statistic):          4.46e-124\n",
      "Time:                        18:12:09   Log-Likelihood:                -574.24\n",
      "No. Observations:                1084   AIC:                             1166.\n",
      "Df Residuals:                    1075   BIC:                             1211.\n",
      "Df Model:                           8                                         \n",
      "Covariance Type:            nonrobust                                         \n",
      "==============================================================================\n",
      "                 coef    std err          t      P>|t|      [0.025      0.975]\n",
      "------------------------------------------------------------------------------\n",
      "Intercept      0.4589      0.093      4.911      0.000       0.276       0.642\n",
      "y85            0.1178      0.124      0.952      0.341      -0.125       0.361\n",
      "educ           0.0747      0.007     11.192      0.000       0.062       0.088\n",
      "y85educ        0.0185      0.009      1.974      0.049       0.000       0.037\n",
      "exper          0.0296      0.004      8.293      0.000       0.023       0.037\n",
      "expersq       -0.0004   7.75e-05     -5.151      0.000      -0.001      -0.000\n",
      "union          0.2021      0.030      6.672      0.000       0.143       0.262\n",
      "female        -0.3167      0.037     -8.648      0.000      -0.389      -0.245\n",
      "y85fem         0.0851      0.051      1.658      0.098      -0.016       0.186\n",
      "==============================================================================\n",
      "Omnibus:                       83.747   Durbin-Watson:                   1.918\n",
      "Prob(Omnibus):                  0.000   Jarque-Bera (JB):              317.985\n",
      "Skew:                          -0.271   Prob(JB):                     8.92e-70\n",
      "Kurtosis:                       5.597   Cond. No.                     8.77e+03\n",
      "==============================================================================\n",
      "\n",
      "Notes:\n",
      "[1] Standard Errors assume that the covariance matrix of the errors is correctly specified.\n",
      "[2] The condition number is large, 8.77e+03. This might indicate that there are\n",
      "strong multicollinearity or other numerical problems.\n"
     ]
    }
   ],
   "source": [
    "print(smf.ols('lwage ~ y85 + educ + y85educ + exper + expersq + union + female + y85fem', data=dataWoo(\"cps78_85\")).fit().summary())"
   ]
  },
  {
   "cell_type": "markdown",
   "metadata": {},
   "source": [
    "### Example 13.3. Effect of a Garbage Incinerator’s Location on Housing Prices"
   ]
  },
  {
   "cell_type": "code",
   "execution_count": 7,
   "metadata": {},
   "outputs": [
    {
     "name": "stdout",
     "output_type": "stream",
     "text": [
      "\n",
      "==========================================\n",
      "                   grab81        grab78   \n",
      "                   (b/se)        (b/se)   \n",
      "------------------------------------------\n",
      "Intercept      101307.514*** 82517.228*** \n",
      "               (3093.027)    (2653.790)   \n",
      "nearinc        -30688.274*** -18824.370***\n",
      "               (5827.709)    (4744.594)   \n",
      "R-squared      0.165         0.082        \n",
      "R-squared Adj. 0.159         0.076        \n",
      "N              142           179          \n",
      "R2             0.165         0.082        \n",
      "Adj.R2         0.159         0.076        \n",
      "==========================================\n",
      "Standard errors in parentheses.\n",
      "* p<.1, ** p<.05, ***p<.01\n"
     ]
    }
   ],
   "source": [
    "df = dataWoo(\"kielmc\")\n",
    "garb81_reg = smf.ols('rprice ~ nearinc', data=df[(df['year']==1981)]).fit()\n",
    "garb78_reg = smf.ols('rprice ~ nearinc', data=df[(df['year']==1978)]).fit()\n",
    "\n",
    "print(summary_col([garb81_reg, garb78_reg],stars=True,float_format='%0.3f',\n",
    "                  model_names=['grab81\\n(b/se)','grab78\\n(b/se)'],\n",
    "                 info_dict={'N':lambda x: \"{0:d}\".format(int(x.nobs)),\n",
    "                             'R2':lambda x: \"{:.3f}\".format(x.rsquared), \n",
    "                           'Adj.R2':lambda x: \"{:.3f}\".format(x.rsquared_adj)}))"
   ]
  },
  {
   "cell_type": "markdown",
   "metadata": {},
   "source": [
    "### Table 13.2 Effects of Incinerator Location on Housing Prices (rprice)"
   ]
  },
  {
   "cell_type": "code",
   "execution_count": 8,
   "metadata": {},
   "outputs": [
    {
     "name": "stdout",
     "output_type": "stream",
     "text": [
      "\n",
      "========================================================\n",
      "                    One           Two          Three    \n",
      "                   (b/se)        (b/se)        (b/se)   \n",
      "--------------------------------------------------------\n",
      "Intercept      82517.228***  89116.535***  13807.665    \n",
      "               (2726.910)    (2406.051)    (11166.594)  \n",
      "R-squared      0.174         0.414         0.660        \n",
      "R-squared Adj. 0.166         0.405         0.649        \n",
      "age                          -1494.424***  -739.451***  \n",
      "                             (131.860)     (131.127)    \n",
      "agesq                        8.691***      3.453***     \n",
      "                             (0.848)       (0.813)      \n",
      "area                                       18.086***    \n",
      "                                           (2.306)      \n",
      "baths                                      6977.317***  \n",
      "                                           (2581.321)   \n",
      "intst                                      -0.539***    \n",
      "                                           (0.196)      \n",
      "land                                       0.141***     \n",
      "                                           (0.031)      \n",
      "nearinc        -18824.370*** 9397.936*     3780.337     \n",
      "               (4875.322)    (4812.222)    (4453.415)   \n",
      "rooms                                      3304.227**   \n",
      "                                           (1661.248)   \n",
      "y81            18790.286***  21321.042***  13928.476*** \n",
      "               (4050.065)    (3443.631)    (2798.747)   \n",
      "y81nrinc       -11863.903    -21920.270*** -14177.934***\n",
      "               (7456.646)    (6359.745)    (4987.267)   \n",
      "N              321           321           321          \n",
      "R2             0.174         0.414         0.660        \n",
      "Adj.R2         0.166         0.405         0.649        \n",
      "========================================================\n",
      "Standard errors in parentheses.\n",
      "* p<.1, ** p<.05, ***p<.01\n"
     ]
    }
   ],
   "source": [
    "One = smf.ols('rprice ~ y81 + nearinc + y81nrinc', data=df).fit()\n",
    "Two = smf.ols('rprice ~ y81 + nearinc + y81nrinc + age + agesq', data=df).fit()\n",
    "Three = smf.ols('rprice ~ y81 + nearinc + y81nrinc + age + agesq + intst + land + area + rooms + baths', data=df).fit()\n",
    "\n",
    "print(summary_col([One, Two, Three],stars=True,float_format='%0.3f',\n",
    "                  model_names=['One\\n(b/se)','Two\\n(b/se)', 'Three\\n(b/se)'],\n",
    "                 info_dict={'N':lambda x: \"{0:d}\".format(int(x.nobs)),\n",
    "                             'R2':lambda x: \"{:.3f}\".format(x.rsquared), \n",
    "                           'Adj.R2':lambda x: \"{:.3f}\".format(x.rsquared_adj)}))"
   ]
  },
  {
   "cell_type": "code",
   "execution_count": 9,
   "metadata": {},
   "outputs": [
    {
     "name": "stdout",
     "output_type": "stream",
     "text": [
      "\n",
      "==================================\n",
      "                  lOne     lThree \n",
      "                 (b/se)    (b/se) \n",
      "----------------------------------\n",
      "Intercept      11.285*** 7.652*** \n",
      "               (0.031)   (0.416)  \n",
      "R-squared      0.409     0.790    \n",
      "R-squared Adj. 0.403     0.784    \n",
      "age                      -0.008***\n",
      "                         (0.001)  \n",
      "agesq                    0.000*** \n",
      "                         (0.000)  \n",
      "baths                    0.094*** \n",
      "                         (0.028)  \n",
      "larea                    0.351*** \n",
      "                         (0.051)  \n",
      "lintst                   -0.061*  \n",
      "                         (0.032)  \n",
      "lland                    0.100*** \n",
      "                         (0.024)  \n",
      "nearinc        -0.340*** 0.032    \n",
      "               (0.055)   (0.047)  \n",
      "rooms                    0.047*** \n",
      "                         (0.017)  \n",
      "y81            0.457***  0.426*** \n",
      "               (0.045)   (0.028)  \n",
      "y81nrinc       -0.063    -0.132** \n",
      "               (0.083)   (0.052)  \n",
      "N              321       321      \n",
      "R2             0.409     0.790    \n",
      "Adj.R2         0.403     0.784    \n",
      "==================================\n",
      "Standard errors in parentheses.\n",
      "* p<.1, ** p<.05, ***p<.01\n"
     ]
    }
   ],
   "source": [
    "lOne = smf.ols('lprice ~ y81 + nearinc + y81nrinc', data=df).fit()\n",
    "lThree = smf.ols('lprice ~ y81 + nearinc + y81nrinc + age + agesq + lintst + lland + larea + rooms + baths', data=df).fit()\n",
    "\n",
    "print(summary_col([lOne, lThree],stars=True,float_format='%0.3f',\n",
    "                  model_names=['lOne\\n(b/se)', 'lThree\\n(b/se)'],\n",
    "                 info_dict={'N':lambda x: \"{0:d}\".format(int(x.nobs)),\n",
    "                             'R2':lambda x: \"{:.3f}\".format(x.rsquared), \n",
    "                           'Adj.R2':lambda x: \"{:.3f}\".format(x.rsquared_adj)}))"
   ]
  },
  {
   "cell_type": "markdown",
   "metadata": {},
   "source": [
    "### Example 13.4. Effect of Worker Compensation Laws on Weeks out of Work"
   ]
  },
  {
   "cell_type": "code",
   "execution_count": 10,
   "metadata": {},
   "outputs": [
    {
     "name": "stdout",
     "output_type": "stream",
     "text": [
      "                            OLS Regression Results                            \n",
      "==============================================================================\n",
      "Dep. Variable:                 ldurat   R-squared:                       0.021\n",
      "Model:                            OLS   Adj. R-squared:                  0.020\n",
      "Method:                 Least Squares   F-statistic:                     39.54\n",
      "Date:                Tue, 02 Jul 2024   Prob (F-statistic):           2.81e-25\n",
      "Time:                        18:12:09   Log-Likelihood:                -9322.0\n",
      "No. Observations:                5626   AIC:                         1.865e+04\n",
      "Df Residuals:                    5622   BIC:                         1.868e+04\n",
      "Df Model:                           3                                         \n",
      "Covariance Type:            nonrobust                                         \n",
      "==============================================================================\n",
      "                 coef    std err          t      P>|t|      [0.025      0.975]\n",
      "------------------------------------------------------------------------------\n",
      "Intercept      1.1256      0.031     36.621      0.000       1.065       1.186\n",
      "afchnge        0.0077      0.045      0.171      0.864      -0.080       0.095\n",
      "highearn       0.2565      0.047      5.406      0.000       0.163       0.349\n",
      "afhigh         0.1906      0.069      2.782      0.005       0.056       0.325\n",
      "==============================================================================\n",
      "Omnibus:                       29.931   Durbin-Watson:                   1.905\n",
      "Prob(Omnibus):                  0.000   Jarque-Bera (JB):               41.672\n",
      "Skew:                           0.037   Prob(JB):                     8.93e-10\n",
      "Kurtosis:                       3.415   Cond. No.                         6.38\n",
      "==============================================================================\n",
      "\n",
      "Notes:\n",
      "[1] Standard Errors assume that the covariance matrix of the errors is correctly specified.\n"
     ]
    }
   ],
   "source": [
    "df = dataWoo(\"injury\")\n",
    "print(smf.ols('ldurat~ afchnge + highearn + afhigh', data=df[(df['ky']==1)]).fit().summary())"
   ]
  },
  {
   "cell_type": "markdown",
   "metadata": {},
   "source": [
    "### Example 13.5. Sleeping versus Working"
   ]
  },
  {
   "cell_type": "code",
   "execution_count": 11,
   "metadata": {},
   "outputs": [
    {
     "name": "stdout",
     "output_type": "stream",
     "text": [
      "                            OLS Regression Results                            \n",
      "==============================================================================\n",
      "Dep. Variable:                cslpnap   R-squared:                       0.150\n",
      "Model:                            OLS   Adj. R-squared:                  0.131\n",
      "Method:                 Least Squares   F-statistic:                     8.191\n",
      "Date:                Tue, 02 Jul 2024   Prob (F-statistic):           3.83e-07\n",
      "Time:                        18:12:09   Log-Likelihood:                -1864.4\n",
      "No. Observations:                 239   AIC:                             3741.\n",
      "Df Residuals:                     233   BIC:                             3762.\n",
      "Df Model:                           5                                         \n",
      "Covariance Type:            nonrobust                                         \n",
      "==============================================================================\n",
      "                 coef    std err          t      P>|t|      [0.025      0.975]\n",
      "------------------------------------------------------------------------------\n",
      "Intercept    -92.6340     45.866     -2.020      0.045    -182.999      -2.269\n",
      "ctotwrk       -0.2267      0.036     -6.287      0.000      -0.298      -0.156\n",
      "ceduc         -0.0245     48.759     -0.001      1.000     -96.090      96.041\n",
      "cmarr        104.2139     92.855      1.122      0.263     -78.729     287.157\n",
      "cyngkid       94.6654     87.653      1.080      0.281     -78.027     267.358\n",
      "cgdhlth       87.5778     76.599      1.143      0.254     -63.338     238.493\n",
      "==============================================================================\n",
      "Omnibus:                       31.927   Durbin-Watson:                   1.890\n",
      "Prob(Omnibus):                  0.000   Jarque-Bera (JB):               57.378\n",
      "Skew:                          -0.719   Prob(JB):                     3.47e-13\n",
      "Kurtosis:                       4.922   Cond. No.                     2.72e+03\n",
      "==============================================================================\n",
      "\n",
      "Notes:\n",
      "[1] Standard Errors assume that the covariance matrix of the errors is correctly specified.\n",
      "[2] The condition number is large, 2.72e+03. This might indicate that there are\n",
      "strong multicollinearity or other numerical problems.\n"
     ]
    }
   ],
   "source": [
    "print(smf.ols('cslpnap ~ ctotwrk + ceduc + cmarr + cyngkid + cgdhlth', data=dataWoo(\"slp75_81\")).fit().summary())"
   ]
  },
  {
   "cell_type": "markdown",
   "metadata": {},
   "source": [
    "### Distributed Lag of Crime Rate on Clear-Up Rate"
   ]
  },
  {
   "cell_type": "code",
   "execution_count": 12,
   "metadata": {},
   "outputs": [
    {
     "name": "stdout",
     "output_type": "stream",
     "text": [
      "                            OLS Regression Results                            \n",
      "==============================================================================\n",
      "Dep. Variable:                clcrime   R-squared:                       0.193\n",
      "Model:                            OLS   Adj. R-squared:                  0.161\n",
      "Method:                 Least Squares   F-statistic:                     5.992\n",
      "Date:                Tue, 02 Jul 2024   Prob (F-statistic):            0.00465\n",
      "Time:                        18:12:09   Log-Likelihood:                -17.194\n",
      "No. Observations:                  53   AIC:                             40.39\n",
      "Df Residuals:                      50   BIC:                             46.30\n",
      "Df Model:                           2                                         \n",
      "Covariance Type:            nonrobust                                         \n",
      "==============================================================================\n",
      "                 coef    std err          t      P>|t|      [0.025      0.975]\n",
      "------------------------------------------------------------------------------\n",
      "Intercept      0.0857      0.064      1.343      0.185      -0.042       0.214\n",
      "cclrprc1      -0.0040      0.005     -0.858      0.395      -0.014       0.005\n",
      "cclrprc2      -0.0132      0.005     -2.540      0.014      -0.024      -0.003\n",
      "==============================================================================\n",
      "Omnibus:                        3.032   Durbin-Watson:                   2.203\n",
      "Prob(Omnibus):                  0.220   Jarque-Bera (JB):                2.071\n",
      "Skew:                          -0.344   Prob(JB):                        0.355\n",
      "Kurtosis:                       3.681   Cond. No.                         23.6\n",
      "==============================================================================\n",
      "\n",
      "Notes:\n",
      "[1] Standard Errors assume that the covariance matrix of the errors is correctly specified.\n"
     ]
    }
   ],
   "source": [
    "print(smf.ols('clcrime ~ cclrprc1 + cclrprc2', data=dataWoo(\"crime3\")).fit().summary())"
   ]
  },
  {
   "cell_type": "markdown",
   "metadata": {},
   "source": [
    "### Example 13.7. Effect of Drunk Driving Laws on Traffic Fatalities"
   ]
  },
  {
   "cell_type": "code",
   "execution_count": 13,
   "metadata": {},
   "outputs": [
    {
     "name": "stdout",
     "output_type": "stream",
     "text": [
      "                            OLS Regression Results                            \n",
      "==============================================================================\n",
      "Dep. Variable:                 guclms   R-squared:                       0.623\n",
      "Model:                            OLS   Adj. R-squared:                  0.605\n",
      "Method:                 Least Squares   F-statistic:                     34.50\n",
      "Date:                Tue, 02 Jul 2024   Prob (F-statistic):           1.08e-31\n",
      "Time:                        18:12:09   Log-Likelihood:                 24.553\n",
      "No. Observations:                 176   AIC:                            -31.11\n",
      "Df Residuals:                     167   BIC:                            -2.573\n",
      "Df Model:                           8                                         \n",
      "Covariance Type:            nonrobust                                         \n",
      "==============================================================================\n",
      "                 coef    std err          t      P>|t|      [0.025      0.975]\n",
      "------------------------------------------------------------------------------\n",
      "Intercept     -0.3216      0.046     -6.982      0.000      -0.413      -0.231\n",
      "d82            0.7788      0.065     11.954      0.000       0.650       0.907\n",
      "d83           -0.0331      0.065     -0.508      0.612      -0.162       0.095\n",
      "d84           -0.0171      0.069     -0.250      0.803      -0.152       0.118\n",
      "d85            0.3231      0.067      4.845      0.000       0.191       0.455\n",
      "d86            0.2922      0.065      4.485      0.000       0.164       0.421\n",
      "d87            0.0539      0.065      0.828      0.409      -0.075       0.183\n",
      "d88           -0.0171      0.065     -0.262      0.794      -0.146       0.112\n",
      "cez           -0.1819      0.078     -2.326      0.021      -0.336      -0.028\n",
      "==============================================================================\n",
      "Omnibus:                        0.858   Durbin-Watson:                   2.370\n",
      "Prob(Omnibus):                  0.651   Jarque-Bera (JB):                0.871\n",
      "Skew:                           0.166   Prob(JB):                        0.647\n",
      "Kurtosis:                       2.905   Cond. No.                         8.96\n",
      "==============================================================================\n",
      "\n",
      "Notes:\n",
      "[1] Standard Errors assume that the covariance matrix of the errors is correctly specified.\n"
     ]
    }
   ],
   "source": [
    "ezon_reg =smf.ols('guclms ~ d82 + d83 + d84 + d85 + d86 + d87 + d88 + cez', data=dataWoo(\"ezunem\")).fit() \n",
    "print(ezon_reg.summary())"
   ]
  },
  {
   "cell_type": "code",
   "execution_count": 14,
   "metadata": {},
   "outputs": [
    {
     "data": {
      "text/plain": [
       "-16.631529528207743"
      ]
     },
     "execution_count": 14,
     "metadata": {},
     "output_type": "execute_result"
    }
   ],
   "source": [
    "cez = (np.exp(-.1819) - 1) * 100\n",
    "cez"
   ]
  },
  {
   "cell_type": "code",
   "execution_count": 15,
   "metadata": {},
   "outputs": [
    {
     "name": "stdout",
     "output_type": "stream",
     "text": [
      "     Chi-Sq  Prob>Chi-Sq\n",
      "0  6.913966     0.545943\n"
     ]
    }
   ],
   "source": [
    "bptest = sms.diagnostic.het_breuschpagan(ezon_reg.resid, ezon_reg.model.exog)\n",
    "bptest2 = pd.DataFrame({'Chi-Sq':[bptest[0]],\n",
    "                   'Prob>Chi-Sq':[bptest[1]]})\n",
    "print(bptest2)"
   ]
  },
  {
   "cell_type": "markdown",
   "metadata": {},
   "source": [
    "### Example 13.9. County Crime Rates in North Carolina"
   ]
  },
  {
   "cell_type": "code",
   "execution_count": 16,
   "metadata": {},
   "outputs": [
    {
     "name": "stdout",
     "output_type": "stream",
     "text": [
      "\n",
      "==================================\n",
      "               Hetrosced   Robust \n",
      "                 (b/se)    (b/se) \n",
      "----------------------------------\n",
      "Intercept      0.008     0.008    \n",
      "               (0.017)   (0.015)  \n",
      "d83            -0.100*** -0.100***\n",
      "               (0.024)   (0.022)  \n",
      "d84            -0.048**  -0.048** \n",
      "               (0.024)   (0.020)  \n",
      "d85            -0.005    -0.005   \n",
      "               (0.023)   (0.024)  \n",
      "d86            0.028     0.028    \n",
      "               (0.024)   (0.021)  \n",
      "d87            0.041*    0.041*   \n",
      "               (0.024)   (0.024)  \n",
      "clprbarr       -0.327*** -0.327***\n",
      "               (0.030)   (0.051)  \n",
      "clprbcon       -0.238*** -0.238***\n",
      "               (0.018)   (0.031)  \n",
      "clprbpri       -0.165*** -0.165***\n",
      "               (0.026)   (0.035)  \n",
      "clavgsen       -0.022    -0.022   \n",
      "               (0.022)   (0.025)  \n",
      "clpolpc        0.398***  0.398*** \n",
      "               (0.027)   (0.076)  \n",
      "R-squared      0.433     0.433    \n",
      "R-squared Adj. 0.422     0.422    \n",
      "N              540       540      \n",
      "R2             0.433     0.433    \n",
      "Adj.R2         0.422     0.422    \n",
      "==================================\n",
      "Standard errors in parentheses.\n",
      "* p<.1, ** p<.05, ***p<.01\n"
     ]
    }
   ],
   "source": [
    "df = dataWoo(\"crime4\")\n",
    "hetrosced_r =smf.ols('clcrmrte ~  d83 + d84 + d85 + d86 + d87 + clprbarr + clprbcon + clprbpri + clavgsen + clpolpc + 1', data=df).fit()\n",
    "robust_r =smf.ols('clcrmrte ~  d83 + d84 + d85 + d86 + d87 + clprbarr + clprbcon + clprbpri + clavgsen + clpolpc + 1', data=df).fit(cov_type='HC1')\n",
    "\n",
    "print(summary_col([hetrosced_r, robust_r],stars=True,float_format='%0.3f',\n",
    "                  model_names=['Hetrosced\\n(b/se)', 'Robust\\n(b/se)'],\n",
    "                 info_dict={'N':lambda x: \"{0:d}\".format(int(x.nobs)),\n",
    "                             'R2':lambda x: \"{:.3f}\".format(x.rsquared), \n",
    "                           'Adj.R2':lambda x: \"{:.3f}\".format(x.rsquared_adj)}))"
   ]
  },
  {
   "cell_type": "code",
   "execution_count": 17,
   "metadata": {},
   "outputs": [
    {
     "name": "stdout",
     "output_type": "stream",
     "text": [
      "      Chi-Sq  Prob>Chi-Sq\n",
      "0  10.929708     0.363021\n"
     ]
    }
   ],
   "source": [
    "bptest = sms.diagnostic.het_breuschpagan(hetrosced_r.resid, hetrosced_r.model.exog)\n",
    "bptest2 = pd.DataFrame({'Chi-Sq':[bptest[0]],\n",
    "                   'Prob>Chi-Sq':[bptest[1]]})\n",
    "print(bptest2)"
   ]
  }
 ],
 "metadata": {
  "kernelspec": {
   "display_name": "Python 3 (ipykernel)",
   "language": "python",
   "name": "python3"
  },
  "language_info": {
   "codemirror_mode": {
    "name": "ipython",
    "version": 3
   },
   "file_extension": ".py",
   "mimetype": "text/x-python",
   "name": "python",
   "nbconvert_exporter": "python",
   "pygments_lexer": "ipython3",
   "version": "3.11.7"
  }
 },
 "nbformat": 4,
 "nbformat_minor": 4
}
