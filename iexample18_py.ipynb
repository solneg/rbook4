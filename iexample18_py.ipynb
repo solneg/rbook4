{
 "cells": [
  {
   "cell_type": "markdown",
   "metadata": {},
   "source": [
    "# Chapter 18. Advanced Time Series Topics  \n",
    "[Home](http://solomonegash.com/) | [Stata](http://solomonegash.com/woodridge1/index.html) | [R](http://solomonegash.com/econometrics/rbook1/index.html)\n"
   ]
  },
  {
   "cell_type": "code",
   "execution_count": 1,
   "metadata": {},
   "outputs": [],
   "source": [
    "import numpy as np\n",
    "import pandas as pd\n",
    "import scipy.stats as ss\n",
    "\n",
    "import statsmodels.formula.api as smf\n",
    "from statsmodels.iolib.summary2 import summary_col\n",
    "\n",
    "from wooldridge import *"
   ]
  },
  {
   "cell_type": "code",
   "execution_count": 2,
   "metadata": {},
   "outputs": [],
   "source": [
    "import warnings\n",
    "warnings.filterwarnings('ignore')"
   ]
  },
  {
   "cell_type": "markdown",
   "metadata": {},
   "source": [
    "### Example 18.1. Housing Investment and Residential Price Inflation"
   ]
  },
  {
   "cell_type": "code",
   "execution_count": 3,
   "metadata": {},
   "outputs": [],
   "source": [
    "ts_df = dataWoo('hseinv')"
   ]
  },
  {
   "cell_type": "code",
   "execution_count": 4,
   "metadata": {},
   "outputs": [
    {
     "name": "stdout",
     "output_type": "stream",
     "text": [
      "                            OLS Regression Results                            \n",
      "==============================================================================\n",
      "Dep. Variable:                 linvpc   R-squared:                       0.335\n",
      "Model:                            OLS   Adj. R-squared:                  0.319\n",
      "Method:                 Least Squares   F-statistic:                     20.19\n",
      "Date:                Tue, 02 Jul 2024   Prob (F-statistic):           5.85e-05\n",
      "Time:                        18:46:05   Log-Likelihood:                 23.290\n",
      "No. Observations:                  42   AIC:                            -42.58\n",
      "Df Residuals:                      40   BIC:                            -39.11\n",
      "Df Model:                           1                                         \n",
      "Covariance Type:            nonrobust                                         \n",
      "==============================================================================\n",
      "                 coef    std err          t      P>|t|      [0.025      0.975]\n",
      "------------------------------------------------------------------------------\n",
      "Intercept     -0.8413      0.045    -18.802      0.000      -0.932      -0.751\n",
      "t              0.0081      0.002      4.493      0.000       0.004       0.012\n",
      "==============================================================================\n",
      "Omnibus:                        6.231   Durbin-Watson:                   1.014\n",
      "Prob(Omnibus):                  0.044   Jarque-Bera (JB):                5.766\n",
      "Skew:                          -0.523   Prob(JB):                       0.0560\n",
      "Kurtosis:                       4.483   Cond. No.                         50.3\n",
      "==============================================================================\n",
      "\n",
      "Notes:\n",
      "[1] Standard Errors assume that the covariance matrix of the errors is correctly specified.\n"
     ]
    }
   ],
   "source": [
    "reg1 = smf.ols(formula='linvpc ~ t', data=ts_df).fit()\n",
    "print(reg1.summary())"
   ]
  },
  {
   "cell_type": "code",
   "execution_count": 5,
   "metadata": {},
   "outputs": [
    {
     "name": "stdout",
     "output_type": "stream",
     "text": [
      "Table 18.1 Distributed Lag Models for Housing Investment: log(invpc)\n",
      "======================================\n",
      "                GeometricDL RationalDL\n",
      "--------------------------------------\n",
      "Intercept       -0.0100     0.0059    \n",
      "                (0.0179)    (0.0169)  \n",
      "R-squared       0.4067      0.5420    \n",
      "R-squared Adj.  0.3754      0.5038    \n",
      "gprice          3.0948***   3.2564*** \n",
      "                (0.9333)    (0.9703)  \n",
      "gprice.shift(1)             -2.9363***\n",
      "                            (0.9732)  \n",
      "u.shift(1)      0.3399**    0.5472*** \n",
      "                (0.1316)    (0.1517)  \n",
      "N               41          40        \n",
      "======================================\n",
      "Standard errors in parentheses.\n",
      "* p<.1, ** p<.05, ***p<.01\n"
     ]
    }
   ],
   "source": [
    "ts_df['u'] = reg1.resid\n",
    "RationalDL = smf.ols(formula='u ~ gprice + u.shift(1) + gprice.shift(1)', data=ts_df).fit()\n",
    "GeometricDL = smf.ols(formula='u ~ gprice + u.shift(1)', data=ts_df).fit()\n",
    "\n",
    "results_table = summary_col([GeometricDL, RationalDL], \n",
    "                            stars=True, \n",
    "                            model_names=['GeometricDL', 'RationalDL'], \n",
    "                            info_dict={'N':lambda x: f\"{int(x.nobs)}\"})\n",
    "\n",
    "results_table.title = \"Table 18.1 Distributed Lag Models for Housing Investment: log(invpc)\"\n",
    "print(results_table)"
   ]
  },
  {
   "cell_type": "markdown",
   "metadata": {},
   "source": [
    "### Example 18.2. Unit Root Test for Three-Month T-Bill Rates"
   ]
  },
  {
   "cell_type": "code",
   "execution_count": 7,
   "metadata": {},
   "outputs": [
    {
     "name": "stdout",
     "output_type": "stream",
     "text": [
      "['r3', 'r6', 'r12', 'p3', 'p6', 'hy6', 'hy3', 'spr63', 'hy3_1', 'hy6_1', 'spr63_1', 'hy6hy3_1', 'cr3', 'r3_1', 'chy6', 'chy3', 'chy6_1', 'chy3_1', 'cr6', 'cr6_1', 'cr3_1', 'r6_1', 'cspr63']\n"
     ]
    }
   ],
   "source": [
    "ts_df = dataWoo('intqrt')\n",
    "print(ts_df.columns.tolist())"
   ]
  },
  {
   "cell_type": "code",
   "execution_count": 8,
   "metadata": {},
   "outputs": [
    {
     "name": "stdout",
     "output_type": "stream",
     "text": [
      "0.9092893810799101\n"
     ]
    }
   ],
   "source": [
    "uroot1 = smf.ols(formula='cr3 ~ r3.shift(1)', data=ts_df).fit()\n",
    "rho = 1 + uroot1.params[1]\n",
    "print(rho)\n"
   ]
  },
  {
   "cell_type": "code",
   "execution_count": 17,
   "metadata": {},
   "outputs": [
    {
     "name": "stdout",
     "output_type": "stream",
     "text": [
      "\n",
      "==================================\n",
      "                 uroot1    uroot2 \n",
      "----------------------------------\n",
      "Intercept      0.6253**  0.6253** \n",
      "               (0.2608)  (0.2608) \n",
      "r3.shift(1)    -0.0907** 0.9093***\n",
      "               (0.0367)  (0.0367) \n",
      "R-squared      0.0481    0.8355   \n",
      "R-squared Adj. 0.0403    0.8341   \n",
      "N              123       123      \n",
      "==================================\n",
      "Standard errors in parentheses.\n",
      "* p<.1, ** p<.05, ***p<.01\n"
     ]
    }
   ],
   "source": [
    "uroot2 = smf.ols(formula='r3 ~ r3.shift(1)', data=ts_df).fit()\n",
    "print(summary_col([uroot1, uroot2], \n",
    "                            stars=True, \n",
    "                            model_names=['uroot1', 'uroot2'], \n",
    "                            info_dict={'N':lambda x: f\"{int(x.nobs)}\"}\n",
    "                 )\n",
    "     )"
   ]
  },
  {
   "cell_type": "markdown",
   "metadata": {},
   "source": [
    "### Example 18.3. Unit Root Test for Annual U.S. Inflation"
   ]
  },
  {
   "cell_type": "code",
   "execution_count": 12,
   "metadata": {},
   "outputs": [
    {
     "name": "stdout",
     "output_type": "stream",
     "text": [
      "0.6896747685117395\n"
     ]
    }
   ],
   "source": [
    "df = dataWoo('phillips')\n",
    "tsphillips = df[df['year'] < 1997]\n",
    "\n",
    "uroot3 = smf.ols(formula='cinf ~ inf_1 + cinf.shift(1)', data=tsphillips).fit()\n",
    "rho1 = 1 + uroot3.params[1]\n",
    "print(rho1)"
   ]
  },
  {
   "cell_type": "code",
   "execution_count": 13,
   "metadata": {},
   "outputs": [
    {
     "name": "stdout",
     "output_type": "stream",
     "text": [
      "0.6652585944080388\n"
     ]
    }
   ],
   "source": [
    "reg2 = smf.ols(formula='cinf ~ inf.shift(1)', data=tsphillips).fit()\n",
    "rho2 = 1 + reg2.params[1]\n",
    "print(rho2)"
   ]
  },
  {
   "cell_type": "code",
   "execution_count": 16,
   "metadata": {},
   "outputs": [
    {
     "name": "stdout",
     "output_type": "stream",
     "text": [
      "\n",
      "====================================\n",
      "                 uroot3      reg2   \n",
      "------------------------------------\n",
      "Intercept      1.3608**   1.2767**  \n",
      "               (0.5167)   (0.5577)  \n",
      "R-squared      0.1719     0.1755    \n",
      "R-squared Adj. 0.1343     0.1576    \n",
      "cinf.shift(1)  0.1384               \n",
      "               (0.1264)             \n",
      "inf.shift(1)              -0.3347***\n",
      "                          (0.1070)  \n",
      "inf_1          -0.3103***           \n",
      "               (0.1027)             \n",
      "N              47         48        \n",
      "====================================\n",
      "Standard errors in parentheses.\n",
      "* p<.1, ** p<.05, ***p<.01\n"
     ]
    }
   ],
   "source": [
    "print(summary_col([uroot3, reg2], \n",
    "                            stars=True, \n",
    "                            model_names=['uroot3', 'reg2'], \n",
    "                            info_dict={'N':lambda x: f\"{int(x.nobs)}\"}))"
   ]
  },
  {
   "cell_type": "markdown",
   "metadata": {},
   "source": [
    "### Example 18.4. Unit Root in the Log of U.S. Real Gross Domestic Product"
   ]
  },
  {
   "cell_type": "code",
   "execution_count": 44,
   "metadata": {},
   "outputs": [
    {
     "data": {
      "text/html": [
       "<div>\n",
       "<style scoped>\n",
       "    .dataframe tbody tr th:only-of-type {\n",
       "        vertical-align: middle;\n",
       "    }\n",
       "\n",
       "    .dataframe tbody tr th {\n",
       "        vertical-align: top;\n",
       "    }\n",
       "\n",
       "    .dataframe thead th {\n",
       "        text-align: right;\n",
       "    }\n",
       "</style>\n",
       "<table border=\"1\" class=\"dataframe\">\n",
       "  <thead>\n",
       "    <tr style=\"text-align: right;\">\n",
       "      <th></th>\n",
       "      <th>year</th>\n",
       "      <th>i3</th>\n",
       "      <th>inf</th>\n",
       "      <th>inven</th>\n",
       "      <th>gdp</th>\n",
       "      <th>r3</th>\n",
       "      <th>cinven</th>\n",
       "      <th>cgdp</th>\n",
       "      <th>cr3</th>\n",
       "      <th>ci3</th>\n",
       "      <th>cinf</th>\n",
       "      <th>ginven</th>\n",
       "      <th>ggdp</th>\n",
       "      <th>trend</th>\n",
       "      <th>lngdp</th>\n",
       "    </tr>\n",
       "  </thead>\n",
       "  <tbody>\n",
       "    <tr>\n",
       "      <th>0</th>\n",
       "      <td>1959</td>\n",
       "      <td>3.41</td>\n",
       "      <td>0.7</td>\n",
       "      <td>401.399994</td>\n",
       "      <td>2212.300049</td>\n",
       "      <td>2.71</td>\n",
       "      <td>NaN</td>\n",
       "      <td>NaN</td>\n",
       "      <td>NaN</td>\n",
       "      <td>NaN</td>\n",
       "      <td>NaN</td>\n",
       "      <td>NaN</td>\n",
       "      <td>NaN</td>\n",
       "      <td>1</td>\n",
       "      <td>7.701788</td>\n",
       "    </tr>\n",
       "    <tr>\n",
       "      <th>1</th>\n",
       "      <td>1960</td>\n",
       "      <td>2.93</td>\n",
       "      <td>1.7</td>\n",
       "      <td>412.000000</td>\n",
       "      <td>2261.699951</td>\n",
       "      <td>1.23</td>\n",
       "      <td>10.600006</td>\n",
       "      <td>49.399902</td>\n",
       "      <td>-1.48</td>\n",
       "      <td>-0.48</td>\n",
       "      <td>1.0</td>\n",
       "      <td>0.026065</td>\n",
       "      <td>0.022084</td>\n",
       "      <td>2</td>\n",
       "      <td>7.723872</td>\n",
       "    </tr>\n",
       "    <tr>\n",
       "      <th>2</th>\n",
       "      <td>1961</td>\n",
       "      <td>2.38</td>\n",
       "      <td>1.0</td>\n",
       "      <td>420.899994</td>\n",
       "      <td>2309.800049</td>\n",
       "      <td>1.38</td>\n",
       "      <td>8.899994</td>\n",
       "      <td>48.100098</td>\n",
       "      <td>0.15</td>\n",
       "      <td>-0.55</td>\n",
       "      <td>-0.7</td>\n",
       "      <td>0.021372</td>\n",
       "      <td>0.021044</td>\n",
       "      <td>3</td>\n",
       "      <td>7.744916</td>\n",
       "    </tr>\n",
       "    <tr>\n",
       "      <th>3</th>\n",
       "      <td>1962</td>\n",
       "      <td>2.78</td>\n",
       "      <td>1.0</td>\n",
       "      <td>440.899994</td>\n",
       "      <td>2449.100098</td>\n",
       "      <td>1.78</td>\n",
       "      <td>20.000000</td>\n",
       "      <td>139.300049</td>\n",
       "      <td>0.40</td>\n",
       "      <td>0.40</td>\n",
       "      <td>0.0</td>\n",
       "      <td>0.046423</td>\n",
       "      <td>0.058560</td>\n",
       "      <td>4</td>\n",
       "      <td>7.803476</td>\n",
       "    </tr>\n",
       "    <tr>\n",
       "      <th>4</th>\n",
       "      <td>1963</td>\n",
       "      <td>3.16</td>\n",
       "      <td>1.3</td>\n",
       "      <td>459.000000</td>\n",
       "      <td>2554.000000</td>\n",
       "      <td>1.86</td>\n",
       "      <td>18.100006</td>\n",
       "      <td>104.899902</td>\n",
       "      <td>0.08</td>\n",
       "      <td>0.38</td>\n",
       "      <td>0.3</td>\n",
       "      <td>0.040232</td>\n",
       "      <td>0.041940</td>\n",
       "      <td>5</td>\n",
       "      <td>7.845416</td>\n",
       "    </tr>\n",
       "    <tr>\n",
       "      <th>5</th>\n",
       "      <td>1964</td>\n",
       "      <td>3.55</td>\n",
       "      <td>1.3</td>\n",
       "      <td>474.700012</td>\n",
       "      <td>2702.899902</td>\n",
       "      <td>2.25</td>\n",
       "      <td>15.700012</td>\n",
       "      <td>148.899902</td>\n",
       "      <td>0.39</td>\n",
       "      <td>0.39</td>\n",
       "      <td>0.0</td>\n",
       "      <td>0.033633</td>\n",
       "      <td>0.056664</td>\n",
       "      <td>6</td>\n",
       "      <td>7.902081</td>\n",
       "    </tr>\n",
       "    <tr>\n",
       "      <th>6</th>\n",
       "      <td>1965</td>\n",
       "      <td>3.95</td>\n",
       "      <td>1.6</td>\n",
       "      <td>504.799988</td>\n",
       "      <td>2874.800049</td>\n",
       "      <td>2.35</td>\n",
       "      <td>30.099976</td>\n",
       "      <td>171.900146</td>\n",
       "      <td>0.10</td>\n",
       "      <td>0.40</td>\n",
       "      <td>0.3</td>\n",
       "      <td>0.061479</td>\n",
       "      <td>0.061658</td>\n",
       "      <td>7</td>\n",
       "      <td>7.963738</td>\n",
       "    </tr>\n",
       "    <tr>\n",
       "      <th>7</th>\n",
       "      <td>1966</td>\n",
       "      <td>4.88</td>\n",
       "      <td>2.9</td>\n",
       "      <td>547.200012</td>\n",
       "      <td>3060.199951</td>\n",
       "      <td>1.98</td>\n",
       "      <td>42.400024</td>\n",
       "      <td>185.399902</td>\n",
       "      <td>-0.37</td>\n",
       "      <td>0.93</td>\n",
       "      <td>1.3</td>\n",
       "      <td>0.080652</td>\n",
       "      <td>0.062497</td>\n",
       "      <td>8</td>\n",
       "      <td>8.026236</td>\n",
       "    </tr>\n",
       "    <tr>\n",
       "      <th>8</th>\n",
       "      <td>1967</td>\n",
       "      <td>4.32</td>\n",
       "      <td>3.1</td>\n",
       "      <td>579.200012</td>\n",
       "      <td>3140.199951</td>\n",
       "      <td>1.22</td>\n",
       "      <td>32.000000</td>\n",
       "      <td>80.000000</td>\n",
       "      <td>-0.76</td>\n",
       "      <td>-0.56</td>\n",
       "      <td>0.2</td>\n",
       "      <td>0.056833</td>\n",
       "      <td>0.025806</td>\n",
       "      <td>9</td>\n",
       "      <td>8.052042</td>\n",
       "    </tr>\n",
       "    <tr>\n",
       "      <th>9</th>\n",
       "      <td>1968</td>\n",
       "      <td>5.34</td>\n",
       "      <td>4.2</td>\n",
       "      <td>606.099976</td>\n",
       "      <td>3288.600098</td>\n",
       "      <td>1.14</td>\n",
       "      <td>26.899963</td>\n",
       "      <td>148.400146</td>\n",
       "      <td>-0.08</td>\n",
       "      <td>1.02</td>\n",
       "      <td>1.1</td>\n",
       "      <td>0.045397</td>\n",
       "      <td>0.046175</td>\n",
       "      <td>10</td>\n",
       "      <td>8.098217</td>\n",
       "    </tr>\n",
       "  </tbody>\n",
       "</table>\n",
       "</div>"
      ],
      "text/plain": [
       "   year    i3  inf       inven          gdp    r3     cinven        cgdp  \\\n",
       "0  1959  3.41  0.7  401.399994  2212.300049  2.71        NaN         NaN   \n",
       "1  1960  2.93  1.7  412.000000  2261.699951  1.23  10.600006   49.399902   \n",
       "2  1961  2.38  1.0  420.899994  2309.800049  1.38   8.899994   48.100098   \n",
       "3  1962  2.78  1.0  440.899994  2449.100098  1.78  20.000000  139.300049   \n",
       "4  1963  3.16  1.3  459.000000  2554.000000  1.86  18.100006  104.899902   \n",
       "5  1964  3.55  1.3  474.700012  2702.899902  2.25  15.700012  148.899902   \n",
       "6  1965  3.95  1.6  504.799988  2874.800049  2.35  30.099976  171.900146   \n",
       "7  1966  4.88  2.9  547.200012  3060.199951  1.98  42.400024  185.399902   \n",
       "8  1967  4.32  3.1  579.200012  3140.199951  1.22  32.000000   80.000000   \n",
       "9  1968  5.34  4.2  606.099976  3288.600098  1.14  26.899963  148.400146   \n",
       "\n",
       "    cr3   ci3  cinf    ginven      ggdp  trend     lngdp  \n",
       "0   NaN   NaN   NaN       NaN       NaN      1  7.701788  \n",
       "1 -1.48 -0.48   1.0  0.026065  0.022084      2  7.723872  \n",
       "2  0.15 -0.55  -0.7  0.021372  0.021044      3  7.744916  \n",
       "3  0.40  0.40   0.0  0.046423  0.058560      4  7.803476  \n",
       "4  0.08  0.38   0.3  0.040232  0.041940      5  7.845416  \n",
       "5  0.39  0.39   0.0  0.033633  0.056664      6  7.902081  \n",
       "6  0.10  0.40   0.3  0.061479  0.061658      7  7.963738  \n",
       "7 -0.37  0.93   1.3  0.080652  0.062497      8  8.026236  \n",
       "8 -0.76 -0.56   0.2  0.056833  0.025806      9  8.052042  \n",
       "9 -0.08  1.02   1.1  0.045397  0.046175     10  8.098217  "
      ]
     },
     "execution_count": 44,
     "metadata": {},
     "output_type": "execute_result"
    }
   ],
   "source": [
    "df = dataWoo('inven')\n",
    "df['trend'] = range(1, len(df) + 1) #Add trend varaible\n",
    "df['lngdp']=np.log(df['gdp'])\n",
    "df.head(10)"
   ]
  },
  {
   "cell_type": "code",
   "execution_count": 45,
   "metadata": {},
   "outputs": [
    {
     "name": "stdout",
     "output_type": "stream",
     "text": [
      "0.7903791568083864\n"
     ]
    }
   ],
   "source": [
    "gdp_reg = smf.ols(formula='ggdp ~ trend + lngdp.shift(1) + ggdp.shift(1)', data=df).fit()\n",
    "rho_g1 = 1 + gdp_reg.params[2]\n",
    "print(rho_g1)"
   ]
  },
  {
   "cell_type": "code",
   "execution_count": 46,
   "metadata": {},
   "outputs": [
    {
     "name": "stdout",
     "output_type": "stream",
     "text": [
      "0.9773124588631911\n"
     ]
    }
   ],
   "source": [
    "gdp_reg2 = smf.ols(formula='ggdp ~ lngdp.shift(1) + ggdp.shift(1)', data=df).fit()\n",
    "rho_g2 = 1 + gdp_reg2.params[1]\n",
    "print(rho_g2)"
   ]
  },
  {
   "cell_type": "code",
   "execution_count": 47,
   "metadata": {},
   "outputs": [
    {
     "name": "stdout",
     "output_type": "stream",
     "text": [
      "\n",
      "=================================\n",
      "                gdp_reg  gdp_reg2\n",
      "---------------------------------\n",
      "Intercept      1.6509**  0.2149**\n",
      "               (0.6664)  (0.1005)\n",
      "R-squared      0.2680    0.1561  \n",
      "R-squared Adj. 0.1972    0.1033  \n",
      "ggdp.shift(1)  0.2638    0.1672  \n",
      "               (0.1647)  (0.1677)\n",
      "lngdp.shift(1) -0.2096** -0.0227*\n",
      "               (0.0866)  (0.0119)\n",
      "trend          0.0059**          \n",
      "               (0.0027)          \n",
      "N              35        35      \n",
      "=================================\n",
      "Standard errors in parentheses.\n",
      "* p<.1, ** p<.05, ***p<.01\n"
     ]
    }
   ],
   "source": [
    "print(summary_col([gdp_reg, gdp_reg2], \n",
    "                            stars=True, \n",
    "                            model_names=['gdp_reg', 'gdp_reg2'], \n",
    "                            info_dict={'N':lambda x: f\"{int(x.nobs)}\"}))"
   ]
  },
  {
   "cell_type": "markdown",
   "metadata": {},
   "source": [
    "### Example 18.5. Cointegration between Fertility and Personal Exemption"
   ]
  },
  {
   "cell_type": "code",
   "execution_count": null,
   "metadata": {},
   "outputs": [],
   "source": []
  }
 ],
 "metadata": {
  "kernelspec": {
   "display_name": "Python 3 (ipykernel)",
   "language": "python",
   "name": "python3"
  },
  "language_info": {
   "codemirror_mode": {
    "name": "ipython",
    "version": 3
   },
   "file_extension": ".py",
   "mimetype": "text/x-python",
   "name": "python",
   "nbconvert_exporter": "python",
   "pygments_lexer": "ipython3",
   "version": "3.11.7"
  }
 },
 "nbformat": 4,
 "nbformat_minor": 4
}
