{
 "cells": [
  {
   "cell_type": "markdown",
   "metadata": {},
   "source": [
    "# Chapter 10. Basic Regression Analysis with Time Series Data  \n",
    "\n",
    "[Home](http://solomonegash.com/) | [Stata](http://solomonegash.com/woodridge1/index.html) | [R](http://solomonegash.com/econometrics/rbook1/index.html)\n"
   ]
  },
  {
   "cell_type": "code",
   "execution_count": 1,
   "metadata": {},
   "outputs": [],
   "source": [
    "import numpy as np\n",
    "import statsmodels.formula.api as smf\n",
    "from statsmodels.iolib.summary2 import summary_col\n",
    "\n",
    "from wooldridge import *"
   ]
  },
  {
   "cell_type": "markdown",
   "metadata": {},
   "source": [
    "### Example 10.1. Static Phillips Curve"
   ]
  },
  {
   "cell_type": "code",
   "execution_count": 2,
   "metadata": {},
   "outputs": [
    {
     "name": "stdout",
     "output_type": "stream",
     "text": [
      "                            OLS Regression Results                            \n",
      "==============================================================================\n",
      "Dep. Variable:                 df.inf   R-squared:                       0.053\n",
      "Model:                            OLS   Adj. R-squared:                  0.033\n",
      "Method:                 Least Squares   F-statistic:                     2.616\n",
      "Date:                Tue, 02 Jul 2024   Prob (F-statistic):              0.112\n",
      "Time:                        18:07:17   Log-Likelihood:                -124.43\n",
      "No. Observations:                  49   AIC:                             252.9\n",
      "Df Residuals:                      47   BIC:                             256.6\n",
      "Df Model:                           1                                         \n",
      "Covariance Type:            nonrobust                                         \n",
      "==============================================================================\n",
      "                 coef    std err          t      P>|t|      [0.025      0.975]\n",
      "------------------------------------------------------------------------------\n",
      "Intercept      1.4236      1.719      0.828      0.412      -2.035       4.882\n",
      "unem           0.4676      0.289      1.617      0.112      -0.114       1.049\n",
      "==============================================================================\n",
      "Omnibus:                        8.905   Durbin-Watson:                   0.803\n",
      "Prob(Omnibus):                  0.012   Jarque-Bera (JB):                8.336\n",
      "Skew:                           0.979   Prob(JB):                       0.0155\n",
      "Kurtosis:                       3.502   Cond. No.                         23.5\n",
      "==============================================================================\n",
      "\n",
      "Notes:\n",
      "[1] Standard Errors assume that the covariance matrix of the errors is correctly specified.\n"
     ]
    }
   ],
   "source": [
    "df = dataWoo(\"phillips\") \n",
    "df = df[(df['year']<1997)]\n",
    "print(smf.ols('df.inf ~ unem + 1', data=df).fit().summary())"
   ]
  },
  {
   "cell_type": "markdown",
   "metadata": {},
   "source": [
    "### Example 10.2.  Effects of Inflation and Deficits on Interest Rates"
   ]
  },
  {
   "cell_type": "code",
   "execution_count": 3,
   "metadata": {},
   "outputs": [
    {
     "name": "stdout",
     "output_type": "stream",
     "text": [
      "                            OLS Regression Results                            \n",
      "==============================================================================\n",
      "Dep. Variable:                     i3   R-squared:                       0.602\n",
      "Model:                            OLS   Adj. R-squared:                  0.587\n",
      "Method:                 Least Squares   F-statistic:                     40.09\n",
      "Date:                Tue, 02 Jul 2024   Prob (F-statistic):           2.48e-11\n",
      "Time:                        18:07:17   Log-Likelihood:                -112.16\n",
      "No. Observations:                  56   AIC:                             230.3\n",
      "Df Residuals:                      53   BIC:                             236.4\n",
      "Df Model:                           2                                         \n",
      "Covariance Type:            nonrobust                                         \n",
      "===============================================================================\n",
      "                  coef    std err          t      P>|t|      [0.025      0.975]\n",
      "-------------------------------------------------------------------------------\n",
      "Intercept       1.7333      0.432      4.012      0.000       0.867       2.600\n",
      "df.inf          0.6059      0.082      7.376      0.000       0.441       0.771\n",
      "df[(\"def\")]     0.5131      0.118      4.334      0.000       0.276       0.751\n",
      "==============================================================================\n",
      "Omnibus:                        0.260   Durbin-Watson:                   0.716\n",
      "Prob(Omnibus):                  0.878   Jarque-Bera (JB):                0.015\n",
      "Skew:                          -0.028   Prob(JB):                        0.992\n",
      "Kurtosis:                       3.058   Cond. No.                         9.28\n",
      "==============================================================================\n",
      "\n",
      "Notes:\n",
      "[1] Standard Errors assume that the covariance matrix of the errors is correctly specified.\n"
     ]
    }
   ],
   "source": [
    "df = dataWoo(\"intdef\") \n",
    "print(smf.ols('i3 ~ df.inf + df[(\"def\")] + 1', data=df).fit().summary())"
   ]
  },
  {
   "cell_type": "markdown",
   "metadata": {},
   "source": [
    "### Example 10.3. Puerto Rican Employment and the Minimum Wage"
   ]
  },
  {
   "cell_type": "code",
   "execution_count": 4,
   "metadata": {},
   "outputs": [
    {
     "name": "stdout",
     "output_type": "stream",
     "text": [
      "                            OLS Regression Results                            \n",
      "==============================================================================\n",
      "Dep. Variable:                lprepop   R-squared:                       0.660\n",
      "Model:                            OLS   Adj. R-squared:                  0.641\n",
      "Method:                 Least Squares   F-statistic:                     34.04\n",
      "Date:                Tue, 02 Jul 2024   Prob (F-statistic):           6.17e-09\n",
      "Time:                        18:07:17   Log-Likelihood:                 57.376\n",
      "No. Observations:                  38   AIC:                            -108.8\n",
      "Df Residuals:                      35   BIC:                            -103.8\n",
      "Df Model:                           2                                         \n",
      "Covariance Type:            nonrobust                                         \n",
      "==============================================================================\n",
      "                 coef    std err          t      P>|t|      [0.025      0.975]\n",
      "------------------------------------------------------------------------------\n",
      "Intercept     -1.0544      0.765     -1.378      0.177      -2.608       0.499\n",
      "lmincov       -0.1544      0.065     -2.380      0.023      -0.286      -0.023\n",
      "lusgnp        -0.0122      0.089     -0.138      0.891      -0.192       0.168\n",
      "==============================================================================\n",
      "Omnibus:                        0.079   Durbin-Watson:                   0.340\n",
      "Prob(Omnibus):                  0.961   Jarque-Bera (JB):                0.084\n",
      "Skew:                           0.073   Prob(JB):                        0.959\n",
      "Kurtosis:                       2.822   Cond. No.                         676.\n",
      "==============================================================================\n",
      "\n",
      "Notes:\n",
      "[1] Standard Errors assume that the covariance matrix of the errors is correctly specified.\n"
     ]
    }
   ],
   "source": [
    "df = dataWoo(\"prminwge\")\n",
    "print(smf.ols('lprepop ~ lmincov + lusgnp', data=df).fit().summary())"
   ]
  },
  {
   "cell_type": "markdown",
   "metadata": {},
   "source": [
    "### Example 10.4. Effects of Personal Exemption on Fertility Rates"
   ]
  },
  {
   "cell_type": "code",
   "execution_count": 5,
   "metadata": {},
   "outputs": [
    {
     "name": "stdout",
     "output_type": "stream",
     "text": [
      "\n",
      "====================================\n",
      "                Model I    Model II \n",
      "                 (b/se)     (b/se)  \n",
      "------------------------------------\n",
      "Intercept      98.682***  95.870*** \n",
      "               (3.208)    (3.282)   \n",
      "R-squared      0.473      0.499     \n",
      "R-squared Adj. 0.450      0.459     \n",
      "pe             0.083***   0.073     \n",
      "               (0.030)    (0.126)   \n",
      "pe_1                      -0.006    \n",
      "                          (0.156)   \n",
      "pe_2                      0.034     \n",
      "                          (0.126)   \n",
      "pill           -31.594*** -31.305***\n",
      "               (4.081)    (3.982)   \n",
      "ww2            -24.238*** -22.126** \n",
      "               (7.458)    (10.732)  \n",
      "N              72         70        \n",
      "R2             0.473      0.499     \n",
      "Adj.R2         0.450      0.459     \n",
      "====================================\n",
      "Standard errors in parentheses.\n",
      "* p<.1, ** p<.05, ***p<.01\n"
     ]
    }
   ],
   "source": [
    "df = dataWoo(\"fertil3\")\n",
    "regf = smf.ols('gfr ~ pe + ww2 + pill', data=df).fit()\n",
    "tsregf = smf.ols('gfr ~ pe + pe_1 + pe_2 + ww2 + pill', data=df).fit()\n",
    "\n",
    "print(summary_col([regf, tsregf],stars=True,float_format='%0.3f',\n",
    "                  model_names=['Model I\\n(b/se)','Model II\\n(b/se)'],\n",
    "                 info_dict={'N':lambda x: \"{0:d}\".format(int(x.nobs)),\n",
    "                             'R2':lambda x: \"{:.3f}\".format(x.rsquared), \n",
    "                           'Adj.R2':lambda x: \"{:.3f}\".format(x.rsquared_adj)}))"
   ]
  },
  {
   "cell_type": "code",
   "execution_count": 6,
   "metadata": {},
   "outputs": [
    {
     "name": "stdout",
     "output_type": "stream",
     "text": [
      "<F test: F=3.972964046978578, p=0.011652005303125965, df_denom=64, df_num=3>\n"
     ]
    }
   ],
   "source": [
    "hypotheses = '(pe = pe_1  = pe_2 = 0)'\n",
    "f_test = tsregf.f_test(hypotheses)\n",
    "print(f_test)"
   ]
  },
  {
   "cell_type": "markdown",
   "metadata": {},
   "source": [
    "### Example 10.5. Antidumping Filings and Chemical Imports"
   ]
  },
  {
   "cell_type": "code",
   "execution_count": 7,
   "metadata": {},
   "outputs": [
    {
     "name": "stdout",
     "output_type": "stream",
     "text": [
      "                            OLS Regression Results                            \n",
      "==============================================================================\n",
      "Dep. Variable:                lchnimp   R-squared:                       0.305\n",
      "Model:                            OLS   Adj. R-squared:                  0.271\n",
      "Method:                 Least Squares   F-statistic:                     9.064\n",
      "Date:                Tue, 02 Jul 2024   Prob (F-statistic):           3.25e-08\n",
      "Time:                        18:07:17   Log-Likelihood:                -114.79\n",
      "No. Observations:                 131   AIC:                             243.6\n",
      "Df Residuals:                     124   BIC:                             263.7\n",
      "Df Model:                           6                                         \n",
      "Covariance Type:            nonrobust                                         \n",
      "==============================================================================\n",
      "                 coef    std err          t      P>|t|      [0.025      0.975]\n",
      "------------------------------------------------------------------------------\n",
      "Intercept    -17.8030     21.045     -0.846      0.399     -59.458      23.852\n",
      "lchempi        3.1172      0.479      6.505      0.000       2.169       4.066\n",
      "lgas           0.1964      0.907      0.217      0.829      -1.598       1.991\n",
      "lrtwex         0.9830      0.400      2.457      0.015       0.191       1.775\n",
      "befile6        0.0596      0.261      0.228      0.820      -0.457       0.576\n",
      "affile6       -0.0324      0.264     -0.123      0.903      -0.556       0.491\n",
      "afdec6        -0.5652      0.286     -1.978      0.050      -1.131       0.001\n",
      "==============================================================================\n",
      "Omnibus:                        9.160   Durbin-Watson:                   1.458\n",
      "Prob(Omnibus):                  0.010   Jarque-Bera (JB):                9.978\n",
      "Skew:                          -0.491   Prob(JB):                      0.00681\n",
      "Kurtosis:                       3.930   Cond. No.                     9.62e+03\n",
      "==============================================================================\n",
      "\n",
      "Notes:\n",
      "[1] Standard Errors assume that the covariance matrix of the errors is correctly specified.\n",
      "[2] The condition number is large, 9.62e+03. This might indicate that there are\n",
      "strong multicollinearity or other numerical problems.\n"
     ]
    }
   ],
   "source": [
    "print(smf.ols('lchnimp ~lchempi + lgas + lrtwex + befile6 + affile6 + afdec6', data=dataWoo(\"barium\")).fit().summary())"
   ]
  },
  {
   "cell_type": "code",
   "execution_count": 8,
   "metadata": {},
   "outputs": [
    {
     "data": {
      "text/plain": [
       "-43.17535139053659"
      ]
     },
     "execution_count": 8,
     "metadata": {},
     "output_type": "execute_result"
    }
   ],
   "source": [
    "100*(np.exp(-0.5652) -1)"
   ]
  },
  {
   "cell_type": "markdown",
   "metadata": {},
   "source": [
    "### Example 10.6. Election Outcomes and Economic Performance"
   ]
  },
  {
   "cell_type": "code",
   "execution_count": 9,
   "metadata": {},
   "outputs": [
    {
     "name": "stdout",
     "output_type": "stream",
     "text": [
      "                            OLS Regression Results                            \n",
      "==============================================================================\n",
      "Dep. Variable:                demvote   R-squared:                       0.663\n",
      "Model:                            OLS   Adj. R-squared:                  0.573\n",
      "Method:                 Least Squares   F-statistic:                     7.374\n",
      "Date:                Tue, 02 Jul 2024   Prob (F-statistic):            0.00172\n",
      "Time:                        18:07:17   Log-Likelihood:                 34.586\n",
      "No. Observations:                  20   AIC:                            -59.17\n",
      "Df Residuals:                      15   BIC:                            -54.19\n",
      "Df Model:                           4                                         \n",
      "Covariance Type:            nonrobust                                         \n",
      "==================================================================================\n",
      "                     coef    std err          t      P>|t|      [0.025      0.975]\n",
      "----------------------------------------------------------------------------------\n",
      "Intercept          0.4811      0.012     39.228      0.000       0.455       0.507\n",
      "partyWH           -0.0435      0.040     -1.075      0.300      -0.130       0.043\n",
      "incum              0.0544      0.023      2.323      0.035       0.004       0.104\n",
      "partyWH:gnews      0.0108      0.004      2.628      0.019       0.002       0.020\n",
      "partyWH:df.inf    -0.0077      0.003     -2.365      0.032      -0.015      -0.001\n",
      "==============================================================================\n",
      "Omnibus:                        3.025   Durbin-Watson:                   2.171\n",
      "Prob(Omnibus):                  0.220   Jarque-Bera (JB):                2.074\n",
      "Skew:                           0.787   Prob(JB):                        0.355\n",
      "Kurtosis:                       2.891   Cond. No.                         33.0\n",
      "==============================================================================\n",
      "\n",
      "Notes:\n",
      "[1] Standard Errors assume that the covariance matrix of the errors is correctly specified.\n"
     ]
    }
   ],
   "source": [
    "df= dataWoo(\"fair\")\n",
    "df = df[(df['year']<1996)]\n",
    "\n",
    "print(smf.ols('demvote ~ partyWH + incum + partyWH:gnews + partyWH:df.inf +1', data=df).fit().summary())"
   ]
  },
  {
   "cell_type": "markdown",
   "metadata": {},
   "source": [
    "### Example 10.7. Housing Investment and Prices"
   ]
  },
  {
   "cell_type": "code",
   "execution_count": 10,
   "metadata": {},
   "outputs": [
    {
     "name": "stdout",
     "output_type": "stream",
     "text": [
      "\n",
      "==================================\n",
      "                Model I   Model II\n",
      "                 (b/se)    (b/se) \n",
      "----------------------------------\n",
      "Intercept      -0.550*** -0.913***\n",
      "               (0.043)   (0.136)  \n",
      "R-squared      0.208     0.341    \n",
      "R-squared Adj. 0.189     0.307    \n",
      "lprice         1.241***  -0.381   \n",
      "               (0.382)   (0.679)  \n",
      "t                        0.010*** \n",
      "                         (0.004)  \n",
      "N              42        42       \n",
      "R2             0.208     0.341    \n",
      "Adj.R2         0.189     0.307    \n",
      "==================================\n",
      "Standard errors in parentheses.\n",
      "* p<.1, ** p<.05, ***p<.01\n"
     ]
    }
   ],
   "source": [
    "df = dataWoo(\"hseinv\")\n",
    "reghi = smf.ols('linvpc ~ lprice', data=df).fit()\n",
    "reghit = smf.ols('linvpc ~ lprice + t', data=df).fit()\n",
    "\n",
    "print(summary_col([reghi, reghit],stars=True,float_format='%0.3f',\n",
    "                  model_names=['Model I\\n(b/se)','Model II\\n(b/se)'],\n",
    "                 info_dict={'N':lambda x: \"{0:d}\".format(int(x.nobs)),\n",
    "                             'R2':lambda x: \"{:.3f}\".format(x.rsquared), \n",
    "                           'Adj.R2':lambda x: \"{:.3f}\".format(x.rsquared_adj)}))"
   ]
  },
  {
   "cell_type": "code",
   "execution_count": 11,
   "metadata": {},
   "outputs": [
    {
     "name": "stdout",
     "output_type": "stream",
     "text": [
      "\n",
      "====================================\n",
      "                Model I    Model II \n",
      "                 (b/se)     (b/se)  \n",
      "------------------------------------\n",
      "Intercept      111.769*** 124.092***\n",
      "               (3.358)    (4.361)   \n",
      "R-squared      0.662      0.727     \n",
      "R-squared Adj. 0.642      0.706     \n",
      "pe             0.279***   0.348***  \n",
      "               (0.040)    (0.040)   \n",
      "pill           0.997      -10.120   \n",
      "               (6.262)    (6.336)   \n",
      "t              -1.150***  -2.531*** \n",
      "               (0.188)    (0.389)   \n",
      "tsq                       0.020***  \n",
      "                          (0.005)   \n",
      "ww2            -35.592*** -35.880***\n",
      "               (6.297)    (5.708)   \n",
      "N              72         72        \n",
      "R2             0.662      0.727     \n",
      "Adj.R2         0.642      0.706     \n",
      "====================================\n",
      "Standard errors in parentheses.\n",
      "* p<.1, ** p<.05, ***p<.01\n"
     ]
    }
   ],
   "source": [
    "df = dataWoo(\"fertil3\")\n",
    "regt = smf.ols('gfr ~ pe + ww2 + pill + t + 1', data=df).fit()\n",
    "regtsq = smf.ols('gfr ~ pe + ww2 + pill + t + tsq', data=df).fit()\n",
    "\n",
    "print(summary_col([regt, regtsq],stars=True,float_format='%0.3f',\n",
    "                  model_names=['Model I\\n(b/se)','Model II\\n(b/se)'],\n",
    "                 info_dict={'N':lambda x: \"{0:d}\".format(int(x.nobs)),\n",
    "                             'R2':lambda x: \"{:.3f}\".format(x.rsquared), \n",
    "                           'Adj.R2':lambda x: \"{:.3f}\".format(x.rsquared_adj)}))"
   ]
  },
  {
   "cell_type": "markdown",
   "metadata": {},
   "source": [
    "### Example 10.9. Puerto Rican Employment"
   ]
  },
  {
   "cell_type": "code",
   "execution_count": 12,
   "metadata": {},
   "outputs": [
    {
     "name": "stdout",
     "output_type": "stream",
     "text": [
      "                            OLS Regression Results                            \n",
      "==============================================================================\n",
      "Dep. Variable:                lprepop   R-squared:                       0.847\n",
      "Model:                            OLS   Adj. R-squared:                  0.834\n",
      "Method:                 Least Squares   F-statistic:                     62.78\n",
      "Date:                Tue, 02 Jul 2024   Prob (F-statistic):           6.01e-14\n",
      "Time:                        18:07:17   Log-Likelihood:                 72.532\n",
      "No. Observations:                  38   AIC:                            -137.1\n",
      "Df Residuals:                      34   BIC:                            -130.5\n",
      "Df Model:                           3                                         \n",
      "Covariance Type:            nonrobust                                         \n",
      "==============================================================================\n",
      "                 coef    std err          t      P>|t|      [0.025      0.975]\n",
      "------------------------------------------------------------------------------\n",
      "Intercept     -8.6963      1.296     -6.711      0.000     -11.330      -6.063\n",
      "lmincov       -0.1687      0.044     -3.813      0.001      -0.259      -0.079\n",
      "lusgnp         1.0574      0.177      5.986      0.000       0.698       1.416\n",
      "t             -0.0324      0.005     -6.442      0.000      -0.043      -0.022\n",
      "==============================================================================\n",
      "Omnibus:                        6.093   Durbin-Watson:                   0.908\n",
      "Prob(Omnibus):                  0.048   Jarque-Bera (JB):                5.533\n",
      "Skew:                           0.935   Prob(JB):                       0.0629\n",
      "Kurtosis:                       3.006   Cond. No.                     4.99e+03\n",
      "==============================================================================\n",
      "\n",
      "Notes:\n",
      "[1] Standard Errors assume that the covariance matrix of the errors is correctly specified.\n",
      "[2] The condition number is large, 4.99e+03. This might indicate that there are\n",
      "strong multicollinearity or other numerical problems.\n"
     ]
    }
   ],
   "source": [
    "print(smf.ols('lprepop ~ lmincov + lusgnp + t', data=dataWoo(\"prminwge\")).fit().summary())"
   ]
  },
  {
   "cell_type": "markdown",
   "metadata": {},
   "source": [
    "### Example 10.10. Housing Investment"
   ]
  },
  {
   "cell_type": "code",
   "execution_count": 13,
   "metadata": {},
   "outputs": [
    {
     "name": "stdout",
     "output_type": "stream",
     "text": [
      "                            OLS Regression Results                            \n",
      "==============================================================================\n",
      "Dep. Variable:                 linvpc   R-squared:                       0.341\n",
      "Model:                            OLS   Adj. R-squared:                  0.307\n",
      "Method:                 Least Squares   F-statistic:                     10.08\n",
      "Date:                Tue, 02 Jul 2024   Prob (F-statistic):           0.000296\n",
      "Time:                        18:07:17   Log-Likelihood:                 23.459\n",
      "No. Observations:                  42   AIC:                            -40.92\n",
      "Df Residuals:                      39   BIC:                            -35.71\n",
      "Df Model:                           2                                         \n",
      "Covariance Type:            nonrobust                                         \n",
      "==============================================================================\n",
      "                 coef    std err          t      P>|t|      [0.025      0.975]\n",
      "------------------------------------------------------------------------------\n",
      "Intercept     -0.9131      0.136     -6.733      0.000      -1.187      -0.639\n",
      "lprice        -0.3810      0.679     -0.561      0.578      -1.754       0.992\n",
      "t              0.0098      0.004      2.798      0.008       0.003       0.017\n",
      "==============================================================================\n",
      "Omnibus:                        4.879   Durbin-Watson:                   1.049\n",
      "Prob(Omnibus):                  0.087   Jarque-Bera (JB):                3.978\n",
      "Skew:                          -0.446   Prob(JB):                        0.137\n",
      "Kurtosis:                       4.216   Cond. No.                         770.\n",
      "==============================================================================\n",
      "\n",
      "Notes:\n",
      "[1] Standard Errors assume that the covariance matrix of the errors is correctly specified.\n"
     ]
    }
   ],
   "source": [
    "df = dataWoo(\"hseinv\")\n",
    "print(smf.ols('linvpc ~ lprice + t', data=df).fit().summary())"
   ]
  },
  {
   "cell_type": "code",
   "execution_count": 14,
   "metadata": {},
   "outputs": [
    {
     "name": "stdout",
     "output_type": "stream",
     "text": [
      "\n",
      "================================\n",
      "               Model I  Model II\n",
      "                (b/se)   (b/se) \n",
      "--------------------------------\n",
      "Intercept      -0.072  -0.913***\n",
      "               (0.136) (0.136)  \n",
      "lprice         -0.381  -0.381   \n",
      "               (0.679) (0.679)  \n",
      "t              0.002   0.010*** \n",
      "               (0.004) (0.004)  \n",
      "R-squared      0.008   0.341    \n",
      "R-squared Adj. -0.043  0.307    \n",
      "N              42      42       \n",
      "R2             0.008   0.341    \n",
      "Adj.R2         -0.043  0.307    \n",
      "================================\n",
      "Standard errors in parentheses.\n",
      "* p<.1, ** p<.05, ***p<.01\n"
     ]
    }
   ],
   "source": [
    "uhat_reg = smf.ols('linvpc ~ t', data=df).fit()\n",
    "uhat = df.linvpc - uhat_reg.predict()\n",
    "detrend = smf.ols('uhat ~ lprice + t', data=df).fit()\n",
    "trend = smf.ols('linvpc ~ lprice + t', data=df).fit()\n",
    "\n",
    "print(summary_col([detrend, trend],stars=True,float_format='%0.3f',\n",
    "                  model_names=['Model I\\n(b/se)','Model II\\n(b/se)'],\n",
    "                 info_dict={'N':lambda x: \"{0:d}\".format(int(x.nobs)),\n",
    "                             'R2':lambda x: \"{:.3f}\".format(x.rsquared), \n",
    "                           'Adj.R2':lambda x: \"{:.3f}\".format(x.rsquared_adj)}))"
   ]
  },
  {
   "cell_type": "markdown",
   "metadata": {},
   "source": [
    "### Example 10.11. Effects of Antidumping Filings"
   ]
  },
  {
   "cell_type": "code",
   "execution_count": 15,
   "metadata": {},
   "outputs": [
    {
     "name": "stdout",
     "output_type": "stream",
     "text": [
      "                            OLS Regression Results                            \n",
      "==============================================================================\n",
      "Dep. Variable:                lchnimp   R-squared:                       0.358\n",
      "Model:                            OLS   Adj. R-squared:                  0.262\n",
      "Method:                 Least Squares   F-statistic:                     3.712\n",
      "Date:                Tue, 02 Jul 2024   Prob (F-statistic):           1.28e-05\n",
      "Time:                        18:07:17   Log-Likelihood:                -109.54\n",
      "No. Observations:                 131   AIC:                             255.1\n",
      "Df Residuals:                     113   BIC:                             306.8\n",
      "Df Model:                          17                                         \n",
      "Covariance Type:            nonrobust                                         \n",
      "==============================================================================\n",
      "                 coef    std err          t      P>|t|      [0.025      0.975]\n",
      "------------------------------------------------------------------------------\n",
      "Intercept     16.7788     32.429      0.517      0.606     -47.468      81.026\n",
      "lchempi        3.2651      0.493      6.624      0.000       2.288       4.242\n",
      "lgas          -1.2781      1.389     -0.920      0.359      -4.030       1.474\n",
      "lrtwex         0.6630      0.471      1.407      0.162      -0.271       1.597\n",
      "befile6        0.1397      0.267      0.524      0.602      -0.389       0.668\n",
      "affile6        0.0126      0.279      0.045      0.964      -0.539       0.565\n",
      "afdec6        -0.5213      0.302     -1.726      0.087      -1.120       0.077\n",
      "feb           -0.4177      0.304     -1.372      0.173      -1.021       0.185\n",
      "mar            0.0591      0.265      0.223      0.824      -0.465       0.584\n",
      "apr           -0.4515      0.268     -1.682      0.095      -0.983       0.080\n",
      "may            0.0333      0.269      0.124      0.902      -0.500       0.567\n",
      "jun           -0.2063      0.269     -0.766      0.445      -0.740       0.327\n",
      "jul            0.0038      0.279      0.014      0.989      -0.548       0.556\n",
      "aug           -0.1571      0.278     -0.565      0.573      -0.708       0.394\n",
      "sep           -0.1342      0.268     -0.501      0.617      -0.664       0.396\n",
      "oct            0.0517      0.267      0.194      0.847      -0.477       0.580\n",
      "nov           -0.2463      0.263     -0.937      0.351      -0.767       0.274\n",
      "dec            0.1328      0.271      0.489      0.626      -0.405       0.671\n",
      "==============================================================================\n",
      "Omnibus:                        9.169   Durbin-Watson:                   1.325\n",
      "Prob(Omnibus):                  0.010   Jarque-Bera (JB):                9.324\n",
      "Skew:                          -0.540   Prob(JB):                      0.00945\n",
      "Kurtosis:                       3.736   Cond. No.                     1.47e+04\n",
      "==============================================================================\n",
      "\n",
      "Notes:\n",
      "[1] Standard Errors assume that the covariance matrix of the errors is correctly specified.\n",
      "[2] The condition number is large, 1.47e+04. This might indicate that there are\n",
      "strong multicollinearity or other numerical problems.\n"
     ]
    }
   ],
   "source": [
    "antid_month = smf.ols(\n",
    "    'lchnimp ~ lchempi + lgas + lrtwex + befile6 + affile6 + afdec6 + feb + mar + apr + may + jun + jul + aug + sep + oct + nov + dec + 1',\n",
    "    data=dataWoo(\"barium\")).fit()\n",
    "print(antid_month.summary())"
   ]
  },
  {
   "cell_type": "code",
   "execution_count": 16,
   "metadata": {},
   "outputs": [
    {
     "name": "stdout",
     "output_type": "stream",
     "text": [
      "<F test: F=0.8559432867177492, p=0.585200849291333, df_denom=113, df_num=11>\n"
     ]
    }
   ],
   "source": [
    "hypotheses = '(feb = mar = apr = may = jun = jul = aug = sep = oct = nov = dec= 0)'\n",
    "f_test = antid_month.f_test(hypotheses)\n",
    "print(f_test)"
   ]
  },
  {
   "cell_type": "code",
   "execution_count": 17,
   "metadata": {},
   "outputs": [
    {
     "name": "stdout",
     "output_type": "stream",
     "text": [
      "                            OLS Regression Results                            \n",
      "==============================================================================\n",
      "Dep. Variable:                lchnimp   R-squared:                       0.310\n",
      "Model:                            OLS   Adj. R-squared:                  0.258\n",
      "Method:                 Least Squares   F-statistic:                     6.032\n",
      "Date:                Tue, 02 Jul 2024   Prob (F-statistic):           5.79e-07\n",
      "Time:                        18:07:17   Log-Likelihood:                -114.33\n",
      "No. Observations:                 131   AIC:                             248.7\n",
      "Df Residuals:                     121   BIC:                             277.4\n",
      "Df Model:                           9                                         \n",
      "Covariance Type:            nonrobust                                         \n",
      "==============================================================================\n",
      "                 coef    std err          t      P>|t|      [0.025      0.975]\n",
      "------------------------------------------------------------------------------\n",
      "Intercept    -26.5219     23.297     -1.138      0.257     -72.645      19.602\n",
      "lchempi        3.0779      0.486      6.331      0.000       2.116       4.040\n",
      "lgas           0.5651      1.000      0.565      0.573      -1.415       2.545\n",
      "lrtwex         1.1015      0.425      2.594      0.011       0.261       1.942\n",
      "befile6        0.0767      0.265      0.289      0.773      -0.448       0.601\n",
      "affile6       -0.0833      0.273     -0.305      0.761      -0.623       0.457\n",
      "afdec6        -0.6212      0.295     -2.103      0.038      -1.206      -0.036\n",
      "spr           -0.0412      0.151     -0.273      0.786      -0.341       0.258\n",
      "sum           -0.1519      0.169     -0.897      0.371      -0.487       0.183\n",
      "fall          -0.0673      0.154     -0.436      0.664      -0.373       0.239\n",
      "==============================================================================\n",
      "Omnibus:                        8.751   Durbin-Watson:                   1.439\n",
      "Prob(Omnibus):                  0.013   Jarque-Bera (JB):                9.596\n",
      "Skew:                          -0.466   Prob(JB):                      0.00825\n",
      "Kurtosis:                       3.943   Cond. No.                     1.06e+04\n",
      "==============================================================================\n",
      "\n",
      "Notes:\n",
      "[1] Standard Errors assume that the covariance matrix of the errors is correctly specified.\n",
      "[2] The condition number is large, 1.06e+04. This might indicate that there are\n",
      "strong multicollinearity or other numerical problems.\n"
     ]
    }
   ],
   "source": [
    "antid_season = smf.ols('lchnimp ~ lchempi + lgas + lrtwex + befile6 + affile6 + afdec6 + spr + sum + fall + 1', \n",
    "                       data=dataWoo(\"barium\")).fit()\n",
    "print(antid_season.summary())"
   ]
  },
  {
   "cell_type": "code",
   "execution_count": 18,
   "metadata": {},
   "outputs": [
    {
     "name": "stdout",
     "output_type": "stream",
     "text": [
      "<F test: F=0.28224471031401444, p=0.838133302919684, df_denom=121, df_num=3>\n"
     ]
    }
   ],
   "source": [
    "hypotheses = '(spr = sum = fall= 0)'\n",
    "f_test = antid_season.f_test(hypotheses)\n",
    "print(f_test)"
   ]
  }
 ],
 "metadata": {
  "kernelspec": {
   "display_name": "Python 3 (ipykernel)",
   "language": "python",
   "name": "python3"
  },
  "language_info": {
   "codemirror_mode": {
    "name": "ipython",
    "version": 3
   },
   "file_extension": ".py",
   "mimetype": "text/x-python",
   "name": "python",
   "nbconvert_exporter": "python",
   "pygments_lexer": "ipython3",
   "version": "3.11.7"
  }
 },
 "nbformat": 4,
 "nbformat_minor": 4
}
