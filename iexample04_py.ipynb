{
 "cells": [
  {
   "cell_type": "markdown",
   "metadata": {},
   "source": [
    "# Chapter 4. Multiple Regression Analysis: Inference\n",
    "[Home](http://solomonegash.com/) | [Stata](http://solomonegash.com/woodridge1/index.html) | [R](http://solomonegash.com/econometrics/rbook1/index.html)"
   ]
  },
  {
   "cell_type": "code",
   "execution_count": 1,
   "metadata": {},
   "outputs": [],
   "source": [
    "import numpy as np\n",
    "import statsmodels.api as sm\n",
    "import statsmodels.formula.api as smf\n",
    "\n",
    "from wooldridge import *"
   ]
  },
  {
   "cell_type": "markdown",
   "metadata": {},
   "source": [
    "### Example 4.1  Wage equation"
   ]
  },
  {
   "cell_type": "code",
   "execution_count": 2,
   "metadata": {},
   "outputs": [
    {
     "name": "stdout",
     "output_type": "stream",
     "text": [
      "                            OLS Regression Results                            \n",
      "==============================================================================\n",
      "Dep. Variable:                  lwage   R-squared:                       0.316\n",
      "Model:                            OLS   Adj. R-squared:                  0.312\n",
      "Method:                 Least Squares   F-statistic:                     80.39\n",
      "Date:                Sun, 30 Jun 2024   Prob (F-statistic):           9.13e-43\n",
      "Time:                        18:51:19   Log-Likelihood:                -313.55\n",
      "No. Observations:                 526   AIC:                             635.1\n",
      "Df Residuals:                     522   BIC:                             652.2\n",
      "Df Model:                           3                                         \n",
      "Covariance Type:            nonrobust                                         \n",
      "==============================================================================\n",
      "                 coef    std err          t      P>|t|      [0.025      0.975]\n",
      "------------------------------------------------------------------------------\n",
      "Intercept      0.2844      0.104      2.729      0.007       0.080       0.489\n",
      "educ           0.0920      0.007     12.555      0.000       0.078       0.106\n",
      "exper          0.0041      0.002      2.391      0.017       0.001       0.008\n",
      "tenure         0.0221      0.003      7.133      0.000       0.016       0.028\n",
      "==============================================================================\n",
      "Omnibus:                       11.534   Durbin-Watson:                   1.769\n",
      "Prob(Omnibus):                  0.003   Jarque-Bera (JB):               20.941\n",
      "Skew:                           0.021   Prob(JB):                     2.84e-05\n",
      "Kurtosis:                       3.977   Cond. No.                         135.\n",
      "==============================================================================\n",
      "\n",
      "Notes:\n",
      "[1] Standard Errors assume that the covariance matrix of the errors is correctly specified.\n"
     ]
    }
   ],
   "source": [
    "df = dataWoo('wage1')\n",
    "wage_multiple = smf.ols(formula='lwage ~ educ + exper + tenure + 1', data=df).fit()\n",
    "print(wage_multiple.summary())"
   ]
  },
  {
   "cell_type": "markdown",
   "metadata": {},
   "source": [
    "### Example 4.2. Student performance"
   ]
  },
  {
   "cell_type": "code",
   "execution_count": 3,
   "metadata": {},
   "outputs": [
    {
     "name": "stdout",
     "output_type": "stream",
     "text": [
      "                            OLS Regression Results                            \n",
      "==============================================================================\n",
      "Dep. Variable:                 math10   R-squared:                       0.054\n",
      "Model:                            OLS   Adj. R-squared:                  0.047\n",
      "Method:                 Least Squares   F-statistic:                     7.697\n",
      "Date:                Sun, 30 Jun 2024   Prob (F-statistic):           5.18e-05\n",
      "Time:                        18:51:19   Log-Likelihood:                -1526.2\n",
      "No. Observations:                 408   AIC:                             3060.\n",
      "Df Residuals:                     404   BIC:                             3076.\n",
      "Df Model:                           3                                         \n",
      "Covariance Type:            nonrobust                                         \n",
      "==============================================================================\n",
      "                 coef    std err          t      P>|t|      [0.025      0.975]\n",
      "------------------------------------------------------------------------------\n",
      "Intercept      2.2740      6.114      0.372      0.710      -9.745      14.293\n",
      "totcomp        0.0005      0.000      4.570      0.000       0.000       0.001\n",
      "staff          0.0479      0.040      1.204      0.229      -0.030       0.126\n",
      "enroll        -0.0002      0.000     -0.918      0.359      -0.001       0.000\n",
      "==============================================================================\n",
      "Omnibus:                       31.666   Durbin-Watson:                   1.669\n",
      "Prob(Omnibus):                  0.000   Jarque-Bera (JB):               40.628\n",
      "Skew:                           0.615   Prob(JB):                     1.51e-09\n",
      "Kurtosis:                       3.936   Cond. No.                     4.68e+05\n",
      "==============================================================================\n",
      "\n",
      "Notes:\n",
      "[1] Standard Errors assume that the covariance matrix of the errors is correctly specified.\n",
      "[2] The condition number is large, 4.68e+05. This might indicate that there are\n",
      "strong multicollinearity or other numerical problems.\n"
     ]
    }
   ],
   "source": [
    "df = dataWoo('meap93')\n",
    "math_lin_lin = smf.ols(formula='math10 ~ totcomp + staff + enroll + 1', data=df).fit()\n",
    "print(math_lin_lin.summary())"
   ]
  },
  {
   "cell_type": "code",
   "execution_count": 4,
   "metadata": {},
   "outputs": [
    {
     "name": "stdout",
     "output_type": "stream",
     "text": [
      "                            OLS Regression Results                            \n",
      "==============================================================================\n",
      "Dep. Variable:                 math10   R-squared:                       0.065\n",
      "Model:                            OLS   Adj. R-squared:                  0.058\n",
      "Method:                 Least Squares   F-statistic:                     9.420\n",
      "Date:                Sun, 30 Jun 2024   Prob (F-statistic):           4.97e-06\n",
      "Time:                        18:51:19   Log-Likelihood:                -1523.7\n",
      "No. Observations:                 408   AIC:                             3055.\n",
      "Df Residuals:                     404   BIC:                             3072.\n",
      "Df Model:                           3                                         \n",
      "Covariance Type:            nonrobust                                         \n",
      "==============================================================================\n",
      "                 coef    std err          t      P>|t|      [0.025      0.975]\n",
      "------------------------------------------------------------------------------\n",
      "Intercept   -207.6648     48.703     -4.264      0.000    -303.408    -111.922\n",
      "ltotcomp      21.1550      4.056      5.216      0.000      13.182      29.128\n",
      "lstaff         3.9800      4.190      0.950      0.343      -4.256      12.216\n",
      "lenroll       -1.2680      0.693     -1.829      0.068      -2.631       0.095\n",
      "==============================================================================\n",
      "Omnibus:                       27.703   Durbin-Watson:                   1.666\n",
      "Prob(Omnibus):                  0.000   Jarque-Bera (JB):               34.495\n",
      "Skew:                           0.568   Prob(JB):                     3.23e-08\n",
      "Kurtosis:                       3.860   Cond. No.                     1.34e+03\n",
      "==============================================================================\n",
      "\n",
      "Notes:\n",
      "[1] Standard Errors assume that the covariance matrix of the errors is correctly specified.\n",
      "[2] The condition number is large, 1.34e+03. This might indicate that there are\n",
      "strong multicollinearity or other numerical problems.\n"
     ]
    }
   ],
   "source": [
    "math_lin_log = smf.ols(formula='math10 ~ ltotcomp + lstaff + lenroll + 1', data=df).fit()\n",
    "print(math_lin_log.summary())"
   ]
  },
  {
   "cell_type": "code",
   "execution_count": 5,
   "metadata": {},
   "outputs": [
    {
     "name": "stdout",
     "output_type": "stream",
     "text": [
      "\n",
      "====================================\n",
      "                 math10     math10  \n",
      "               (Lin_Lin)  (Lin_Log) \n",
      "------------------------------------\n",
      "Intercept      2.274     -207.665***\n",
      "               (6.114)   (48.703)   \n",
      "R-squared      0.054     0.065      \n",
      "R-squared Adj. 0.047     0.058      \n",
      "enroll         -0.000               \n",
      "               (0.000)              \n",
      "lenroll                  -1.268*    \n",
      "                         (0.693)    \n",
      "lstaff                   3.980      \n",
      "                         (4.190)    \n",
      "ltotcomp                 21.155***  \n",
      "                         (4.056)    \n",
      "staff          0.048                \n",
      "               (0.040)              \n",
      "totcomp        0.000***             \n",
      "               (0.000)              \n",
      "N              408       408        \n",
      "R2             0.054     0.065      \n",
      "====================================\n",
      "Standard errors in parentheses.\n",
      "* p<.1, ** p<.05, ***p<.01\n"
     ]
    }
   ],
   "source": [
    "from statsmodels.iolib.summary2 import summary_col\n",
    "\n",
    "print(summary_col([math_lin_lin,math_lin_log],stars=True,float_format='%0.3f',\n",
    "                  model_names=['math10\\n(Lin_Lin)','math10\\n(Lin_Log)'],\n",
    "                  info_dict={'N':lambda x: \"{0:d}\".format(int(x.nobs)),\n",
    "                             'R2':lambda x: \"{:.3f}\".format(x.rsquared)}))"
   ]
  },
  {
   "cell_type": "markdown",
   "metadata": {},
   "source": [
    "### Example 4.3. Collage GPA"
   ]
  },
  {
   "cell_type": "code",
   "execution_count": 6,
   "metadata": {},
   "outputs": [
    {
     "name": "stdout",
     "output_type": "stream",
     "text": [
      "                            OLS Regression Results                            \n",
      "==============================================================================\n",
      "Dep. Variable:                 colGPA   R-squared:                       0.234\n",
      "Model:                            OLS   Adj. R-squared:                  0.217\n",
      "Method:                 Least Squares   F-statistic:                     13.92\n",
      "Date:                Sun, 30 Jun 2024   Prob (F-statistic):           5.65e-08\n",
      "Time:                        18:51:19   Log-Likelihood:                -41.501\n",
      "No. Observations:                 141   AIC:                             91.00\n",
      "Df Residuals:                     137   BIC:                             102.8\n",
      "Df Model:                           3                                         \n",
      "Covariance Type:            nonrobust                                         \n",
      "==============================================================================\n",
      "                 coef    std err          t      P>|t|      [0.025      0.975]\n",
      "------------------------------------------------------------------------------\n",
      "Intercept      1.3896      0.332      4.191      0.000       0.734       2.045\n",
      "hsGPA          0.4118      0.094      4.396      0.000       0.227       0.597\n",
      "ACT            0.0147      0.011      1.393      0.166      -0.006       0.036\n",
      "skipped       -0.0831      0.026     -3.197      0.002      -0.135      -0.032\n",
      "==============================================================================\n",
      "Omnibus:                        1.917   Durbin-Watson:                   1.881\n",
      "Prob(Omnibus):                  0.383   Jarque-Bera (JB):                1.636\n",
      "Skew:                           0.125   Prob(JB):                        0.441\n",
      "Kurtosis:                       2.535   Cond. No.                         300.\n",
      "==============================================================================\n",
      "\n",
      "Notes:\n",
      "[1] Standard Errors assume that the covariance matrix of the errors is correctly specified.\n"
     ]
    }
   ],
   "source": [
    "df = dataWoo('gpa1')\n",
    "gpa_mols = smf.ols(formula='colGPA ~ hsGPA + ACT + skipped + 1', data=df).fit()\n",
    "print(gpa_mols.summary())"
   ]
  },
  {
   "cell_type": "markdown",
   "metadata": {},
   "source": [
    "### Example 4.4. Campus crime & enrollment"
   ]
  },
  {
   "cell_type": "code",
   "execution_count": 7,
   "metadata": {},
   "outputs": [
    {
     "name": "stdout",
     "output_type": "stream",
     "text": [
      "                            OLS Regression Results                            \n",
      "==============================================================================\n",
      "Dep. Variable:                 lcrime   R-squared:                       0.585\n",
      "Model:                            OLS   Adj. R-squared:                  0.580\n",
      "Method:                 Least Squares   F-statistic:                     133.8\n",
      "Date:                Sun, 30 Jun 2024   Prob (F-statistic):           7.83e-20\n",
      "Time:                        18:51:19   Log-Likelihood:                -125.83\n",
      "No. Observations:                  97   AIC:                             255.7\n",
      "Df Residuals:                      95   BIC:                             260.8\n",
      "Df Model:                           1                                         \n",
      "Covariance Type:            nonrobust                                         \n",
      "==============================================================================\n",
      "                 coef    std err          t      P>|t|      [0.025      0.975]\n",
      "------------------------------------------------------------------------------\n",
      "Intercept     -6.6314      1.034     -6.416      0.000      -8.683      -4.580\n",
      "lenroll        1.2698      0.110     11.567      0.000       1.052       1.488\n",
      "==============================================================================\n",
      "Omnibus:                       51.350   Durbin-Watson:                   1.548\n",
      "Prob(Omnibus):                  0.000   Jarque-Bera (JB):              247.879\n",
      "Skew:                          -1.628   Prob(JB):                     1.49e-54\n",
      "Kurtosis:                      10.123   Cond. No.                         108.\n",
      "==============================================================================\n",
      "\n",
      "Notes:\n",
      "[1] Standard Errors assume that the covariance matrix of the errors is correctly specified.\n"
     ]
    }
   ],
   "source": [
    "df = dataWoo('campus')\n",
    "crime_ols = smf.ols(formula='lcrime ~ lenroll + 1', data=df).fit()\n",
    "print(crime_ols.summary())"
   ]
  },
  {
   "cell_type": "markdown",
   "metadata": {},
   "source": [
    "### Example 4.5. Housing prices"
   ]
  },
  {
   "cell_type": "code",
   "execution_count": 8,
   "metadata": {},
   "outputs": [
    {
     "name": "stdout",
     "output_type": "stream",
     "text": [
      "                            OLS Regression Results                            \n",
      "==============================================================================\n",
      "Dep. Variable:                 lprice   R-squared:                       0.584\n",
      "Model:                            OLS   Adj. R-squared:                  0.581\n",
      "Method:                 Least Squares   F-statistic:                     175.9\n",
      "Date:                Sun, 30 Jun 2024   Prob (F-statistic):           5.53e-94\n",
      "Time:                        18:51:20   Log-Likelihood:                -43.495\n",
      "No. Observations:                 506   AIC:                             96.99\n",
      "Df Residuals:                     501   BIC:                             118.1\n",
      "Df Model:                           4                                         \n",
      "Covariance Type:            nonrobust                                         \n",
      "==============================================================================\n",
      "                 coef    std err          t      P>|t|      [0.025      0.975]\n",
      "------------------------------------------------------------------------------\n",
      "Intercept     11.0839      0.318     34.843      0.000      10.459      11.709\n",
      "lnox          -0.9535      0.117     -8.168      0.000      -1.183      -0.724\n",
      "ldist         -0.1343      0.043     -3.117      0.002      -0.219      -0.050\n",
      "rooms          0.2545      0.019     13.736      0.000       0.218       0.291\n",
      "stratio       -0.0525      0.006     -8.894      0.000      -0.064      -0.041\n",
      "==============================================================================\n",
      "Omnibus:                       61.317   Durbin-Watson:                   0.682\n",
      "Prob(Omnibus):                  0.000   Jarque-Bera (JB):              480.143\n",
      "Skew:                           0.051   Prob(JB):                    5.47e-105\n",
      "Kurtosis:                       7.771   Cond. No.                         560.\n",
      "==============================================================================\n",
      "\n",
      "Notes:\n",
      "[1] Standard Errors assume that the covariance matrix of the errors is correctly specified.\n"
     ]
    }
   ],
   "source": [
    "df = dataWoo('hprice2')\n",
    "ldist=np.log(df.dist)\n",
    "hprice_mols = smf.ols(formula='lprice ~ lnox +ldist + rooms + stratio + 1', data=df).fit()\n",
    "print(hprice_mols.summary())"
   ]
  },
  {
   "cell_type": "markdown",
   "metadata": {},
   "source": [
    "### Example 4.6. Participation rates in 401k plans"
   ]
  },
  {
   "cell_type": "code",
   "execution_count": 9,
   "metadata": {},
   "outputs": [
    {
     "name": "stdout",
     "output_type": "stream",
     "text": [
      "                            OLS Regression Results                            \n",
      "==============================================================================\n",
      "Dep. Variable:                  prate   R-squared:                       0.100\n",
      "Model:                            OLS   Adj. R-squared:                  0.098\n",
      "Method:                 Least Squares   F-statistic:                     56.38\n",
      "Date:                Sun, 30 Jun 2024   Prob (F-statistic):           1.45e-34\n",
      "Time:                        18:51:20   Log-Likelihood:                -6416.1\n",
      "No. Observations:                1534   AIC:                         1.284e+04\n",
      "Df Residuals:                    1530   BIC:                         1.286e+04\n",
      "Df Model:                           3                                         \n",
      "Covariance Type:            nonrobust                                         \n",
      "==============================================================================\n",
      "                 coef    std err          t      P>|t|      [0.025      0.975]\n",
      "------------------------------------------------------------------------------\n",
      "Intercept     80.2941      0.778    103.242      0.000      78.769      81.820\n",
      "mrate          5.4422      0.524     10.378      0.000       4.414       6.471\n",
      "age            0.2692      0.045      5.963      0.000       0.181       0.358\n",
      "totemp        -0.0001   3.67e-05     -3.521      0.000      -0.000   -5.72e-05\n",
      "==============================================================================\n",
      "Omnibus:                      364.684   Durbin-Watson:                   1.906\n",
      "Prob(Omnibus):                  0.000   Jarque-Bera (JB):              755.421\n",
      "Skew:                          -1.367   Prob(JB):                    9.17e-165\n",
      "Kurtosis:                       5.083   Cond. No.                     2.38e+04\n",
      "==============================================================================\n",
      "\n",
      "Notes:\n",
      "[1] Standard Errors assume that the covariance matrix of the errors is correctly specified.\n",
      "[2] The condition number is large, 2.38e+04. This might indicate that there are\n",
      "strong multicollinearity or other numerical problems.\n"
     ]
    }
   ],
   "source": [
    "df = dataWoo('401k')\n",
    "pension_multiple = smf.ols(formula='prate ~ mrate + age + totemp + 1', data=df).fit()\n",
    "print(pension_multiple.summary())"
   ]
  },
  {
   "cell_type": "markdown",
   "metadata": {},
   "source": [
    "### Example4.7. Job training (only for the year 1987 and for nonunionized firms)"
   ]
  },
  {
   "cell_type": "code",
   "execution_count": 10,
   "metadata": {},
   "outputs": [
    {
     "name": "stdout",
     "output_type": "stream",
     "text": [
      "name of dataset: jtrain\n",
      "no of variables: 30\n",
      "no of observations: 471\n",
      "\n",
      "+----------+---------------------------------+\n",
      "| variable | label                           |\n",
      "+----------+---------------------------------+\n",
      "| year     | 1987, 1988, or 1989             |\n",
      "| fcode    | firm code number                |\n",
      "| employ   | # employees at plant            |\n",
      "| sales    | annual sales, $                 |\n",
      "| avgsal   | average employee salary         |\n",
      "| scrap    | scrap rate (per 100 items)      |\n",
      "| rework   | rework rate (per 100 items)     |\n",
      "| tothrs   | total hours training            |\n",
      "| union    | =1 if unionized                 |\n",
      "| grant    | = 1 if received grant           |\n",
      "| d89      | = 1 if year = 1989              |\n",
      "| d88      | = 1 if year = 1988              |\n",
      "| totrain  | total employees trained         |\n",
      "| hrsemp   | tothrs/totrain                  |\n",
      "| lscrap   | log(scrap)                      |\n",
      "| lemploy  | log(employ)                     |\n",
      "| lsales   | log(sales)                      |\n",
      "| lrework  | log(rework)                     |\n",
      "| lhrsemp  | log(1 + hrsemp)                 |\n",
      "| lscrap_1 | lagged lscrap; missing 1987     |\n",
      "| grant_1  | lagged grant; assumed 0 in 1987 |\n",
      "| clscrap  | lscrap - lscrap_1; year > 1987  |\n",
      "| cgrant   | grant - grant_1                 |\n",
      "| clemploy | lemploy - lemploy[_n-1]         |\n",
      "| clsales  | lavgsal - lavgsal[_n-1]         |\n",
      "| lavgsal  | log(avgsal)                     |\n",
      "| clavgsal | lavgsal - lavgsal[_n-1]         |\n",
      "| cgrant_1 | cgrant[_n-1]                    |\n",
      "| chrsemp  | hrsemp - hrsemp[_n-1]           |\n",
      "| clhrsemp | lhrsemp - lhrsemp[_n-1]         |\n",
      "+----------+---------------------------------+\n",
      "\n",
      "H. Holzer, R. Block, M. Cheatham, and J. Knott (1993), “Are Training\n",
      "Subsidies Effective? The Michigan Experience,” Industrial and Labor\n",
      "Relations Review 46, 625-636. The authors kindly provided the data.\n"
     ]
    }
   ],
   "source": [
    "df = dataWoo('jtrain')\n",
    "dataWoo('jtrain', description=True)"
   ]
  },
  {
   "cell_type": "code",
   "execution_count": 11,
   "metadata": {},
   "outputs": [
    {
     "name": "stdout",
     "output_type": "stream",
     "text": [
      "                            OLS Regression Results                            \n",
      "==============================================================================\n",
      "Dep. Variable:                 lscrap   R-squared:                       0.262\n",
      "Model:                            OLS   Adj. R-squared:                  0.174\n",
      "Method:                 Least Squares   F-statistic:                     2.965\n",
      "Date:                Sun, 30 Jun 2024   Prob (F-statistic):             0.0513\n",
      "Time:                        18:51:20   Log-Likelihood:                -48.254\n",
      "No. Observations:                  29   AIC:                             104.5\n",
      "Df Residuals:                      25   BIC:                             110.0\n",
      "Df Model:                           3                                         \n",
      "Covariance Type:            nonrobust                                         \n",
      "==============================================================================\n",
      "                 coef    std err          t      P>|t|      [0.025      0.975]\n",
      "------------------------------------------------------------------------------\n",
      "Intercept     12.4584      5.687      2.191      0.038       0.746      24.170\n",
      "hrsemp        -0.0293      0.023     -1.283      0.211      -0.076       0.018\n",
      "lsales        -0.9620      0.453     -2.126      0.044      -1.894      -0.030\n",
      "lemploy        0.7615      0.407      1.869      0.073      -0.078       1.601\n",
      "==============================================================================\n",
      "Omnibus:                        0.035   Durbin-Watson:                   2.255\n",
      "Prob(Omnibus):                  0.983   Jarque-Bera (JB):                0.202\n",
      "Skew:                           0.066   Prob(JB):                        0.904\n",
      "Kurtosis:                       2.613   Cond. No.                         417.\n",
      "==============================================================================\n",
      "\n",
      "Notes:\n",
      "[1] Standard Errors assume that the covariance matrix of the errors is correctly specified.\n"
     ]
    }
   ],
   "source": [
    "df = df[(df['year']==1987) & (df['union']==0)] #regress if year=1987 & union=0\n",
    "\n",
    "job_multiple = smf.ols(formula='lscrap ~ hrsemp + lsales + lemploy + 1', data=df).fit()\n",
    "print(job_multiple.summary())\n"
   ]
  },
  {
   "cell_type": "markdown",
   "metadata": {},
   "source": [
    "### Example 4.8. RD and Sales"
   ]
  },
  {
   "cell_type": "code",
   "execution_count": 12,
   "metadata": {},
   "outputs": [
    {
     "name": "stdout",
     "output_type": "stream",
     "text": [
      "                            OLS Regression Results                            \n",
      "==============================================================================\n",
      "Dep. Variable:                    lrd   R-squared:                       0.918\n",
      "Model:                            OLS   Adj. R-squared:                  0.912\n",
      "Method:                 Least Squares   F-statistic:                     162.2\n",
      "Date:                Sun, 30 Jun 2024   Prob (F-statistic):           1.79e-16\n",
      "Time:                        18:51:20   Log-Likelihood:                -22.511\n",
      "No. Observations:                  32   AIC:                             51.02\n",
      "Df Residuals:                      29   BIC:                             55.42\n",
      "Df Model:                           2                                         \n",
      "Covariance Type:            nonrobust                                         \n",
      "==============================================================================\n",
      "                 coef    std err          t      P>|t|      [0.025      0.975]\n",
      "------------------------------------------------------------------------------\n",
      "Intercept     -4.3783      0.468     -9.355      0.000      -5.335      -3.421\n",
      "lsales         1.0842      0.060     18.012      0.000       0.961       1.207\n",
      "profmarg       0.0217      0.013      1.694      0.101      -0.004       0.048\n",
      "==============================================================================\n",
      "Omnibus:                        0.670   Durbin-Watson:                   1.859\n",
      "Prob(Omnibus):                  0.715   Jarque-Bera (JB):                0.671\n",
      "Skew:                           0.308   Prob(JB):                        0.715\n",
      "Kurtosis:                       2.649   Cond. No.                         70.6\n",
      "==============================================================================\n",
      "\n",
      "Notes:\n",
      "[1] Standard Errors assume that the covariance matrix of the errors is correctly specified.\n"
     ]
    }
   ],
   "source": [
    "df = dataWoo('rdchem')\n",
    "lrd_ols = smf.ols(formula='lrd ~ lsales + profmarg + 1', data=df).fit()\n",
    "print(lrd_ols.summary())"
   ]
  },
  {
   "cell_type": "markdown",
   "metadata": {},
   "source": [
    "### Example 4.9. Parent's education on birth weight"
   ]
  },
  {
   "cell_type": "code",
   "execution_count": 13,
   "metadata": {},
   "outputs": [
    {
     "name": "stdout",
     "output_type": "stream",
     "text": [
      "                            OLS Regression Results                            \n",
      "==============================================================================\n",
      "Dep. Variable:                  bwght   R-squared:                       0.039\n",
      "Model:                            OLS   Adj. R-squared:                  0.035\n",
      "Method:                 Least Squares   F-statistic:                     9.553\n",
      "Date:                Sun, 30 Jun 2024   Prob (F-statistic):           5.99e-09\n",
      "Time:                        18:51:20   Log-Likelihood:                -5242.2\n",
      "No. Observations:                1191   AIC:                         1.050e+04\n",
      "Df Residuals:                    1185   BIC:                         1.053e+04\n",
      "Df Model:                           5                                         \n",
      "Covariance Type:            nonrobust                                         \n",
      "==============================================================================\n",
      "                 coef    std err          t      P>|t|      [0.025      0.975]\n",
      "------------------------------------------------------------------------------\n",
      "Intercept    114.5243      3.728     30.716      0.000     107.209     121.839\n",
      "cigs          -0.5959      0.110     -5.401      0.000      -0.812      -0.379\n",
      "parity         1.7876      0.659      2.711      0.007       0.494       3.081\n",
      "faminc         0.0560      0.037      1.533      0.126      -0.016       0.128\n",
      "motheduc      -0.3705      0.320     -1.158      0.247      -0.998       0.257\n",
      "fatheduc       0.4724      0.283      1.671      0.095      -0.082       1.027\n",
      "==============================================================================\n",
      "Omnibus:                      120.762   Durbin-Watson:                   1.938\n",
      "Prob(Omnibus):                  0.000   Jarque-Bera (JB):              838.114\n",
      "Skew:                          -0.119   Prob(JB):                    1.01e-182\n",
      "Kurtosis:                       7.103   Cond. No.                         266.\n",
      "==============================================================================\n",
      "\n",
      "Notes:\n",
      "[1] Standard Errors assume that the covariance matrix of the errors is correctly specified.\n"
     ]
    }
   ],
   "source": [
    "df = dataWoo('bwght')\n",
    "birthw_ols = smf.ols(formula='bwght ~ cigs + parity + faminc + motheduc + fatheduc + 1', data=df).fit()\n",
    "print(birthw_ols.summary())"
   ]
  },
  {
   "cell_type": "code",
   "execution_count": 14,
   "metadata": {},
   "outputs": [
    {
     "name": "stdout",
     "output_type": "stream",
     "text": [
      "                            OLS Regression Results                            \n",
      "==============================================================================\n",
      "Dep. Variable:                  bwght   R-squared:                       0.035\n",
      "Model:                            OLS   Adj. R-squared:                  0.033\n",
      "Method:                 Least Squares   F-statistic:                     16.63\n",
      "Date:                Sun, 30 Jun 2024   Prob (F-statistic):           1.28e-10\n",
      "Time:                        18:51:20   Log-Likelihood:                -6126.8\n",
      "No. Observations:                1388   AIC:                         1.226e+04\n",
      "Df Residuals:                    1384   BIC:                         1.228e+04\n",
      "Df Model:                           3                                         \n",
      "Covariance Type:            nonrobust                                         \n",
      "==============================================================================\n",
      "                 coef    std err          t      P>|t|      [0.025      0.975]\n",
      "------------------------------------------------------------------------------\n",
      "Intercept    114.2143      1.469     77.734      0.000     111.332     117.097\n",
      "cigs          -0.4772      0.092     -5.214      0.000      -0.657      -0.298\n",
      "parity         1.6164      0.604      2.676      0.008       0.432       2.801\n",
      "faminc         0.0979      0.029      3.355      0.001       0.041       0.155\n",
      "==============================================================================\n",
      "Omnibus:                      118.381   Durbin-Watson:                   1.922\n",
      "Prob(Omnibus):                  0.000   Jarque-Bera (JB):              638.175\n",
      "Skew:                          -0.156   Prob(JB):                    2.64e-139\n",
      "Kurtosis:                       6.307   Cond. No.                         98.8\n",
      "==============================================================================\n",
      "\n",
      "Notes:\n",
      "[1] Standard Errors assume that the covariance matrix of the errors is correctly specified.\n"
     ]
    }
   ],
   "source": [
    "birthw_ols_r = smf.ols(formula='bwght ~ cigs + parity + faminc + 1', data=df).fit()\n",
    "print(birthw_ols_r.summary())"
   ]
  },
  {
   "cell_type": "code",
   "execution_count": 15,
   "metadata": {},
   "outputs": [
    {
     "data": {
      "text/html": [
       "<div>\n",
       "<style scoped>\n",
       "    .dataframe tbody tr th:only-of-type {\n",
       "        vertical-align: middle;\n",
       "    }\n",
       "\n",
       "    .dataframe tbody tr th {\n",
       "        vertical-align: top;\n",
       "    }\n",
       "\n",
       "    .dataframe thead th {\n",
       "        text-align: right;\n",
       "    }\n",
       "</style>\n",
       "<table border=\"1\" class=\"dataframe\">\n",
       "  <thead>\n",
       "    <tr style=\"text-align: right;\">\n",
       "      <th></th>\n",
       "      <th>df_resid</th>\n",
       "      <th>ssr</th>\n",
       "      <th>df_diff</th>\n",
       "      <th>ss_diff</th>\n",
       "      <th>F</th>\n",
       "      <th>Pr(&gt;F)</th>\n",
       "    </tr>\n",
       "  </thead>\n",
       "  <tbody>\n",
       "    <tr>\n",
       "      <th>0</th>\n",
       "      <td>1384.0</td>\n",
       "      <td>554615.198655</td>\n",
       "      <td>0.0</td>\n",
       "      <td>NaN</td>\n",
       "      <td>NaN</td>\n",
       "      <td>NaN</td>\n",
       "    </tr>\n",
       "    <tr>\n",
       "      <th>1</th>\n",
       "      <td>1185.0</td>\n",
       "      <td>464041.135130</td>\n",
       "      <td>199.0</td>\n",
       "      <td>90574.063525</td>\n",
       "      <td>1.162285</td>\n",
       "      <td>0.075222</td>\n",
       "    </tr>\n",
       "  </tbody>\n",
       "</table>\n",
       "</div>"
      ],
      "text/plain": [
       "   df_resid            ssr  df_diff       ss_diff         F    Pr(>F)\n",
       "0    1384.0  554615.198655      0.0           NaN       NaN       NaN\n",
       "1    1185.0  464041.135130    199.0  90574.063525  1.162285  0.075222"
      ]
     },
     "execution_count": 15,
     "metadata": {},
     "output_type": "execute_result"
    }
   ],
   "source": [
    "import statsmodels.stats as ss\n",
    "\n",
    "ss.anova.anova_lm(birthw_ols_r, birthw_ols)"
   ]
  },
  {
   "cell_type": "markdown",
   "metadata": {},
   "source": [
    "### Exaploring further example 4.5. "
   ]
  },
  {
   "cell_type": "code",
   "execution_count": 16,
   "metadata": {},
   "outputs": [
    {
     "name": "stdout",
     "output_type": "stream",
     "text": [
      "                            OLS Regression Results                            \n",
      "==============================================================================\n",
      "Dep. Variable:                atndrte   R-squared:                       0.182\n",
      "Model:                            OLS   Adj. R-squared:                  0.181\n",
      "Method:                 Least Squares   F-statistic:                     151.3\n",
      "Date:                Sun, 30 Jun 2024   Prob (F-statistic):           1.54e-31\n",
      "Time:                        18:51:20   Log-Likelihood:                -2824.3\n",
      "No. Observations:                 680   AIC:                             5653.\n",
      "Df Residuals:                     678   BIC:                             5662.\n",
      "Df Model:                           1                                         \n",
      "Covariance Type:            nonrobust                                         \n",
      "==============================================================================\n",
      "                 coef    std err          t      P>|t|      [0.025      0.975]\n",
      "------------------------------------------------------------------------------\n",
      "Intercept     47.1270      2.873     16.406      0.000      41.487      52.767\n",
      "priGPA        13.3690      1.087     12.302      0.000      11.235      15.503\n",
      "==============================================================================\n",
      "Omnibus:                      167.813   Durbin-Watson:                   1.942\n",
      "Prob(Omnibus):                  0.000   Jarque-Bera (JB):              368.128\n",
      "Skew:                          -1.331   Prob(JB):                     1.15e-80\n",
      "Kurtosis:                       5.431   Cond. No.                         14.6\n",
      "==============================================================================\n",
      "\n",
      "Notes:\n",
      "[1] Standard Errors assume that the covariance matrix of the errors is correctly specified.\n"
     ]
    }
   ],
   "source": [
    "df = dataWoo('attend')\n",
    "attend_ols_r = smf.ols(formula='atndrte ~ priGPA + 1', data=df).fit()\n",
    "print(attend_ols_r.summary())"
   ]
  },
  {
   "cell_type": "code",
   "execution_count": 17,
   "metadata": {},
   "outputs": [
    {
     "name": "stdout",
     "output_type": "stream",
     "text": [
      "                            OLS Regression Results                            \n",
      "==============================================================================\n",
      "Dep. Variable:                atndrte   R-squared:                       0.291\n",
      "Model:                            OLS   Adj. R-squared:                  0.288\n",
      "Method:                 Least Squares   F-statistic:                     138.7\n",
      "Date:                Sun, 30 Jun 2024   Prob (F-statistic):           3.39e-51\n",
      "Time:                        18:51:20   Log-Likelihood:                -2776.1\n",
      "No. Observations:                 680   AIC:                             5558.\n",
      "Df Residuals:                     677   BIC:                             5572.\n",
      "Df Model:                           2                                         \n",
      "Covariance Type:            nonrobust                                         \n",
      "==============================================================================\n",
      "                 coef    std err          t      P>|t|      [0.025      0.975]\n",
      "------------------------------------------------------------------------------\n",
      "Intercept     75.7004      3.884     19.490      0.000      68.074      83.327\n",
      "priGPA        17.2606      1.083     15.936      0.000      15.134      19.387\n",
      "ACT           -1.7166      0.169    -10.156      0.000      -2.048      -1.385\n",
      "==============================================================================\n",
      "Omnibus:                      126.367   Durbin-Watson:                   2.011\n",
      "Prob(Omnibus):                  0.000   Jarque-Bera (JB):              237.444\n",
      "Skew:                          -1.079   Prob(JB):                     2.75e-52\n",
      "Kurtosis:                       4.929   Cond. No.                         163.\n",
      "==============================================================================\n",
      "\n",
      "Notes:\n",
      "[1] Standard Errors assume that the covariance matrix of the errors is correctly specified.\n"
     ]
    }
   ],
   "source": [
    "attend_ols = smf.ols(formula='atndrte ~ priGPA + ACT + 1', data=df).fit()\n",
    "print(attend_ols.summary())"
   ]
  },
  {
   "cell_type": "code",
   "execution_count": 18,
   "metadata": {},
   "outputs": [
    {
     "name": "stdout",
     "output_type": "stream",
     "text": [
      "\n",
      "======================================\n",
      "               attend_ols_r attend_ols\n",
      "--------------------------------------\n",
      "ACT                         -1.717*** \n",
      "                            (0.169)   \n",
      "Intercept      47.127***    75.700*** \n",
      "               (2.873)      (3.884)   \n",
      "R-squared      0.182        0.291     \n",
      "R-squared Adj. 0.181        0.288     \n",
      "priGPA         13.369***    17.261*** \n",
      "               (1.087)      (1.083)   \n",
      "N              680          680       \n",
      "R2             0.182        0.291     \n",
      "======================================\n",
      "Standard errors in parentheses.\n",
      "* p<.1, ** p<.05, ***p<.01\n"
     ]
    }
   ],
   "source": [
    "print(summary_col([attend_ols_r, attend_ols], stars=True,float_format='%0.3f',\n",
    "                  model_names=['attend_ols_r','attend_ols'],\n",
    "                  info_dict={'N':lambda x: \"{0:d}\".format(int(x.nobs)),\n",
    "                             'R2':lambda x: \"{:.3f}\".format(x.rsquared)}))"
   ]
  },
  {
   "cell_type": "markdown",
   "metadata": {},
   "source": [
    "### Example4.10. Salary-pension tradeoff for teachers"
   ]
  },
  {
   "cell_type": "code",
   "execution_count": 19,
   "metadata": {},
   "outputs": [
    {
     "name": "stdout",
     "output_type": "stream",
     "text": [
      "\n",
      "============================================\n",
      "               meap_ols1 meap_ols2 meap_ols3\n",
      "--------------------------------------------\n",
      "Intercept      10.52***  10.84***  10.74*** \n",
      "               (0.04)    (0.25)    (0.26)   \n",
      "R-squared      0.04      0.35      0.36     \n",
      "R-squared Adj. 0.04      0.35      0.35     \n",
      "bensal         -0.83***  -0.60***  -0.59*** \n",
      "               (0.20)    (0.17)    (0.16)   \n",
      "droprate                           -0.00    \n",
      "                                   (0.00)   \n",
      "gradrate                           0.00     \n",
      "                                   (0.00)   \n",
      "lenroll                  0.09***   0.09***  \n",
      "                         (0.01)    (0.01)   \n",
      "lstaff                   -0.22***  -0.22*** \n",
      "                         (0.05)    (0.05)   \n",
      "N              408       408       408      \n",
      "R2             0.04      0.35      0.36     \n",
      "============================================\n",
      "Standard errors in parentheses.\n",
      "* p<.1, ** p<.05, ***p<.01\n"
     ]
    }
   ],
   "source": [
    "df = dataWoo('meap93')\n",
    "\n",
    "meap_ols1 = smf.ols(formula='lsalary ~ bensal + 1', data=df).fit()\n",
    "meap_ols2 = smf.ols(formula='lsalary ~ bensal + lenroll + lstaff + 1', data=df).fit()\n",
    "meap_ols3 = smf.ols(formula='lsalary ~ bensal + lenroll + lstaff + droprate + gradrate + 1', data=df).fit()\n",
    "\n",
    "print(summary_col([meap_ols1, meap_ols2, meap_ols3], stars=True,float_format='%0.2f',\n",
    "                  model_names=['meap_ols1','meap_ols2', 'meap_ols3'],\n",
    "                  info_dict={'N':lambda x: \"{0:d}\".format(int(x.nobs)),\n",
    "                             'R2':lambda x: \"{:.2f}\".format(x.rsquared)}))"
   ]
  }
 ],
 "metadata": {
  "kernelspec": {
   "display_name": "Python 3 (ipykernel)",
   "language": "python",
   "name": "python3"
  },
  "language_info": {
   "codemirror_mode": {
    "name": "ipython",
    "version": 3
   },
   "file_extension": ".py",
   "mimetype": "text/x-python",
   "name": "python",
   "nbconvert_exporter": "python",
   "pygments_lexer": "ipython3",
   "version": "3.11.7"
  }
 },
 "nbformat": 4,
 "nbformat_minor": 4
}
