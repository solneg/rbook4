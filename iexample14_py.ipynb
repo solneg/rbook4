{
 "cells": [
  {
   "cell_type": "markdown",
   "metadata": {},
   "source": [
    "# Chapter 14. Advanced Panel Data Methods  \n",
    "[Home](http://solomonegash.com/) | [Stata](http://solomonegash.com/woodridge1/index.html) | [R](http://solomonegash.com/econometrics/rbook1/index.html)\n"
   ]
  },
  {
   "cell_type": "code",
   "execution_count": 1,
   "metadata": {},
   "outputs": [],
   "source": [
    "import pandas as pd\n",
    "from statsmodels.iolib.summary2 import summary_col\n",
    "\n",
    "from wooldridge import *"
   ]
  },
  {
   "cell_type": "markdown",
   "metadata": {},
   "source": [
    "### Example 14.1. Effect of Job Training on Firm Scrap Rates"
   ]
  },
  {
   "cell_type": "code",
   "execution_count": 2,
   "metadata": {},
   "outputs": [],
   "source": [
    "import warnings\n",
    "warnings.filterwarnings('ignore')"
   ]
  },
  {
   "cell_type": "code",
   "execution_count": 3,
   "metadata": {},
   "outputs": [
    {
     "name": "stdout",
     "output_type": "stream",
     "text": [
      "                          PanelOLS Estimation Summary                           \n",
      "================================================================================\n",
      "Dep. Variable:                 lscrap   R-squared:                        0.2010\n",
      "Estimator:                   PanelOLS   R-squared (Between):             -0.0177\n",
      "No. Observations:                 162   R-squared (Within):               0.2010\n",
      "Date:                Tue, Jul 02 2024   R-squared (Overall):              0.0021\n",
      "Time:                        18:14:50   Log-likelihood                   -80.946\n",
      "Cov. Estimator:            Unadjusted                                           \n",
      "                                        F-statistic:                      6.5426\n",
      "Entities:                          54   P-value                           0.0001\n",
      "Avg Obs:                       3.0000   Distribution:                   F(4,104)\n",
      "Min Obs:                       3.0000                                           \n",
      "Max Obs:                       3.0000   F-statistic (robust):             6.5426\n",
      "                                        P-value                           0.0001\n",
      "Time periods:                       3   Distribution:                   F(4,104)\n",
      "Avg Obs:                       54.000                                           \n",
      "Min Obs:                       54.000                                           \n",
      "Max Obs:                       54.000                                           \n",
      "                                                                                \n",
      "                             Parameter Estimates                              \n",
      "==============================================================================\n",
      "            Parameter  Std. Err.     T-stat    P-value    Lower CI    Upper CI\n",
      "------------------------------------------------------------------------------\n",
      "Intercept      0.5974     0.0677     8.8202     0.0000      0.4631      0.7318\n",
      "d88           -0.0802     0.1095    -0.7327     0.4654     -0.2973      0.1369\n",
      "d89           -0.2472     0.1332    -1.8556     0.0663     -0.5114      0.0170\n",
      "grant         -0.2523     0.1506    -1.6751     0.0969     -0.5510      0.0464\n",
      "grant_1       -0.4216     0.2102    -2.0057     0.0475     -0.8384     -0.0048\n",
      "==============================================================================\n",
      "\n",
      "F-test for Poolability: 24.661\n",
      "P-value: 0.0000\n",
      "Distribution: F(53,104)\n",
      "\n",
      "Included effects: Entity\n"
     ]
    }
   ],
   "source": [
    "df = dataWoo(\"jtrain\")\n",
    "dfp= pd.DataFrame(df.set_index(['fcode', 'year'], inplace=True))\n",
    "from linearmodels import PanelOLS \n",
    "fe1 = PanelOLS.from_formula('lscrap ~1 + d88 + d89 + grant + grant_1 + EntityEffects', data=df).fit()\n",
    "print(fe1)"
   ]
  },
  {
   "cell_type": "code",
   "execution_count": 4,
   "metadata": {},
   "outputs": [
    {
     "name": "stdout",
     "output_type": "stream",
     "text": [
      "                          PanelOLS Estimation Summary                           \n",
      "================================================================================\n",
      "Dep. Variable:                 lscrap   R-squared:                        0.1701\n",
      "Estimator:                   PanelOLS   R-squared (Between):             -0.0028\n",
      "No. Observations:                 162   R-squared (Within):               0.1701\n",
      "Date:                Tue, Jul 02 2024   R-squared (Overall):              0.0129\n",
      "Time:                        18:14:50   Log-likelihood                   -84.020\n",
      "Cov. Estimator:            Unadjusted                                           \n",
      "                                        F-statistic:                      7.1760\n",
      "Entities:                          54   P-value                           0.0002\n",
      "Avg Obs:                       3.0000   Distribution:                   F(3,105)\n",
      "Min Obs:                       3.0000                                           \n",
      "Max Obs:                       3.0000   F-statistic (robust):             7.1760\n",
      "                                        P-value                           0.0002\n",
      "Time periods:                       3   Distribution:                   F(3,105)\n",
      "Avg Obs:                       54.000                                           \n",
      "Min Obs:                       54.000                                           \n",
      "Max Obs:                       54.000                                           \n",
      "                                                                                \n",
      "                             Parameter Estimates                              \n",
      "==============================================================================\n",
      "            Parameter  Std. Err.     T-stat    P-value    Lower CI    Upper CI\n",
      "------------------------------------------------------------------------------\n",
      "Intercept      0.5974     0.0687     8.6960     0.0000      0.4612      0.7337\n",
      "d88           -0.1401     0.1068    -1.3110     0.1927     -0.3519      0.0718\n",
      "d89           -0.4270     0.0999    -4.2732     0.0000     -0.6252     -0.2289\n",
      "grant         -0.0822     0.1263    -0.6511     0.5164     -0.3326      0.1681\n",
      "==============================================================================\n",
      "\n",
      "F-test for Poolability: 23.900\n",
      "P-value: 0.0000\n",
      "Distribution: F(53,105)\n",
      "\n",
      "Included effects: Entity\n"
     ]
    }
   ],
   "source": [
    "fe2 = PanelOLS.from_formula('lscrap ~1 + d88 + d89 + grant + EntityEffects', data=df).fit()\n",
    "print(fe2)"
   ]
  },
  {
   "cell_type": "markdown",
   "metadata": {},
   "source": [
    "### Example 14.2.Has the Return to Education Changed over Time?"
   ]
  },
  {
   "cell_type": "code",
   "execution_count": 5,
   "metadata": {},
   "outputs": [
    {
     "name": "stdout",
     "output_type": "stream",
     "text": [
      "                          PanelOLS Estimation Summary                           \n",
      "================================================================================\n",
      "Dep. Variable:                  lwage   R-squared:                        0.1708\n",
      "Estimator:                   PanelOLS   R-squared (Between):              0.0905\n",
      "No. Observations:                4360   R-squared (Within):               0.1708\n",
      "Date:                Tue, Jul 02 2024   R-squared (Overall):              0.1277\n",
      "Time:                        18:14:51   Log-likelihood                   -1350.7\n",
      "Cov. Estimator:            Unadjusted                                           \n",
      "                                        F-statistic:                      48.907\n",
      "Entities:                         545   P-value                           0.0000\n",
      "Avg Obs:                       8.0000   Distribution:                 F(16,3799)\n",
      "Min Obs:                       8.0000                                           \n",
      "Max Obs:                       8.0000   F-statistic (robust):             48.907\n",
      "                                        P-value                           0.0000\n",
      "Time periods:                       8   Distribution:                 F(16,3799)\n",
      "Avg Obs:                       545.00                                           \n",
      "Min Obs:                       545.00                                           \n",
      "Max Obs:                       545.00                                           \n",
      "                                                                                \n",
      "                                 Parameter Estimates                                 \n",
      "=====================================================================================\n",
      "                   Parameter  Std. Err.     T-stat    P-value    Lower CI    Upper CI\n",
      "-------------------------------------------------------------------------------------\n",
      "Intercept             1.3625     0.0162     83.903     0.0000      1.3306      1.3943\n",
      "union                 0.0830     0.0194     4.2671     0.0000      0.0449      0.1211\n",
      "married               0.0548     0.0184     2.9773     0.0029      0.0187      0.0909\n",
      "year[T.1981]         -0.0224     0.1459    -0.1537     0.8779     -0.3084      0.2636\n",
      "year[T.1982]         -0.0058     0.1459    -0.0395     0.9685     -0.2917      0.2802\n",
      "year[T.1983]          0.0104     0.1459     0.0715     0.9430     -0.2755      0.2964\n",
      "year[T.1984]          0.0844     0.1459     0.5785     0.5630     -0.2016      0.3703\n",
      "year[T.1985]          0.0497     0.1459     0.3409     0.7332     -0.2362      0.3357\n",
      "year[T.1986]          0.0656     0.1459     0.4497     0.6530     -0.2204      0.3516\n",
      "year[T.1987]          0.0904     0.1459     0.6201     0.5352     -0.1955      0.3764\n",
      "year[T.1981]:educ     0.0116     0.0123     0.9448     0.3448     -0.0125      0.0356\n",
      "year[T.1982]:educ     0.0148     0.0123     1.2061     0.2279     -0.0093      0.0388\n",
      "year[T.1983]:educ     0.0171     0.0123     1.3959     0.1628     -0.0069      0.0412\n",
      "year[T.1984]:educ     0.0166     0.0123     1.3521     0.1764     -0.0075      0.0406\n",
      "year[T.1985]:educ     0.0237     0.0123     1.9316     0.0535     -0.0004      0.0478\n",
      "year[T.1986]:educ     0.0274     0.0123     2.2334     0.0256      0.0033      0.0515\n",
      "year[T.1987]:educ     0.0304     0.0123     2.4798     0.0132      0.0064      0.0545\n",
      "=====================================================================================\n",
      "\n",
      "F-test for Poolability: 8.0932\n",
      "P-value: 0.0000\n",
      "Distribution: F(544,3799)\n",
      "\n",
      "Included effects: Entity\n"
     ]
    }
   ],
   "source": [
    "df = dataWoo(\"wagepan\")\n",
    "year = pd.Categorical(df.year)\n",
    "dfp= pd.DataFrame(df.set_index(['nr','year'], inplace=True))\n",
    "df['year'] = year\n",
    "fe1 = PanelOLS.from_formula('lwage ~ 1 + union + married + year*educ + EntityEffects', data=df, drop_absorbed=True).fit()\n",
    "print(fe1)"
   ]
  },
  {
   "cell_type": "markdown",
   "metadata": {},
   "source": [
    "### Example 14.3.Effect of Job Training on Firm Scrap Rates"
   ]
  },
  {
   "cell_type": "code",
   "execution_count": 6,
   "metadata": {},
   "outputs": [
    {
     "name": "stdout",
     "output_type": "stream",
     "text": [
      "                          PanelOLS Estimation Summary                           \n",
      "================================================================================\n",
      "Dep. Variable:                 lscrap   R-squared:                        0.2131\n",
      "Estimator:                   PanelOLS   R-squared (Between):             -0.0797\n",
      "No. Observations:                 148   R-squared (Within):               0.2131\n",
      "Date:                Tue, Jul 02 2024   R-squared (Overall):             -0.0494\n",
      "Time:                        18:14:51   Log-likelihood                   -68.887\n",
      "Cov. Estimator:            Unadjusted                                           \n",
      "                                        F-statistic:                      4.1063\n",
      "Entities:                          51   P-value                           0.0011\n",
      "Avg Obs:                       2.9020   Distribution:                    F(6,91)\n",
      "Min Obs:                       1.0000                                           \n",
      "Max Obs:                       3.0000   F-statistic (robust):             4.1063\n",
      "                                        P-value                           0.0011\n",
      "Time periods:                       3   Distribution:                    F(6,91)\n",
      "Avg Obs:                       49.333                                           \n",
      "Min Obs:                       47.000                                           \n",
      "Max Obs:                       51.000                                           \n",
      "                                                                                \n",
      "                             Parameter Estimates                              \n",
      "==============================================================================\n",
      "            Parameter  Std. Err.     T-stat    P-value    Lower CI    Upper CI\n",
      "------------------------------------------------------------------------------\n",
      "Intercept      2.1155     3.1084     0.6806     0.4979     -4.0590      8.2900\n",
      "d88           -0.0040     0.1195    -0.0331     0.9736     -0.2414      0.2335\n",
      "d89           -0.1322     0.1537    -0.8601     0.3920     -0.4375      0.1731\n",
      "grant         -0.2968     0.1571    -1.8891     0.0621     -0.6088      0.0153\n",
      "grant_1       -0.5356     0.2242    -2.3888     0.0190     -0.9809     -0.0902\n",
      "lsales        -0.0869     0.2597    -0.3345     0.7388     -0.6027      0.4290\n",
      "lemploy       -0.0764     0.3503    -0.2180     0.8279     -0.7722      0.6194\n",
      "==============================================================================\n",
      "\n",
      "F-test for Poolability: 20.748\n",
      "P-value: 0.0000\n",
      "Distribution: F(50,91)\n",
      "\n",
      "Included effects: Entity\n"
     ]
    }
   ],
   "source": [
    "df = dataWoo(\"jtrain\")\n",
    "dfp= pd.DataFrame(df.set_index(['fcode', 'year'], inplace=True))\n",
    "from linearmodels import PanelOLS \n",
    "fe1 = PanelOLS.from_formula('lscrap ~1 + d88 + d89 + grant + grant_1 + lsales + lemploy + EntityEffects', data=df).fit()\n",
    "print(fe1)"
   ]
  },
  {
   "cell_type": "markdown",
   "metadata": {},
   "source": [
    "### Example 14.4. A Wage Equation Using Panel Data"
   ]
  },
  {
   "cell_type": "code",
   "execution_count": 7,
   "metadata": {},
   "outputs": [
    {
     "name": "stdout",
     "output_type": "stream",
     "text": [
      "                            Model Comparison                           \n",
      "=======================================================================\n",
      "                                Pooled                RE             FE\n",
      "-----------------------------------------------------------------------\n",
      "Dep. Variable                    lwage             lwage          lwage\n",
      "Estimator                    PooledOLS     RandomEffects       PanelOLS\n",
      "No. Observations                  4360              4360           4360\n",
      "Cov. Est.                   Unadjusted        Unadjusted     Unadjusted\n",
      "R-squared                       0.1893            0.1806         0.1806\n",
      "R-Squared (Within)              0.1692            0.1799         0.1806\n",
      "R-Squared (Between)             0.2066            0.1853        -0.0528\n",
      "R-Squared (Overall)             0.1893            0.1828         0.0552\n",
      "F-statistic                     72.459            68.409         83.851\n",
      "P-value (F-stat)                0.0000            0.0000         0.0000\n",
      "=====================     ============   ===============   ============\n",
      "Intercept                       0.0921            0.0234         1.0276\n",
      "                              (1.1761)          (0.1546)       (34.312)\n",
      "educ                            0.0913            0.0919               \n",
      "                              (17.442)          (8.5744)               \n",
      "black                          -0.1392           -0.1394               \n",
      "                             (-5.9049)         (-2.9054)               \n",
      "hisp                            0.0160            0.0217               \n",
      "                              (0.7703)          (0.5078)               \n",
      "exper                           0.0672            0.1058         0.1321\n",
      "                              (4.9095)          (6.8706)       (13.450)\n",
      "expersq                        -0.0024           -0.0047        -0.0052\n",
      "                             (-2.9413)         (-6.8623)      (-7.3612)\n",
      "married                         0.1083            0.0638         0.0467\n",
      "                              (6.8997)          (3.8035)       (2.5494)\n",
      "union                           0.1825            0.1059         0.0800\n",
      "                              (10.635)          (5.9289)       (4.1430)\n",
      "year[T.1981]                    0.0583            0.0404         0.0190\n",
      "                              (1.9214)          (1.6362)       (0.9353)\n",
      "year[T.1982]                    0.0628            0.0309        -0.0113\n",
      "                              (1.8900)          (0.9519)      (-0.5597)\n",
      "year[T.1983]                    0.0620            0.0202        -0.0420\n",
      "                              (1.6915)          (0.4840)      (-2.0667)\n",
      "year[T.1984]                    0.0905            0.0430        -0.0385\n",
      "                              (2.2566)          (0.8350)      (-1.8938)\n",
      "year[T.1985]                    0.1092            0.0577        -0.0432\n",
      "                              (2.5200)          (0.9383)      (-2.1362)\n",
      "year[T.1986]                    0.1420            0.0918        -0.0274\n",
      "                              (3.0580)          (1.2834)      (-1.3432)\n",
      "year[T.1987]                    0.1738            0.1348               \n",
      "                              (3.5165)          (1.6504)               \n",
      "======================= ============== ================= ==============\n",
      "Effects                                                          Entity\n",
      "-----------------------------------------------------------------------\n",
      "\n",
      "T-stats reported in parentheses\n"
     ]
    }
   ],
   "source": [
    "df = dataWoo(\"wagepan\")\n",
    "year = pd.Categorical(df.year)\n",
    "dfp= pd.DataFrame(df.set_index(['nr','year'], inplace=True))\n",
    "df['year'] = year\n",
    "FE = PanelOLS.from_formula('lwage ~ 1 + educ + black + hisp + exper + expersq + married + union + year + EntityEffects', data=df, drop_absorbed=True).fit()\n",
    "from linearmodels import PooledOLS\n",
    "POLS = PooledOLS.from_formula('lwage ~ 1 + educ + black + hisp + exper + expersq + married + union + year', data=df).fit()\n",
    "from linearmodels import RandomEffects\n",
    "RE = RandomEffects.from_formula('lwage ~ 1 + educ + black + hisp + exper + expersq + married + union + year', data=df).fit()\n",
    "\n",
    "from linearmodels.panel import compare\n",
    "print(compare({'Pooled':POLS, 'RE':RE, 'FE':FE}))"
   ]
  }
 ],
 "metadata": {
  "kernelspec": {
   "display_name": "Python 3 (ipykernel)",
   "language": "python",
   "name": "python3"
  },
  "language_info": {
   "codemirror_mode": {
    "name": "ipython",
    "version": 3
   },
   "file_extension": ".py",
   "mimetype": "text/x-python",
   "name": "python",
   "nbconvert_exporter": "python",
   "pygments_lexer": "ipython3",
   "version": "3.11.7"
  }
 },
 "nbformat": 4,
 "nbformat_minor": 4
}
