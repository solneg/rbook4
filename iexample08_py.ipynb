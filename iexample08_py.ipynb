{
 "cells": [
  {
   "cell_type": "markdown",
   "metadata": {},
   "source": [
    "# Chapter 8. Heteroskedasticity \n",
    "[Home](http://solomonegash.com/) | [Stata](http://solomonegash.com/woodridge1/index.html) | [R](http://solomonegash.com/econometrics/rbook1/index.html)\n"
   ]
  },
  {
   "cell_type": "code",
   "execution_count": 1,
   "metadata": {},
   "outputs": [],
   "source": [
    "import numpy as np\n",
    "import statsmodels.formula.api as smf\n",
    "from statsmodels.iolib.summary2 import summary_col\n",
    "\n",
    "from wooldridge import *"
   ]
  },
  {
   "cell_type": "markdown",
   "metadata": {},
   "source": [
    "### Example 8.1. Log wage equation with Heteroskedasticity"
   ]
  },
  {
   "cell_type": "code",
   "execution_count": 2,
   "metadata": {},
   "outputs": [],
   "source": [
    "df=dataWoo('wage1')\n",
    "\n",
    "df['marrmale'] = 0\n",
    "df.loc[(df['female'] ==0) & (df['married'] == 1), 'marrmale'] = 1\n",
    "df['marrfem'] = 0\n",
    "df.loc[(df['female'] ==1) & (df['married'] == 1), 'marrfem'] = 1\n",
    "df['singfem'] = 0\n",
    "df.loc[(df['female'] ==1) & (df['married'] == 0), 'singfem'] = 1\n"
   ]
  },
  {
   "cell_type": "code",
   "execution_count": 3,
   "metadata": {},
   "outputs": [
    {
     "name": "stdout",
     "output_type": "stream",
     "text": [
      "\n",
      "=======================================\n",
      "               Hetroskedastic   Robust \n",
      "                   (b/se)       (b/se) \n",
      "---------------------------------------\n",
      "Intercept      0.321***       0.321*** \n",
      "               (0.100)        (0.109)  \n",
      "marrmale       0.213***       0.213*** \n",
      "               (0.055)        (0.057)  \n",
      "marrfem        -0.198***      -0.198***\n",
      "               (0.058)        (0.059)  \n",
      "singfem        -0.110**       -0.110*  \n",
      "               (0.056)        (0.057)  \n",
      "educ           0.079***       0.079*** \n",
      "               (0.007)        (0.007)  \n",
      "exper          0.027***       0.027*** \n",
      "               (0.005)        (0.005)  \n",
      "expersq        -0.001***      -0.001***\n",
      "               (0.000)        (0.000)  \n",
      "tenure         0.029***       0.029*** \n",
      "               (0.007)        (0.007)  \n",
      "tenursq        -0.001**       -0.001** \n",
      "               (0.000)        (0.000)  \n",
      "R-squared      0.461          0.461    \n",
      "R-squared Adj. 0.453          0.453    \n",
      "N              526            526      \n",
      "R2             0.461          0.461    \n",
      "=======================================\n",
      "Standard errors in parentheses.\n",
      "* p<.1, ** p<.05, ***p<.01\n"
     ]
    }
   ],
   "source": [
    "wage_hetr = smf.ols('lwage ~ marrmale + marrfem + singfem + educ  + exper + expersq + tenure + tenursq + 1', \n",
    "                    data=df).fit()\n",
    "wage_robust = smf.ols('lwage ~ marrmale + marrfem + singfem + educ  + exper + expersq + tenure + tenursq + 1', \n",
    "                      data=df).fit(cov_type='HC1')\n",
    "\n",
    "print(summary_col([wage_hetr, wage_robust],stars=True,float_format='%0.3f',\n",
    "                  model_names=['Hetroskedastic\\n(b/se)','Robust\\n(b/se)'],\n",
    "                 info_dict={'N':lambda x: \"{0:d}\".format(int(x.nobs)),\n",
    "                             'R2':lambda x: \"{:.3f}\".format(x.rsquared)}))"
   ]
  },
  {
   "cell_type": "markdown",
   "metadata": {},
   "source": [
    "### Example 8.2. Heteroskedasticity-Robust F Statistic"
   ]
  },
  {
   "cell_type": "code",
   "execution_count": 4,
   "metadata": {},
   "outputs": [
    {
     "name": "stdout",
     "output_type": "stream",
     "text": [
      "\n",
      "=======================================\n",
      "               Hetroskedastic   Robust \n",
      "                   (b/se)       (b/se) \n",
      "---------------------------------------\n",
      "Intercept      1.470***       1.470*** \n",
      "               (0.230)        (0.221)  \n",
      "sat            0.001***       0.001*** \n",
      "               (0.000)        (0.000)  \n",
      "hsperc         -0.009***      -0.009***\n",
      "               (0.001)        (0.001)  \n",
      "tothrs         0.003***       0.003*** \n",
      "               (0.001)        (0.001)  \n",
      "female         0.303***       0.303*** \n",
      "               (0.059)        (0.059)  \n",
      "black          -0.128         -0.128   \n",
      "               (0.147)        (0.119)  \n",
      "white          -0.059         -0.059   \n",
      "               (0.141)        (0.111)  \n",
      "R-squared      0.401          0.401    \n",
      "R-squared Adj. 0.391          0.391    \n",
      "N              366            366      \n",
      "R2             0.401          0.401    \n",
      "=======================================\n",
      "Standard errors in parentheses.\n",
      "* p<.1, ** p<.05, ***p<.01\n"
     ]
    }
   ],
   "source": [
    "df = dataWoo('gpa3')\n",
    "df = df[(df['spring']==1)]\n",
    "\n",
    "gpa_hetr = smf.ols('cumgpa  ~ sat + hsperc + tothrs + female + black + white + 1', \n",
    "                   data=df).fit()\n",
    "gpa_robust = smf.ols('cumgpa  ~ sat + hsperc + tothrs + female + black + white + 1', \n",
    "                     data=df).fit(cov_type='HC1')\n",
    "\n",
    "print(summary_col([gpa_hetr, gpa_robust],stars=True,float_format='%0.3f',\n",
    "                  model_names=['Hetroskedastic\\n(b/se)','Robust\\n(b/se)'],\n",
    "                 info_dict={'N':lambda x: \"{0:d}\".format(int(x.nobs)),\n",
    "                             'R2':lambda x: \"{:.3f}\".format(x.rsquared)}))"
   ]
  },
  {
   "cell_type": "markdown",
   "metadata": {},
   "source": [
    "### Example 8.3. Heteroskedasticity-Robust LM Statistic"
   ]
  },
  {
   "cell_type": "code",
   "execution_count": 5,
   "metadata": {
    "scrolled": true
   },
   "outputs": [
    {
     "name": "stdout",
     "output_type": "stream",
     "text": [
      "\n",
      "=======================================\n",
      "               Hetroskedastic   Robust \n",
      "                   (b/se)       (b/se) \n",
      "---------------------------------------\n",
      "Intercept      0.567***       0.567*** \n",
      "               (0.036)        (0.040)  \n",
      "pcnv           -0.136***      -0.136***\n",
      "               (0.040)        (0.034)  \n",
      "avgsen         0.018*         0.018*   \n",
      "               (0.010)        (0.010)  \n",
      "avgsensq       -0.001*        -0.001** \n",
      "               (0.000)        (0.000)  \n",
      "ptime86        -0.039***      -0.039***\n",
      "               (0.009)        (0.006)  \n",
      "qemp86         -0.051***      -0.051***\n",
      "               (0.014)        (0.014)  \n",
      "inc86          -0.001***      -0.001***\n",
      "               (0.000)        (0.000)  \n",
      "black          0.325***       0.325*** \n",
      "               (0.045)        (0.059)  \n",
      "hispan         0.193***       0.193*** \n",
      "               (0.040)        (0.040)  \n",
      "R-squared      0.073          0.073    \n",
      "R-squared Adj. 0.070          0.070    \n",
      "N              2725           2725     \n",
      "R2             0.073          0.073    \n",
      "=======================================\n",
      "Standard errors in parentheses.\n",
      "* p<.1, ** p<.05, ***p<.01\n"
     ]
    }
   ],
   "source": [
    "df = dataWoo('crime1')\n",
    "df['avgsensq'] = np.square(df['avgsen'])\n",
    "\n",
    "crime_hetr = smf.ols('narr86 ~ pcnv + avgsen + avgsensq + ptime86 + qemp86 + inc86 + black + hispan + 1', \n",
    "                     data=df).fit()\n",
    "crime_robust = smf.ols('narr86 ~ pcnv + avgsen + avgsensq + ptime86 + qemp86 + inc86 + black + hispan + 1', \n",
    "                       data=df).fit(cov_type='HC1')\n",
    "\n",
    "print(summary_col([crime_hetr, crime_robust],stars=True,float_format='%0.3f',\n",
    "                  model_names=['Hetroskedastic\\n(b/se)','Robust\\n(b/se)'],\n",
    "                 info_dict={'N':lambda x: \"{0:d}\".format(int(x.nobs)),\n",
    "                             'R2':lambda x: \"{:.3f}\".format(x.rsquared)}))\n"
   ]
  },
  {
   "cell_type": "markdown",
   "metadata": {},
   "source": [
    "#### *LM Statistic  - not-robust (See Section 5-2)"
   ]
  },
  {
   "cell_type": "code",
   "execution_count": 6,
   "metadata": {},
   "outputs": [
    {
     "name": "stdout",
     "output_type": "stream",
     "text": [
      "                            OLS Regression Results                            \n",
      "==============================================================================\n",
      "Dep. Variable:                   uhat   R-squared:                       0.001\n",
      "Model:                            OLS   Adj. R-squared:                 -0.002\n",
      "Method:                 Least Squares   F-statistic:                    0.4319\n",
      "Date:                Tue, 02 Jul 2024   Prob (F-statistic):              0.902\n",
      "Time:                        17:54:46   Log-Likelihood:                -3349.2\n",
      "No. Observations:                2725   AIC:                             6716.\n",
      "Df Residuals:                    2716   BIC:                             6770.\n",
      "Df Model:                           8                                         \n",
      "Covariance Type:            nonrobust                                         \n",
      "==============================================================================\n",
      "                 coef    std err          t      P>|t|      [0.025      0.975]\n",
      "------------------------------------------------------------------------------\n",
      "Intercept     -0.0033      0.036     -0.092      0.927      -0.074       0.067\n",
      "pcnv          -0.0033      0.040     -0.082      0.935      -0.082       0.076\n",
      "avgsen         0.0178      0.010      1.840      0.066      -0.001       0.037\n",
      "avgsensq      -0.0005      0.000     -1.738      0.082      -0.001    6.61e-05\n",
      "ptime86       -0.0016      0.009     -0.180      0.857      -0.019       0.015\n",
      "qemp86         0.0005      0.014      0.033      0.974      -0.028       0.029\n",
      "inc86       1.031e-05      0.000      0.030      0.976      -0.001       0.001\n",
      "black         -0.0051      0.045     -0.112      0.911      -0.094       0.084\n",
      "hispan        -0.0021      0.040     -0.052      0.958      -0.080       0.076\n",
      "==============================================================================\n",
      "Omnibus:                     2400.820   Durbin-Watson:                   1.841\n",
      "Prob(Omnibus):                  0.000   Jarque-Bera (JB):           112791.202\n",
      "Skew:                           3.994   Prob(JB):                         0.00\n",
      "Kurtosis:                      33.489   Cond. No.                         380.\n",
      "==============================================================================\n",
      "\n",
      "Notes:\n",
      "[1] Standard Errors assume that the covariance matrix of the errors is correctly specified.\n"
     ]
    }
   ],
   "source": [
    "crime_hetr = smf.ols('narr86 ~ pcnv + ptime86 + qemp86 + inc86 + black + hispan + 1', \n",
    "                     data=df).fit()\n",
    "uhat = df.narr86 - crime_hetr.predict()\n",
    "\n",
    "uhat_reg = smf.ols('uhat ~ pcnv + avgsen + avgsensq + ptime86 + qemp86 + inc86 + black + hispan + 1', \n",
    "                   data=df).fit()\n",
    "print(uhat_reg.summary())\n"
   ]
  },
  {
   "cell_type": "code",
   "execution_count": 7,
   "metadata": {},
   "outputs": [
    {
     "data": {
      "text/plain": [
       "3.46075"
      ]
     },
     "execution_count": 7,
     "metadata": {},
     "output_type": "execute_result"
    }
   ],
   "source": [
    "NRsq= 2725 * 0.00127\n",
    "NRsq"
   ]
  },
  {
   "cell_type": "markdown",
   "metadata": {},
   "source": [
    "#### *LM Statistic  - robust"
   ]
  },
  {
   "cell_type": "code",
   "execution_count": 8,
   "metadata": {},
   "outputs": [
    {
     "name": "stdout",
     "output_type": "stream",
     "text": [
      "                                 OLS Regression Results                                \n",
      "=======================================================================================\n",
      "Dep. Variable:                    one   R-squared (uncentered):                   0.001\n",
      "Model:                            OLS   Adj. R-squared (uncentered):              0.001\n",
      "Method:                 Least Squares   F-statistic:                              2.000\n",
      "Date:                Tue, 02 Jul 2024   Prob (F-statistic):                       0.136\n",
      "Time:                        17:54:46   Log-Likelihood:                         -3864.6\n",
      "No. Observations:                2725   AIC:                                      7733.\n",
      "Df Residuals:                    2723   BIC:                                      7745.\n",
      "Df Model:                           2                                                  \n",
      "Covariance Type:            nonrobust                                                  \n",
      "=================================================================================\n",
      "                    coef    std err          t      P>|t|      [0.025      0.975]\n",
      "---------------------------------------------------------------------------------\n",
      "uhat_avgsen       0.0278      0.014      1.976      0.048       0.000       0.055\n",
      "uhat_avgsensq    -0.0010      0.001     -1.907      0.057      -0.002    2.96e-05\n",
      "==============================================================================\n",
      "Omnibus:                     5819.318   Durbin-Watson:                   0.003\n",
      "Prob(Omnibus):                  0.000   Jarque-Bera (JB):         34188534.150\n",
      "Skew:                         -18.209   Prob(JB):                         0.00\n",
      "Kurtosis:                     550.525   Cond. No.                         57.8\n",
      "==============================================================================\n",
      "\n",
      "Notes:\n",
      "[1] R² is computed without centering (uncentered) since the model does not contain a constant.\n",
      "[2] Standard Errors assume that the covariance matrix of the errors is correctly specified.\n"
     ]
    }
   ],
   "source": [
    "avgsen_reg = smf.ols('avgsen ~ pcnv + ptime86 + qemp86 + inc86 + black + hispan + 1', data=df).fit()\n",
    "df['uhat_avgsen'] = (df.avgsen - avgsen_reg.predict())*uhat\n",
    "avgsensq_reg = smf.ols('avgsensq ~ pcnv + ptime86 + qemp86 + inc86 + black + hispan + 1', data=df).fit()\n",
    "df['uhat_avgsensq'] = (df.avgsensq - avgsensq_reg.predict())*uhat\n",
    "df['one']= 1 \n",
    "\n",
    "lm_robust = smf.ols('one ~ uhat_avgsen + uhat_avgsensq + 0', data=df).fit()\n",
    "print(lm_robust.summary())"
   ]
  },
  {
   "cell_type": "code",
   "execution_count": 9,
   "metadata": {},
   "outputs": [
    {
     "data": {
      "text/plain": [
       "3.997575"
      ]
     },
     "execution_count": 9,
     "metadata": {},
     "output_type": "execute_result"
    }
   ],
   "source": [
    "robust_NRsq= 2725 * 0.001467\n",
    "robust_NRsq"
   ]
  },
  {
   "cell_type": "markdown",
   "metadata": {},
   "source": [
    "### Example 8.4. Heteroskedasticity in Housing Price Equations"
   ]
  },
  {
   "cell_type": "code",
   "execution_count": 10,
   "metadata": {},
   "outputs": [
    {
     "name": "stdout",
     "output_type": "stream",
     "text": [
      "                            OLS Regression Results                            \n",
      "==============================================================================\n",
      "Dep. Variable:                uhat_hp   R-squared:                       0.160\n",
      "Model:                            OLS   Adj. R-squared:                  0.130\n",
      "Method:                 Least Squares   F-statistic:                     5.339\n",
      "Date:                Tue, 02 Jul 2024   Prob (F-statistic):            0.00205\n",
      "Time:                        17:54:46   Log-Likelihood:                -896.99\n",
      "No. Observations:                  88   AIC:                             1802.\n",
      "Df Residuals:                      84   BIC:                             1812.\n",
      "Df Model:                           3                                         \n",
      "Covariance Type:            nonrobust                                         \n",
      "==============================================================================\n",
      "                 coef    std err          t      P>|t|      [0.025      0.975]\n",
      "------------------------------------------------------------------------------\n",
      "Intercept  -5522.7947   3259.478     -1.694      0.094    -1.2e+04     959.035\n",
      "lotsize        0.2015      0.071      2.838      0.006       0.060       0.343\n",
      "sqrft          1.6910      1.464      1.155      0.251      -1.220       4.602\n",
      "bdrms       1041.7602    996.381      1.046      0.299    -939.653    3023.173\n",
      "==============================================================================\n",
      "Omnibus:                      115.167   Durbin-Watson:                   2.351\n",
      "Prob(Omnibus):                  0.000   Jarque-Bera (JB):             2267.859\n",
      "Skew:                           4.381   Prob(JB):                         0.00\n",
      "Kurtosis:                      26.276   Cond. No.                     6.41e+04\n",
      "==============================================================================\n",
      "\n",
      "Notes:\n",
      "[1] Standard Errors assume that the covariance matrix of the errors is correctly specified.\n",
      "[2] The condition number is large, 6.41e+04. This might indicate that there are\n",
      "strong multicollinearity or other numerical problems.\n"
     ]
    }
   ],
   "source": [
    "df = dataWoo('hprice1')\n",
    "hprice_hetr= smf.ols('price ~ lotsize + sqrft + bdrms + 1', data=df).fit()\n",
    "df['uhat_hp'] = np.square(df.price - hprice_hetr.predict())\n",
    "uhat_hp_reg = smf.ols('uhat_hp ~ lotsize + sqrft + bdrms + 1', data=df).fit() \n",
    "print(uhat_hp_reg.summary())"
   ]
  },
  {
   "cell_type": "code",
   "execution_count": 11,
   "metadata": {},
   "outputs": [
    {
     "data": {
      "text/plain": [
       "14.08"
      ]
     },
     "execution_count": 11,
     "metadata": {},
     "output_type": "execute_result"
    }
   ],
   "source": [
    "NRsq = 88*0.160\n",
    "NRsq"
   ]
  },
  {
   "cell_type": "code",
   "execution_count": 12,
   "metadata": {},
   "outputs": [
    {
     "name": "stdout",
     "output_type": "stream",
     "text": [
      "                            OLS Regression Results                            \n",
      "==============================================================================\n",
      "Dep. Variable:             uhat_hp_lp   R-squared:                       0.048\n",
      "Model:                            OLS   Adj. R-squared:                  0.014\n",
      "Method:                 Least Squares   F-statistic:                     1.412\n",
      "Date:                Tue, 02 Jul 2024   Prob (F-statistic):              0.245\n",
      "Time:                        17:54:46   Log-Likelihood:                 107.40\n",
      "No. Observations:                  88   AIC:                            -206.8\n",
      "Df Residuals:                      84   BIC:                            -196.9\n",
      "Df Model:                           3                                         \n",
      "Covariance Type:            nonrobust                                         \n",
      "==============================================================================\n",
      "                 coef    std err          t      P>|t|      [0.025      0.975]\n",
      "------------------------------------------------------------------------------\n",
      "Intercept      0.5100      0.258      1.978      0.051      -0.003       1.023\n",
      "llotsize      -0.0070      0.015     -0.463      0.645      -0.037       0.023\n",
      "lsqrft        -0.0627      0.037     -1.706      0.092      -0.136       0.010\n",
      "bdrms          0.0168      0.011      1.545      0.126      -0.005       0.039\n",
      "==============================================================================\n",
      "Omnibus:                      115.509   Durbin-Watson:                   2.110\n",
      "Prob(Omnibus):                  0.000   Jarque-Bera (JB):             2070.311\n",
      "Skew:                           4.470   Prob(JB):                         0.00\n",
      "Kurtosis:                      25.016   Cond. No.                         410.\n",
      "==============================================================================\n",
      "\n",
      "Notes:\n",
      "[1] Standard Errors assume that the covariance matrix of the errors is correctly specified.\n"
     ]
    }
   ],
   "source": [
    "hprice_hetr_lp= smf.ols('lprice ~ llotsize + lsqrft + bdrms + 1', data=df).fit()\n",
    "df['uhat_hp_lp'] = np.square(df.lprice - hprice_hetr_lp.predict())\n",
    "uhat_hp_lp_reg = smf.ols('uhat_hp_lp ~ llotsize + lsqrft + bdrms + 1', data=df).fit() \n",
    "print(uhat_hp_lp_reg.summary())"
   ]
  },
  {
   "cell_type": "code",
   "execution_count": 13,
   "metadata": {},
   "outputs": [
    {
     "data": {
      "text/plain": [
       "4.224"
      ]
     },
     "execution_count": 13,
     "metadata": {},
     "output_type": "execute_result"
    }
   ],
   "source": [
    "NRsq = 88 * 0.048\n",
    "NRsq"
   ]
  },
  {
   "cell_type": "markdown",
   "metadata": {},
   "source": [
    "### Example 8.5. Special Form of the White Test"
   ]
  },
  {
   "cell_type": "code",
   "execution_count": 14,
   "metadata": {},
   "outputs": [
    {
     "name": "stdout",
     "output_type": "stream",
     "text": [
      "                            OLS Regression Results                            \n",
      "==============================================================================\n",
      "Dep. Variable:             uhat_hp_lp   R-squared:                       0.039\n",
      "Model:                            OLS   Adj. R-squared:                  0.017\n",
      "Method:                 Least Squares   F-statistic:                     1.733\n",
      "Date:                Tue, 02 Jul 2024   Prob (F-statistic):              0.183\n",
      "Time:                        17:54:46   Log-Likelihood:                 106.99\n",
      "No. Observations:                  88   AIC:                            -208.0\n",
      "Df Residuals:                      85   BIC:                            -200.5\n",
      "Df Model:                           2                                         \n",
      "Covariance Type:            nonrobust                                         \n",
      "==============================================================================\n",
      "                 coef    std err          t      P>|t|      [0.025      0.975]\n",
      "------------------------------------------------------------------------------\n",
      "Intercept      5.0468      3.345      1.509      0.135      -1.604      11.698\n",
      "yhat          -1.7092      1.163     -1.469      0.145      -4.022       0.604\n",
      "yhat_sq        0.1451      0.101      1.437      0.154      -0.056       0.346\n",
      "==============================================================================\n",
      "Omnibus:                      114.590   Durbin-Watson:                   2.144\n",
      "Prob(Omnibus):                  0.000   Jarque-Bera (JB):             2001.901\n",
      "Skew:                           4.427   Prob(JB):                         0.00\n",
      "Kurtosis:                      24.624   Cond. No.                     1.48e+04\n",
      "==============================================================================\n",
      "\n",
      "Notes:\n",
      "[1] Standard Errors assume that the covariance matrix of the errors is correctly specified.\n",
      "[2] The condition number is large, 1.48e+04. This might indicate that there are\n",
      "strong multicollinearity or other numerical problems.\n"
     ]
    }
   ],
   "source": [
    "yhat = hprice_hetr_lp.predict()\n",
    "yhat_sq = np.square(hprice_hetr_lp.predict())\n",
    "special_reg = smf.ols('uhat_hp_lp ~ yhat + yhat_sq + 1', data=df).fit() \n",
    "print(special_reg.summary())"
   ]
  },
  {
   "cell_type": "code",
   "execution_count": 15,
   "metadata": {},
   "outputs": [
    {
     "data": {
      "text/plain": [
       "3.4495999999999998"
      ]
     },
     "execution_count": 15,
     "metadata": {},
     "output_type": "execute_result"
    }
   ],
   "source": [
    "NRsq = 88 * 0.0392\n",
    "NRsq"
   ]
  },
  {
   "cell_type": "markdown",
   "metadata": {},
   "source": [
    "### Example 8.6. Financial Wealth Equation \n",
    "#### (& Table 8.2)"
   ]
  },
  {
   "cell_type": "code",
   "execution_count": 16,
   "metadata": {},
   "outputs": [
    {
     "name": "stdout",
     "output_type": "stream",
     "text": [
      "\n",
      "====================================================================\n",
      "                  OLS1       OLS2       WLS1      WLS2       WLS3   \n",
      "                 (b/se)     (b/se)     (b/se)    (b/se)     (b/se)  \n",
      "--------------------------------------------------------------------\n",
      "Intercept      -10.571*** -20.985*** -9.581*** -16.703*** -16.703***\n",
      "               (2.530)    (3.495)    (1.653)   (1.958)    (2.243)   \n",
      "R-squared      0.083      0.128      0.071     0.112      0.112     \n",
      "R-squared Adj. 0.082      0.126      0.070     0.110      0.110     \n",
      "age25sq                   0.025***             0.018***   0.018***  \n",
      "                          (0.004)              (0.002)    (0.003)   \n",
      "e401k                     6.886***             5.188***   5.188***  \n",
      "                          (2.287)              (1.703)    (1.572)   \n",
      "inc            0.821***   0.771***   0.787***  0.740***   0.740***  \n",
      "               (0.104)    (0.100)    (0.063)   (0.064)    (0.075)   \n",
      "male                      2.478                1.841      1.841     \n",
      "                          (2.058)              (1.564)    (1.311)   \n",
      "N              2017       2017       2017      2017       2017      \n",
      "R2             0.083      0.128      0.071     0.112      0.112     \n",
      "====================================================================\n",
      "Standard errors in parentheses.\n",
      "* p<.1, ** p<.05, ***p<.01\n"
     ]
    }
   ],
   "source": [
    "df = dataWoo('401ksubs')\n",
    "df = df[(df['fsize']==1)]\n",
    "df['age25sq'] = np.square(df['age'] - 25)\n",
    "OLS1 = smf.ols('nettfa ~ inc + 1', data=df).fit(cov_type='HC1')\n",
    "OLS2 = smf.ols('nettfa ~ inc + age25sq + male + e401k + 1',  data=df).fit(cov_type='HC1')\n",
    "df['w']= 1/df.inc\n",
    "WLS1 = smf.wls('nettfa ~ inc + 1', weights=df.w, data=df).fit()\n",
    "WLS2 = smf.wls('nettfa ~ inc + age25sq + male + e401k+ 1', weights=df.w, data=df).fit()\n",
    "WLS3 = smf.wls('nettfa ~ inc + age25sq + male + e401k+ 1', weights=df.w, data=df).fit(cov_type='HC1') # Table 8.2\n",
    "\n",
    "print(summary_col([OLS1, OLS2, WLS1, WLS2, WLS3 ],stars=True,float_format='%0.3f',\n",
    "                  model_names=['OLS1\\n(b/se)','OLS2\\n(b/se)', 'WLS1\\n(b/se)','WLS2\\n(b/se)', 'WLS3\\n(b/se)'],\n",
    "                 info_dict={'N':lambda x: \"{0:d}\".format(int(x.nobs)),\n",
    "                             'R2':lambda x: \"{:.3f}\".format(x.rsquared)}))\n"
   ]
  },
  {
   "cell_type": "markdown",
   "metadata": {},
   "source": [
    "### Example 8.7. Demand for Cigarettes"
   ]
  },
  {
   "cell_type": "code",
   "execution_count": 17,
   "metadata": {},
   "outputs": [
    {
     "name": "stdout",
     "output_type": "stream",
     "text": [
      "                            OLS Regression Results                            \n",
      "==============================================================================\n",
      "Dep. Variable:                   cigs   R-squared:                       0.053\n",
      "Model:                            OLS   Adj. R-squared:                  0.046\n",
      "Method:                 Least Squares   F-statistic:                     7.423\n",
      "Date:                Tue, 02 Jul 2024   Prob (F-statistic):           9.50e-08\n",
      "Time:                        17:54:47   Log-Likelihood:                -3236.2\n",
      "No. Observations:                 807   AIC:                             6486.\n",
      "Df Residuals:                     800   BIC:                             6519.\n",
      "Df Model:                           6                                         \n",
      "Covariance Type:            nonrobust                                         \n",
      "==============================================================================\n",
      "                 coef    std err          t      P>|t|      [0.025      0.975]\n",
      "------------------------------------------------------------------------------\n",
      "Intercept     -3.6398     24.079     -0.151      0.880     -50.905      43.625\n",
      "lincome        0.8803      0.728      1.210      0.227      -0.548       2.309\n",
      "lcigpric      -0.7509      5.773     -0.130      0.897     -12.084      10.582\n",
      "educ          -0.5015      0.167     -3.002      0.003      -0.829      -0.174\n",
      "age            0.7707      0.160      4.813      0.000       0.456       1.085\n",
      "agesq         -0.0090      0.002     -5.176      0.000      -0.012      -0.006\n",
      "restaurn      -2.8251      1.112     -2.541      0.011      -5.007      -0.643\n",
      "==============================================================================\n",
      "Omnibus:                      225.317   Durbin-Watson:                   2.013\n",
      "Prob(Omnibus):                  0.000   Jarque-Bera (JB):              494.255\n",
      "Skew:                           1.536   Prob(JB):                    4.72e-108\n",
      "Kurtosis:                       5.294   Cond. No.                     1.33e+05\n",
      "==============================================================================\n",
      "\n",
      "Notes:\n",
      "[1] Standard Errors assume that the covariance matrix of the errors is correctly specified.\n",
      "[2] The condition number is large, 1.33e+05. This might indicate that there are\n",
      "strong multicollinearity or other numerical problems.\n"
     ]
    }
   ],
   "source": [
    "df = dataWoo('smoke')\n",
    "OLS_smk= smf.ols('cigs ~ lincome + lcigpric + educ + age + agesq + restaurn + 1', data=df).fit()\n",
    "print(OLS_smk.summary())"
   ]
  },
  {
   "cell_type": "code",
   "execution_count": 18,
   "metadata": {},
   "outputs": [
    {
     "name": "stdout",
     "output_type": "stream",
     "text": [
      "                            WLS Regression Results                            \n",
      "==============================================================================\n",
      "Dep. Variable:                   cigs   R-squared:                       0.113\n",
      "Model:                            WLS   Adj. R-squared:                  0.107\n",
      "Method:                 Least Squares   F-statistic:                     17.06\n",
      "Date:                Tue, 02 Jul 2024   Prob (F-statistic):           1.32e-18\n",
      "Time:                        17:54:47   Log-Likelihood:                -3207.8\n",
      "No. Observations:                 807   AIC:                             6430.\n",
      "Df Residuals:                     800   BIC:                             6462.\n",
      "Df Model:                           6                                         \n",
      "Covariance Type:            nonrobust                                         \n",
      "==============================================================================\n",
      "                 coef    std err          t      P>|t|      [0.025      0.975]\n",
      "------------------------------------------------------------------------------\n",
      "Intercept      5.6355     17.803      0.317      0.752     -29.311      40.582\n",
      "lincome        1.2952      0.437      2.964      0.003       0.437       2.153\n",
      "lcigpric      -2.9403      4.460     -0.659      0.510     -11.695       5.815\n",
      "educ          -0.4634      0.120     -3.857      0.000      -0.699      -0.228\n",
      "age            0.4819      0.097      4.978      0.000       0.292       0.672\n",
      "agesq         -0.0056      0.001     -5.990      0.000      -0.007      -0.004\n",
      "restaurn      -3.4611      0.796     -4.351      0.000      -5.023      -1.900\n",
      "==============================================================================\n",
      "Omnibus:                      325.055   Durbin-Watson:                   2.050\n",
      "Prob(Omnibus):                  0.000   Jarque-Bera (JB):             1258.138\n",
      "Skew:                           1.908   Prob(JB):                    6.29e-274\n",
      "Kurtosis:                       7.780   Cond. No.                     2.30e+05\n",
      "==============================================================================\n",
      "\n",
      "Notes:\n",
      "[1] Standard Errors assume that the covariance matrix of the errors is correctly specified.\n",
      "[2] The condition number is large, 2.3e+05. This might indicate that there are\n",
      "strong multicollinearity or other numerical problems.\n"
     ]
    }
   ],
   "source": [
    "luhat_sq = np.log(np.square(df.cigs - OLS_smk.predict()))\n",
    "luhat_sq_reg = smf.ols('luhat_sq ~ lincome + lcigpric + educ + age + agesq + restaurn + 1', \n",
    "                       data=df).fit()\n",
    "luhat_sq_hat = np.exp(luhat_sq_reg.predict())\n",
    "w = 1/luhat_sq_hat\n",
    "GLS_smk = smf.wls('cigs ~ lincome + lcigpric + educ + age + agesq + restaurn + 1', weights = w, \n",
    "                  data=df).fit()\n",
    "print(GLS_smk.summary())"
   ]
  },
  {
   "cell_type": "code",
   "execution_count": 19,
   "metadata": {},
   "outputs": [
    {
     "name": "stdout",
     "output_type": "stream",
     "text": [
      "\n",
      "==================================\n",
      "                OLS_smk   GLS_smk \n",
      "                 (b/se)    (b/se) \n",
      "----------------------------------\n",
      "Intercept      -3.640    5.635    \n",
      "               (24.079)  (17.803) \n",
      "lincome        0.880     1.295*** \n",
      "               (0.728)   (0.437)  \n",
      "lcigpric       -0.751    -2.940   \n",
      "               (5.773)   (4.460)  \n",
      "educ           -0.501*** -0.463***\n",
      "               (0.167)   (0.120)  \n",
      "age            0.771***  0.482*** \n",
      "               (0.160)   (0.097)  \n",
      "agesq          -0.009*** -0.006***\n",
      "               (0.002)   (0.001)  \n",
      "restaurn       -2.825**  -3.461***\n",
      "               (1.112)   (0.796)  \n",
      "R-squared      0.053     0.113    \n",
      "R-squared Adj. 0.046     0.107    \n",
      "N              807       807      \n",
      "R2             0.053     0.113    \n",
      "==================================\n",
      "Standard errors in parentheses.\n",
      "* p<.1, ** p<.05, ***p<.01\n"
     ]
    }
   ],
   "source": [
    "print(summary_col([OLS_smk, GLS_smk ],stars=True,float_format='%0.3f',\n",
    "                  model_names=['OLS_smk\\n(b/se)','GLS_smk\\n(b/se)'],\n",
    "                 info_dict={'N':lambda x: \"{0:d}\".format(int(x.nobs)),\n",
    "                             'R2':lambda x: \"{:.3f}\".format(x.rsquared)}))"
   ]
  },
  {
   "cell_type": "markdown",
   "metadata": {},
   "source": [
    "### Example 8.8. Labor Force Participation of Married Women"
   ]
  },
  {
   "cell_type": "code",
   "execution_count": 20,
   "metadata": {},
   "outputs": [
    {
     "name": "stdout",
     "output_type": "stream",
     "text": [
      "\n",
      "=======================================\n",
      "               Hetroskedastic   Robust \n",
      "                   (b/se)       (b/se) \n",
      "---------------------------------------\n",
      "Intercept      0.586***       0.586*** \n",
      "               (0.154)        (0.152)  \n",
      "nwifeinc       -0.003**       -0.003** \n",
      "               (0.001)        (0.002)  \n",
      "educ           0.038***       0.038*** \n",
      "               (0.007)        (0.007)  \n",
      "exper          0.039***       0.039*** \n",
      "               (0.006)        (0.006)  \n",
      "expersq        -0.001***      -0.001***\n",
      "               (0.000)        (0.000)  \n",
      "age            -0.016***      -0.016***\n",
      "               (0.002)        (0.002)  \n",
      "kidslt6        -0.262***      -0.262***\n",
      "               (0.034)        (0.032)  \n",
      "kidsge6        0.013          0.013    \n",
      "               (0.013)        (0.014)  \n",
      "R-squared      0.264          0.264    \n",
      "R-squared Adj. 0.257          0.257    \n",
      "N              753            753      \n",
      "R2             0.264          0.264    \n",
      "=======================================\n",
      "Standard errors in parentheses.\n",
      "* p<.1, ** p<.05, ***p<.01\n"
     ]
    }
   ],
   "source": [
    "df = dataWoo('mroz')\n",
    "mroz_hetr = smf.ols('inlf ~ nwifeinc + educ + exper + expersq + age + kidslt6 + kidsge6 + 1',\n",
    "                    data=df).fit()\n",
    "mroz_robust = smf.ols('inlf ~ nwifeinc + educ + exper + expersq + age + kidslt6 + kidsge6 + 1',\n",
    "                      data=df).fit(cov_type='HC1')\n",
    "\n",
    "print(summary_col([mroz_hetr, mroz_robust ],stars=True,float_format='%0.3f',\n",
    "                  model_names=['Hetroskedastic\\n(b/se)','Robust\\n(b/se)'],\n",
    "                 info_dict={'N':lambda x: \"{0:d}\".format(int(x.nobs)),\n",
    "                             'R2':lambda x: \"{:.3f}\".format(x.rsquared)}))"
   ]
  },
  {
   "cell_type": "markdown",
   "metadata": {},
   "source": [
    "### Example 8.9. Determinants of Personal Computer Ownership"
   ]
  },
  {
   "cell_type": "code",
   "execution_count": 21,
   "metadata": {},
   "outputs": [
    {
     "name": "stdout",
     "output_type": "stream",
     "text": [
      "\n",
      "=============================================\n",
      "               Hetroskedastic  Robust   GLS  \n",
      "                   (b/se)      (b/se)  (b/se)\n",
      "---------------------------------------------\n",
      "Intercept      -0.000         -0.000  0.026  \n",
      "               (0.491)        (0.496) (0.477)\n",
      "hsGPA          0.065          0.065   0.033  \n",
      "               (0.137)        (0.141) (0.130)\n",
      "ACT            0.001          0.001   0.004  \n",
      "               (0.015)        (0.016) (0.015)\n",
      "parcoll        0.221**        0.221** 0.215**\n",
      "               (0.093)        (0.088) (0.086)\n",
      "R-squared      0.042          0.042   0.046  \n",
      "R-squared Adj. 0.021          0.021   0.026  \n",
      "N              141            141     141    \n",
      "R2             0.042          0.042   0.046  \n",
      "=============================================\n",
      "Standard errors in parentheses.\n",
      "* p<.1, ** p<.05, ***p<.01\n"
     ]
    }
   ],
   "source": [
    "df = dataWoo('gpa1')\n",
    "\n",
    "df['parcoll'] = 0\n",
    "df.loc[(df['fathcoll'] ==1) | (df['mothcoll'] == 1), 'parcoll'] = 1\n",
    "\n",
    "gpa_hetr = smf.ols('PC ~ hsGPA + ACT + parcoll  + 1', data=df).fit()\n",
    "gpa_robust = smf.ols('PC ~ hsGPA + ACT + parcoll  + 1', data=df).fit(cov_type='HC1')\n",
    "\n",
    "w = 1/(gpa_hetr.predict() - np.square(gpa_hetr.predict()))\n",
    "gpa_gls = smf.wls('PC ~ hsGPA + ACT + parcoll  + 1', weights = w, data=df).fit()\n",
    "\n",
    "print(summary_col([gpa_hetr, gpa_robust, gpa_gls],stars=True,float_format='%0.3f',\n",
    "                  model_names=['Hetroskedastic\\n(b/se)','Robust\\n(b/se)', 'GLS\\n(b/se)'],\n",
    "                 info_dict={'N':lambda x: \"{0:d}\".format(int(x.nobs)),\n",
    "                             'R2':lambda x: \"{:.3f}\".format(x.rsquared)}))"
   ]
  }
 ],
 "metadata": {
  "kernelspec": {
   "display_name": "Python 3 (ipykernel)",
   "language": "python",
   "name": "python3"
  },
  "language_info": {
   "codemirror_mode": {
    "name": "ipython",
    "version": 3
   },
   "file_extension": ".py",
   "mimetype": "text/x-python",
   "name": "python",
   "nbconvert_exporter": "python",
   "pygments_lexer": "ipython3",
   "version": "3.11.7"
  }
 },
 "nbformat": 4,
 "nbformat_minor": 4
}
