{
 "cells": [
  {
   "cell_type": "markdown",
   "metadata": {},
   "source": [
    "# Chapter 16. Simultaneous Equations Models  \n",
    "#### [Home](http://solomonegash.com/) | [Stata](http://solomonegash.com/woodridge1/index.html) | [R](http://solomonegash.com/econometrics/rbook1/index.html)"
   ]
  },
  {
   "cell_type": "code",
   "execution_count": 1,
   "metadata": {},
   "outputs": [],
   "source": [
    "\n",
    "import statsmodels.formula.api as smf\n",
    "from statsmodels.iolib.summary2 import summary_col\n",
    "\n",
    "from linearmodels.iv import IV2SLS\n",
    "\n",
    "from wooldridge import *"
   ]
  },
  {
   "cell_type": "markdown",
   "metadata": {},
   "source": [
    "### Example 16.5. Labor Supply of Married, Working Women"
   ]
  },
  {
   "cell_type": "code",
   "execution_count": 2,
   "metadata": {},
   "outputs": [
    {
     "name": "stdout",
     "output_type": "stream",
     "text": [
      "                          IV-2SLS Estimation Summary                          \n",
      "==============================================================================\n",
      "Dep. Variable:                  hours   R-squared:                     -2.0076\n",
      "Estimator:                    IV-2SLS   Adj. R-squared:                -2.0433\n",
      "No. Observations:                 428   F-statistic:                    17.450\n",
      "Date:                Tue, Jul 02 2024   P-value (F-stat)                0.0037\n",
      "Time:                        18:16:35   Distribution:                  chi2(5)\n",
      "Cov. Estimator:            unadjusted                                         \n",
      "                                                                              \n",
      "                             Parameter Estimates                              \n",
      "==============================================================================\n",
      "            Parameter  Std. Err.     T-stat    P-value    Lower CI    Upper CI\n",
      "------------------------------------------------------------------------------\n",
      "Intercept      2225.7     570.52     3.9011     0.0001      1107.5      3343.9\n",
      "educ          -183.75     58.684    -3.1312     0.0017     -298.77     -68.733\n",
      "age           -7.8061     9.3120    -0.8383     0.4019     -26.057      10.445\n",
      "kidslt6       -198.15     181.64    -1.0909     0.2753     -554.17      157.86\n",
      "nwifeinc      -10.170     6.5682    -1.5483     0.1215     -23.043      2.7039\n",
      "lwage          1639.6     467.27     3.5088     0.0005      723.73      2555.4\n",
      "==============================================================================\n",
      "\n",
      "Endogenous: lwage\n",
      "Instruments: exper, expersq\n",
      "Unadjusted Covariance (Homoskedastic)\n",
      "Debiased: False\n"
     ]
    }
   ],
   "source": [
    "print(IV2SLS.from_formula('hours ~ 1 + [lwage ~ exper + expersq] + educ + age + kidslt6 + nwifeinc', \n",
    "                          data=dataWoo(\"mroz\").dropna()).fit(cov_type='unadjusted'))"
   ]
  },
  {
   "cell_type": "code",
   "execution_count": 3,
   "metadata": {},
   "outputs": [
    {
     "name": "stdout",
     "output_type": "stream",
     "text": [
      "                          IV-2SLS Estimation Summary                          \n",
      "==============================================================================\n",
      "Dep. Variable:                  lwage   R-squared:                      0.1257\n",
      "Estimator:                    IV-2SLS   Adj. R-squared:                 0.1174\n",
      "No. Observations:                 428   F-statistic:                    77.012\n",
      "Date:                Tue, Jul 02 2024   P-value (F-stat)                0.0000\n",
      "Time:                        18:16:35   Distribution:                  chi2(4)\n",
      "Cov. Estimator:            unadjusted                                         \n",
      "                                                                              \n",
      "                             Parameter Estimates                              \n",
      "==============================================================================\n",
      "            Parameter  Std. Err.     T-stat    P-value    Lower CI    Upper CI\n",
      "------------------------------------------------------------------------------\n",
      "Intercept     -0.6557     0.3358    -1.9527     0.0509     -1.3139      0.0024\n",
      "educ           0.1103     0.0154     7.1488     0.0000      0.0801      0.1406\n",
      "exper          0.0346     0.0194     1.7847     0.0743     -0.0034      0.0726\n",
      "expersq       -0.0007     0.0005    -1.5634     0.1179     -0.0016      0.0002\n",
      "hours          0.0001     0.0003     0.4974     0.6189     -0.0004      0.0006\n",
      "==============================================================================\n",
      "\n",
      "Endogenous: hours\n",
      "Instruments: age, kidslt6, nwifeinc\n",
      "Unadjusted Covariance (Homoskedastic)\n",
      "Debiased: False\n"
     ]
    }
   ],
   "source": [
    "df2=dataWoo(\"mroz\").dropna(subset=['lwage'])\n",
    "\n",
    "print(IV2SLS.from_formula(\n",
    "    'lwage ~ 1 + educ + exper + expersq + [hours ~ age + kidslt6 + nwifeinc]', \n",
    "    data=df2).fit(cov_type='unadjusted'))"
   ]
  },
  {
   "cell_type": "markdown",
   "metadata": {},
   "source": [
    "### Example 16.6. Inflation and Openness "
   ]
  },
  {
   "cell_type": "code",
   "execution_count": 4,
   "metadata": {},
   "outputs": [
    {
     "name": "stdout",
     "output_type": "stream",
     "text": [
      "                            OLS Regression Results                            \n",
      "==============================================================================\n",
      "Dep. Variable:                   open   R-squared:                       0.449\n",
      "Model:                            OLS   Adj. R-squared:                  0.439\n",
      "Method:                 Least Squares   F-statistic:                     45.17\n",
      "Date:                Tue, 02 Jul 2024   Prob (F-statistic):           4.45e-15\n",
      "Time:                        18:16:36   Log-Likelihood:                -488.44\n",
      "No. Observations:                 114   AIC:                             982.9\n",
      "Df Residuals:                     111   BIC:                             991.1\n",
      "Df Model:                           2                                         \n",
      "Covariance Type:            nonrobust                                         \n",
      "==============================================================================\n",
      "                 coef    std err          t      P>|t|      [0.025      0.975]\n",
      "------------------------------------------------------------------------------\n",
      "Intercept    117.0845     15.848      7.388      0.000      85.680     148.489\n",
      "lpcinc         0.5465      1.493      0.366      0.715      -2.412       3.505\n",
      "lland         -7.5671      0.814     -9.294      0.000      -9.181      -5.954\n",
      "==============================================================================\n",
      "Omnibus:                       56.815   Durbin-Watson:                   2.147\n",
      "Prob(Omnibus):                  0.000   Jarque-Bera (JB):              197.784\n",
      "Skew:                           1.783   Prob(JB):                     1.13e-43\n",
      "Kurtosis:                       8.377   Cond. No.                         130.\n",
      "==============================================================================\n",
      "\n",
      "Notes:\n",
      "[1] Standard Errors assume that the covariance matrix of the errors is correctly specified.\n"
     ]
    }
   ],
   "source": [
    "df = dataWoo(\"openness\")\n",
    "print(smf.ols('open ~ lpcinc + lland', data = df).fit().summary())"
   ]
  },
  {
   "cell_type": "code",
   "execution_count": 5,
   "metadata": {},
   "outputs": [
    {
     "name": "stdout",
     "output_type": "stream",
     "text": [
      "                          IV-2SLS Estimation Summary                          \n",
      "==============================================================================\n",
      "Dep. Variable:                    inf   R-squared:                      0.0309\n",
      "Estimator:                    IV-2SLS   Adj. R-squared:                 0.0134\n",
      "No. Observations:                 114   F-statistic:                    5.1930\n",
      "Date:                Tue, Jul 02 2024   P-value (F-stat)                0.0745\n",
      "Time:                        18:16:36   Distribution:                  chi2(2)\n",
      "Cov. Estimator:                robust                                         \n",
      "                                                                              \n",
      "                             Parameter Estimates                              \n",
      "==============================================================================\n",
      "            Parameter  Std. Err.     T-stat    P-value    Lower CI    Upper CI\n",
      "------------------------------------------------------------------------------\n",
      "Intercept      26.899     10.775     2.4964     0.0125      5.7802      48.018\n",
      "lpcinc         0.3758     1.3603     0.2763     0.7823     -2.2903      3.0419\n",
      "open          -0.3375     0.1504    -2.2435     0.0249     -0.6323     -0.0427\n",
      "==============================================================================\n",
      "\n",
      "Endogenous: open\n",
      "Instruments: lland\n",
      "Robust Covariance (Heteroskedastic)\n",
      "Debiased: False\n"
     ]
    }
   ],
   "source": [
    "print(IV2SLS.from_formula('inf ~ [open ~ lland] + lpcinc + 1', data = df).fit())"
   ]
  },
  {
   "cell_type": "markdown",
   "metadata": {},
   "source": [
    "### Example 16.7. Testing the Permanent Income Hypothesis "
   ]
  },
  {
   "cell_type": "code",
   "execution_count": 6,
   "metadata": {},
   "outputs": [
    {
     "name": "stdout",
     "output_type": "stream",
     "text": [
      "                          IV-2SLS Estimation Summary                          \n",
      "==============================================================================\n",
      "Dep. Variable:                     gc   R-squared:                      0.6767\n",
      "Estimator:                    IV-2SLS   Adj. R-squared:                 0.6558\n",
      "No. Observations:                  34   F-statistic:                    17.903\n",
      "Date:                Tue, Jul 02 2024   P-value (F-stat)                0.0001\n",
      "Time:                        18:16:36   Distribution:                  chi2(2)\n",
      "Cov. Estimator:                robust                                         \n",
      "                                                                              \n",
      "                             Parameter Estimates                              \n",
      "==============================================================================\n",
      "            Parameter  Std. Err.     T-stat    P-value    Lower CI    Upper CI\n",
      "------------------------------------------------------------------------------\n",
      "Intercept      0.0082     0.0035     2.3826     0.0172      0.0015      0.0150\n",
      "gy             0.5821     0.1376     4.2295     0.0000      0.3124      0.8519\n",
      "r3            -0.0003     0.0009    -0.2836     0.7767     -0.0020      0.0015\n",
      "==============================================================================\n",
      "\n",
      "Endogenous: gy, r3\n",
      "Instruments: gy_1, gc_1, r3_1\n",
      "Robust Covariance (Heteroskedastic)\n",
      "Debiased: False\n"
     ]
    }
   ],
   "source": [
    "df = dataWoo(\"consump\").dropna()\n",
    "pi_reg = IV2SLS.from_formula('gc ~ 1 + [gy + r3 ~ gy_1 + gc_1 + r3_1]', data = df).fit()\n",
    "print(pi_reg)"
   ]
  },
  {
   "cell_type": "code",
   "execution_count": 7,
   "metadata": {},
   "outputs": [
    {
     "name": "stdout",
     "output_type": "stream",
     "text": [
      "                            OLS Regression Results                            \n",
      "==============================================================================\n",
      "Dep. Variable:                   uhat   R-squared:                       0.010\n",
      "Model:                            OLS   Adj. R-squared:                 -0.022\n",
      "Method:                 Least Squares   F-statistic:                    0.3062\n",
      "Date:                Tue, 02 Jul 2024   Prob (F-statistic):              0.584\n",
      "Time:                        18:16:36   Log-Likelihood:                 115.55\n",
      "No. Observations:                  33   AIC:                            -227.1\n",
      "Df Residuals:                      31   BIC:                            -224.1\n",
      "Df Model:                           1                                         \n",
      "Covariance Type:            nonrobust                                         \n",
      "=================================================================================\n",
      "                    coef    std err          t      P>|t|      [0.025      0.975]\n",
      "---------------------------------------------------------------------------------\n",
      "Intercept      6.367e-05      0.001      0.049      0.962      -0.003       0.003\n",
      "uhat.shift(1)    -0.1015      0.183     -0.553      0.584      -0.476       0.273\n",
      "==============================================================================\n",
      "Omnibus:                        2.169   Durbin-Watson:                   1.944\n",
      "Prob(Omnibus):                  0.338   Jarque-Bera (JB):                1.217\n",
      "Skew:                          -0.059   Prob(JB):                        0.544\n",
      "Kurtosis:                       2.067   Cond. No.                         140.\n",
      "==============================================================================\n",
      "\n",
      "Notes:\n",
      "[1] Standard Errors assume that the covariance matrix of the errors is correctly specified.\n"
     ]
    }
   ],
   "source": [
    "df['uhat'] = pi_reg.resids\n",
    "print(smf.ols('uhat ~ uhat.shift(1)', data=df).fit().summary())"
   ]
  },
  {
   "cell_type": "code",
   "execution_count": 8,
   "metadata": {},
   "outputs": [
    {
     "name": "stdout",
     "output_type": "stream",
     "text": [
      "                          IV-2SLS Estimation Summary                          \n",
      "==============================================================================\n",
      "Dep. Variable:                     gc   R-squared:                      0.4725\n",
      "Estimator:                    IV-2SLS   Adj. R-squared:                 0.4180\n",
      "No. Observations:                  33   F-statistic:                    11.117\n",
      "Date:                Tue, Jul 02 2024   P-value (F-stat)                0.0111\n",
      "Time:                        18:16:36   Distribution:                  chi2(3)\n",
      "Cov. Estimator:                robust                                         \n",
      "                                                                              \n",
      "                             Parameter Estimates                              \n",
      "==============================================================================\n",
      "            Parameter  Std. Err.     T-stat    P-value    Lower CI    Upper CI\n",
      "------------------------------------------------------------------------------\n",
      "Intercept  -6.569e-05     0.0073    -0.0090     0.9929     -0.0144      0.0143\n",
      "gy             0.9765     0.3316     2.9446     0.0032      0.3265      1.6264\n",
      "r3            -0.0004     0.0012    -0.3390     0.7346     -0.0027      0.0019\n",
      "uhat2         -0.6027     0.3949    -1.5261     0.1270     -1.3767      0.1713\n",
      "==============================================================================\n",
      "\n",
      "Endogenous: gy, r3, uhat2\n",
      "Instruments: gy_1, gc_1, r3_1\n",
      "Robust Covariance (Heteroskedastic)\n",
      "Debiased: False\n"
     ]
    }
   ],
   "source": [
    "df['uhat2']  = df['uhat'].shift(1)\n",
    "df2=df.dropna()\n",
    "print(IV2SLS.from_formula('gc ~ 1 + [ gy + r3  + uhat2 ~  gy_1 + gc_1 + r3_1]', data = df2).fit())"
   ]
  },
  {
   "cell_type": "markdown",
   "metadata": {},
   "source": [
    "### Example 16.8. Effect of Prison Population on Violent Crime Rates"
   ]
  },
  {
   "cell_type": "code",
   "execution_count": 9,
   "metadata": {},
   "outputs": [
    {
     "name": "stdout",
     "output_type": "stream",
     "text": [
      "                          IV-2SLS Estimation Summary                          \n",
      "==============================================================================\n",
      "Dep. Variable:                  gcriv   R-squared:                     -0.2447\n",
      "Estimator:                    IV-2SLS   Adj. R-squared:                -0.2624\n",
      "No. Observations:                 714   F-statistic:                    59.380\n",
      "Date:                Tue, Jul 02 2024   P-value (F-stat)                0.0000\n",
      "Time:                        18:16:36   Distribution:                 chi2(10)\n",
      "Cov. Estimator:            unadjusted                                         \n",
      "                                                                              \n",
      "                             Parameter Estimates                              \n",
      "==============================================================================\n",
      "            Parameter  Std. Err.     T-stat    P-value    Lower CI    Upper CI\n",
      "------------------------------------------------------------------------------\n",
      "Intercept      0.0363     0.0242     1.5039     0.1326     -0.0110      0.0837\n",
      "gpolpc         0.0735     0.0690     1.0650     0.2869     -0.0617      0.2087\n",
      "gincpc         0.9259     0.1778     5.2060     0.0000      0.5773      1.2744\n",
      "cunem          0.7299     0.3548     2.0570     0.0397      0.0344      1.4253\n",
      "cblack        -0.0147     0.0415    -0.3553     0.7224     -0.0960      0.0665\n",
      "cmetro        -1.1513     1.2634    -0.9113     0.3621     -3.6275      1.3249\n",
      "cag0_14        3.1702     2.2861     1.3868     0.1655     -1.3104      7.6508\n",
      "cag15_17       6.6609     4.3317     1.5377     0.1241     -1.8291      15.151\n",
      "cag18_24      -0.9192     2.6477    -0.3472     0.7284     -6.1086      4.2701\n",
      "cag25_34      -4.3695     2.0283    -2.1543     0.0312     -8.3448     -0.3941\n",
      "gpris         -0.9672     0.3497    -2.7661     0.0057     -1.6526     -0.2819\n",
      "==============================================================================\n",
      "\n",
      "Endogenous: gpris\n",
      "Instruments: final1, final2\n",
      "Unadjusted Covariance (Homoskedastic)\n",
      "Debiased: False\n",
      "                            OLS Regression Results                            \n",
      "==============================================================================\n",
      "Dep. Variable:                  gcriv   R-squared:                       0.106\n",
      "Model:                            OLS   Adj. R-squared:                  0.093\n",
      "Method:                 Least Squares   F-statistic:                     8.302\n",
      "Date:                Tue, 02 Jul 2024   Prob (F-statistic):           8.20e-13\n",
      "Time:                        18:16:36   Log-Likelihood:                 758.05\n",
      "No. Observations:                 714   AIC:                            -1494.\n",
      "Df Residuals:                     703   BIC:                            -1444.\n",
      "Df Model:                          10                                         \n",
      "Covariance Type:            nonrobust                                         \n",
      "==============================================================================\n",
      "                 coef    std err          t      P>|t|      [0.025      0.975]\n",
      "------------------------------------------------------------------------------\n",
      "Intercept     -0.0051      0.014     -0.372      0.710      -0.032       0.022\n",
      "gpris         -0.1678      0.048     -3.483      0.001      -0.262      -0.073\n",
      "gpolpc         0.0938      0.058      1.604      0.109      -0.021       0.209\n",
      "gincpc         0.9603      0.151      6.343      0.000       0.663       1.258\n",
      "cunem          0.4068      0.279      1.460      0.145      -0.140       0.954\n",
      "cblack        -0.0113      0.035     -0.318      0.751      -0.081       0.058\n",
      "cmetro        -0.3920      1.042     -0.376      0.707      -2.438       1.654\n",
      "cag0_14        4.2932      1.908      2.250      0.025       0.546       8.040\n",
      "cag15_17      12.8985      2.899      4.450      0.000       7.207      18.590\n",
      "cag18_24       1.8146      2.025      0.896      0.370      -2.161       5.790\n",
      "cag25_34      -2.5618      1.599     -1.602      0.110      -5.702       0.578\n",
      "==============================================================================\n",
      "Omnibus:                       48.415   Durbin-Watson:                   1.866\n",
      "Prob(Omnibus):                  0.000   Jarque-Bera (JB):              200.346\n",
      "Skew:                          -0.054   Prob(JB):                     3.13e-44\n",
      "Kurtosis:                       5.593   Cond. No.                     1.07e+03\n",
      "==============================================================================\n",
      "\n",
      "Notes:\n",
      "[1] Standard Errors assume that the covariance matrix of the errors is correctly specified.\n",
      "[2] The condition number is large, 1.07e+03. This might indicate that there are\n",
      "strong multicollinearity or other numerical problems.\n"
     ]
    }
   ],
   "source": [
    "df = dataWoo(\"prison\").dropna()\n",
    "print(IV2SLS.from_formula('gcriv ~ 1 + [gpris ~ final1 + final2] + gpolpc + gincpc + cunem + cblack + cmetro + cag0_14 + cag15_17 + cag18_24 + cag25_34', data=df).fit(cov_type='unadjusted'))\n",
    "print(smf.ols('gcriv ~ gpris + gpolpc + gincpc + cunem + cblack + cmetro + cag0_14 + cag15_17 + cag18_24 + cag25_34', data=df).fit().summary())"
   ]
  }
 ],
 "metadata": {
  "kernelspec": {
   "display_name": "Python 3 (ipykernel)",
   "language": "python",
   "name": "python3"
  },
  "language_info": {
   "codemirror_mode": {
    "name": "ipython",
    "version": 3
   },
   "file_extension": ".py",
   "mimetype": "text/x-python",
   "name": "python",
   "nbconvert_exporter": "python",
   "pygments_lexer": "ipython3",
   "version": "3.11.7"
  }
 },
 "nbformat": 4,
 "nbformat_minor": 4
}
