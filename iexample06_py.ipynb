{
 "cells": [
  {
   "cell_type": "markdown",
   "metadata": {},
   "source": [
    "# Chapter 6. Multiple Regression Analysis: Further Analysis \n",
    "[Home](http://solomonegash.com/) | [Stata](http://solomonegash.com/woodridge1/index.html) | [R](http://solomonegash.com/econometrics/rbook1/index.html)"
   ]
  },
  {
   "cell_type": "code",
   "execution_count": 1,
   "metadata": {},
   "outputs": [],
   "source": [
    "import numpy as np\n",
    "import pandas as pd\n",
    "import scipy.stats as ss\n",
    "\n",
    "import statsmodels.formula.api as smf\n",
    "from statsmodels.iolib.summary2 import summary_col\n",
    "\n",
    "from wooldridge import *"
   ]
  },
  {
   "cell_type": "markdown",
   "metadata": {},
   "source": [
    "### Table 6.1  Determinants of College GPA"
   ]
  },
  {
   "cell_type": "code",
   "execution_count": 2,
   "metadata": {},
   "outputs": [
    {
     "name": "stdout",
     "output_type": "stream",
     "text": [
      "\n",
      "===============================================\n",
      "               bwght_ols1 bwght_ols2 bwght_ols3\n",
      "-----------------------------------------------\n",
      "Intercept      116.974*** 7.311***   116.974***\n",
      "               (1.049)    (0.066)    (1.049)   \n",
      "R-squared      0.030      0.030      0.030     \n",
      "R-squared Adj. 0.028      0.028      0.028     \n",
      "cigs           -0.463***  -0.029***            \n",
      "               (0.092)    (0.006)              \n",
      "faminc         0.093***   0.006***   0.093***  \n",
      "               (0.029)    (0.002)    (0.029)   \n",
      "packs                                -9.268*** \n",
      "                                     (1.832)   \n",
      "N              1388       1388       1388      \n",
      "R2             0.030      0.030      0.030     \n",
      "===============================================\n",
      "Standard errors in parentheses.\n",
      "* p<.1, ** p<.05, ***p<.01\n"
     ]
    }
   ],
   "source": [
    "df = dataWoo('bwght')\n",
    "\n",
    "bwght_ols1 = smf.ols(formula='bwght  ~ cigs  + faminc + 1', data=df).fit()\n",
    "bwght_ols2 = smf.ols(formula='bwghtlbs  ~ cigs  + faminc + 1', data=df).fit()\n",
    "bwght_ols3 = smf.ols(formula='bwght  ~ packs  + faminc + 1', data=df).fit()\n",
    "\n",
    "print(summary_col([bwght_ols1, bwght_ols2, bwght_ols3],stars=True,float_format='%0.3f',\n",
    "                  model_names=['bwght_ols1','bwght_ols2', 'bwght_ols3'],\n",
    "                 info_dict={'N':lambda x: \"{0:d}\".format(int(x.nobs)),\n",
    "                             'R2':lambda x: \"{:.3f}\".format(x.rsquared)}))"
   ]
  },
  {
   "cell_type": "markdown",
   "metadata": {},
   "source": [
    "### Example6.1. Effects of pollution on housing prices"
   ]
  },
  {
   "cell_type": "code",
   "execution_count": 3,
   "metadata": {},
   "outputs": [],
   "source": [
    "df = dataWoo('hprice2')\n",
    "df1 = df[['price', 'nox', 'crime', 'rooms', 'dist', 'stratio']]\n",
    "\n",
    "zprice = pd.DataFrame({\"zprice\":ss.zscore(df1.loc[:,\"price\"])})\n",
    "znox = pd.DataFrame({\"znox\":ss.zscore(df1.loc[:,\"nox\"])})\n",
    "zcrime = pd.DataFrame({\"zcrime\":ss.zscore(df1.loc[:,\"crime\"])})\n",
    "zrooms = pd.DataFrame({\"zrooms\":ss.zscore(df1.loc[:,\"rooms\"])})\n",
    "zdist = pd.DataFrame({\"zdist\":ss.zscore(df1.loc[:,\"dist\"])})\n",
    "zstratio = pd.DataFrame({\"zstratio\":ss.zscore(df1.loc[:,\"stratio\"])})\n",
    "\n",
    "df2 = pd.concat([zprice,znox,zcrime,zrooms,zdist,zstratio],axis=1) \n"
   ]
  },
  {
   "cell_type": "code",
   "execution_count": 4,
   "metadata": {},
   "outputs": [
    {
     "name": "stdout",
     "output_type": "stream",
     "text": [
      "                            OLS Regression Results                            \n",
      "==============================================================================\n",
      "Dep. Variable:                 zprice   R-squared:                       0.636\n",
      "Model:                            OLS   Adj. R-squared:                  0.632\n",
      "Method:                 Least Squares   F-statistic:                     174.5\n",
      "Date:                Sun, 30 Jun 2024   Prob (F-statistic):          3.61e-107\n",
      "Time:                        18:52:56   Log-Likelihood:                -462.53\n",
      "No. Observations:                 506   AIC:                             937.1\n",
      "Df Residuals:                     500   BIC:                             962.4\n",
      "Df Model:                           5                                         \n",
      "Covariance Type:            nonrobust                                         \n",
      "==============================================================================\n",
      "                 coef    std err          t      P>|t|      [0.025      0.975]\n",
      "------------------------------------------------------------------------------\n",
      "Intercept   8.674e-17      0.027   3.21e-15      1.000      -0.053       0.053\n",
      "znox          -0.3404      0.045     -7.643      0.000      -0.428      -0.253\n",
      "zcrime        -0.1433      0.031     -4.665      0.000      -0.204      -0.083\n",
      "zrooms         0.5139      0.030     17.112      0.000       0.455       0.573\n",
      "zdist         -0.2348      0.043     -5.459      0.000      -0.319      -0.150\n",
      "zstratio      -0.2703      0.030     -9.018      0.000      -0.329      -0.211\n",
      "==============================================================================\n",
      "Omnibus:                      272.145   Durbin-Watson:                   0.865\n",
      "Prob(Omnibus):                  0.000   Jarque-Bera (JB):             2647.578\n",
      "Skew:                           2.150   Prob(JB):                         0.00\n",
      "Kurtosis:                      13.348   Cond. No.                         3.33\n",
      "==============================================================================\n",
      "\n",
      "Notes:\n",
      "[1] Standard Errors assume that the covariance matrix of the errors is correctly specified.\n"
     ]
    }
   ],
   "source": [
    "hprice_std = smf.ols(formula='zprice ~ znox + zcrime + zrooms + zdist + zstratio + 1', data=df2).fit()\n",
    "print(hprice_std.summary())"
   ]
  },
  {
   "cell_type": "code",
   "execution_count": 5,
   "metadata": {},
   "outputs": [
    {
     "name": "stdout",
     "output_type": "stream",
     "text": [
      "                            OLS Regression Results                            \n",
      "==============================================================================\n",
      "Dep. Variable:                 zprice   R-squared:                       0.636\n",
      "Model:                            OLS   Adj. R-squared:                  0.632\n",
      "Method:                 Least Squares   F-statistic:                     174.5\n",
      "Date:                Sun, 30 Jun 2024   Prob (F-statistic):          3.61e-107\n",
      "Time:                        18:52:56   Log-Likelihood:                -462.53\n",
      "No. Observations:                 506   AIC:                             937.1\n",
      "Df Residuals:                     500   BIC:                             962.4\n",
      "Df Model:                           5                                         \n",
      "Covariance Type:            nonrobust                                         \n",
      "==============================================================================\n",
      "                 coef    std err          t      P>|t|      [0.025      0.975]\n",
      "------------------------------------------------------------------------------\n",
      "Intercept   8.674e-17      0.027   3.21e-15      1.000      -0.053       0.053\n",
      "znox          -0.3404      0.045     -7.643      0.000      -0.428      -0.253\n",
      "zcrime        -0.1433      0.031     -4.665      0.000      -0.204      -0.083\n",
      "zrooms         0.5139      0.030     17.112      0.000       0.455       0.573\n",
      "zdist         -0.2348      0.043     -5.459      0.000      -0.319      -0.150\n",
      "zstratio      -0.2703      0.030     -9.018      0.000      -0.329      -0.211\n",
      "==============================================================================\n",
      "Omnibus:                      272.145   Durbin-Watson:                   0.865\n",
      "Prob(Omnibus):                  0.000   Jarque-Bera (JB):             2647.578\n",
      "Skew:                           2.150   Prob(JB):                         0.00\n",
      "Kurtosis:                      13.348   Cond. No.                         3.33\n",
      "==============================================================================\n",
      "\n",
      "Notes:\n",
      "[1] Standard Errors assume that the covariance matrix of the errors is correctly specified.\n"
     ]
    }
   ],
   "source": [
    "hprice_std = smf.ols(formula='zprice ~ znox + zcrime + zrooms + zdist + zstratio + 1', data=df2).fit()\n",
    "print(hprice_std.summary())"
   ]
  },
  {
   "cell_type": "markdown",
   "metadata": {},
   "source": [
    "### Compare the result in Example 4.5."
   ]
  },
  {
   "cell_type": "code",
   "execution_count": 6,
   "metadata": {},
   "outputs": [
    {
     "name": "stdout",
     "output_type": "stream",
     "text": [
      "                            OLS Regression Results                            \n",
      "==============================================================================\n",
      "Dep. Variable:                 lprice   R-squared:                       0.584\n",
      "Model:                            OLS   Adj. R-squared:                  0.581\n",
      "Method:                 Least Squares   F-statistic:                     175.9\n",
      "Date:                Sun, 30 Jun 2024   Prob (F-statistic):           5.53e-94\n",
      "Time:                        18:52:56   Log-Likelihood:                -43.495\n",
      "No. Observations:                 506   AIC:                             96.99\n",
      "Df Residuals:                     501   BIC:                             118.1\n",
      "Df Model:                           4                                         \n",
      "Covariance Type:            nonrobust                                         \n",
      "==============================================================================\n",
      "                 coef    std err          t      P>|t|      [0.025      0.975]\n",
      "------------------------------------------------------------------------------\n",
      "Intercept     11.0839      0.318     34.843      0.000      10.459      11.709\n",
      "lnox          -0.9535      0.117     -8.168      0.000      -1.183      -0.724\n",
      "ldist         -0.1343      0.043     -3.117      0.002      -0.219      -0.050\n",
      "rooms          0.2545      0.019     13.736      0.000       0.218       0.291\n",
      "stratio       -0.0525      0.006     -8.894      0.000      -0.064      -0.041\n",
      "==============================================================================\n",
      "Omnibus:                       61.317   Durbin-Watson:                   0.682\n",
      "Prob(Omnibus):                  0.000   Jarque-Bera (JB):              480.143\n",
      "Skew:                           0.051   Prob(JB):                    5.47e-105\n",
      "Kurtosis:                       7.771   Cond. No.                         560.\n",
      "==============================================================================\n",
      "\n",
      "Notes:\n",
      "[1] Standard Errors assume that the covariance matrix of the errors is correctly specified.\n"
     ]
    }
   ],
   "source": [
    "import math\n",
    "df['ldist'] = np.log(df['dist'])\n",
    "hprice_log = smf.ols(formula='lprice ~ lnox + ldist + rooms + stratio + 1', data=df).fit()\n",
    "print(hprice_log.summary())"
   ]
  },
  {
   "cell_type": "markdown",
   "metadata": {},
   "source": [
    "### Equation (6.7)"
   ]
  },
  {
   "cell_type": "code",
   "execution_count": 7,
   "metadata": {},
   "outputs": [
    {
     "name": "stdout",
     "output_type": "stream",
     "text": [
      "                            OLS Regression Results                            \n",
      "==============================================================================\n",
      "Dep. Variable:                 lprice   R-squared:                       0.514\n",
      "Model:                            OLS   Adj. R-squared:                  0.512\n",
      "Method:                 Least Squares   F-statistic:                     265.7\n",
      "Date:                Sun, 30 Jun 2024   Prob (F-statistic):           1.79e-79\n",
      "Time:                        18:52:56   Log-Likelihood:                -83.009\n",
      "No. Observations:                 506   AIC:                             172.0\n",
      "Df Residuals:                     503   BIC:                             184.7\n",
      "Df Model:                           2                                         \n",
      "Covariance Type:            nonrobust                                         \n",
      "==============================================================================\n",
      "                 coef    std err          t      P>|t|      [0.025      0.975]\n",
      "------------------------------------------------------------------------------\n",
      "Intercept      9.2337      0.188     49.184      0.000       8.865       9.603\n",
      "lnox          -0.7177      0.066    -10.818      0.000      -0.848      -0.587\n",
      "rooms          0.3059      0.019     16.086      0.000       0.269       0.343\n",
      "==============================================================================\n",
      "Omnibus:                       52.327   Durbin-Watson:                   0.603\n",
      "Prob(Omnibus):                  0.000   Jarque-Bera (JB):              327.013\n",
      "Skew:                           0.042   Prob(JB):                     9.77e-72\n",
      "Kurtosis:                       6.937   Cond. No.                         102.\n",
      "==============================================================================\n",
      "\n",
      "Notes:\n",
      "[1] Standard Errors assume that the covariance matrix of the errors is correctly specified.\n"
     ]
    }
   ],
   "source": [
    "hprice_eq6_7 = smf.ols(formula='lprice ~ lnox + rooms + 1', data=df).fit()\n",
    "print(hprice_eq6_7.summary())"
   ]
  },
  {
   "cell_type": "markdown",
   "metadata": {},
   "source": [
    "### Equation (6.12)"
   ]
  },
  {
   "cell_type": "code",
   "execution_count": 8,
   "metadata": {},
   "outputs": [
    {
     "name": "stdout",
     "output_type": "stream",
     "text": [
      "                            OLS Regression Results                            \n",
      "==============================================================================\n",
      "Dep. Variable:                   wage   R-squared:                       0.093\n",
      "Model:                            OLS   Adj. R-squared:                  0.089\n",
      "Method:                 Least Squares   F-statistic:                     26.74\n",
      "Date:                Sun, 30 Jun 2024   Prob (F-statistic):           8.77e-12\n",
      "Time:                        18:52:56   Log-Likelihood:                -1407.5\n",
      "No. Observations:                 526   AIC:                             2821.\n",
      "Df Residuals:                     523   BIC:                             2834.\n",
      "Df Model:                           2                                         \n",
      "Covariance Type:            nonrobust                                         \n",
      "==============================================================================\n",
      "                 coef    std err          t      P>|t|      [0.025      0.975]\n",
      "------------------------------------------------------------------------------\n",
      "Intercept      3.7254      0.346     10.769      0.000       3.046       4.405\n",
      "exper          0.2981      0.041      7.277      0.000       0.218       0.379\n",
      "expersq       -0.0061      0.001     -6.792      0.000      -0.008      -0.004\n",
      "==============================================================================\n",
      "Omnibus:                      203.746   Durbin-Watson:                   1.802\n",
      "Prob(Omnibus):                  0.000   Jarque-Bera (JB):              721.819\n",
      "Skew:                           1.806   Prob(JB):                    1.82e-157\n",
      "Kurtosis:                       7.460   Cond. No.                     1.76e+03\n",
      "==============================================================================\n",
      "\n",
      "Notes:\n",
      "[1] Standard Errors assume that the covariance matrix of the errors is correctly specified.\n",
      "[2] The condition number is large, 1.76e+03. This might indicate that there are\n",
      "strong multicollinearity or other numerical problems.\n"
     ]
    }
   ],
   "source": [
    "df = dataWoo('wage1')\n",
    "wage_exp = smf.ols(formula='wage ~ exper + expersq + 1', data=df).fit()\n",
    "print(wage_exp.summary())"
   ]
  },
  {
   "cell_type": "markdown",
   "metadata": {},
   "source": [
    "### Example6.2. Effects of pollution on housing prices"
   ]
  },
  {
   "cell_type": "code",
   "execution_count": 9,
   "metadata": {},
   "outputs": [
    {
     "name": "stdout",
     "output_type": "stream",
     "text": [
      "                            OLS Regression Results                            \n",
      "==============================================================================\n",
      "Dep. Variable:                 lprice   R-squared:                       0.603\n",
      "Model:                            OLS   Adj. R-squared:                  0.599\n",
      "Method:                 Least Squares   F-statistic:                     151.8\n",
      "Date:                Sun, 30 Jun 2024   Prob (F-statistic):           7.89e-98\n",
      "Time:                        18:52:56   Log-Likelihood:                -31.806\n",
      "No. Observations:                 506   AIC:                             75.61\n",
      "Df Residuals:                     500   BIC:                             101.0\n",
      "Df Model:                           5                                         \n",
      "Covariance Type:            nonrobust                                         \n",
      "==============================================================================\n",
      "                 coef    std err          t      P>|t|      [0.025      0.975]\n",
      "------------------------------------------------------------------------------\n",
      "Intercept     13.3855      0.566     23.630      0.000      12.273      14.498\n",
      "lnox          -0.9017      0.115     -7.862      0.000      -1.127      -0.676\n",
      "ldist         -0.0868      0.043     -2.005      0.045      -0.172      -0.002\n",
      "rooms         -0.5451      0.165     -3.295      0.001      -0.870      -0.220\n",
      "roomsq         0.0623      0.013      4.862      0.000       0.037       0.087\n",
      "stratio       -0.0476      0.006     -8.129      0.000      -0.059      -0.036\n",
      "==============================================================================\n",
      "Omnibus:                       56.649   Durbin-Watson:                   0.691\n",
      "Prob(Omnibus):                  0.000   Jarque-Bera (JB):              384.168\n",
      "Skew:                          -0.100   Prob(JB):                     3.79e-84\n",
      "Kurtosis:                       7.264   Cond. No.                     2.30e+03\n",
      "==============================================================================\n",
      "\n",
      "Notes:\n",
      "[1] Standard Errors assume that the covariance matrix of the errors is correctly specified.\n",
      "[2] The condition number is large, 2.3e+03. This might indicate that there are\n",
      "strong multicollinearity or other numerical problems.\n"
     ]
    }
   ],
   "source": [
    "df = dataWoo('hprice2')\n",
    "df['ldist'] = np.log(df['dist'])\n",
    "df['roomsq'] = np.square(df['rooms'])\n",
    "hprice_roomsq = smf.ols(formula='lprice ~ lnox + ldist + rooms + roomsq + stratio + 1', data=df).fit()\n",
    "print(hprice_roomsq.summary())"
   ]
  },
  {
   "cell_type": "markdown",
   "metadata": {},
   "source": [
    "### Example6.3. Effects of attendance on final exam performance"
   ]
  },
  {
   "cell_type": "code",
   "execution_count": 10,
   "metadata": {},
   "outputs": [
    {
     "name": "stdout",
     "output_type": "stream",
     "text": [
      "                            OLS Regression Results                            \n",
      "==============================================================================\n",
      "Dep. Variable:                stndfnl   R-squared:                       0.229\n",
      "Model:                            OLS   Adj. R-squared:                  0.222\n",
      "Method:                 Least Squares   F-statistic:                     33.25\n",
      "Date:                Sun, 30 Jun 2024   Prob (F-statistic):           3.49e-35\n",
      "Time:                        18:52:56   Log-Likelihood:                -868.90\n",
      "No. Observations:                 680   AIC:                             1752.\n",
      "Df Residuals:                     673   BIC:                             1783.\n",
      "Df Model:                           6                                         \n",
      "Covariance Type:            nonrobust                                         \n",
      "==================================================================================\n",
      "                     coef    std err          t      P>|t|      [0.025      0.975]\n",
      "----------------------------------------------------------------------------------\n",
      "Intercept          2.0503      1.360      1.507      0.132      -0.621       4.721\n",
      "atndrte           -0.0067      0.010     -0.656      0.512      -0.027       0.013\n",
      "priGPA            -1.6285      0.481     -3.386      0.001      -2.573      -0.684\n",
      "ACT               -0.1280      0.098     -1.300      0.194      -0.321       0.065\n",
      "priGPAsq           0.2959      0.101      2.928      0.004       0.097       0.494\n",
      "ACTsq              0.0045      0.002      2.083      0.038       0.000       0.009\n",
      "priGPA_atndrte     0.0056      0.004      1.294      0.196      -0.003       0.014\n",
      "==============================================================================\n",
      "Omnibus:                        2.581   Durbin-Watson:                   2.279\n",
      "Prob(Omnibus):                  0.275   Jarque-Bera (JB):                2.474\n",
      "Skew:                          -0.095   Prob(JB):                        0.290\n",
      "Kurtosis:                       3.226   Cond. No.                     2.43e+04\n",
      "==============================================================================\n",
      "\n",
      "Notes:\n",
      "[1] Standard Errors assume that the covariance matrix of the errors is correctly specified.\n",
      "[2] The condition number is large, 2.43e+04. This might indicate that there are\n",
      "strong multicollinearity or other numerical problems.\n"
     ]
    }
   ],
   "source": [
    "df = dataWoo('attend')\n",
    "df['priGPAsq'] = np.square(df['priGPA'])\n",
    "df['ACTsq'] = np.square(df['ACT'])\n",
    "df['priGPA_atndrte'] = df['priGPA']*df['atndrte']\n",
    "attned_perf = smf.ols(formula='stndfnl ~ atndrte + priGPA + ACT + priGPAsq + ACTsq + priGPA_atndrte + 1', \n",
    "                      data=df).fit()\n",
    "print(attned_perf.summary())"
   ]
  },
  {
   "cell_type": "markdown",
   "metadata": {},
   "source": [
    "### Example 6.4. CEO compensation and frim perfromance"
   ]
  },
  {
   "cell_type": "code",
   "execution_count": 11,
   "metadata": {},
   "outputs": [
    {
     "name": "stdout",
     "output_type": "stream",
     "text": [
      "\n",
      "====================================\n",
      "               salary_lin salary_log\n",
      "------------------------------------\n",
      "Intercept      830.631*** 4.362***  \n",
      "               (223.905)  (0.294)   \n",
      "R-squared      0.029      0.282     \n",
      "R-squared Adj. 0.020      0.275     \n",
      "lsales                    0.275***  \n",
      "                          (0.033)   \n",
      "roe            19.631*    0.018***  \n",
      "               (11.077)   (0.004)   \n",
      "sales          0.016*               \n",
      "               (0.009)              \n",
      "N              209        209       \n",
      "R2             0.029      0.282     \n",
      "====================================\n",
      "Standard errors in parentheses.\n",
      "* p<.1, ** p<.05, ***p<.01\n"
     ]
    }
   ],
   "source": [
    "df = dataWoo('ceosal1')\n",
    "\n",
    "salary_lin = smf.ols(formula='salary ~ sales + roe + 1', data=df).fit()\n",
    "salary_log = smf.ols(formula='lsalary ~ lsales + roe + 1', data=df).fit()\n",
    "\n",
    "print(summary_col([salary_lin, salary_log],stars=True,float_format='%0.3f',\n",
    "                  model_names=['salary_lin','salary_log'],\n",
    "                 info_dict={'N':lambda x: \"{0:d}\".format(int(x.nobs)),\n",
    "                             'R2':lambda x: \"{:.3f}\".format(x.rsquared)}))\n"
   ]
  },
  {
   "cell_type": "markdown",
   "metadata": {},
   "source": [
    "### Example 6.5. Confidence interval for predicted college GPA"
   ]
  },
  {
   "cell_type": "code",
   "execution_count": 12,
   "metadata": {},
   "outputs": [
    {
     "name": "stdout",
     "output_type": "stream",
     "text": [
      "                            OLS Regression Results                            \n",
      "==============================================================================\n",
      "Dep. Variable:                 colgpa   R-squared:                       0.278\n",
      "Model:                            OLS   Adj. R-squared:                  0.277\n",
      "Method:                 Least Squares   F-statistic:                     398.0\n",
      "Date:                Sun, 30 Jun 2024   Prob (F-statistic):          2.13e-290\n",
      "Time:                        18:52:56   Log-Likelihood:                -3467.9\n",
      "No. Observations:                4137   AIC:                             6946.\n",
      "Df Residuals:                    4132   BIC:                             6978.\n",
      "Df Model:                           4                                         \n",
      "Covariance Type:            nonrobust                                         \n",
      "==============================================================================\n",
      "                 coef    std err          t      P>|t|      [0.025      0.975]\n",
      "------------------------------------------------------------------------------\n",
      "Intercept      1.4927      0.075     19.812      0.000       1.345       1.640\n",
      "sat            0.0015   6.52e-05     22.886      0.000       0.001       0.002\n",
      "hsperc        -0.0139      0.001    -24.698      0.000      -0.015      -0.013\n",
      "hsize         -0.0609      0.017     -3.690      0.000      -0.093      -0.029\n",
      "hsizesq        0.0055      0.002      2.406      0.016       0.001       0.010\n",
      "==============================================================================\n",
      "Omnibus:                      194.990   Durbin-Watson:                   1.879\n",
      "Prob(Omnibus):                  0.000   Jarque-Bera (JB):              239.365\n",
      "Skew:                          -0.497   Prob(JB):                     1.05e-52\n",
      "Kurtosis:                       3.633   Cond. No.                     9.02e+03\n",
      "==============================================================================\n",
      "\n",
      "Notes:\n",
      "[1] Standard Errors assume that the covariance matrix of the errors is correctly specified.\n",
      "[2] The condition number is large, 9.02e+03. This might indicate that there are\n",
      "strong multicollinearity or other numerical problems.\n"
     ]
    }
   ],
   "source": [
    "df = dataWoo('gpa2')\n",
    "df['hsizesq'] = np.square(df['hsize'])\n",
    "\n",
    "gpa_lin = smf.ols(formula='colgpa ~ sat + hsperc + hsize + hsizesq + 1', data=df).fit()\n",
    "print(gpa_lin.summary())"
   ]
  },
  {
   "cell_type": "code",
   "execution_count": 13,
   "metadata": {},
   "outputs": [
    {
     "name": "stdout",
     "output_type": "stream",
     "text": [
      "                            OLS Regression Results                            \n",
      "==============================================================================\n",
      "Dep. Variable:                 colgpa   R-squared:                       0.278\n",
      "Model:                            OLS   Adj. R-squared:                  0.277\n",
      "Method:                 Least Squares   F-statistic:                     398.0\n",
      "Date:                Sun, 30 Jun 2024   Prob (F-statistic):          2.13e-290\n",
      "Time:                        18:52:56   Log-Likelihood:                -3467.9\n",
      "No. Observations:                4137   AIC:                             6946.\n",
      "Df Residuals:                    4132   BIC:                             6978.\n",
      "Df Model:                           4                                         \n",
      "Covariance Type:            nonrobust                                         \n",
      "==============================================================================\n",
      "                 coef    std err          t      P>|t|      [0.025      0.975]\n",
      "------------------------------------------------------------------------------\n",
      "Intercept      2.7001      0.020    135.833      0.000       2.661       2.739\n",
      "sat0           0.0015   6.52e-05     22.886      0.000       0.001       0.002\n",
      "hsperc0       -0.0139      0.001    -24.698      0.000      -0.015      -0.013\n",
      "hsize0        -0.0063      0.009     -0.730      0.465      -0.023       0.011\n",
      "hsize0sq       0.0055      0.002      2.406      0.016       0.001       0.010\n",
      "==============================================================================\n",
      "Omnibus:                      194.990   Durbin-Watson:                   1.879\n",
      "Prob(Omnibus):                  0.000   Jarque-Bera (JB):              239.365\n",
      "Skew:                          -0.497   Prob(JB):                     1.05e-52\n",
      "Kurtosis:                       3.633   Cond. No.                         503.\n",
      "==============================================================================\n",
      "\n",
      "Notes:\n",
      "[1] Standard Errors assume that the covariance matrix of the errors is correctly specified.\n"
     ]
    }
   ],
   "source": [
    "df['sat0'] = df['sat']-1200\n",
    "df['hsize0'] = df['hsize']-5\n",
    "df['hsperc0'] = df['hsperc']-30\n",
    "df['hsize0sq'] = np.square(df['hsize0'])\n",
    "\n",
    "gpa_predict = smf.ols(formula='colgpa ~ sat0 + hsperc0 + hsize0 + hsize0sq + 1', data=df).fit()\n",
    "print(gpa_predict.summary())"
   ]
  },
  {
   "cell_type": "code",
   "execution_count": 14,
   "metadata": {},
   "outputs": [
    {
     "name": "stdout",
     "output_type": "stream",
     "text": [
      "\n",
      "=====================================\n",
      "               salary_lin gpa_predict\n",
      "-------------------------------------\n",
      "Intercept      1.493***   2.700***   \n",
      "               (0.075)    (0.020)    \n",
      "R-squared      0.278      0.278      \n",
      "R-squared Adj. 0.277      0.277      \n",
      "hsize          -0.061***             \n",
      "               (0.017)               \n",
      "hsize0                    -0.006     \n",
      "                          (0.009)    \n",
      "hsize0sq                  0.005**    \n",
      "                          (0.002)    \n",
      "hsizesq        0.005**               \n",
      "               (0.002)               \n",
      "hsperc         -0.014***             \n",
      "               (0.001)               \n",
      "hsperc0                   -0.014***  \n",
      "                          (0.001)    \n",
      "sat            0.001***              \n",
      "               (0.000)               \n",
      "sat0                      0.001***   \n",
      "                          (0.000)    \n",
      "N              4137       4137       \n",
      "R2             0.278      0.278      \n",
      "=====================================\n",
      "Standard errors in parentheses.\n",
      "* p<.1, ** p<.05, ***p<.01\n"
     ]
    }
   ],
   "source": [
    "print(summary_col([gpa_lin, gpa_predict],stars=True,float_format='%0.3f',\n",
    "                  model_names=['salary_lin','gpa_predict'],\n",
    "                 info_dict={'N':lambda x: \"{0:d}\".format(int(x.nobs)),\n",
    "                             'R2':lambda x: \"{:.3f}\".format(x.rsquared)}))\n"
   ]
  },
  {
   "cell_type": "markdown",
   "metadata": {},
   "source": [
    "### Example 6.6. Confidence Interval for Future Collage GPA"
   ]
  },
  {
   "cell_type": "code",
   "execution_count": 15,
   "metadata": {},
   "outputs": [
    {
     "name": "stdout",
     "output_type": "stream",
     "text": [
      "                            OLS Regression Results                            \n",
      "==============================================================================\n",
      "Dep. Variable:                 colgpa   R-squared:                       0.278\n",
      "Model:                            OLS   Adj. R-squared:                  0.277\n",
      "Method:                 Least Squares   F-statistic:                     398.0\n",
      "Date:                Sun, 30 Jun 2024   Prob (F-statistic):          2.13e-290\n",
      "Time:                        18:52:56   Log-Likelihood:                -3467.9\n",
      "No. Observations:                4137   AIC:                             6946.\n",
      "Df Residuals:                    4132   BIC:                             6978.\n",
      "Df Model:                           4                                         \n",
      "Covariance Type:            nonrobust                                         \n",
      "==============================================================================\n",
      "                 coef    std err          t      P>|t|      [0.025      0.975]\n",
      "------------------------------------------------------------------------------\n",
      "Intercept      1.4927      0.075     19.812      0.000       1.345       1.640\n",
      "sat            0.0015   6.52e-05     22.886      0.000       0.001       0.002\n",
      "hsperc        -0.0139      0.001    -24.698      0.000      -0.015      -0.013\n",
      "hsize         -0.0609      0.017     -3.690      0.000      -0.093      -0.029\n",
      "hsizesq        0.0055      0.002      2.406      0.016       0.001       0.010\n",
      "==============================================================================\n",
      "Omnibus:                      194.990   Durbin-Watson:                   1.879\n",
      "Prob(Omnibus):                  0.000   Jarque-Bera (JB):              239.365\n",
      "Skew:                          -0.497   Prob(JB):                     1.05e-52\n",
      "Kurtosis:                       3.633   Cond. No.                     9.02e+03\n",
      "==============================================================================\n",
      "\n",
      "Notes:\n",
      "[1] Standard Errors assume that the covariance matrix of the errors is correctly specified.\n",
      "[2] The condition number is large, 9.02e+03. This might indicate that there are\n",
      "strong multicollinearity or other numerical problems.\n"
     ]
    }
   ],
   "source": [
    "gpa_lin = smf.ols(formula='colgpa ~ sat + hsperc + hsize + hsizesq + 1', data=df).fit()\n",
    "print(gpa_lin.summary())"
   ]
  },
  {
   "cell_type": "code",
   "execution_count": 16,
   "metadata": {},
   "outputs": [
    {
     "data": {
      "text/plain": [
       "2.7087"
      ]
     },
     "execution_count": 16,
     "metadata": {},
     "output_type": "execute_result"
    }
   ],
   "source": [
    "predicted_value= 1200*.0015 + 30 * -(.0139) + 5*-(.0609) + 5*5*.0055 + 1.4927\n",
    "predicted_value"
   ]
  },
  {
   "cell_type": "markdown",
   "metadata": {},
   "source": [
    "### Example 6.7. Predicting CEO log(salary)"
   ]
  },
  {
   "cell_type": "code",
   "execution_count": 17,
   "metadata": {},
   "outputs": [
    {
     "name": "stdout",
     "output_type": "stream",
     "text": [
      "                            OLS Regression Results                            \n",
      "==============================================================================\n",
      "Dep. Variable:                lsalary   R-squared:                       0.318\n",
      "Model:                            OLS   Adj. R-squared:                  0.306\n",
      "Method:                 Least Squares   F-statistic:                     26.91\n",
      "Date:                Sun, 30 Jun 2024   Prob (F-statistic):           2.47e-14\n",
      "Time:                        18:52:56   Log-Likelihood:                -128.12\n",
      "No. Observations:                 177   AIC:                             264.2\n",
      "Df Residuals:                     173   BIC:                             276.9\n",
      "Df Model:                           3                                         \n",
      "Covariance Type:            nonrobust                                         \n",
      "==============================================================================\n",
      "                 coef    std err          t      P>|t|      [0.025      0.975]\n",
      "------------------------------------------------------------------------------\n",
      "Intercept      4.5038      0.257     17.509      0.000       3.996       5.012\n",
      "lsales         0.1629      0.039      4.150      0.000       0.085       0.240\n",
      "lmktval        0.1092      0.050      2.203      0.029       0.011       0.207\n",
      "ceoten         0.0117      0.005      2.198      0.029       0.001       0.022\n",
      "==============================================================================\n",
      "Omnibus:                       25.596   Durbin-Watson:                   2.044\n",
      "Prob(Omnibus):                  0.000   Jarque-Bera (JB):              123.522\n",
      "Skew:                          -0.291   Prob(JB):                     1.51e-27\n",
      "Kurtosis:                       7.051   Cond. No.                         95.3\n",
      "==============================================================================\n",
      "\n",
      "Notes:\n",
      "[1] Standard Errors assume that the covariance matrix of the errors is correctly specified.\n"
     ]
    }
   ],
   "source": [
    "df = dataWoo('ceosal2')\n",
    "ceo_step1 = smf.ols(formula='lsalary ~ lsales + lmktval + ceoten + 1', data=df).fit()\n",
    "print(ceo_step1.summary())"
   ]
  },
  {
   "cell_type": "code",
   "execution_count": 18,
   "metadata": {},
   "outputs": [
    {
     "data": {
      "text/plain": [
       "1.135661326663072"
      ]
     },
     "execution_count": 18,
     "metadata": {},
     "output_type": "execute_result"
    }
   ],
   "source": [
    "uhat = df.lsalary - ceo_step1.predict()\n",
    "ehat=np.exp(uhat)\n",
    "ehat.mean()"
   ]
  },
  {
   "cell_type": "code",
   "execution_count": 19,
   "metadata": {},
   "outputs": [
    {
     "data": {
      "text/plain": [
       "mhat    1.116857\n",
       "dtype: float64"
      ]
     },
     "execution_count": 19,
     "metadata": {},
     "output_type": "execute_result"
    }
   ],
   "source": [
    "mhat=np.exp(ceo_step1.predict())\n",
    "ceo_step2 = smf.ols(formula='salary ~ mhat + 0', data=df).fit()\n",
    "ceo_step2.params #The coef. as in equation 46.44"
   ]
  },
  {
   "cell_type": "code",
   "execution_count": 20,
   "metadata": {},
   "outputs": [
    {
     "data": {
      "text/plain": [
       "Intercept    4.503795\n",
       "lsales       0.162854\n",
       "lmktval      0.109243\n",
       "ceoten       0.011705\n",
       "dtype: float64"
      ]
     },
     "execution_count": 20,
     "metadata": {},
     "output_type": "execute_result"
    }
   ],
   "source": [
    "ceo_step3= smf.ols(formula='lsalary ~ lsales + lmktval + ceoten + 1', data=df).fit()\n",
    "ceo_step3.params"
   ]
  },
  {
   "cell_type": "code",
   "execution_count": 21,
   "metadata": {},
   "outputs": [
    {
     "data": {
      "text/plain": [
       "7.014019939501504"
      ]
     },
     "execution_count": 21,
     "metadata": {},
     "output_type": "execute_result"
    }
   ],
   "source": [
    "ceo_step3_pred = 4.5038 + .1629*np.log(5000) + .1092*np.log(10000) + .0117*10\n",
    "ceo_step3_pred"
   ]
  },
  {
   "cell_type": "code",
   "execution_count": 22,
   "metadata": {},
   "outputs": [
    {
     "data": {
      "text/plain": [
       "mhat    1.116857\n",
       "dtype: float64"
      ]
     },
     "execution_count": 22,
     "metadata": {},
     "output_type": "execute_result"
    }
   ],
   "source": [
    "ceo_step4 = smf.ols(formula='salary ~ mhat + 0', data=df).fit()\n",
    "ceo_step4.params"
   ]
  },
  {
   "cell_type": "code",
   "execution_count": 23,
   "metadata": {},
   "outputs": [
    {
     "data": {
      "text/plain": [
       "1240.9674054171805"
      ]
     },
     "execution_count": 23,
     "metadata": {},
     "output_type": "execute_result"
    }
   ],
   "source": [
    "ceo_step4_pred = 1.117*np.exp(7.013)\n",
    "ceo_step4_pred"
   ]
  },
  {
   "cell_type": "markdown",
   "metadata": {},
   "source": [
    "### Example 6.8. Predicting CEO salary"
   ]
  },
  {
   "cell_type": "code",
   "execution_count": 24,
   "metadata": {},
   "outputs": [
    {
     "name": "stdout",
     "output_type": "stream",
     "text": [
      "PearsonRResult(statistic=0.49303222976474653, pvalue=3.1363578178118685e-12)\n"
     ]
    }
   ],
   "source": [
    "corr = ss.pearsonr(df.salary, mhat)\n",
    "print(corr) # Returns correlation coeficient and pvalue."
   ]
  },
  {
   "cell_type": "code",
   "execution_count": 25,
   "metadata": {},
   "outputs": [
    {
     "name": "stdout",
     "output_type": "stream",
     "text": [
      "                            OLS Regression Results                            \n",
      "==============================================================================\n",
      "Dep. Variable:                 salary   R-squared:                       0.201\n",
      "Model:                            OLS   Adj. R-squared:                  0.187\n",
      "Method:                 Least Squares   F-statistic:                     14.53\n",
      "Date:                Sun, 30 Jun 2024   Prob (F-statistic):           1.74e-08\n",
      "Time:                        18:52:57   Log-Likelihood:                -1359.3\n",
      "No. Observations:                 177   AIC:                             2727.\n",
      "Df Residuals:                     173   BIC:                             2739.\n",
      "Df Model:                           3                                         \n",
      "Covariance Type:            nonrobust                                         \n",
      "==============================================================================\n",
      "                 coef    std err          t      P>|t|      [0.025      0.975]\n",
      "------------------------------------------------------------------------------\n",
      "Intercept    613.4361     65.237      9.403      0.000     484.673     742.199\n",
      "sales          0.0190      0.010      1.891      0.060      -0.001       0.039\n",
      "mktval         0.0234      0.009      2.468      0.015       0.005       0.042\n",
      "ceoten        12.7034      5.618      2.261      0.025       1.615      23.792\n",
      "==============================================================================\n",
      "Omnibus:                      187.324   Durbin-Watson:                   2.166\n",
      "Prob(Omnibus):                  0.000   Jarque-Bera (JB):             6405.956\n",
      "Skew:                           3.916   Prob(JB):                         0.00\n",
      "Kurtosis:                      31.412   Cond. No.                     1.59e+04\n",
      "==============================================================================\n",
      "\n",
      "Notes:\n",
      "[1] Standard Errors assume that the covariance matrix of the errors is correctly specified.\n",
      "[2] The condition number is large, 1.59e+04. This might indicate that there are\n",
      "strong multicollinearity or other numerical problems.\n"
     ]
    }
   ],
   "source": [
    "ceo_sal= smf.ols(formula='salary ~ sales + mktval + ceoten + 1', data=df).fit()\n",
    "print(ceo_sal.summary())"
   ]
  }
 ],
 "metadata": {
  "kernelspec": {
   "display_name": "Python 3 (ipykernel)",
   "language": "python",
   "name": "python3"
  },
  "language_info": {
   "codemirror_mode": {
    "name": "ipython",
    "version": 3
   },
   "file_extension": ".py",
   "mimetype": "text/x-python",
   "name": "python",
   "nbconvert_exporter": "python",
   "pygments_lexer": "ipython3",
   "version": "3.11.7"
  }
 },
 "nbformat": 4,
 "nbformat_minor": 4
}
