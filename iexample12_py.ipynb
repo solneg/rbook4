{
 "cells": [
  {
   "cell_type": "markdown",
   "metadata": {},
   "source": [
    "# Chapter 12. Serial Correlation and Heteroskedasticity in Time Series Regressions \n",
    "[Home](http://solomonegash.com/) | [Stata](http://solomonegash.com/woodridge1/index.html) | [R](http://solomonegash.com/econometrics/rbook1/index.html)\n"
   ]
  },
  {
   "cell_type": "code",
   "execution_count": 1,
   "metadata": {},
   "outputs": [],
   "source": [
    "import numpy as np\n",
    "import pandas as pd\n",
    "\n",
    "import statsmodels.api as sm\n",
    "import statsmodels.formula.api as smf\n",
    "from statsmodels.iolib.summary2 import summary_col\n",
    "\n",
    "from wooldridge import *"
   ]
  },
  {
   "cell_type": "markdown",
   "metadata": {},
   "source": [
    "### Example 12.1. Testing for AR(1) Serial Correlation in the Phillips Curve"
   ]
  },
  {
   "cell_type": "code",
   "execution_count": 2,
   "metadata": {},
   "outputs": [
    {
     "name": "stdout",
     "output_type": "stream",
     "text": [
      "                            OLS Regression Results                            \n",
      "==============================================================================\n",
      "Dep. Variable:                  uhat1   R-squared:                       0.346\n",
      "Model:                            OLS   Adj. R-squared:                  0.332\n",
      "Method:                 Least Squares   F-statistic:                     24.34\n",
      "Date:                Tue, 02 Jul 2024   Prob (F-statistic):           1.10e-05\n",
      "Time:                        18:08:46   Log-Likelihood:                -110.88\n",
      "No. Observations:                  48   AIC:                             225.8\n",
      "Df Residuals:                      46   BIC:                             229.5\n",
      "Df Model:                           1                                         \n",
      "Covariance Type:            nonrobust                                         \n",
      "==================================================================================\n",
      "                     coef    std err          t      P>|t|      [0.025      0.975]\n",
      "----------------------------------------------------------------------------------\n",
      "Intercept         -0.1134      0.359     -0.316      0.754      -0.837       0.610\n",
      "uhat1.shift(1)     0.5730      0.116      4.934      0.000       0.339       0.807\n",
      "==============================================================================\n",
      "Omnibus:                        6.807   Durbin-Watson:                   1.354\n",
      "Prob(Omnibus):                  0.033   Jarque-Bera (JB):               10.853\n",
      "Skew:                           0.158   Prob(JB):                      0.00440\n",
      "Kurtosis:                       5.308   Cond. No.                         3.09\n",
      "==============================================================================\n",
      "\n",
      "Notes:\n",
      "[1] Standard Errors assume that the covariance matrix of the errors is correctly specified.\n"
     ]
    }
   ],
   "source": [
    "df = dataWoo(\"phillips\")\n",
    "df = df[(df['year']<1997)]\n",
    "\n",
    "df['uhat1'] = smf.ols('df.inf ~ unem + 1', data=df).fit().resid\n",
    "print(smf.ols('uhat1 ~ uhat1.shift(1)', data=df).fit().summary())"
   ]
  },
  {
   "cell_type": "code",
   "execution_count": 3,
   "metadata": {},
   "outputs": [
    {
     "name": "stdout",
     "output_type": "stream",
     "text": [
      "                            OLS Regression Results                            \n",
      "==============================================================================\n",
      "Dep. Variable:                  uhat2   R-squared:                       0.002\n",
      "Model:                            OLS   Adj. R-squared:                 -0.020\n",
      "Method:                 Least Squares   F-statistic:                   0.08254\n",
      "Date:                Tue, 02 Jul 2024   Prob (F-statistic):              0.775\n",
      "Time:                        18:08:46   Log-Likelihood:                -99.620\n",
      "No. Observations:                  47   AIC:                             203.2\n",
      "Df Residuals:                      45   BIC:                             206.9\n",
      "Df Model:                           1                                         \n",
      "Covariance Type:            nonrobust                                         \n",
      "==================================================================================\n",
      "                     coef    std err          t      P>|t|      [0.025      0.975]\n",
      "----------------------------------------------------------------------------------\n",
      "Intercept          0.1942      0.300      0.646      0.521      -0.411       0.799\n",
      "uhat2.shift(1)    -0.0356      0.124     -0.287      0.775      -0.285       0.214\n",
      "==============================================================================\n",
      "Omnibus:                       10.035   Durbin-Watson:                   1.845\n",
      "Prob(Omnibus):                  0.007   Jarque-Bera (JB):               21.015\n",
      "Skew:                          -0.348   Prob(JB):                     2.73e-05\n",
      "Kurtosis:                       6.201   Cond. No.                         2.42\n",
      "==============================================================================\n",
      "\n",
      "Notes:\n",
      "[1] Standard Errors assume that the covariance matrix of the errors is correctly specified.\n"
     ]
    }
   ],
   "source": [
    "df['uhat2'] = smf.ols('df.cinf ~ unem', data=df).fit().resid\n",
    "print(smf.ols('uhat2 ~ uhat2.shift(1)', data=df).fit().summary())"
   ]
  },
  {
   "cell_type": "markdown",
   "metadata": {},
   "source": [
    "### Example 12.2. Testing for AR(1) Serial Correlation in the Minimum Wage Equation"
   ]
  },
  {
   "cell_type": "code",
   "execution_count": 4,
   "metadata": {},
   "outputs": [
    {
     "name": "stdout",
     "output_type": "stream",
     "text": [
      "\n",
      "===============================\n",
      "                 AR1c     AR1s \n",
      "                (b/se)   (b/se)\n",
      "-------------------------------\n",
      "Intercept      -0.851   -0.001 \n",
      "               (1.093)  (0.004)\n",
      "R-squared      0.242    0.165  \n",
      "R-squared Adj. 0.120    0.141  \n",
      "lmincov        0.038           \n",
      "               (0.035)         \n",
      "lprgnp         -0.078          \n",
      "               (0.071)         \n",
      "lusgnp         0.204           \n",
      "               (0.195)         \n",
      "t              -0.003          \n",
      "               (0.004)         \n",
      "uhat.shift(1)  0.481*** 0.417**\n",
      "               (0.166)  (0.159)\n",
      "N              37       37     \n",
      "R2             0.242    0.165  \n",
      "Adj.R2         0.120    0.141  \n",
      "===============================\n",
      "Standard errors in parentheses.\n",
      "* p<.1, ** p<.05, ***p<.01\n"
     ]
    }
   ],
   "source": [
    "df = dataWoo(\"prminwge\")\n",
    "\n",
    "df['uhat'] = smf.ols('lprepop ~ lmincov + lprgnp + lusgnp + t', data=df).fit().resid\n",
    "AR1c = smf.ols('uhat ~  lmincov + lprgnp + lusgnp + t + uhat.shift(1)' , data=df).fit()\n",
    "AR1s  = smf.ols('uhat ~ uhat.shift(1)', data=df).fit()\n",
    "\n",
    "print(summary_col([AR1c, AR1s],stars=True,float_format='%0.3f',\n",
    "                  model_names=['AR1c\\n(b/se)','AR1s\\n(b/se)'],\n",
    "                 info_dict={'N':lambda x: \"{0:d}\".format(int(x.nobs)),\n",
    "                             'R2':lambda x: \"{:.3f}\".format(x.rsquared), \n",
    "                           'Adj.R2':lambda x: \"{:.3f}\".format(x.rsquared_adj)}))"
   ]
  },
  {
   "cell_type": "markdown",
   "metadata": {},
   "source": [
    "### Example 12.3. Testing for AR(3) Serial Correlation"
   ]
  },
  {
   "cell_type": "code",
   "execution_count": 5,
   "metadata": {},
   "outputs": [
    {
     "name": "stdout",
     "output_type": "stream",
     "text": [
      "                            OLS Regression Results                            \n",
      "==============================================================================\n",
      "Dep. Variable:                      u   R-squared:                       0.116\n",
      "Model:                            OLS   Adj. R-squared:                  0.048\n",
      "Method:                 Least Squares   F-statistic:                     1.719\n",
      "Date:                Tue, 02 Jul 2024   Prob (F-statistic):             0.0920\n",
      "Time:                        18:08:46   Log-Likelihood:                -104.56\n",
      "No. Observations:                 128   AIC:                             229.1\n",
      "Df Residuals:                     118   BIC:                             257.6\n",
      "Df Model:                           9                                         \n",
      "Covariance Type:            nonrobust                                         \n",
      "==============================================================================\n",
      "                 coef    std err          t      P>|t|      [0.025      0.975]\n",
      "------------------------------------------------------------------------------\n",
      "Intercept    -14.3692     20.656     -0.696      0.488     -55.273      26.535\n",
      "lchempi       -0.1432      0.472     -0.303      0.762      -1.078       0.792\n",
      "lgas           0.6233      0.886      0.704      0.483      -1.131       2.378\n",
      "lrtwex         0.1787      0.391      0.457      0.649      -0.596       0.953\n",
      "befile6       -0.0859      0.251     -0.342      0.733      -0.583       0.411\n",
      "affile6       -0.1221      0.255     -0.479      0.632      -0.626       0.382\n",
      "afdec6        -0.0668      0.274     -0.244      0.808      -0.610       0.476\n",
      "u.shift(1)     0.2215      0.092      2.417      0.017       0.040       0.403\n",
      "u.shift(2)     0.1340      0.092      1.454      0.148      -0.048       0.317\n",
      "u.shift(3)     0.1255      0.091      1.378      0.171      -0.055       0.306\n",
      "==============================================================================\n",
      "Omnibus:                        6.375   Durbin-Watson:                   1.947\n",
      "Prob(Omnibus):                  0.041   Jarque-Bera (JB):                5.978\n",
      "Skew:                          -0.444   Prob(JB):                       0.0503\n",
      "Kurtosis:                       3.576   Cond. No.                     9.78e+03\n",
      "==============================================================================\n",
      "\n",
      "Notes:\n",
      "[1] Standard Errors assume that the covariance matrix of the errors is correctly specified.\n",
      "[2] The condition number is large, 9.78e+03. This might indicate that there are\n",
      "strong multicollinearity or other numerical problems.\n"
     ]
    }
   ],
   "source": [
    "df = dataWoo(\"barium\")\n",
    "df['u'] = smf.ols('lchnimp ~ lchempi + lgas + lrtwex + befile6 + affile6 + afdec6', data=df).fit().resid\n",
    "AR3 = smf.ols('u ~ lchempi + lgas + lrtwex + befile6 + affile6 + afdec6 + u.shift(1) + u.shift(2) + u.shift(3) + 1', data = df).fit()\n",
    "print(AR3.summary())"
   ]
  },
  {
   "cell_type": "code",
   "execution_count": 6,
   "metadata": {},
   "outputs": [
    {
     "name": "stdout",
     "output_type": "stream",
     "text": [
      "<F test: F=5.1229144202079056, p=0.002289781725887361, df_denom=118, df_num=3>\n"
     ]
    }
   ],
   "source": [
    "hypotheses = '(u.shift(1) = u.shift(2) = u.shift(3) = 0)'\n",
    "f_test = AR3.f_test(hypotheses)\n",
    "print(f_test)"
   ]
  },
  {
   "cell_type": "markdown",
   "metadata": {},
   "source": [
    "### Example 12.4. Prais-Winsten Estimation in the Event Study"
   ]
  },
  {
   "cell_type": "code",
   "execution_count": 7,
   "metadata": {},
   "outputs": [],
   "source": [
    "df = dataWoo(\"barium\")\n",
    "OLS = smf.ols('lchnimp ~ lchempi + lgas + lrtwex + befile6 + affile6 + afdec6', data=df).fit()"
   ]
  },
  {
   "cell_type": "code",
   "execution_count": 8,
   "metadata": {},
   "outputs": [],
   "source": [
    "def ols_ar1(model,rho,drop1=True):\n",
    "    x = model.model.exog\n",
    "    y = model.model.endog\n",
    "    ystar = y[1:]-rho*y[:-1]\n",
    "    xstar = x[1:,]-rho*x[:-1,]\n",
    "    if drop1 == False:\n",
    "        ystar = np.append(np.sqrt(1-rho**2)*y[0],ystar)\n",
    "        xstar = np.append([np.sqrt(1-rho**2)*x[0,]],xstar,axis=0)\n",
    "    model_ar1 = sm.OLS(ystar,xstar).fit()\n",
    "    return(model_ar1)"
   ]
  },
  {
   "cell_type": "code",
   "execution_count": 9,
   "metadata": {},
   "outputs": [],
   "source": [
    "def OLSAR1(model,drop1=True):\n",
    "    x = model.model.exog\n",
    "    y = model.model.endog\n",
    "    e = y-x@model.params\n",
    "    e1 = e[:-1]; e0 = e[1:]\n",
    "    rho0 = np.dot(e1,e[1:])/np.dot(e1,e1)\n",
    "    rdiff = 1.0\n",
    "    while(rdiff>1.0e-5):\n",
    "        model1 = ols_ar1(model,rho0,drop1)\n",
    "        e = y - (x @ model1.params)\n",
    "        e1 = e[:-1]; e0 = e[1:]\n",
    "        rho1 = np.dot(e1,e[1:])/np.dot(e1,e1)\n",
    "        rdiff = np.sqrt((rho1-rho0)**2)\n",
    "        rho0 = rho1\n",
    "        print('Rho = ', rho0)\n",
    "    model1 = ols_ar1(model,rho0,drop1)\n",
    "    return(model1)"
   ]
  },
  {
   "cell_type": "code",
   "execution_count": 10,
   "metadata": {},
   "outputs": [
    {
     "name": "stdout",
     "output_type": "stream",
     "text": [
      "Rho =  0.2910357321865985\n",
      "Rho =  0.29300215914928224\n",
      "Rho =  0.29319585917068286\n",
      "Rho =  0.2932149681976122\n",
      "Rho =  0.29321685363481764\n",
      "                                 OLS Regression Results                                \n",
      "=======================================================================================\n",
      "Dep. Variable:                      y   R-squared (uncentered):                   0.984\n",
      "Model:                            OLS   Adj. R-squared (uncentered):              0.983\n",
      "Method:                 Least Squares   F-statistic:                              1096.\n",
      "Date:                Tue, 02 Jul 2024   Prob (F-statistic):                   2.99e-108\n",
      "Time:                        18:08:46   Log-Likelihood:                         -109.41\n",
      "No. Observations:                 131   AIC:                                      232.8\n",
      "Df Residuals:                     124   BIC:                                      252.9\n",
      "Df Model:                           7                                                  \n",
      "Covariance Type:            nonrobust                                                  \n",
      "==============================================================================\n",
      "                 coef    std err          t      P>|t|      [0.025      0.975]\n",
      "------------------------------------------------------------------------------\n",
      "x1           -37.0777     22.778     -1.628      0.106     -82.162       8.007\n",
      "x2             2.9409      0.633      4.647      0.000       1.688       4.194\n",
      "x3             1.0464      0.977      1.071      0.286      -0.888       2.981\n",
      "x4             1.1328      0.507      2.236      0.027       0.130       2.136\n",
      "x5            -0.0165      0.319     -0.052      0.959      -0.649       0.616\n",
      "x6            -0.0332      0.322     -0.103      0.918      -0.670       0.604\n",
      "x7            -0.5768      0.342     -1.687      0.094      -1.254       0.100\n",
      "==============================================================================\n",
      "Omnibus:                        9.254   Durbin-Watson:                   2.087\n",
      "Prob(Omnibus):                  0.010   Jarque-Bera (JB):                9.875\n",
      "Skew:                          -0.508   Prob(JB):                      0.00717\n",
      "Kurtosis:                       3.881   Cond. No.                     7.69e+03\n",
      "==============================================================================\n",
      "\n",
      "Notes:\n",
      "[1] R² is computed without centering (uncentered) since the model does not contain a constant.\n",
      "[2] Standard Errors assume that the covariance matrix of the errors is correctly specified.\n",
      "[3] The condition number is large, 7.69e+03. This might indicate that there are\n",
      "strong multicollinearity or other numerical problems.\n"
     ]
    }
   ],
   "source": [
    "ar1_pw = OLSAR1(OLS ,drop1=False)\n",
    "print(ar1_pw.summary())"
   ]
  },
  {
   "cell_type": "markdown",
   "metadata": {},
   "source": [
    "### Example 12.5. Static Phillips Curve"
   ]
  },
  {
   "cell_type": "code",
   "execution_count": 11,
   "metadata": {},
   "outputs": [
    {
     "name": "stdout",
     "output_type": "stream",
     "text": [
      "                            OLS Regression Results                            \n",
      "==============================================================================\n",
      "Dep. Variable:                 df.inf   R-squared:                       0.053\n",
      "Model:                            OLS   Adj. R-squared:                  0.033\n",
      "Method:                 Least Squares   F-statistic:                     2.616\n",
      "Date:                Tue, 02 Jul 2024   Prob (F-statistic):              0.112\n",
      "Time:                        18:08:46   Log-Likelihood:                -124.43\n",
      "No. Observations:                  49   AIC:                             252.9\n",
      "Df Residuals:                      47   BIC:                             256.6\n",
      "Df Model:                           1                                         \n",
      "Covariance Type:            nonrobust                                         \n",
      "==============================================================================\n",
      "                 coef    std err          t      P>|t|      [0.025      0.975]\n",
      "------------------------------------------------------------------------------\n",
      "Intercept      1.4236      1.719      0.828      0.412      -2.035       4.882\n",
      "unem           0.4676      0.289      1.617      0.112      -0.114       1.049\n",
      "==============================================================================\n",
      "Omnibus:                        8.905   Durbin-Watson:                   0.803\n",
      "Prob(Omnibus):                  0.012   Jarque-Bera (JB):                8.336\n",
      "Skew:                           0.979   Prob(JB):                       0.0155\n",
      "Kurtosis:                       3.502   Cond. No.                         23.5\n",
      "==============================================================================\n",
      "\n",
      "Notes:\n",
      "[1] Standard Errors assume that the covariance matrix of the errors is correctly specified.\n"
     ]
    }
   ],
   "source": [
    "df = dataWoo(\"phillips\")\n",
    "df = df[(df['year']<1997)]\n",
    "ols = smf.ols('df.inf ~ unem', data=df).fit()\n",
    "print(ols.summary())"
   ]
  },
  {
   "cell_type": "code",
   "execution_count": 12,
   "metadata": {},
   "outputs": [
    {
     "name": "stdout",
     "output_type": "stream",
     "text": [
      "Rho =  0.7306596839389279\n",
      "Rho =  0.7719454382272319\n",
      "Rho =  0.7792180497300137\n",
      "Rho =  0.7803441605388693\n",
      "Rho =  0.780514454709218\n",
      "Rho =  0.7805401123896687\n",
      "Rho =  0.7805439759940054\n",
      "                                 OLS Regression Results                                \n",
      "=======================================================================================\n",
      "Dep. Variable:                      y   R-squared (uncentered):                   0.241\n",
      "Model:                            OLS   Adj. R-squared (uncentered):              0.208\n",
      "Method:                 Least Squares   F-statistic:                              7.446\n",
      "Date:                Tue, 02 Jul 2024   Prob (F-statistic):                     0.00155\n",
      "Time:                        18:08:46   Log-Likelihood:                         -108.62\n",
      "No. Observations:                  49   AIC:                                      221.2\n",
      "Df Residuals:                      47   BIC:                                      225.0\n",
      "Df Model:                           2                                                  \n",
      "Covariance Type:            nonrobust                                                  \n",
      "==============================================================================\n",
      "                 coef    std err          t      P>|t|      [0.025      0.975]\n",
      "------------------------------------------------------------------------------\n",
      "x1             8.2959      2.231      3.718      0.001       3.807      12.785\n",
      "x2            -0.7157      0.313     -2.283      0.027      -1.346      -0.085\n",
      "==============================================================================\n",
      "Omnibus:                        7.441   Durbin-Watson:                   1.910\n",
      "Prob(Omnibus):                  0.024   Jarque-Bera (JB):               11.678\n",
      "Skew:                          -0.280   Prob(JB):                      0.00291\n",
      "Kurtosis:                       5.325   Cond. No.                         11.7\n",
      "==============================================================================\n",
      "\n",
      "Notes:\n",
      "[1] R² is computed without centering (uncentered) since the model does not contain a constant.\n",
      "[2] Standard Errors assume that the covariance matrix of the errors is correctly specified.\n"
     ]
    }
   ],
   "source": [
    "ar1_pw = OLSAR1(ols ,drop1=False)\n",
    "print(ar1_pw.summary())"
   ]
  },
  {
   "cell_type": "markdown",
   "metadata": {},
   "source": [
    "### Example 12.6. Differencing the Interest Rate Equation"
   ]
  },
  {
   "cell_type": "code",
   "execution_count": 13,
   "metadata": {},
   "outputs": [
    {
     "name": "stdout",
     "output_type": "stream",
     "text": [
      "\n",
      "================================================\n",
      "                 AR1u     AR1e    ureg     ereg \n",
      "                (b/se)   (b/se)  (b/se)   (b/se)\n",
      "------------------------------------------------\n",
      "Intercept      0.015    -0.041  1.733*** 0.042  \n",
      "               (0.190)  (0.166) (0.432)  (0.171)\n",
      "R-squared      0.377    0.005   0.602    0.176  \n",
      "R-squared Adj. 0.366    -0.014  0.587    0.145  \n",
      "cdef                                     -0.181 \n",
      "                                         (0.148)\n",
      "def1                            0.513***        \n",
      "                                (0.118)         \n",
      "df.cinf                                  0.149  \n",
      "                                         (0.092)\n",
      "df.inf                          0.606***        \n",
      "                                (0.082)         \n",
      "e.shift(1)              0.072                   \n",
      "                        (0.134)                 \n",
      "u.shift(1)     0.623***                         \n",
      "               (0.110)                          \n",
      "N              55       54      56       55     \n",
      "R2             0.377    0.005   0.602    0.176  \n",
      "Adj.R2         0.366    -0.014  0.587    0.145  \n",
      "================================================\n",
      "Standard errors in parentheses.\n",
      "* p<.1, ** p<.05, ***p<.01\n"
     ]
    }
   ],
   "source": [
    "df = dataWoo(\"intdef\")\n",
    "def1 = df['def']\n",
    "ureg = smf.ols('i3 ~ df.inf + def1', data=df).fit()\n",
    "df['u'] = ureg.resid\n",
    "AR1u = smf.ols('u ~ u.shift(1)', data=df).fit()\n",
    "ereg = smf.ols('ci3 ~ df.cinf + cdef', data=df).fit()\n",
    "df['e'] = ereg.resid\n",
    "AR1e = smf.ols('e ~ e.shift(1)', data=df).fit()\n",
    "\n",
    "print(summary_col([AR1u, AR1e, ureg, ereg],stars=True,float_format='%0.3f',\n",
    "                  model_names=['AR1u\\n(b/se)','AR1e\\n(b/se)', 'ureg\\n(b/se)','ereg\\n(b/se)'],\n",
    "                 info_dict={'N':lambda x: \"{0:d}\".format(int(x.nobs)),\n",
    "                             'R2':lambda x: \"{:.3f}\".format(x.rsquared), \n",
    "                           'Adj.R2':lambda x: \"{:.3f}\".format(x.rsquared_adj)}))"
   ]
  },
  {
   "cell_type": "markdown",
   "metadata": {},
   "source": [
    "### Example 12.7. The Puerto Rican Minimum Wage"
   ]
  },
  {
   "cell_type": "code",
   "execution_count": 14,
   "metadata": {},
   "outputs": [
    {
     "name": "stdout",
     "output_type": "stream",
     "text": [
      "\n",
      "=================================\n",
      "                 OLS      Newey  \n",
      "                (b/se)    (b/se) \n",
      "---------------------------------\n",
      "Intercept      -17.803  -6.663***\n",
      "               (21.045) (1.375)  \n",
      "R-squared      0.305    0.889    \n",
      "R-squared Adj. 0.271    0.876    \n",
      "afdec6         -0.565*           \n",
      "               (0.286)           \n",
      "affile6        -0.032            \n",
      "               (0.264)           \n",
      "befile6        0.060             \n",
      "               (0.261)           \n",
      "lchempi        3.117***          \n",
      "               (0.479)           \n",
      "lgas           0.196             \n",
      "               (0.907)           \n",
      "lmincov                 -0.212***\n",
      "                        (0.042)  \n",
      "lprgnp                  0.285*** \n",
      "                        (0.093)  \n",
      "lrtwex         0.983**           \n",
      "               (0.400)           \n",
      "lusgnp                  0.486*   \n",
      "                        (0.253)  \n",
      "t                       -0.027***\n",
      "                        (0.005)  \n",
      "N              131      38       \n",
      "R2             0.305    0.889    \n",
      "Adj.R2         0.271    0.876    \n",
      "=================================\n",
      "Standard errors in parentheses.\n",
      "* p<.1, ** p<.05, ***p<.01\n"
     ]
    }
   ],
   "source": [
    "df = dataWoo(\"prminwge\")\n",
    "OLS2 =smf.ols('lprepop ~ lmincov + lprgnp + lusgnp + t', data=df).fit()\n",
    "Newey = OLS2.get_robustcov_results(cov_type='HAC',maxlags=1)\n",
    "\n",
    "print(summary_col([OLS, Newey],stars=True,float_format='%0.3f',\n",
    "                  model_names=['OLS\\n(b/se)','Newey\\n(b/se)'],\n",
    "                 info_dict={'N':lambda x: \"{0:d}\".format(int(x.nobs)),\n",
    "                             'R2':lambda x: \"{:.3f}\".format(x.rsquared), \n",
    "                           'Adj.R2':lambda x: \"{:.3f}\".format(x.rsquared_adj)}))"
   ]
  },
  {
   "cell_type": "code",
   "execution_count": 15,
   "metadata": {},
   "outputs": [
    {
     "name": "stdout",
     "output_type": "stream",
     "text": [
      "Rho =  0.5324697530893846\n",
      "Rho =  0.5796268387566654\n",
      "Rho =  0.5999046986034846\n",
      "Rho =  0.6086113183871994\n",
      "Rho =  0.6123431100391632\n",
      "Rho =  0.6139413953891576\n",
      "Rho =  0.6146257121155141\n",
      "Rho =  0.6149186696926453\n",
      "Rho =  0.6150440788117247\n",
      "Rho =  0.6150977626621191\n",
      "Rho =  0.6151207428725802\n",
      "Rho =  0.6151305798698998\n",
      "                                 OLS Regression Results                                \n",
      "=======================================================================================\n",
      "Dep. Variable:                      y   R-squared (uncentered):                   0.995\n",
      "Model:                            OLS   Adj. R-squared (uncentered):              0.994\n",
      "Method:                 Least Squares   F-statistic:                              1336.\n",
      "Date:                Tue, 02 Jul 2024   Prob (F-statistic):                    4.55e-37\n",
      "Time:                        18:08:47   Log-Likelihood:                          83.937\n",
      "No. Observations:                  38   AIC:                                     -157.9\n",
      "Df Residuals:                      33   BIC:                                     -149.7\n",
      "Df Model:                           5                                                  \n",
      "Covariance Type:            nonrobust                                                  \n",
      "==============================================================================\n",
      "                 coef    std err          t      P>|t|      [0.025      0.975]\n",
      "------------------------------------------------------------------------------\n",
      "x1            -4.6529      1.376     -3.380      0.002      -7.453      -1.852\n",
      "x2            -0.1477      0.046     -3.222      0.003      -0.241      -0.054\n",
      "x3             0.2514      0.116      2.159      0.038       0.014       0.488\n",
      "x4             0.2557      0.232      1.103      0.278      -0.216       0.727\n",
      "x5            -0.0205      0.006     -3.501      0.001      -0.032      -0.009\n",
      "==============================================================================\n",
      "Omnibus:                        3.313   Durbin-Watson:                   1.736\n",
      "Prob(Omnibus):                  0.191   Jarque-Bera (JB):                2.453\n",
      "Skew:                           0.618   Prob(JB):                        0.293\n",
      "Kurtosis:                       3.150   Cond. No.                     3.00e+03\n",
      "==============================================================================\n",
      "\n",
      "Notes:\n",
      "[1] R² is computed without centering (uncentered) since the model does not contain a constant.\n",
      "[2] Standard Errors assume that the covariance matrix of the errors is correctly specified.\n",
      "[3] The condition number is large,  3e+03. This might indicate that there are\n",
      "strong multicollinearity or other numerical problems.\n"
     ]
    }
   ],
   "source": [
    "print(OLSAR1(OLS2 ,drop1=False).summary()) #PW"
   ]
  },
  {
   "cell_type": "markdown",
   "metadata": {},
   "source": [
    "### Example 12.8. Heteroskedasticity and the Efficient Markets Hypothesis"
   ]
  },
  {
   "cell_type": "code",
   "execution_count": 16,
   "metadata": {},
   "outputs": [
    {
     "name": "stdout",
     "output_type": "stream",
     "text": [
      "                            OLS Regression Results                            \n",
      "==============================================================================\n",
      "Dep. Variable:         df[(\"return\")]   R-squared:                       0.003\n",
      "Model:                            OLS   Adj. R-squared:                  0.002\n",
      "Method:                 Least Squares   F-statistic:                     2.399\n",
      "Date:                Tue, 02 Jul 2024   Prob (F-statistic):              0.122\n",
      "Time:                        18:08:47   Log-Likelihood:                -1491.2\n",
      "No. Observations:                 689   AIC:                             2986.\n",
      "Df Residuals:                     687   BIC:                             2996.\n",
      "Df Model:                           1                                         \n",
      "Covariance Type:            nonrobust                                         \n",
      "==============================================================================\n",
      "                 coef    std err          t      P>|t|      [0.025      0.975]\n",
      "------------------------------------------------------------------------------\n",
      "Intercept      0.1796      0.081      2.225      0.026       0.021       0.338\n",
      "return_1       0.0589      0.038      1.549      0.122      -0.016       0.134\n",
      "==============================================================================\n",
      "Omnibus:                      114.206   Durbin-Watson:                   1.997\n",
      "Prob(Omnibus):                  0.000   Jarque-Bera (JB):              646.991\n",
      "Skew:                          -0.598   Prob(JB):                    3.22e-141\n",
      "Kurtosis:                       7.594   Cond. No.                         2.14\n",
      "==============================================================================\n",
      "\n",
      "Notes:\n",
      "[1] Standard Errors assume that the covariance matrix of the errors is correctly specified.\n"
     ]
    }
   ],
   "source": [
    "df = dataWoo(\"nyse\")\n",
    "reg1 = smf.ols('df[(\"return\")] ~ return_1', data=df).fit()\n",
    "print(reg1.summary())"
   ]
  },
  {
   "cell_type": "code",
   "execution_count": 17,
   "metadata": {
    "scrolled": true
   },
   "outputs": [
    {
     "name": "stdout",
     "output_type": "stream",
     "text": [
      "                            OLS Regression Results                            \n",
      "==============================================================================\n",
      "Dep. Variable:                     u2   R-squared:                       0.042\n",
      "Model:                            OLS   Adj. R-squared:                  0.041\n",
      "Method:                 Least Squares   F-statistic:                     30.05\n",
      "Date:                Tue, 02 Jul 2024   Prob (F-statistic):           5.90e-08\n",
      "Time:                        18:08:47   Log-Likelihood:                -2639.9\n",
      "No. Observations:                 689   AIC:                             5284.\n",
      "Df Residuals:                     687   BIC:                             5293.\n",
      "Df Model:                           1                                         \n",
      "Covariance Type:            nonrobust                                         \n",
      "==============================================================================\n",
      "                 coef    std err          t      P>|t|      [0.025      0.975]\n",
      "------------------------------------------------------------------------------\n",
      "Intercept      4.6565      0.428     10.888      0.000       3.817       5.496\n",
      "return_1      -1.1041      0.201     -5.482      0.000      -1.500      -0.709\n",
      "==============================================================================\n",
      "Omnibus:                     1296.711   Durbin-Watson:                   1.443\n",
      "Prob(Omnibus):                  0.000   Jarque-Bera (JB):          1627670.115\n",
      "Skew:                          12.811   Prob(JB):                         0.00\n",
      "Kurtosis:                     239.728   Cond. No.                         2.14\n",
      "==============================================================================\n",
      "\n",
      "Notes:\n",
      "[1] Standard Errors assume that the covariance matrix of the errors is correctly specified.\n"
     ]
    }
   ],
   "source": [
    "df['u2'] = np.square(reg1.resid)\n",
    "print(smf.ols('u2 ~ return_1', data=df).fit().summary())"
   ]
  },
  {
   "cell_type": "markdown",
   "metadata": {},
   "source": [
    "### Example 12.9. ARCH in Stock Returns"
   ]
  },
  {
   "cell_type": "code",
   "execution_count": 18,
   "metadata": {},
   "outputs": [
    {
     "name": "stdout",
     "output_type": "stream",
     "text": [
      "                            OLS Regression Results                            \n",
      "==============================================================================\n",
      "Dep. Variable:                     u2   R-squared:                       0.114\n",
      "Model:                            OLS   Adj. R-squared:                  0.112\n",
      "Method:                 Least Squares   F-statistic:                     87.92\n",
      "Date:                Tue, 02 Jul 2024   Prob (F-statistic):           9.71e-20\n",
      "Time:                        18:08:47   Log-Likelihood:                -2609.7\n",
      "No. Observations:                 688   AIC:                             5223.\n",
      "Df Residuals:                     686   BIC:                             5233.\n",
      "Df Model:                           1                                         \n",
      "Covariance Type:            nonrobust                                         \n",
      "===============================================================================\n",
      "                  coef    std err          t      P>|t|      [0.025      0.975]\n",
      "-------------------------------------------------------------------------------\n",
      "Intercept       2.9474      0.440      6.695      0.000       2.083       3.812\n",
      "u2.shift(1)     0.3371      0.036      9.377      0.000       0.266       0.408\n",
      "==============================================================================\n",
      "Omnibus:                     1343.910   Durbin-Watson:                   2.028\n",
      "Prob(Omnibus):                  0.000   Jarque-Bera (JB):          2176433.255\n",
      "Skew:                          13.807   Prob(JB):                         0.00\n",
      "Kurtosis:                     277.152   Cond. No.                         13.2\n",
      "==============================================================================\n",
      "\n",
      "Notes:\n",
      "[1] Standard Errors assume that the covariance matrix of the errors is correctly specified.\n"
     ]
    }
   ],
   "source": [
    "df = dataWoo(\"nyse\")\n",
    "df['u2']= np.square(smf.ols('df[(\"return\")] ~ return_1', data=df).fit().resid)\n",
    "print(smf.ols('u2 ~ u2.shift(1)', data=df).fit().summary())"
   ]
  },
  {
   "cell_type": "code",
   "execution_count": 19,
   "metadata": {},
   "outputs": [
    {
     "name": "stdout",
     "output_type": "stream",
     "text": [
      "                            OLS Regression Results                            \n",
      "==============================================================================\n",
      "Dep. Variable:                      u   R-squared:                       0.000\n",
      "Model:                            OLS   Adj. R-squared:                 -0.001\n",
      "Method:                 Least Squares   F-statistic:                  0.001354\n",
      "Date:                Tue, 02 Jul 2024   Prob (F-statistic):              0.971\n",
      "Time:                        18:08:47   Log-Likelihood:                -1489.5\n",
      "No. Observations:                 688   AIC:                             2983.\n",
      "Df Residuals:                     686   BIC:                             2992.\n",
      "Df Model:                           1                                         \n",
      "Covariance Type:            nonrobust                                         \n",
      "==============================================================================\n",
      "                 coef    std err          t      P>|t|      [0.025      0.975]\n",
      "------------------------------------------------------------------------------\n",
      "Intercept     -0.0012      0.081     -0.015      0.988      -0.159       0.157\n",
      "u.shift(1)     0.0014      0.038      0.037      0.971      -0.074       0.076\n",
      "==============================================================================\n",
      "Omnibus:                      113.368   Durbin-Watson:                   2.000\n",
      "Prob(Omnibus):                  0.000   Jarque-Bera (JB):              640.382\n",
      "Skew:                          -0.594   Prob(JB):                    8.76e-140\n",
      "Kurtosis:                       7.575   Cond. No.                         2.11\n",
      "==============================================================================\n",
      "\n",
      "Notes:\n",
      "[1] Standard Errors assume that the covariance matrix of the errors is correctly specified.\n"
     ]
    }
   ],
   "source": [
    "df['u']= smf.ols('df[(\"return\")] ~ return_1', data=df).fit().resid\n",
    "print(smf.ols('u ~ u.shift(1)', data=df).fit().summary())"
   ]
  }
 ],
 "metadata": {
  "kernelspec": {
   "display_name": "Python 3 (ipykernel)",
   "language": "python",
   "name": "python3"
  },
  "language_info": {
   "codemirror_mode": {
    "name": "ipython",
    "version": 3
   },
   "file_extension": ".py",
   "mimetype": "text/x-python",
   "name": "python",
   "nbconvert_exporter": "python",
   "pygments_lexer": "ipython3",
   "version": "3.11.7"
  }
 },
 "nbformat": 4,
 "nbformat_minor": 4
}
