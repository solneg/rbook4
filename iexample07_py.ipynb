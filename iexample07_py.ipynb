{
 "cells": [
  {
   "cell_type": "markdown",
   "metadata": {},
   "source": [
    "# Chapter 7. Multiple Regression Analysis with Qualitative Information \n",
    "[Home](http://solomonegash.com/) | [Stata](http://solomonegash.com/woodridge1/index.html) | [R](http://solomonegash.com/econometrics/rbook1/index.html)\n"
   ]
  },
  {
   "cell_type": "code",
   "execution_count": 1,
   "metadata": {},
   "outputs": [],
   "source": [
    "import numpy as np\n",
    "import statsmodels.formula.api as smf\n",
    "\n",
    "from wooldridge import *"
   ]
  },
  {
   "cell_type": "markdown",
   "metadata": {},
   "source": [
    "### Example 7.1. Hourly wage equation"
   ]
  },
  {
   "cell_type": "code",
   "execution_count": 2,
   "metadata": {},
   "outputs": [],
   "source": [
    "df = dataWoo('wage1')"
   ]
  },
  {
   "cell_type": "code",
   "execution_count": 3,
   "metadata": {},
   "outputs": [
    {
     "name": "stdout",
     "output_type": "stream",
     "text": [
      "                            OLS Regression Results                            \n",
      "==============================================================================\n",
      "Dep. Variable:                   wage   R-squared:                       0.364\n",
      "Model:                            OLS   Adj. R-squared:                  0.359\n",
      "Method:                 Least Squares   F-statistic:                     74.40\n",
      "Date:                Tue, 02 Jul 2024   Prob (F-statistic):           7.30e-50\n",
      "Time:                        17:51:17   Log-Likelihood:                -1314.2\n",
      "No. Observations:                 526   AIC:                             2638.\n",
      "Df Residuals:                     521   BIC:                             2660.\n",
      "Df Model:                           4                                         \n",
      "Covariance Type:            nonrobust                                         \n",
      "==============================================================================\n",
      "                 coef    std err          t      P>|t|      [0.025      0.975]\n",
      "------------------------------------------------------------------------------\n",
      "Intercept     -1.5679      0.725     -2.164      0.031      -2.991      -0.145\n",
      "female        -1.8109      0.265     -6.838      0.000      -2.331      -1.291\n",
      "educ           0.5715      0.049     11.584      0.000       0.475       0.668\n",
      "exper          0.0254      0.012      2.195      0.029       0.003       0.048\n",
      "tenure         0.1410      0.021      6.663      0.000       0.099       0.183\n",
      "==============================================================================\n",
      "Omnibus:                      185.864   Durbin-Watson:                   1.794\n",
      "Prob(Omnibus):                  0.000   Jarque-Bera (JB):              715.580\n",
      "Skew:                           1.589   Prob(JB):                    4.11e-156\n",
      "Kurtosis:                       7.749   Cond. No.                         141.\n",
      "==============================================================================\n",
      "\n",
      "Notes:\n",
      "[1] Standard Errors assume that the covariance matrix of the errors is correctly specified.\n"
     ]
    }
   ],
   "source": [
    "wage_female = smf.ols(formula='wage ~ female + educ + exper + tenure + 1', data=df).fit()\n",
    "print(wage_female.summary())\n",
    "# b1 measures the average wage difference between men and women who have the same level of educ, exper and tenure."
   ]
  },
  {
   "cell_type": "code",
   "execution_count": 4,
   "metadata": {},
   "outputs": [
    {
     "name": "stdout",
     "output_type": "stream",
     "text": [
      "                            OLS Regression Results                            \n",
      "==============================================================================\n",
      "Dep. Variable:                   wage   R-squared:                       0.116\n",
      "Model:                            OLS   Adj. R-squared:                  0.114\n",
      "Method:                 Least Squares   F-statistic:                     68.54\n",
      "Date:                Tue, 02 Jul 2024   Prob (F-statistic):           1.04e-15\n",
      "Time:                        17:51:17   Log-Likelihood:                -1400.7\n",
      "No. Observations:                 526   AIC:                             2805.\n",
      "Df Residuals:                     524   BIC:                             2814.\n",
      "Df Model:                           1                                         \n",
      "Covariance Type:            nonrobust                                         \n",
      "==============================================================================\n",
      "                 coef    std err          t      P>|t|      [0.025      0.975]\n",
      "------------------------------------------------------------------------------\n",
      "Intercept      7.0995      0.210     33.806      0.000       6.687       7.512\n",
      "female        -2.5118      0.303     -8.279      0.000      -3.108      -1.916\n",
      "==============================================================================\n",
      "Omnibus:                      223.488   Durbin-Watson:                   1.818\n",
      "Prob(Omnibus):                  0.000   Jarque-Bera (JB):              929.998\n",
      "Skew:                           1.928   Prob(JB):                    1.13e-202\n",
      "Kurtosis:                       8.250   Cond. No.                         2.57\n",
      "==============================================================================\n",
      "\n",
      "Notes:\n",
      "[1] Standard Errors assume that the covariance matrix of the errors is correctly specified.\n"
     ]
    }
   ],
   "source": [
    "wage_female = smf.ols(formula='wage ~ female + 1', data=df).fit()\n",
    "print(wage_female.summary())\n",
    "# b0 is the average wage for men in the sample."
   ]
  },
  {
   "cell_type": "code",
   "execution_count": 5,
   "metadata": {},
   "outputs": [
    {
     "data": {
      "text/html": [
       "<div>\n",
       "<style scoped>\n",
       "    .dataframe tbody tr th:only-of-type {\n",
       "        vertical-align: middle;\n",
       "    }\n",
       "\n",
       "    .dataframe tbody tr th {\n",
       "        vertical-align: top;\n",
       "    }\n",
       "\n",
       "    .dataframe thead th {\n",
       "        text-align: right;\n",
       "    }\n",
       "</style>\n",
       "<table border=\"1\" class=\"dataframe\">\n",
       "  <thead>\n",
       "    <tr style=\"text-align: right;\">\n",
       "      <th></th>\n",
       "      <th>wage</th>\n",
       "      <th>educ</th>\n",
       "      <th>exper</th>\n",
       "      <th>tenure</th>\n",
       "      <th>value</th>\n",
       "    </tr>\n",
       "    <tr>\n",
       "      <th>female</th>\n",
       "      <th></th>\n",
       "      <th></th>\n",
       "      <th></th>\n",
       "      <th></th>\n",
       "      <th></th>\n",
       "    </tr>\n",
       "  </thead>\n",
       "  <tbody>\n",
       "    <tr>\n",
       "      <th>0</th>\n",
       "      <td>7.099489</td>\n",
       "      <td>12.788321</td>\n",
       "      <td>17.558394</td>\n",
       "      <td>6.474453</td>\n",
       "      <td>32.003058</td>\n",
       "    </tr>\n",
       "    <tr>\n",
       "      <th>1</th>\n",
       "      <td>4.587659</td>\n",
       "      <td>12.317460</td>\n",
       "      <td>16.428571</td>\n",
       "      <td>3.615079</td>\n",
       "      <td>26.502281</td>\n",
       "    </tr>\n",
       "  </tbody>\n",
       "</table>\n",
       "</div>"
      ],
      "text/plain": [
       "            wage       educ      exper    tenure      value\n",
       "female                                                     \n",
       "0       7.099489  12.788321  17.558394  6.474453  32.003058\n",
       "1       4.587659  12.317460  16.428571  3.615079  26.502281"
      ]
     },
     "execution_count": 5,
     "metadata": {},
     "output_type": "execute_result"
    }
   ],
   "source": [
    "#Mean wage for male and female\n",
    "from pandas.api.types import CategoricalDtype\n",
    "df = df.melt(['wage', 'educ','exper', 'tenure', 'female'])\n",
    "df.groupby('female').mean(numeric_only=True) "
   ]
  },
  {
   "cell_type": "markdown",
   "metadata": {},
   "source": [
    "### Example 7.2. Effect of computer ownership on collage GPA"
   ]
  },
  {
   "cell_type": "code",
   "execution_count": 6,
   "metadata": {},
   "outputs": [
    {
     "name": "stdout",
     "output_type": "stream",
     "text": [
      "                            OLS Regression Results                            \n",
      "==============================================================================\n",
      "Dep. Variable:                 colGPA   R-squared:                       0.219\n",
      "Model:                            OLS   Adj. R-squared:                  0.202\n",
      "Method:                 Least Squares   F-statistic:                     12.83\n",
      "Date:                Tue, 02 Jul 2024   Prob (F-statistic):           1.93e-07\n",
      "Time:                        17:51:17   Log-Likelihood:                -42.796\n",
      "No. Observations:                 141   AIC:                             93.59\n",
      "Df Residuals:                     137   BIC:                             105.4\n",
      "Df Model:                           3                                         \n",
      "Covariance Type:            nonrobust                                         \n",
      "==============================================================================\n",
      "                 coef    std err          t      P>|t|      [0.025      0.975]\n",
      "------------------------------------------------------------------------------\n",
      "Intercept      1.2635      0.333      3.793      0.000       0.605       1.922\n",
      "PC             0.1573      0.057      2.746      0.007       0.044       0.271\n",
      "hsGPA          0.4472      0.094      4.776      0.000       0.262       0.632\n",
      "ACT            0.0087      0.011      0.822      0.413      -0.012       0.029\n",
      "==============================================================================\n",
      "Omnibus:                        2.770   Durbin-Watson:                   1.870\n",
      "Prob(Omnibus):                  0.250   Jarque-Bera (JB):                1.863\n",
      "Skew:                           0.016   Prob(JB):                        0.394\n",
      "Kurtosis:                       2.438   Cond. No.                         298.\n",
      "==============================================================================\n",
      "\n",
      "Notes:\n",
      "[1] Standard Errors assume that the covariance matrix of the errors is correctly specified.\n"
     ]
    }
   ],
   "source": [
    "df = dataWoo('gpa1')\n",
    "colGPA_ur = smf.ols(formula='colGPA ~ PC + hsGPA + ACT + 1', data=df).fit()\n",
    "print(colGPA_ur.summary())"
   ]
  },
  {
   "cell_type": "code",
   "execution_count": 7,
   "metadata": {},
   "outputs": [
    {
     "name": "stdout",
     "output_type": "stream",
     "text": [
      "                            OLS Regression Results                            \n",
      "==============================================================================\n",
      "Dep. Variable:                 colGPA   R-squared:                       0.050\n",
      "Model:                            OLS   Adj. R-squared:                  0.043\n",
      "Method:                 Least Squares   F-statistic:                     7.314\n",
      "Date:                Tue, 02 Jul 2024   Prob (F-statistic):            0.00770\n",
      "Time:                        17:51:17   Log-Likelihood:                -56.641\n",
      "No. Observations:                 141   AIC:                             117.3\n",
      "Df Residuals:                     139   BIC:                             123.2\n",
      "Df Model:                           1                                         \n",
      "Covariance Type:            nonrobust                                         \n",
      "==============================================================================\n",
      "                 coef    std err          t      P>|t|      [0.025      0.975]\n",
      "------------------------------------------------------------------------------\n",
      "Intercept      2.9894      0.040     75.678      0.000       2.911       3.068\n",
      "PC             0.1695      0.063      2.704      0.008       0.046       0.293\n",
      "==============================================================================\n",
      "Omnibus:                        2.136   Durbin-Watson:                   1.941\n",
      "Prob(Omnibus):                  0.344   Jarque-Bera (JB):                1.852\n",
      "Skew:                           0.160   Prob(JB):                        0.396\n",
      "Kurtosis:                       2.539   Cond. No.                         2.45\n",
      "==============================================================================\n",
      "\n",
      "Notes:\n",
      "[1] Standard Errors assume that the covariance matrix of the errors is correctly specified.\n"
     ]
    }
   ],
   "source": [
    "colGPA_r = smf.ols(formula='colGPA ~ PC + 1', data=df).fit()\n",
    "print(colGPA_r.summary())"
   ]
  },
  {
   "cell_type": "code",
   "execution_count": 8,
   "metadata": {},
   "outputs": [
    {
     "data": {
      "text/html": [
       "<div>\n",
       "<style scoped>\n",
       "    .dataframe tbody tr th:only-of-type {\n",
       "        vertical-align: middle;\n",
       "    }\n",
       "\n",
       "    .dataframe tbody tr th {\n",
       "        vertical-align: top;\n",
       "    }\n",
       "\n",
       "    .dataframe thead th {\n",
       "        text-align: right;\n",
       "    }\n",
       "</style>\n",
       "<table border=\"1\" class=\"dataframe\">\n",
       "  <thead>\n",
       "    <tr style=\"text-align: right;\">\n",
       "      <th></th>\n",
       "      <th>colGPA</th>\n",
       "      <th>value</th>\n",
       "    </tr>\n",
       "    <tr>\n",
       "      <th>PC</th>\n",
       "      <th></th>\n",
       "      <th></th>\n",
       "    </tr>\n",
       "  </thead>\n",
       "  <tbody>\n",
       "    <tr>\n",
       "      <th>0</th>\n",
       "      <td>2.989412</td>\n",
       "      <td>2.256078</td>\n",
       "    </tr>\n",
       "    <tr>\n",
       "      <th>1</th>\n",
       "      <td>3.158929</td>\n",
       "      <td>2.250529</td>\n",
       "    </tr>\n",
       "  </tbody>\n",
       "</table>\n",
       "</div>"
      ],
      "text/plain": [
       "      colGPA     value\n",
       "PC                    \n",
       "0   2.989412  2.256078\n",
       "1   3.158929  2.250529"
      ]
     },
     "execution_count": 8,
     "metadata": {},
     "output_type": "execute_result"
    }
   ],
   "source": [
    "df = df.melt(['PC', 'colGPA'])\n",
    "df.groupby('PC').mean(numeric_only=True) "
   ]
  },
  {
   "cell_type": "markdown",
   "metadata": {},
   "source": [
    "### Example 7.3. Effect of Training Grants on hours of training"
   ]
  },
  {
   "cell_type": "code",
   "execution_count": 9,
   "metadata": {},
   "outputs": [
    {
     "name": "stdout",
     "output_type": "stream",
     "text": [
      "                            OLS Regression Results                            \n",
      "==============================================================================\n",
      "Dep. Variable:                 hrsemp   R-squared:                       0.237\n",
      "Model:                            OLS   Adj. R-squared:                  0.214\n",
      "Method:                 Least Squares   F-statistic:                     10.44\n",
      "Date:                Tue, 02 Jul 2024   Prob (F-statistic):           4.80e-06\n",
      "Time:                        17:51:17   Log-Likelihood:                -482.29\n",
      "No. Observations:                 105   AIC:                             972.6\n",
      "Df Residuals:                     101   BIC:                             983.2\n",
      "Df Model:                           3                                         \n",
      "Covariance Type:            nonrobust                                         \n",
      "==============================================================================\n",
      "                 coef    std err          t      P>|t|      [0.025      0.975]\n",
      "------------------------------------------------------------------------------\n",
      "Intercept     46.6651     43.412      1.075      0.285     -39.453     132.783\n",
      "grant         26.2545      5.592      4.695      0.000      15.162      37.347\n",
      "lsales        -0.9846      3.540     -0.278      0.781      -8.007       6.038\n",
      "lemploy       -6.0699      3.883     -1.563      0.121     -13.772       1.633\n",
      "==============================================================================\n",
      "Omnibus:                       66.291   Durbin-Watson:                   2.182\n",
      "Prob(Omnibus):                  0.000   Jarque-Bera (JB):              284.382\n",
      "Skew:                           2.191   Prob(JB):                     1.77e-62\n",
      "Kurtosis:                       9.767   Cond. No.                         285.\n",
      "==============================================================================\n",
      "\n",
      "Notes:\n",
      "[1] Standard Errors assume that the covariance matrix of the errors is correctly specified.\n"
     ]
    }
   ],
   "source": [
    "df = dataWoo('jtrain')\n",
    "df = df[(df['year']==1988)]\n",
    "jobb_reg = smf.ols(formula='hrsemp ~ grant + lsales + lemploy + 1', data=df).fit()\n",
    "print(jobb_reg.summary())"
   ]
  },
  {
   "cell_type": "markdown",
   "metadata": {},
   "source": [
    "### Example 7.4. Housing price regression"
   ]
  },
  {
   "cell_type": "code",
   "execution_count": 10,
   "metadata": {
    "scrolled": true
   },
   "outputs": [
    {
     "name": "stdout",
     "output_type": "stream",
     "text": [
      "                            OLS Regression Results                            \n",
      "==============================================================================\n",
      "Dep. Variable:                 lprice   R-squared:                       0.649\n",
      "Model:                            OLS   Adj. R-squared:                  0.632\n",
      "Method:                 Least Squares   F-statistic:                     38.38\n",
      "Date:                Tue, 02 Jul 2024   Prob (F-statistic):           3.74e-18\n",
      "Time:                        17:51:17   Log-Likelihood:                 26.619\n",
      "No. Observations:                  88   AIC:                            -43.24\n",
      "Df Residuals:                      83   BIC:                            -30.85\n",
      "Df Model:                           4                                         \n",
      "Covariance Type:            nonrobust                                         \n",
      "==============================================================================\n",
      "                 coef    std err          t      P>|t|      [0.025      0.975]\n",
      "------------------------------------------------------------------------------\n",
      "Intercept     -1.3496      0.651     -2.073      0.041      -2.644      -0.055\n",
      "llotsize       0.1678      0.038      4.395      0.000       0.092       0.244\n",
      "lsqrft         0.7072      0.093      7.620      0.000       0.523       0.892\n",
      "bdrms          0.0268      0.029      0.934      0.353      -0.030       0.084\n",
      "colonial       0.0538      0.045      1.202      0.233      -0.035       0.143\n",
      "==============================================================================\n",
      "Omnibus:                       13.728   Durbin-Watson:                   2.077\n",
      "Prob(Omnibus):                  0.001   Jarque-Bera (JB):               50.828\n",
      "Skew:                          -0.053   Prob(JB):                     9.18e-12\n",
      "Kurtosis:                       6.722   Cond. No.                         411.\n",
      "==============================================================================\n",
      "\n",
      "Notes:\n",
      "[1] Standard Errors assume that the covariance matrix of the errors is correctly specified.\n"
     ]
    }
   ],
   "source": [
    "df = dataWoo('hprice1')\n",
    "hrpice_reg = smf.ols(formula='lprice ~ llotsize + lsqrft  + bdrms + colonial + 1', data=df).fit()\n",
    "print(hrpice_reg.summary())"
   ]
  },
  {
   "cell_type": "markdown",
   "metadata": {},
   "source": [
    "### Example7.5. Hourly wage equation"
   ]
  },
  {
   "cell_type": "code",
   "execution_count": 11,
   "metadata": {},
   "outputs": [
    {
     "name": "stdout",
     "output_type": "stream",
     "text": [
      "                            OLS Regression Results                            \n",
      "==============================================================================\n",
      "Dep. Variable:                  lwage   R-squared:                       0.441\n",
      "Model:                            OLS   Adj. R-squared:                  0.434\n",
      "Method:                 Least Squares   F-statistic:                     68.18\n",
      "Date:                Tue, 02 Jul 2024   Prob (F-statistic):           2.11e-62\n",
      "Time:                        17:51:17   Log-Likelihood:                -260.59\n",
      "No. Observations:                 526   AIC:                             535.2\n",
      "Df Residuals:                     519   BIC:                             565.0\n",
      "Df Model:                           6                                         \n",
      "Covariance Type:            nonrobust                                         \n",
      "==============================================================================\n",
      "                 coef    std err          t      P>|t|      [0.025      0.975]\n",
      "------------------------------------------------------------------------------\n",
      "Intercept      0.4167      0.099      4.212      0.000       0.222       0.611\n",
      "female        -0.2965      0.036     -8.281      0.000      -0.367      -0.226\n",
      "educ           0.0802      0.007     11.868      0.000       0.067       0.093\n",
      "exper          0.0294      0.005      5.916      0.000       0.020       0.039\n",
      "expersq       -0.0006      0.000     -5.431      0.000      -0.001      -0.000\n",
      "tenure         0.0317      0.007      4.633      0.000       0.018       0.045\n",
      "tenursq       -0.0006      0.000     -2.493      0.013      -0.001      -0.000\n",
      "==============================================================================\n",
      "Omnibus:                       13.111   Durbin-Watson:                   1.796\n",
      "Prob(Omnibus):                  0.001   Jarque-Bera (JB):               24.212\n",
      "Skew:                          -0.085   Prob(JB):                     5.53e-06\n",
      "Kurtosis:                       4.037   Cond. No.                     4.49e+03\n",
      "==============================================================================\n",
      "\n",
      "Notes:\n",
      "[1] Standard Errors assume that the covariance matrix of the errors is correctly specified.\n",
      "[2] The condition number is large, 4.49e+03. This might indicate that there are\n",
      "strong multicollinearity or other numerical problems.\n"
     ]
    }
   ],
   "source": [
    "df = dataWoo('wage1')\n",
    "wage_reg = smf.ols(formula='lwage ~ female + educ  + exper + expersq + tenure + tenursq + 1', data=df).fit()\n",
    "print(wage_reg.summary())"
   ]
  },
  {
   "cell_type": "code",
   "execution_count": 12,
   "metadata": {},
   "outputs": [
    {
     "data": {
      "text/plain": [
       "-0.2565843727358956"
      ]
     },
     "execution_count": 12,
     "metadata": {},
     "output_type": "execute_result"
    }
   ],
   "source": [
    "level = np.exp(-.2965) - 1 \n",
    "level"
   ]
  },
  {
   "cell_type": "markdown",
   "metadata": {},
   "source": [
    "### Example 7.6. Hourly wage equation "
   ]
  },
  {
   "cell_type": "code",
   "execution_count": 13,
   "metadata": {},
   "outputs": [
    {
     "name": "stdout",
     "output_type": "stream",
     "text": [
      "                            OLS Regression Results                            \n",
      "==============================================================================\n",
      "Dep. Variable:                  lwage   R-squared:                       0.461\n",
      "Model:                            OLS   Adj. R-squared:                  0.460\n",
      "Method:                 Least Squares   F-statistic:                     842.1\n",
      "Date:                Tue, 02 Jul 2024   Prob (F-statistic):               0.00\n",
      "Time:                        17:51:18   Log-Likelihood:                -3764.3\n",
      "No. Observations:                7890   AIC:                             7547.\n",
      "Df Residuals:                    7881   BIC:                             7609.\n",
      "Df Model:                           8                                         \n",
      "Covariance Type:            nonrobust                                         \n",
      "==================================================================================\n",
      "                     coef    std err          t      P>|t|      [0.025      0.975]\n",
      "----------------------------------------------------------------------------------\n",
      "Intercept          0.3214      0.026     12.547      0.000       0.271       0.372\n",
      "female            -0.1104      0.014     -7.729      0.000      -0.138      -0.082\n",
      "married            0.2127      0.014     15.000      0.000       0.185       0.240\n",
      "female:married    -0.3006      0.018    -16.353      0.000      -0.337      -0.265\n",
      "educ               0.0789      0.002     46.022      0.000       0.076       0.082\n",
      "exper              0.0268      0.001     19.958      0.000       0.024       0.029\n",
      "expersq           -0.0005   2.83e-05    -18.925      0.000      -0.001      -0.000\n",
      "tenure             0.0291      0.002     16.795      0.000       0.026       0.032\n",
      "tenursq           -0.0005   5.92e-05     -9.002      0.000      -0.001      -0.000\n",
      "==============================================================================\n",
      "Omnibus:                      203.516   Durbin-Watson:                   1.786\n",
      "Prob(Omnibus):                  0.000   Jarque-Bera (JB):              482.736\n",
      "Skew:                          -0.062   Prob(JB):                    1.50e-105\n",
      "Kurtosis:                       4.205   Cond. No.                     5.06e+03\n",
      "==============================================================================\n",
      "\n",
      "Notes:\n",
      "[1] Standard Errors assume that the covariance matrix of the errors is correctly specified.\n",
      "[2] The condition number is large, 5.06e+03. This might indicate that there are\n",
      "strong multicollinearity or other numerical problems.\n"
     ]
    }
   ],
   "source": [
    "df = dataWoo('wage1')\n",
    "df = df.melt(['wage','lwage', 'educ','exper', 'expersq', 'tenure', 'tenursq', 'female', 'married' ])\n",
    "wage_reg = smf.ols('lwage ~ female * married + educ  + exper + expersq + tenure + tenursq + 1', data=df).fit()\n",
    "print(wage_reg.summary())"
   ]
  },
  {
   "cell_type": "markdown",
   "metadata": {},
   "source": [
    "### Example 7.7. Effects of physical attractiveness on wage"
   ]
  },
  {
   "cell_type": "code",
   "execution_count": 14,
   "metadata": {},
   "outputs": [
    {
     "name": "stdout",
     "output_type": "stream",
     "text": [
      "                            OLS Regression Results                            \n",
      "==============================================================================\n",
      "Dep. Variable:                  lwage   R-squared:                       0.255\n",
      "Model:                            OLS   Adj. R-squared:                  0.246\n",
      "Method:                 Least Squares   F-statistic:                     27.82\n",
      "Date:                Tue, 02 Jul 2024   Prob (F-statistic):           5.64e-46\n",
      "Time:                        17:51:18   Log-Likelihood:                -540.02\n",
      "No. Observations:                 824   AIC:                             1102.\n",
      "Df Residuals:                     813   BIC:                             1154.\n",
      "Df Model:                          10                                         \n",
      "Covariance Type:            nonrobust                                         \n",
      "==============================================================================\n",
      "                 coef    std err          t      P>|t|      [0.025      0.975]\n",
      "------------------------------------------------------------------------------\n",
      "Intercept      0.4778      0.120      3.970      0.000       0.242       0.714\n",
      "belavg        -0.1647      0.053     -3.113      0.002      -0.269      -0.061\n",
      "abvavg        -0.0250      0.038     -0.662      0.508      -0.099       0.049\n",
      "educ           0.0607      0.007      9.218      0.000       0.048       0.074\n",
      "exper          0.0464      0.006      8.019      0.000       0.035       0.058\n",
      "expersq       -0.0007      0.000     -5.883      0.000      -0.001      -0.000\n",
      "union          0.1485      0.036      4.099      0.000       0.077       0.220\n",
      "married        0.0644      0.044      1.454      0.146      -0.022       0.151\n",
      "black         -0.2570      0.076     -3.397      0.001      -0.405      -0.108\n",
      "south          0.0853      0.043      1.991      0.047       0.001       0.169\n",
      "goodhlth       0.0011      0.070      0.016      0.987      -0.137       0.139\n",
      "==============================================================================\n",
      "Omnibus:                       29.805   Durbin-Watson:                   1.789\n",
      "Prob(Omnibus):                  0.000   Jarque-Bera (JB):               64.071\n",
      "Skew:                           0.180   Prob(JB):                     1.22e-14\n",
      "Kurtosis:                       4.318   Cond. No.                     6.27e+03\n",
      "==============================================================================\n",
      "\n",
      "Notes:\n",
      "[1] Standard Errors assume that the covariance matrix of the errors is correctly specified.\n",
      "[2] The condition number is large, 6.27e+03. This might indicate that there are\n",
      "strong multicollinearity or other numerical problems.\n"
     ]
    }
   ],
   "source": [
    "df = dataWoo('beauty')\n",
    "df = df[(df['female']==0)]\n",
    "wage_reg = smf.ols('lwage ~ belavg + abvavg + educ  + exper + expersq + union + married + black + south + goodhlth + 1', \n",
    "                   data=df).fit()\n",
    "print(wage_reg.summary())"
   ]
  },
  {
   "cell_type": "code",
   "execution_count": 15,
   "metadata": {},
   "outputs": [
    {
     "name": "stdout",
     "output_type": "stream",
     "text": [
      "                            OLS Regression Results                            \n",
      "==============================================================================\n",
      "Dep. Variable:                  lwage   R-squared:                       0.278\n",
      "Model:                            OLS   Adj. R-squared:                  0.261\n",
      "Method:                 Least Squares   F-statistic:                     16.40\n",
      "Date:                Tue, 02 Jul 2024   Prob (F-statistic):           4.31e-25\n",
      "Time:                        17:51:18   Log-Likelihood:                -265.56\n",
      "No. Observations:                 436   AIC:                             553.1\n",
      "Df Residuals:                     425   BIC:                             598.0\n",
      "Df Model:                          10                                         \n",
      "Covariance Type:            nonrobust                                         \n",
      "==============================================================================\n",
      "                 coef    std err          t      P>|t|      [0.025      0.975]\n",
      "------------------------------------------------------------------------------\n",
      "Intercept     -0.0773      0.144     -0.536      0.592      -0.361       0.206\n",
      "belavg        -0.1142      0.066     -1.718      0.087      -0.245       0.016\n",
      "abvavg         0.0686      0.049      1.398      0.163      -0.028       0.165\n",
      "educ           0.0757      0.009      8.502      0.000       0.058       0.093\n",
      "exper          0.0295      0.007      4.109      0.000       0.015       0.044\n",
      "expersq       -0.0005      0.000     -2.814      0.005      -0.001      -0.000\n",
      "union          0.2927      0.054      5.431      0.000       0.187       0.399\n",
      "married       -0.0623      0.044     -1.404      0.161      -0.149       0.025\n",
      "black          0.1438      0.069      2.087      0.038       0.008       0.279\n",
      "south          0.0085      0.060      0.142      0.887      -0.109       0.126\n",
      "goodhlth       0.1131      0.081      1.391      0.165      -0.047       0.273\n",
      "==============================================================================\n",
      "Omnibus:                       33.272   Durbin-Watson:                   1.868\n",
      "Prob(Omnibus):                  0.000   Jarque-Bera (JB):              111.518\n",
      "Skew:                           0.238   Prob(JB):                     6.08e-25\n",
      "Kurtosis:                       5.432   Cond. No.                     3.70e+03\n",
      "==============================================================================\n",
      "\n",
      "Notes:\n",
      "[1] Standard Errors assume that the covariance matrix of the errors is correctly specified.\n",
      "[2] The condition number is large, 3.7e+03. This might indicate that there are\n",
      "strong multicollinearity or other numerical problems.\n"
     ]
    }
   ],
   "source": [
    "df = dataWoo('beauty')\n",
    "df = df[(df['female']==1)]\n",
    "beauty_reg = smf.ols('lwage ~ belavg + abvavg + educ  + exper + expersq + union + married + black + south + goodhlth + 1',\n",
    "                     data=df).fit()\n",
    "print(beauty_reg.summary())"
   ]
  },
  {
   "cell_type": "markdown",
   "metadata": {},
   "source": [
    "### Example 7.8. Effects of law school rankings on starting salaries"
   ]
  },
  {
   "cell_type": "code",
   "execution_count": 16,
   "metadata": {},
   "outputs": [
    {
     "name": "stdout",
     "output_type": "stream",
     "text": [
      "                            OLS Regression Results                            \n",
      "==============================================================================\n",
      "Dep. Variable:                lsalary   R-squared:                       0.911\n",
      "Model:                            OLS   Adj. R-squared:                  0.905\n",
      "Method:                 Least Squares   F-statistic:                     143.2\n",
      "Date:                Tue, 02 Jul 2024   Prob (F-statistic):           9.45e-62\n",
      "Time:                        17:51:18   Log-Likelihood:                 146.45\n",
      "No. Observations:                 136   AIC:                            -272.9\n",
      "Df Residuals:                     126   BIC:                            -243.8\n",
      "Df Model:                           9                                         \n",
      "Covariance Type:            nonrobust                                         \n",
      "==============================================================================\n",
      "                 coef    std err          t      P>|t|      [0.025      0.975]\n",
      "------------------------------------------------------------------------------\n",
      "Intercept      9.1653      0.411     22.277      0.000       8.351       9.979\n",
      "top10          0.6996      0.053     13.078      0.000       0.594       0.805\n",
      "r11_25         0.5935      0.039     15.049      0.000       0.515       0.672\n",
      "r26_40         0.3751      0.034     11.005      0.000       0.308       0.443\n",
      "r41_60         0.2628      0.028      9.399      0.000       0.207       0.318\n",
      "r61_100        0.1316      0.021      6.254      0.000       0.090       0.173\n",
      "LSAT           0.0057      0.003      1.858      0.066      -0.000       0.012\n",
      "GPA            0.0137      0.074      0.185      0.854      -0.133       0.161\n",
      "llibvol        0.0364      0.026      1.398      0.165      -0.015       0.088\n",
      "lcost          0.0008      0.025      0.033      0.973      -0.049       0.051\n",
      "==============================================================================\n",
      "Omnibus:                        9.419   Durbin-Watson:                   1.926\n",
      "Prob(Omnibus):                  0.009   Jarque-Bera (JB):               20.478\n",
      "Skew:                           0.100   Prob(JB):                     3.57e-05\n",
      "Kurtosis:                       4.890   Cond. No.                     8.98e+03\n",
      "==============================================================================\n",
      "\n",
      "Notes:\n",
      "[1] Standard Errors assume that the covariance matrix of the errors is correctly specified.\n",
      "[2] The condition number is large, 8.98e+03. This might indicate that there are\n",
      "strong multicollinearity or other numerical problems.\n"
     ]
    }
   ],
   "source": [
    "df = dataWoo('lawsch85')\n",
    "\n",
    "df['r61_100'] = 0\n",
    "df.loc[(df['rank'] > 60) & (df['rank'] <= 100), 'r61_100'] = 1\n",
    "\n",
    "r_reg = smf.ols(formula = \n",
    "                     'lsalary ~ top10 + r11_25  + r26_40 + r41_60 + r61_100 + LSAT + GPA + llibvol + lcost + 1', \n",
    "                     data=df).fit()\n",
    "print(r_reg.summary())\n"
   ]
  },
  {
   "cell_type": "code",
   "execution_count": 17,
   "metadata": {},
   "outputs": [
    {
     "name": "stdout",
     "output_type": "stream",
     "text": [
      "<F test: F=2.3853161323547907, p=0.05470437645682231, df_denom=126, df_num=4>\n"
     ]
    }
   ],
   "source": [
    "hypotheses = '(LSAT = GPA = llibvol = lcost = 0)'\n",
    "f_test = r_reg.f_test(hypotheses)\n",
    "print(f_test)"
   ]
  },
  {
   "cell_type": "code",
   "execution_count": 18,
   "metadata": {},
   "outputs": [
    {
     "data": {
      "text/plain": [
       "1.0129473674662273"
      ]
     },
     "execution_count": 18,
     "metadata": {},
     "output_type": "execute_result"
    }
   ],
   "source": [
    "display = np.exp(0.6996)-1\n",
    "display"
   ]
  },
  {
   "cell_type": "markdown",
   "metadata": {},
   "source": [
    "### Example 7.9. Effects of computer usage on wages \n",
    "#### Data not available"
   ]
  },
  {
   "cell_type": "markdown",
   "metadata": {},
   "source": [
    "### Example 7.10. Log hourly wage equation"
   ]
  },
  {
   "cell_type": "code",
   "execution_count": 19,
   "metadata": {},
   "outputs": [
    {
     "name": "stdout",
     "output_type": "stream",
     "text": [
      "                            OLS Regression Results                            \n",
      "==============================================================================\n",
      "Dep. Variable:                  lwage   R-squared:                       0.441\n",
      "Model:                            OLS   Adj. R-squared:                  0.433\n",
      "Method:                 Least Squares   F-statistic:                     58.37\n",
      "Date:                Tue, 02 Jul 2024   Prob (F-statistic):           1.67e-61\n",
      "Time:                        17:51:18   Log-Likelihood:                -260.49\n",
      "No. Observations:                 526   AIC:                             537.0\n",
      "Df Residuals:                     518   BIC:                             571.1\n",
      "Df Model:                           7                                         \n",
      "Covariance Type:            nonrobust                                         \n",
      "===============================================================================\n",
      "                  coef    std err          t      P>|t|      [0.025      0.975]\n",
      "-------------------------------------------------------------------------------\n",
      "Intercept       0.3888      0.119      3.276      0.001       0.156       0.622\n",
      "female         -0.2268      0.168     -1.354      0.176      -0.556       0.102\n",
      "educ            0.0824      0.008      9.725      0.000       0.066       0.099\n",
      "female:educ    -0.0056      0.013     -0.426      0.670      -0.031       0.020\n",
      "exper           0.0293      0.005      5.886      0.000       0.020       0.039\n",
      "expersq        -0.0006      0.000     -5.398      0.000      -0.001      -0.000\n",
      "tenure          0.0319      0.007      4.647      0.000       0.018       0.045\n",
      "tenursq        -0.0006      0.000     -2.509      0.012      -0.001      -0.000\n",
      "==============================================================================\n",
      "Omnibus:                       13.302   Durbin-Watson:                   1.795\n",
      "Prob(Omnibus):                  0.001   Jarque-Bera (JB):               24.887\n",
      "Skew:                          -0.080   Prob(JB):                     3.94e-06\n",
      "Kurtosis:                       4.053   Cond. No.                     8.41e+03\n",
      "==============================================================================\n",
      "\n",
      "Notes:\n",
      "[1] Standard Errors assume that the covariance matrix of the errors is correctly specified.\n",
      "[2] The condition number is large, 8.41e+03. This might indicate that there are\n",
      "strong multicollinearity or other numerical problems.\n"
     ]
    }
   ],
   "source": [
    "df=dataWoo('wage1')\n",
    "wage_reg = smf.ols('lwage ~ female*educ  + exper + expersq + tenure + tenursq + 1', data=df).fit()\n",
    "print(wage_reg.summary())"
   ]
  },
  {
   "cell_type": "code",
   "execution_count": 20,
   "metadata": {},
   "outputs": [
    {
     "name": "stdout",
     "output_type": "stream",
     "text": [
      "<F test: F=34.32554911448261, p=1.0023439572216499e-14, df_denom=518, df_num=2>\n"
     ]
    }
   ],
   "source": [
    "hypotheses = '(female:educ = female = 0)'\n",
    "f_test = wage_reg.f_test(hypotheses)\n",
    "print(f_test)"
   ]
  },
  {
   "cell_type": "markdown",
   "metadata": {},
   "source": [
    "### Example 7.11. Effects of race on baseball player salaries"
   ]
  },
  {
   "cell_type": "code",
   "execution_count": 21,
   "metadata": {},
   "outputs": [
    {
     "name": "stdout",
     "output_type": "stream",
     "text": [
      "                            OLS Regression Results                            \n",
      "==============================================================================\n",
      "Dep. Variable:                lsalary   R-squared:                       0.638\n",
      "Model:                            OLS   Adj. R-squared:                  0.624\n",
      "Method:                 Least Squares   F-statistic:                     46.48\n",
      "Date:                Tue, 02 Jul 2024   Prob (F-statistic):           1.31e-62\n",
      "Time:                        17:51:18   Log-Likelihood:                -350.12\n",
      "No. Observations:                 330   AIC:                             726.2\n",
      "Df Residuals:                     317   BIC:                             775.6\n",
      "Df Model:                          12                                         \n",
      "Covariance Type:            nonrobust                                         \n",
      "===================================================================================\n",
      "                      coef    std err          t      P>|t|      [0.025      0.975]\n",
      "-----------------------------------------------------------------------------------\n",
      "Intercept          10.3437      2.183      4.739      0.000       6.050      14.638\n",
      "years               0.0673      0.013      5.224      0.000       0.042       0.093\n",
      "gamesyr             0.0089      0.003      2.624      0.009       0.002       0.016\n",
      "bavg                0.0009      0.002      0.625      0.533      -0.002       0.004\n",
      "hrunsyr             0.0146      0.016      0.889      0.375      -0.018       0.047\n",
      "rbisyr              0.0045      0.008      0.593      0.553      -0.010       0.019\n",
      "runsyr              0.0072      0.005      1.577      0.116      -0.002       0.016\n",
      "fldperc             0.0011      0.002      0.513      0.609      -0.003       0.005\n",
      "allstar             0.0075      0.003      2.621      0.009       0.002       0.013\n",
      "black              -0.1980      0.125     -1.578      0.116      -0.445       0.049\n",
      "hispan             -0.1900      0.153     -1.241      0.215      -0.491       0.111\n",
      "black:percblck      0.0125      0.005      2.509      0.013       0.003       0.022\n",
      "hispan:perchisp     0.0201      0.010      2.051      0.041       0.001       0.039\n",
      "==============================================================================\n",
      "Omnibus:                        1.828   Durbin-Watson:                   1.341\n",
      "Prob(Omnibus):                  0.401   Jarque-Bera (JB):                1.709\n",
      "Skew:                           0.012   Prob(JB):                        0.425\n",
      "Kurtosis:                       3.352   Cond. No.                     5.65e+04\n",
      "==============================================================================\n",
      "\n",
      "Notes:\n",
      "[1] Standard Errors assume that the covariance matrix of the errors is correctly specified.\n",
      "[2] The condition number is large, 5.65e+04. This might indicate that there are\n",
      "strong multicollinearity or other numerical problems.\n"
     ]
    }
   ],
   "source": [
    "df=dataWoo('mlb1')\n",
    "df = df[(df['percblck']!=0)]\n",
    "mlb1_reg = smf.ols('lsalary ~ years + gamesyr + bavg + hrunsyr + rbisyr + runsyr + fldperc + allstar + black + hispan + black:percblck + hispan:perchisp  + 1', data=df).fit()\n",
    "print(mlb1_reg.summary())"
   ]
  },
  {
   "cell_type": "code",
   "execution_count": 22,
   "metadata": {},
   "outputs": [
    {
     "name": "stdout",
     "output_type": "stream",
     "text": [
      "<F test: F=2.647888304563965, p=0.033476147356758516, df_denom=317, df_num=4>\n"
     ]
    }
   ],
   "source": [
    "hypotheses = '(black = hispan = black:percblck = hispan:perchisp = 0)'\n",
    "f_test = mlb1_reg.f_test(hypotheses)\n",
    "print(f_test)"
   ]
  },
  {
   "cell_type": "code",
   "execution_count": 23,
   "metadata": {},
   "outputs": [
    {
     "name": "stdout",
     "output_type": "stream",
     "text": [
      "                            OLS Regression Results                            \n",
      "==============================================================================\n",
      "Dep. Variable:                lsalary   R-squared:                       0.644\n",
      "Model:                            OLS   Adj. R-squared:                  0.636\n",
      "Method:                 Least Squares   F-statistic:                     77.94\n",
      "Date:                Tue, 02 Jul 2024   Prob (F-statistic):           1.35e-72\n",
      "Time:                        17:51:18   Log-Likelihood:                -377.03\n",
      "No. Observations:                 353   AIC:                             772.1\n",
      "Df Residuals:                     344   BIC:                             806.9\n",
      "Df Model:                           8                                         \n",
      "Covariance Type:            nonrobust                                         \n",
      "==============================================================================\n",
      "                 coef    std err          t      P>|t|      [0.025      0.975]\n",
      "------------------------------------------------------------------------------\n",
      "Intercept     10.3277      2.002      5.159      0.000       6.390      14.265\n",
      "years          0.0629      0.012      5.146      0.000       0.039       0.087\n",
      "gamesyr        0.0092      0.003      2.848      0.005       0.003       0.016\n",
      "bavg           0.0004      0.001      0.345      0.730      -0.002       0.003\n",
      "hrunsyr        0.0195      0.016      1.230      0.220      -0.012       0.051\n",
      "rbisyr         0.0027      0.007      0.365      0.716      -0.012       0.017\n",
      "runsyr         0.0096      0.004      2.229      0.026       0.001       0.018\n",
      "fldperc        0.0012      0.002      0.600      0.549      -0.003       0.005\n",
      "allstar        0.0069      0.003      2.468      0.014       0.001       0.012\n",
      "==============================================================================\n",
      "Omnibus:                        2.170   Durbin-Watson:                   1.300\n",
      "Prob(Omnibus):                  0.338   Jarque-Bera (JB):                2.071\n",
      "Skew:                           0.068   Prob(JB):                        0.355\n",
      "Kurtosis:                       3.350   Cond. No.                     5.36e+04\n",
      "==============================================================================\n",
      "\n",
      "Notes:\n",
      "[1] Standard Errors assume that the covariance matrix of the errors is correctly specified.\n",
      "[2] The condition number is large, 5.36e+04. This might indicate that there are\n",
      "strong multicollinearity or other numerical problems.\n"
     ]
    }
   ],
   "source": [
    "df=dataWoo('mlb1')\n",
    "df = df[(df['percblck']!=0)]\n",
    "mlb1_reg_r = smf.ols('lsalary ~ years + gamesyr + bavg + hrunsyr + rbisyr + runsyr + fldperc + allstar + 1', data=df).fit()\n",
    "print(mlb1_reg_r.summary())"
   ]
  },
  {
   "cell_type": "markdown",
   "metadata": {},
   "source": [
    "### Equation [7.22]  (Page 222)"
   ]
  },
  {
   "cell_type": "code",
   "execution_count": 24,
   "metadata": {},
   "outputs": [
    {
     "name": "stdout",
     "output_type": "stream",
     "text": [
      "                            OLS Regression Results                            \n",
      "==============================================================================\n",
      "Dep. Variable:                 cumgpa   R-squared:                       0.406\n",
      "Model:                            OLS   Adj. R-squared:                  0.394\n",
      "Method:                 Least Squares   F-statistic:                     34.95\n",
      "Date:                Tue, 02 Jul 2024   Prob (F-statistic):           4.66e-37\n",
      "Time:                        17:51:18   Log-Likelihood:                -237.26\n",
      "No. Observations:                 366   AIC:                             490.5\n",
      "Df Residuals:                     358   BIC:                             521.7\n",
      "Df Model:                           7                                         \n",
      "Covariance Type:            nonrobust                                         \n",
      "=================================================================================\n",
      "                    coef    std err          t      P>|t|      [0.025      0.975]\n",
      "---------------------------------------------------------------------------------\n",
      "Intercept         1.4808      0.207      7.142      0.000       1.073       1.889\n",
      "female           -0.3535      0.411     -0.861      0.390      -1.161       0.454\n",
      "sat               0.0011      0.000      5.807      0.000       0.001       0.001\n",
      "female:sat        0.0008      0.000      1.949      0.052   -6.88e-06       0.002\n",
      "hsperc           -0.0085      0.001     -6.167      0.000      -0.011      -0.006\n",
      "female:hsperc    -0.0005      0.003     -0.174      0.862      -0.007       0.006\n",
      "tothrs            0.0023      0.001      2.718      0.007       0.001       0.004\n",
      "female:tothrs    -0.0001      0.002     -0.071      0.943      -0.003       0.003\n",
      "==============================================================================\n",
      "Omnibus:                        6.858   Durbin-Watson:                   1.832\n",
      "Prob(Omnibus):                  0.032   Jarque-Bera (JB):                9.054\n",
      "Skew:                          -0.146   Prob(JB):                       0.0108\n",
      "Kurtosis:                       3.713   Cond. No.                     1.66e+04\n",
      "==============================================================================\n",
      "\n",
      "Notes:\n",
      "[1] Standard Errors assume that the covariance matrix of the errors is correctly specified.\n",
      "[2] The condition number is large, 1.66e+04. This might indicate that there are\n",
      "strong multicollinearity or other numerical problems.\n"
     ]
    }
   ],
   "source": [
    "df=dataWoo('gpa3')\n",
    "df = df[(df['spring']==1)]\n",
    "gpa3_reg = smf.ols('cumgpa ~ female*sat + hsperc + female:hsperc + tothrs + female:tothrs + 1', data=df).fit()\n",
    "print(gpa3_reg.summary())"
   ]
  },
  {
   "cell_type": "code",
   "execution_count": 25,
   "metadata": {},
   "outputs": [
    {
     "name": "stdout",
     "output_type": "stream",
     "text": [
      "<F test: F=1.5338978108616452, p=0.20537335628140385, df_denom=358, df_num=3>\n"
     ]
    }
   ],
   "source": [
    "hypotheses = '(female:tothrs = female:sat = female:hsperc = 0)'\n",
    "f_test = gpa3_reg.f_test(hypotheses)\n",
    "print(f_test)"
   ]
  },
  {
   "cell_type": "markdown",
   "metadata": {},
   "source": [
    "### Equation [7.25] (Page 224)"
   ]
  },
  {
   "cell_type": "code",
   "execution_count": 26,
   "metadata": {},
   "outputs": [
    {
     "name": "stdout",
     "output_type": "stream",
     "text": [
      "                            OLS Regression Results                            \n",
      "==============================================================================\n",
      "Dep. Variable:                 cumgpa   R-squared:                       0.398\n",
      "Model:                            OLS   Adj. R-squared:                  0.392\n",
      "Method:                 Least Squares   F-statistic:                     59.74\n",
      "Date:                Tue, 02 Jul 2024   Prob (F-statistic):           1.10e-38\n",
      "Time:                        17:51:18   Log-Likelihood:                -239.59\n",
      "No. Observations:                 366   AIC:                             489.2\n",
      "Df Residuals:                     361   BIC:                             508.7\n",
      "Df Model:                           4                                         \n",
      "Covariance Type:            nonrobust                                         \n",
      "==============================================================================\n",
      "                 coef    std err          t      P>|t|      [0.025      0.975]\n",
      "------------------------------------------------------------------------------\n",
      "Intercept      1.3285      0.180      7.388      0.000       0.975       1.682\n",
      "female         0.3101      0.059      5.291      0.000       0.195       0.425\n",
      "sat            0.0012      0.000      7.635      0.000       0.001       0.002\n",
      "hsperc        -0.0084      0.001     -6.839      0.000      -0.011      -0.006\n",
      "tothrs         0.0025      0.001      3.379      0.001       0.001       0.004\n",
      "==============================================================================\n",
      "Omnibus:                        5.200   Durbin-Watson:                   1.860\n",
      "Prob(Omnibus):                  0.074   Jarque-Bera (JB):                6.107\n",
      "Skew:                          -0.139   Prob(JB):                       0.0472\n",
      "Kurtosis:                       3.568   Cond. No.                     6.74e+03\n",
      "==============================================================================\n",
      "\n",
      "Notes:\n",
      "[1] Standard Errors assume that the covariance matrix of the errors is correctly specified.\n",
      "[2] The condition number is large, 6.74e+03. This might indicate that there are\n",
      "strong multicollinearity or other numerical problems.\n"
     ]
    }
   ],
   "source": [
    "df=dataWoo('gpa3')\n",
    "df = df[(df['spring']==1)]\n",
    "gpa3_reg_r = smf.ols('cumgpa ~ female + sat + hsperc + tothrs + 1', data=df).fit()\n",
    "print(gpa3_reg_r.summary())"
   ]
  },
  {
   "cell_type": "markdown",
   "metadata": {},
   "source": [
    "### Equation [7.29] (Page 225)"
   ]
  },
  {
   "cell_type": "code",
   "execution_count": 27,
   "metadata": {},
   "outputs": [
    {
     "name": "stdout",
     "output_type": "stream",
     "text": [
      "                            OLS Regression Results                            \n",
      "==============================================================================\n",
      "Dep. Variable:                   inlf   R-squared:                       0.264\n",
      "Model:                            OLS   Adj. R-squared:                  0.257\n",
      "Method:                 Least Squares   F-statistic:                     38.22\n",
      "Date:                Tue, 02 Jul 2024   Prob (F-statistic):           6.90e-46\n",
      "Time:                        17:51:18   Log-Likelihood:                -423.89\n",
      "No. Observations:                 753   AIC:                             863.8\n",
      "Df Residuals:                     745   BIC:                             900.8\n",
      "Df Model:                           7                                         \n",
      "Covariance Type:            nonrobust                                         \n",
      "==============================================================================\n",
      "                 coef    std err          t      P>|t|      [0.025      0.975]\n",
      "------------------------------------------------------------------------------\n",
      "Intercept      0.5855      0.154      3.798      0.000       0.283       0.888\n",
      "nwifeinc      -0.0034      0.001     -2.351      0.019      -0.006      -0.001\n",
      "educ           0.0380      0.007      5.151      0.000       0.024       0.052\n",
      "exper          0.0395      0.006      6.962      0.000       0.028       0.051\n",
      "expersq       -0.0006      0.000     -3.227      0.001      -0.001      -0.000\n",
      "age           -0.0161      0.002     -6.476      0.000      -0.021      -0.011\n",
      "kidslt6       -0.2618      0.034     -7.814      0.000      -0.328      -0.196\n",
      "kidsge6        0.0130      0.013      0.986      0.324      -0.013       0.039\n",
      "==============================================================================\n",
      "Omnibus:                      169.137   Durbin-Watson:                   0.494\n",
      "Prob(Omnibus):                  0.000   Jarque-Bera (JB):               36.741\n",
      "Skew:                          -0.196   Prob(JB):                     1.05e-08\n",
      "Kurtosis:                       1.991   Cond. No.                     3.06e+03\n",
      "==============================================================================\n",
      "\n",
      "Notes:\n",
      "[1] Standard Errors assume that the covariance matrix of the errors is correctly specified.\n",
      "[2] The condition number is large, 3.06e+03. This might indicate that there are\n",
      "strong multicollinearity or other numerical problems.\n"
     ]
    }
   ],
   "source": [
    "df = dataWoo('mroz')\n",
    "mroz_reg = smf.ols('inlf ~ nwifeinc + educ + exper + expersq + age + kidslt6 + kidsge6 + 1', data=df).fit()\n",
    "print(mroz_reg.summary())"
   ]
  },
  {
   "cell_type": "markdown",
   "metadata": {},
   "source": [
    "### Example7.12. A linear probability model of arrest "
   ]
  },
  {
   "cell_type": "code",
   "execution_count": 28,
   "metadata": {},
   "outputs": [
    {
     "name": "stdout",
     "output_type": "stream",
     "text": [
      "                            OLS Regression Results                            \n",
      "==============================================================================\n",
      "Dep. Variable:               df.arr86   R-squared:                       0.047\n",
      "Model:                            OLS   Adj. R-squared:                  0.046\n",
      "Method:                 Least Squares   F-statistic:                     27.03\n",
      "Date:                Tue, 02 Jul 2024   Prob (F-statistic):           9.09e-27\n",
      "Time:                        17:51:18   Log-Likelihood:                -1609.7\n",
      "No. Observations:                2725   AIC:                             3231.\n",
      "Df Residuals:                    2719   BIC:                             3267.\n",
      "Df Model:                           5                                         \n",
      "Covariance Type:            nonrobust                                         \n",
      "==============================================================================\n",
      "                 coef    std err          t      P>|t|      [0.025      0.975]\n",
      "------------------------------------------------------------------------------\n",
      "Intercept      0.4406      0.017     25.568      0.000       0.407       0.474\n",
      "pcnv          -0.1624      0.021     -7.649      0.000      -0.204      -0.121\n",
      "avgsen         0.0061      0.006      0.947      0.344      -0.007       0.019\n",
      "tottime       -0.0023      0.005     -0.454      0.650      -0.012       0.007\n",
      "ptime86       -0.0220      0.005     -4.739      0.000      -0.031      -0.013\n",
      "qemp86        -0.0428      0.005     -7.925      0.000      -0.053      -0.032\n",
      "==============================================================================\n",
      "Omnibus:                      766.502   Durbin-Watson:                   1.581\n",
      "Prob(Omnibus):                  0.000   Jarque-Bera (JB):              474.581\n",
      "Skew:                           0.903   Prob(JB):                    8.83e-104\n",
      "Kurtosis:                       2.043   Cond. No.                         16.3\n",
      "==============================================================================\n",
      "\n",
      "Notes:\n",
      "[1] Standard Errors assume that the covariance matrix of the errors is correctly specified.\n"
     ]
    }
   ],
   "source": [
    "df = dataWoo('crime1')\n",
    "\n",
    "df['arr86'] = 0\n",
    "df.loc[(df['narr86'] > 0), 'arr86'] = 1\n",
    "\n",
    "crime_reg = smf.ols(' df.arr86 ~ pcnv + avgsen + tottime + ptime86 + qemp86 + 1', data=df).fit()\n",
    "print(crime_reg.summary())\n"
   ]
  },
  {
   "cell_type": "code",
   "execution_count": 29,
   "metadata": {},
   "outputs": [
    {
     "name": "stdout",
     "output_type": "stream",
     "text": [
      "<F test: F=1.0597004440363245, p=0.346702695391494, df_denom=2.72e+03, df_num=2>\n"
     ]
    }
   ],
   "source": [
    "hypotheses = '(avgsen = tottime = 0)'\n",
    "f_test = crime_reg.f_test(hypotheses)\n",
    "print(f_test)"
   ]
  },
  {
   "cell_type": "markdown",
   "metadata": {},
   "source": [
    "### Equation [7.32] (Page 228)"
   ]
  },
  {
   "cell_type": "code",
   "execution_count": 30,
   "metadata": {},
   "outputs": [
    {
     "name": "stdout",
     "output_type": "stream",
     "text": [
      "                            OLS Regression Results                            \n",
      "==============================================================================\n",
      "Dep. Variable:               df.arr86   R-squared:                       0.068\n",
      "Model:                            OLS   Adj. R-squared:                  0.066\n",
      "Method:                 Least Squares   F-statistic:                     28.41\n",
      "Date:                Tue, 02 Jul 2024   Prob (F-statistic):           5.46e-38\n",
      "Time:                        17:51:18   Log-Likelihood:                -1579.6\n",
      "No. Observations:                2725   AIC:                             3175.\n",
      "Df Residuals:                    2717   BIC:                             3222.\n",
      "Df Model:                           7                                         \n",
      "Covariance Type:            nonrobust                                         \n",
      "==============================================================================\n",
      "                 coef    std err          t      P>|t|      [0.025      0.975]\n",
      "------------------------------------------------------------------------------\n",
      "Intercept      0.3804      0.019     20.314      0.000       0.344       0.417\n",
      "pcnv          -0.1521      0.021     -7.219      0.000      -0.193      -0.111\n",
      "avgsen         0.0046      0.006      0.723      0.470      -0.008       0.017\n",
      "tottime       -0.0026      0.005     -0.520      0.603      -0.012       0.007\n",
      "ptime86       -0.0237      0.005     -5.157      0.000      -0.033      -0.015\n",
      "qemp86        -0.0385      0.005     -7.123      0.000      -0.049      -0.028\n",
      "black          0.1698      0.024      7.171      0.000       0.123       0.216\n",
      "hispan         0.0962      0.021      4.644      0.000       0.056       0.137\n",
      "==============================================================================\n",
      "Omnibus:                      631.338   Durbin-Watson:                   1.571\n",
      "Prob(Omnibus):                  0.000   Jarque-Bera (JB):              443.423\n",
      "Skew:                           0.880   Prob(JB):                     5.15e-97\n",
      "Kurtosis:                       2.102   Cond. No.                         19.5\n",
      "==============================================================================\n",
      "\n",
      "Notes:\n",
      "[1] Standard Errors assume that the covariance matrix of the errors is correctly specified.\n"
     ]
    }
   ],
   "source": [
    "crime_reg_2 = smf.ols(' df.arr86 ~ pcnv + avgsen + tottime + ptime86 + qemp86 + black + hispan + 1', data=df).fit()\n",
    "print(crime_reg_2.summary())"
   ]
  },
  {
   "cell_type": "markdown",
   "metadata": {},
   "source": [
    "### Equation [7.33] (Page 229)"
   ]
  },
  {
   "cell_type": "code",
   "execution_count": 31,
   "metadata": {},
   "outputs": [
    {
     "name": "stdout",
     "output_type": "stream",
     "text": [
      "                            OLS Regression Results                            \n",
      "==============================================================================\n",
      "Dep. Variable:                 lscrap   R-squared:                       0.072\n",
      "Model:                            OLS   Adj. R-squared:                  0.011\n",
      "Method:                 Least Squares   F-statistic:                     1.182\n",
      "Date:                Tue, 02 Jul 2024   Prob (F-statistic):              0.327\n",
      "Time:                        17:51:18   Log-Likelihood:                -85.161\n",
      "No. Observations:                  50   AIC:                             178.3\n",
      "Df Residuals:                      46   BIC:                             186.0\n",
      "Df Model:                           3                                         \n",
      "Covariance Type:            nonrobust                                         \n",
      "==============================================================================\n",
      "                 coef    std err          t      P>|t|      [0.025      0.975]\n",
      "------------------------------------------------------------------------------\n",
      "Intercept      4.9868      4.656      1.071      0.290      -4.384      14.358\n",
      "grant         -0.0518      0.431     -0.120      0.905      -0.920       0.816\n",
      "lsales        -0.4548      0.373     -1.218      0.229      -1.206       0.297\n",
      "lemploy        0.6394      0.365      1.751      0.087      -0.096       1.374\n",
      "==============================================================================\n",
      "Omnibus:                        0.246   Durbin-Watson:                   1.779\n",
      "Prob(Omnibus):                  0.884   Jarque-Bera (JB):                0.163\n",
      "Skew:                          -0.132   Prob(JB):                        0.922\n",
      "Kurtosis:                       2.905   Cond. No.                         380.\n",
      "==============================================================================\n",
      "\n",
      "Notes:\n",
      "[1] Standard Errors assume that the covariance matrix of the errors is correctly specified.\n"
     ]
    }
   ],
   "source": [
    "df = dataWoo('jtrain')\n",
    "df = df[(df['year']==1988)]\n",
    "jobb_reg = smf.ols(' lscrap ~ grant + lsales + lemploy + 1', data=df).fit()\n",
    "print(jobb_reg.summary())"
   ]
  },
  {
   "cell_type": "markdown",
   "metadata": {},
   "source": [
    "### Equation [7.35] (Page 231)"
   ]
  },
  {
   "cell_type": "code",
   "execution_count": 32,
   "metadata": {},
   "outputs": [
    {
     "name": "stdout",
     "output_type": "stream",
     "text": [
      "                            OLS Regression Results                            \n",
      "==============================================================================\n",
      "Dep. Variable:               children   R-squared:                       0.560\n",
      "Model:                            OLS   Adj. R-squared:                  0.559\n",
      "Method:                 Least Squares   F-statistic:                     2768.\n",
      "Date:                Tue, 02 Jul 2024   Prob (F-statistic):               0.00\n",
      "Time:                        17:51:18   Log-Likelihood:                -7881.7\n",
      "No. Observations:                4361   AIC:                         1.577e+04\n",
      "Df Residuals:                    4358   BIC:                         1.579e+04\n",
      "Df Model:                           2                                         \n",
      "Covariance Type:            nonrobust                                         \n",
      "==============================================================================\n",
      "                 coef    std err          t      P>|t|      [0.025      0.975]\n",
      "------------------------------------------------------------------------------\n",
      "Intercept     -1.9967      0.094    -21.249      0.000      -2.181      -1.813\n",
      "age            0.1748      0.003     64.631      0.000       0.170       0.180\n",
      "educ          -0.0899      0.006    -15.034      0.000      -0.102      -0.078\n",
      "==============================================================================\n",
      "Omnibus:                      224.819   Durbin-Watson:                   1.884\n",
      "Prob(Omnibus):                  0.000   Jarque-Bera (JB):              840.653\n",
      "Skew:                          -0.066   Prob(JB):                    2.85e-183\n",
      "Kurtosis:                       5.147   Cond. No.                         123.\n",
      "==============================================================================\n",
      "\n",
      "Notes:\n",
      "[1] Standard Errors assume that the covariance matrix of the errors is correctly specified.\n"
     ]
    }
   ],
   "source": [
    "df = dataWoo('fertil2')\n",
    "fert_reg = smf.ols(' children ~ age + educ + 1', data=df).fit()\n",
    "print(fert_reg.summary())"
   ]
  },
  {
   "cell_type": "markdown",
   "metadata": {},
   "source": [
    "### Equation [7.37] (Page 232)"
   ]
  },
  {
   "cell_type": "code",
   "execution_count": 33,
   "metadata": {},
   "outputs": [
    {
     "name": "stdout",
     "output_type": "stream",
     "text": [
      "                            OLS Regression Results                            \n",
      "==============================================================================\n",
      "Dep. Variable:               children   R-squared:                       0.562\n",
      "Model:                            OLS   Adj. R-squared:                  0.562\n",
      "Method:                 Least Squares   F-statistic:                     1863.\n",
      "Date:                Tue, 02 Jul 2024   Prob (F-statistic):               0.00\n",
      "Time:                        17:51:18   Log-Likelihood:                -7863.3\n",
      "No. Observations:                4358   AIC:                         1.573e+04\n",
      "Df Residuals:                    4354   BIC:                         1.576e+04\n",
      "Df Model:                           3                                         \n",
      "Covariance Type:            nonrobust                                         \n",
      "==============================================================================\n",
      "                 coef    std err          t      P>|t|      [0.025      0.975]\n",
      "------------------------------------------------------------------------------\n",
      "Intercept     -2.0711      0.095    -21.861      0.000      -2.257      -1.885\n",
      "age            0.1770      0.003     64.855      0.000       0.172       0.182\n",
      "educ          -0.0788      0.006    -12.462      0.000      -0.091      -0.066\n",
      "electric      -0.3618      0.068     -5.317      0.000      -0.495      -0.228\n",
      "==============================================================================\n",
      "Omnibus:                      224.823   Durbin-Watson:                   1.890\n",
      "Prob(Omnibus):                  0.000   Jarque-Bera (JB):              841.796\n",
      "Skew:                          -0.065   Prob(JB):                    1.61e-183\n",
      "Kurtosis:                       5.149   Cond. No.                         126.\n",
      "==============================================================================\n",
      "\n",
      "Notes:\n",
      "[1] Standard Errors assume that the covariance matrix of the errors is correctly specified.\n"
     ]
    }
   ],
   "source": [
    "df = dataWoo('fertil2')\n",
    "fert_reg_2 = smf.ols(' children ~ age + educ + electric + 1', data=df).fit()\n",
    "print(fert_reg_2.summary())"
   ]
  }
 ],
 "metadata": {
  "kernelspec": {
   "display_name": "Python 3 (ipykernel)",
   "language": "python",
   "name": "python3"
  },
  "language_info": {
   "codemirror_mode": {
    "name": "ipython",
    "version": 3
   },
   "file_extension": ".py",
   "mimetype": "text/x-python",
   "name": "python",
   "nbconvert_exporter": "python",
   "pygments_lexer": "ipython3",
   "version": "3.11.7"
  }
 },
 "nbformat": 4,
 "nbformat_minor": 4
}
