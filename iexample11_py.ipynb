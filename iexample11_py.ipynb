{
 "cells": [
  {
   "cell_type": "markdown",
   "metadata": {},
   "source": [
    "# Chapter 11.  Further Issues in Using OLS with Time Series Data\n",
    "[Home](http://solomonegash.com/) | [Stata](http://solomonegash.com/woodridge1/index.html) | [R](http://solomonegash.com/econometrics/rbook1/index.html)"
   ]
  },
  {
   "cell_type": "code",
   "execution_count": 1,
   "metadata": {},
   "outputs": [],
   "source": [
    "import statsmodels.formula.api as smf\n",
    "from wooldridge import *"
   ]
  },
  {
   "cell_type": "markdown",
   "metadata": {},
   "source": [
    "### Example 11.4.  Efficient Markets Hypothesis"
   ]
  },
  {
   "cell_type": "code",
   "execution_count": 2,
   "metadata": {},
   "outputs": [
    {
     "name": "stdout",
     "output_type": "stream",
     "text": [
      "                            OLS Regression Results                            \n",
      "==============================================================================\n",
      "Dep. Variable:         df[(\"return\")]   R-squared:                       0.003\n",
      "Model:                            OLS   Adj. R-squared:                  0.002\n",
      "Method:                 Least Squares   F-statistic:                     2.399\n",
      "Date:                Tue, 02 Jul 2024   Prob (F-statistic):              0.122\n",
      "Time:                        18:08:06   Log-Likelihood:                -1491.2\n",
      "No. Observations:                 689   AIC:                             2986.\n",
      "Df Residuals:                     687   BIC:                             2996.\n",
      "Df Model:                           1                                         \n",
      "Covariance Type:            nonrobust                                         \n",
      "==============================================================================\n",
      "                 coef    std err          t      P>|t|      [0.025      0.975]\n",
      "------------------------------------------------------------------------------\n",
      "Intercept      0.1796      0.081      2.225      0.026       0.021       0.338\n",
      "return_1       0.0589      0.038      1.549      0.122      -0.016       0.134\n",
      "==============================================================================\n",
      "Omnibus:                      114.206   Durbin-Watson:                   1.997\n",
      "Prob(Omnibus):                  0.000   Jarque-Bera (JB):              646.991\n",
      "Skew:                          -0.598   Prob(JB):                    3.22e-141\n",
      "Kurtosis:                       7.594   Cond. No.                         2.14\n",
      "==============================================================================\n",
      "\n",
      "Notes:\n",
      "[1] Standard Errors assume that the covariance matrix of the errors is correctly specified.\n"
     ]
    }
   ],
   "source": [
    "df = dataWoo(\"nyse\")\n",
    "print(smf.ols('df[(\"return\")] ~ return_1 + 1', data=df).fit().summary())"
   ]
  },
  {
   "cell_type": "markdown",
   "metadata": {},
   "source": [
    "### Equation [11.18]"
   ]
  },
  {
   "cell_type": "code",
   "execution_count": 3,
   "metadata": {},
   "outputs": [
    {
     "name": "stdout",
     "output_type": "stream",
     "text": [
      "                            OLS Regression Results                            \n",
      "==============================================================================\n",
      "Dep. Variable:         df[(\"return\")]   R-squared:                       0.005\n",
      "Model:                            OLS   Adj. R-squared:                  0.002\n",
      "Method:                 Least Squares   F-statistic:                     1.659\n",
      "Date:                Tue, 02 Jul 2024   Prob (F-statistic):              0.191\n",
      "Time:                        18:08:06   Log-Likelihood:                -1489.0\n",
      "No. Observations:                 688   AIC:                             2984.\n",
      "Df Residuals:                     685   BIC:                             2998.\n",
      "Df Model:                           2                                         \n",
      "Covariance Type:            nonrobust                                         \n",
      "===========================================================================================\n",
      "                              coef    std err          t      P>|t|      [0.025      0.975]\n",
      "-------------------------------------------------------------------------------------------\n",
      "Intercept                   0.1857      0.081      2.289      0.022       0.026       0.345\n",
      "return_1                    0.0603      0.038      1.580      0.115      -0.015       0.135\n",
      "df[(\"return\")].shift(2)    -0.0381      0.038     -0.998      0.319      -0.113       0.037\n",
      "==============================================================================\n",
      "Omnibus:                      117.320   Durbin-Watson:                   1.998\n",
      "Prob(Omnibus):                  0.000   Jarque-Bera (JB):              652.237\n",
      "Skew:                          -0.627   Prob(JB):                    2.34e-142\n",
      "Kurtosis:                       7.602   Cond. No.                         2.22\n",
      "==============================================================================\n",
      "\n",
      "Notes:\n",
      "[1] Standard Errors assume that the covariance matrix of the errors is correctly specified.\n"
     ]
    }
   ],
   "source": [
    "df =dataWoo(\"nyse\")\n",
    "mrk_lag2 = smf.ols('df[(\"return\")] ~ return_1 + df[(\"return\")].shift(2)', data=df).fit()\n",
    "print(mrk_lag2.summary())     "
   ]
  },
  {
   "cell_type": "code",
   "execution_count": 4,
   "metadata": {},
   "outputs": [
    {
     "name": "stdout",
     "output_type": "stream",
     "text": [
      "<F test: F=1.6585712253772926, p=0.19117456962590035, df_denom=685, df_num=2>\n"
     ]
    }
   ],
   "source": [
    "hypotheses = '(return_1 = df[(\"return\")].shift(2) = 0)'\n",
    "f_test = mrk_lag2.f_test(hypotheses)\n",
    "print(f_test)"
   ]
  },
  {
   "cell_type": "markdown",
   "metadata": {},
   "source": [
    "### Example 11.5. Expectations Augmented Phillips Curve"
   ]
  },
  {
   "cell_type": "code",
   "execution_count": 5,
   "metadata": {},
   "outputs": [
    {
     "name": "stdout",
     "output_type": "stream",
     "text": [
      "                            OLS Regression Results                            \n",
      "==============================================================================\n",
      "Dep. Variable:                   cinf   R-squared:                       0.108\n",
      "Model:                            OLS   Adj. R-squared:                  0.088\n",
      "Method:                 Least Squares   F-statistic:                     5.558\n",
      "Date:                Tue, 02 Jul 2024   Prob (F-statistic):             0.0227\n",
      "Time:                        18:08:06   Log-Likelihood:                -110.12\n",
      "No. Observations:                  48   AIC:                             224.2\n",
      "Df Residuals:                      46   BIC:                             228.0\n",
      "Df Model:                           1                                         \n",
      "Covariance Type:            nonrobust                                         \n",
      "==============================================================================\n",
      "                 coef    std err          t      P>|t|      [0.025      0.975]\n",
      "------------------------------------------------------------------------------\n",
      "Intercept      3.0306      1.377      2.201      0.033       0.259       5.802\n",
      "unem          -0.5426      0.230     -2.357      0.023      -1.006      -0.079\n",
      "==============================================================================\n",
      "Omnibus:                       22.805   Durbin-Watson:                   1.770\n",
      "Prob(Omnibus):                  0.000   Jarque-Bera (JB):               52.071\n",
      "Skew:                          -1.239   Prob(JB):                     4.93e-12\n",
      "Kurtosis:                       7.460   Cond. No.                         23.9\n",
      "==============================================================================\n",
      "\n",
      "Notes:\n",
      "[1] Standard Errors assume that the covariance matrix of the errors is correctly specified.\n"
     ]
    }
   ],
   "source": [
    "df = dataWoo(\"phillips\")\n",
    "print(smf.ols('cinf ~ unem + 1', data=df[(df['year']<1997)]).fit().summary())"
   ]
  },
  {
   "cell_type": "markdown",
   "metadata": {},
   "source": [
    "### Example 11.6. Fertility Equation"
   ]
  },
  {
   "cell_type": "code",
   "execution_count": 6,
   "metadata": {},
   "outputs": [
    {
     "name": "stdout",
     "output_type": "stream",
     "text": [
      "                            OLS Regression Results                            \n",
      "==============================================================================\n",
      "Dep. Variable:                   cgfr   R-squared:                       0.232\n",
      "Model:                            OLS   Adj. R-squared:                  0.197\n",
      "Method:                 Least Squares   F-statistic:                     6.563\n",
      "Date:                Tue, 02 Jul 2024   Prob (F-statistic):           0.000605\n",
      "Time:                        18:08:06   Log-Likelihood:                -189.03\n",
      "No. Observations:                  69   AIC:                             386.1\n",
      "Df Residuals:                      65   BIC:                             395.0\n",
      "Df Model:                           3                                         \n",
      "Covariance Type:            nonrobust                                         \n",
      "========================================================================================\n",
      "                           coef    std err          t      P>|t|      [0.025      0.975]\n",
      "----------------------------------------------------------------------------------------\n",
      "Intercept               -0.9637      0.468     -2.060      0.043      -1.898      -0.029\n",
      "cpe                     -0.0362      0.027     -1.352      0.181      -0.090       0.017\n",
      "df[(\"cpe\")].shift(1)    -0.0140      0.028     -0.507      0.614      -0.069       0.041\n",
      "df[(\"cpe\")].shift(2)     0.1100      0.027      4.092      0.000       0.056       0.164\n",
      "==============================================================================\n",
      "Omnibus:                        4.167   Durbin-Watson:                   1.414\n",
      "Prob(Omnibus):                  0.124   Jarque-Bera (JB):                3.673\n",
      "Skew:                           0.323   Prob(JB):                        0.159\n",
      "Kurtosis:                       3.928   Cond. No.                         20.7\n",
      "==============================================================================\n",
      "\n",
      "Notes:\n",
      "[1] Standard Errors assume that the covariance matrix of the errors is correctly specified.\n"
     ]
    }
   ],
   "source": [
    "df = dataWoo(\"fertil3\")\n",
    "fert_lag2 = smf.ols('cgfr ~ cpe + df[(\"cpe\")].shift(1) + df[(\"cpe\")].shift(2)', data = df).fit()\n",
    "print(fert_lag2.summary())"
   ]
  },
  {
   "cell_type": "code",
   "execution_count": 7,
   "metadata": {},
   "outputs": [
    {
     "name": "stdout",
     "output_type": "stream",
     "text": [
      "<F test: F=1.2894143663583932, p=0.28238240250237473, df_denom=65, df_num=2>\n"
     ]
    }
   ],
   "source": [
    "hypotheses = '(cpe = df[(\"cpe\")].shift(1) = 0)'\n",
    "f_test = fert_lag2.f_test(hypotheses)\n",
    "print(f_test)"
   ]
  },
  {
   "cell_type": "markdown",
   "metadata": {},
   "source": [
    "### Example 11.7. Wages and Productivity"
   ]
  },
  {
   "cell_type": "code",
   "execution_count": 8,
   "metadata": {},
   "outputs": [
    {
     "name": "stdout",
     "output_type": "stream",
     "text": [
      "                            OLS Regression Results                            \n",
      "==============================================================================\n",
      "Dep. Variable:                lhrwage   R-squared:                       0.971\n",
      "Model:                            OLS   Adj. R-squared:                  0.970\n",
      "Method:                 Least Squares   F-statistic:                     641.2\n",
      "Date:                Tue, 02 Jul 2024   Prob (F-statistic):           5.27e-30\n",
      "Time:                        18:08:06   Log-Likelihood:                 89.196\n",
      "No. Observations:                  41   AIC:                            -172.4\n",
      "Df Residuals:                      38   BIC:                            -167.3\n",
      "Df Model:                           2                                         \n",
      "Covariance Type:            nonrobust                                         \n",
      "==============================================================================\n",
      "                 coef    std err          t      P>|t|      [0.025      0.975]\n",
      "------------------------------------------------------------------------------\n",
      "Intercept     -5.3285      0.374    -14.230      0.000      -6.086      -4.570\n",
      "loutphr        1.6396      0.093     17.565      0.000       1.451       1.829\n",
      "t             -0.0182      0.002    -10.428      0.000      -0.022      -0.015\n",
      "==============================================================================\n",
      "Omnibus:                        1.119   Durbin-Watson:                   0.567\n",
      "Prob(Omnibus):                  0.572   Jarque-Bera (JB):                0.913\n",
      "Skew:                          -0.055   Prob(JB):                        0.633\n",
      "Kurtosis:                       2.277   Cond. No.                     2.12e+03\n",
      "==============================================================================\n",
      "\n",
      "Notes:\n",
      "[1] Standard Errors assume that the covariance matrix of the errors is correctly specified.\n",
      "[2] The condition number is large, 2.12e+03. This might indicate that there are\n",
      "strong multicollinearity or other numerical problems.\n"
     ]
    }
   ],
   "source": [
    "print(smf.ols('lhrwage ~ loutphr + t', data=dataWoo(\"earns\")).fit().summary())"
   ]
  },
  {
   "cell_type": "code",
   "execution_count": 9,
   "metadata": {},
   "outputs": [
    {
     "name": "stdout",
     "output_type": "stream",
     "text": [
      "                            OLS Regression Results                            \n",
      "==============================================================================\n",
      "Dep. Variable:                ghrwage   R-squared:                       0.364\n",
      "Model:                            OLS   Adj. R-squared:                  0.348\n",
      "Method:                 Least Squares   F-statistic:                     21.77\n",
      "Date:                Tue, 02 Jul 2024   Prob (F-statistic):           3.75e-05\n",
      "Time:                        18:08:06   Log-Likelihood:                 107.37\n",
      "No. Observations:                  40   AIC:                            -210.7\n",
      "Df Residuals:                      38   BIC:                            -207.4\n",
      "Df Model:                           1                                         \n",
      "Covariance Type:            nonrobust                                         \n",
      "==============================================================================\n",
      "                 coef    std err          t      P>|t|      [0.025      0.975]\n",
      "------------------------------------------------------------------------------\n",
      "Intercept     -0.0037      0.004     -0.868      0.391      -0.012       0.005\n",
      "goutphr        0.8093      0.173      4.666      0.000       0.458       1.160\n",
      "==============================================================================\n",
      "Omnibus:                        2.405   Durbin-Watson:                   1.526\n",
      "Prob(Omnibus):                  0.300   Jarque-Bera (JB):                1.340\n",
      "Skew:                           0.325   Prob(JB):                        0.512\n",
      "Kurtosis:                       3.618   Cond. No.                         64.7\n",
      "==============================================================================\n",
      "\n",
      "Notes:\n",
      "[1] Standard Errors assume that the covariance matrix of the errors is correctly specified.\n"
     ]
    }
   ],
   "source": [
    "print(smf.ols('ghrwage ~ goutphr', data=dataWoo(\"earns\")).fit().summary())"
   ]
  },
  {
   "cell_type": "markdown",
   "metadata": {},
   "source": [
    "### Example 11.8. Fertility Equation"
   ]
  },
  {
   "cell_type": "code",
   "execution_count": 10,
   "metadata": {},
   "outputs": [
    {
     "name": "stdout",
     "output_type": "stream",
     "text": [
      "                            OLS Regression Results                            \n",
      "==============================================================================\n",
      "Dep. Variable:                   cgfr   R-squared:                       0.318\n",
      "Model:                            OLS   Adj. R-squared:                  0.275\n",
      "Method:                 Least Squares   F-statistic:                     7.464\n",
      "Date:                Tue, 02 Jul 2024   Prob (F-statistic):           5.34e-05\n",
      "Time:                        18:08:06   Log-Likelihood:                -184.95\n",
      "No. Observations:                  69   AIC:                             379.9\n",
      "Df Residuals:                      64   BIC:                             391.1\n",
      "Df Model:                           4                                         \n",
      "Covariance Type:            nonrobust                                         \n",
      "=========================================================================================\n",
      "                            coef    std err          t      P>|t|      [0.025      0.975]\n",
      "-----------------------------------------------------------------------------------------\n",
      "Intercept                -0.7022      0.454     -1.547      0.127      -1.609       0.204\n",
      "df[(\"cgfr\")].shift(1)     0.3002      0.106      2.835      0.006       0.089       0.512\n",
      "cpe                      -0.0455      0.026     -1.773      0.081      -0.097       0.006\n",
      "df[(\"cpe\")].shift(1)      0.0021      0.027      0.077      0.939      -0.051       0.056\n",
      "df[(\"cpe\")].shift(2)      0.1051      0.026      4.108      0.000       0.054       0.156\n",
      "==============================================================================\n",
      "Omnibus:                        1.628   Durbin-Watson:                   1.941\n",
      "Prob(Omnibus):                  0.443   Jarque-Bera (JB):                0.979\n",
      "Skew:                           0.051   Prob(JB):                        0.613\n",
      "Kurtosis:                       3.575   Cond. No.                         21.2\n",
      "==============================================================================\n",
      "\n",
      "Notes:\n",
      "[1] Standard Errors assume that the covariance matrix of the errors is correctly specified.\n"
     ]
    }
   ],
   "source": [
    "df = dataWoo(\"fertil3\")\n",
    "fert_lags = smf.ols('cgfr ~ df[(\"cgfr\")].shift(1) + cpe + df[(\"cpe\")].shift(1) + df[(\"cpe\")].shift(2)', \n",
    "                    data =df).fit()\n",
    "print(fert_lags.summary())"
   ]
  },
  {
   "cell_type": "code",
   "execution_count": 11,
   "metadata": {},
   "outputs": [
    {
     "name": "stdout",
     "output_type": "stream",
     "text": [
      "<F test: F=1.6557713220149344, p=0.1990186450928186, df_denom=64, df_num=2>\n"
     ]
    }
   ],
   "source": [
    "hypotheses = '(cpe = df[(\"cpe\")].shift(1) = 0)'\n",
    "f_test = fert_lags.f_test(hypotheses)\n",
    "print(f_test)"
   ]
  }
 ],
 "metadata": {
  "kernelspec": {
   "display_name": "Python 3 (ipykernel)",
   "language": "python",
   "name": "python3"
  },
  "language_info": {
   "codemirror_mode": {
    "name": "ipython",
    "version": 3
   },
   "file_extension": ".py",
   "mimetype": "text/x-python",
   "name": "python",
   "nbconvert_exporter": "python",
   "pygments_lexer": "ipython3",
   "version": "3.11.7"
  }
 },
 "nbformat": 4,
 "nbformat_minor": 4
}
