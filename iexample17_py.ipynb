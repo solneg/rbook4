{
 "cells": [
  {
   "cell_type": "markdown",
   "metadata": {},
   "source": [
    "# Chapter 17. Limited Dependent Variable Models and Sample Selection\n",
    "[Home](http://solomonegash.com/) | [Stata](http://solomonegash.com/woodridge1/index.html) | [R](http://solomonegash.com/econometrics/rbook1/index.html)\n"
   ]
  },
  {
   "cell_type": "code",
   "execution_count": 1,
   "metadata": {},
   "outputs": [],
   "source": [
    "import statsmodels\n",
    "import statsmodels.api as sm\n",
    "import statsmodels.formula.api as smf\n",
    "from statsmodels.iolib.summary2 import summary_col\n",
    "\n",
    "from wooldridge import *"
   ]
  },
  {
   "cell_type": "markdown",
   "metadata": {},
   "source": [
    "### Example 17.1. Married Women’s Labor Force Participation"
   ]
  },
  {
   "cell_type": "code",
   "execution_count": 2,
   "metadata": {},
   "outputs": [
    {
     "name": "stdout",
     "output_type": "stream",
     "text": [
      "                            OLS Regression Results                            \n",
      "==============================================================================\n",
      "Dep. Variable:                   inlf   R-squared:                       0.264\n",
      "Model:                            OLS   Adj. R-squared:                  0.257\n",
      "Method:                 Least Squares   F-statistic:                     38.22\n",
      "Date:                Tue, 02 Jul 2024   Prob (F-statistic):           6.90e-46\n",
      "Time:                        18:19:47   Log-Likelihood:                -423.89\n",
      "No. Observations:                 753   AIC:                             863.8\n",
      "Df Residuals:                     745   BIC:                             900.8\n",
      "Df Model:                           7                                         \n",
      "Covariance Type:            nonrobust                                         \n",
      "==============================================================================\n",
      "                 coef    std err          t      P>|t|      [0.025      0.975]\n",
      "------------------------------------------------------------------------------\n",
      "Intercept      0.5855      0.154      3.798      0.000       0.283       0.888\n",
      "nwifeinc      -0.0034      0.001     -2.351      0.019      -0.006      -0.001\n",
      "educ           0.0380      0.007      5.151      0.000       0.024       0.052\n",
      "exper          0.0395      0.006      6.962      0.000       0.028       0.051\n",
      "expersq       -0.0006      0.000     -3.227      0.001      -0.001      -0.000\n",
      "age           -0.0161      0.002     -6.476      0.000      -0.021      -0.011\n",
      "kidslt6       -0.2618      0.034     -7.814      0.000      -0.328      -0.196\n",
      "kidsge6        0.0130      0.013      0.986      0.324      -0.013       0.039\n",
      "==============================================================================\n",
      "Omnibus:                      169.137   Durbin-Watson:                   0.494\n",
      "Prob(Omnibus):                  0.000   Jarque-Bera (JB):               36.741\n",
      "Skew:                          -0.196   Prob(JB):                     1.05e-08\n",
      "Kurtosis:                       1.991   Cond. No.                     3.06e+03\n",
      "==============================================================================\n",
      "\n",
      "Notes:\n",
      "[1] Standard Errors assume that the covariance matrix of the errors is correctly specified.\n",
      "[2] The condition number is large, 3.06e+03. This might indicate that there are\n",
      "strong multicollinearity or other numerical problems.\n"
     ]
    }
   ],
   "source": [
    "df = dataWoo('mroz')\n",
    "print(smf.ols('inlf ~ nwifeinc + educ + exper + expersq + age + kidslt6 + kidsge6', data = df).fit().summary())"
   ]
  },
  {
   "cell_type": "code",
   "execution_count": 3,
   "metadata": {},
   "outputs": [
    {
     "name": "stdout",
     "output_type": "stream",
     "text": [
      "Optimization terminated successfully.\n",
      "         Current function value: 0.533553\n",
      "         Iterations 6\n",
      "                           Logit Regression Results                           \n",
      "==============================================================================\n",
      "Dep. Variable:                   inlf   No. Observations:                  753\n",
      "Model:                          Logit   Df Residuals:                      745\n",
      "Method:                           MLE   Df Model:                            7\n",
      "Date:                Tue, 02 Jul 2024   Pseudo R-squ.:                  0.2197\n",
      "Time:                        18:19:47   Log-Likelihood:                -401.77\n",
      "converged:                       True   LL-Null:                       -514.87\n",
      "Covariance Type:            nonrobust   LLR p-value:                 3.159e-45\n",
      "==============================================================================\n",
      "                 coef    std err          z      P>|z|      [0.025      0.975]\n",
      "------------------------------------------------------------------------------\n",
      "Intercept      0.4255      0.860      0.494      0.621      -1.261       2.112\n",
      "nwifeinc      -0.0213      0.008     -2.535      0.011      -0.038      -0.005\n",
      "educ           0.2212      0.043      5.091      0.000       0.136       0.306\n",
      "exper          0.2059      0.032      6.422      0.000       0.143       0.269\n",
      "expersq       -0.0032      0.001     -3.104      0.002      -0.005      -0.001\n",
      "age           -0.0880      0.015     -6.040      0.000      -0.117      -0.059\n",
      "kidslt6       -1.4434      0.204     -7.090      0.000      -1.842      -1.044\n",
      "kidsge6        0.0601      0.075      0.804      0.422      -0.086       0.207\n",
      "==============================================================================\n",
      "        Logit Marginal Effects       \n",
      "=====================================\n",
      "Dep. Variable:                   inlf\n",
      "Method:                          dydx\n",
      "At:                           overall\n",
      "==============================================================================\n",
      "                dy/dx    std err          z      P>|z|      [0.025      0.975]\n",
      "------------------------------------------------------------------------------\n",
      "nwifeinc      -0.0038      0.001     -2.571      0.010      -0.007      -0.001\n",
      "educ           0.0395      0.007      5.414      0.000       0.025       0.054\n",
      "exper          0.0368      0.005      7.139      0.000       0.027       0.047\n",
      "expersq       -0.0006      0.000     -3.176      0.001      -0.001      -0.000\n",
      "age           -0.0157      0.002     -6.603      0.000      -0.020      -0.011\n",
      "kidslt6       -0.2578      0.032     -8.070      0.000      -0.320      -0.195\n",
      "kidsge6        0.0107      0.013      0.805      0.421      -0.015       0.037\n",
      "==============================================================================\n"
     ]
    }
   ],
   "source": [
    "mLogit = sm.Logit.from_formula('inlf ~ nwifeinc + educ + exper + expersq + age + kidslt6 + kidsge6', data = df).fit()\n",
    "print(mLogit.summary())\n",
    "print(mLogit.get_margeff().summary())"
   ]
  },
  {
   "cell_type": "code",
   "execution_count": 4,
   "metadata": {},
   "outputs": [
    {
     "name": "stdout",
     "output_type": "stream",
     "text": [
      "Optimization terminated successfully.\n",
      "         Current function value: 0.532938\n",
      "         Iterations 5\n",
      "                          Probit Regression Results                           \n",
      "==============================================================================\n",
      "Dep. Variable:                   inlf   No. Observations:                  753\n",
      "Model:                         Probit   Df Residuals:                      745\n",
      "Method:                           MLE   Df Model:                            7\n",
      "Date:                Tue, 02 Jul 2024   Pseudo R-squ.:                  0.2206\n",
      "Time:                        18:19:47   Log-Likelihood:                -401.30\n",
      "converged:                       True   LL-Null:                       -514.87\n",
      "Covariance Type:            nonrobust   LLR p-value:                 2.009e-45\n",
      "==============================================================================\n",
      "                 coef    std err          z      P>|z|      [0.025      0.975]\n",
      "------------------------------------------------------------------------------\n",
      "Intercept      0.2701      0.509      0.531      0.595      -0.727       1.267\n",
      "nwifeinc      -0.0120      0.005     -2.484      0.013      -0.022      -0.003\n",
      "educ           0.1309      0.025      5.183      0.000       0.081       0.180\n",
      "exper          0.1233      0.019      6.590      0.000       0.087       0.160\n",
      "expersq       -0.0019      0.001     -3.145      0.002      -0.003      -0.001\n",
      "age           -0.0529      0.008     -6.235      0.000      -0.069      -0.036\n",
      "kidslt6       -0.8683      0.119     -7.326      0.000      -1.101      -0.636\n",
      "kidsge6        0.0360      0.043      0.828      0.408      -0.049       0.121\n",
      "==============================================================================\n",
      "       Probit Marginal Effects       \n",
      "=====================================\n",
      "Dep. Variable:                   inlf\n",
      "Method:                          dydx\n",
      "At:                           overall\n",
      "==============================================================================\n",
      "                dy/dx    std err          z      P>|z|      [0.025      0.975]\n",
      "------------------------------------------------------------------------------\n",
      "nwifeinc      -0.0036      0.001     -2.509      0.012      -0.006      -0.001\n",
      "educ           0.0394      0.007      5.452      0.000       0.025       0.054\n",
      "exper          0.0371      0.005      7.200      0.000       0.027       0.047\n",
      "expersq       -0.0006      0.000     -3.205      0.001      -0.001      -0.000\n",
      "age           -0.0159      0.002     -6.739      0.000      -0.021      -0.011\n",
      "kidslt6       -0.2612      0.032     -8.197      0.000      -0.324      -0.199\n",
      "kidsge6        0.0108      0.013      0.829      0.407      -0.015       0.036\n",
      "==============================================================================\n"
     ]
    }
   ],
   "source": [
    "mProbit = sm.Probit.from_formula('inlf ~ nwifeinc + educ + exper + expersq + age + kidslt6 + kidsge6', data = df).fit()\n",
    "print(mProbit.summary())\n",
    "print(mProbit.get_margeff().summary())"
   ]
  },
  {
   "cell_type": "markdown",
   "metadata": {},
   "source": [
    "### Example 17.2. Married Women’s Annual Labor Supply"
   ]
  },
  {
   "cell_type": "code",
   "execution_count": 5,
   "metadata": {},
   "outputs": [
    {
     "name": "stdout",
     "output_type": "stream",
     "text": [
      "                            OLS Regression Results                            \n",
      "==============================================================================\n",
      "Dep. Variable:                  hours   R-squared:                       0.266\n",
      "Model:                            OLS   Adj. R-squared:                  0.259\n",
      "Method:                 Least Squares   F-statistic:                     38.50\n",
      "Date:                Tue, 02 Jul 2024   Prob (F-statistic):           3.42e-46\n",
      "Time:                        18:19:47   Log-Likelihood:                -6049.5\n",
      "No. Observations:                 753   AIC:                         1.212e+04\n",
      "Df Residuals:                     745   BIC:                         1.215e+04\n",
      "Df Model:                           7                                         \n",
      "Covariance Type:            nonrobust                                         \n",
      "==============================================================================\n",
      "                 coef    std err          t      P>|t|      [0.025      0.975]\n",
      "------------------------------------------------------------------------------\n",
      "Intercept   1330.4824    270.785      4.913      0.000     798.891    1862.074\n",
      "nwifeinc      -3.4466      2.544     -1.355      0.176      -8.441       1.548\n",
      "educ          28.7611     12.955      2.220      0.027       3.329      54.193\n",
      "exper         65.6725      9.963      6.592      0.000      46.114      85.231\n",
      "expersq       -0.7005      0.325     -2.158      0.031      -1.338      -0.063\n",
      "age          -30.5116      4.364     -6.992      0.000     -39.079     -21.945\n",
      "kidslt6     -442.0899     58.847     -7.513      0.000    -557.615    -326.565\n",
      "kidsge6      -32.7792     23.176     -1.414      0.158     -78.278      12.719\n",
      "==============================================================================\n",
      "Omnibus:                       79.794   Durbin-Watson:                   1.371\n",
      "Prob(Omnibus):                  0.000   Jarque-Bera (JB):              112.876\n",
      "Skew:                           0.779   Prob(JB):                     3.08e-25\n",
      "Kurtosis:                       4.083   Cond. No.                     3.06e+03\n",
      "==============================================================================\n",
      "\n",
      "Notes:\n",
      "[1] Standard Errors assume that the covariance matrix of the errors is correctly specified.\n",
      "[2] The condition number is large, 3.06e+03. This might indicate that there are\n",
      "strong multicollinearity or other numerical problems.\n"
     ]
    }
   ],
   "source": [
    "print(smf.ols('hours ~ nwifeinc + educ + exper + expersq + age + kidslt6 + kidsge6', data = df).fit().summary())"
   ]
  },
  {
   "cell_type": "markdown",
   "metadata": {},
   "source": [
    "### Tobit model ?? "
   ]
  },
  {
   "cell_type": "code",
   "execution_count": 6,
   "metadata": {},
   "outputs": [],
   "source": [
    "df = dataWoo(\"mroz\").dropna()\n",
    "X = df[['nwifeinc' , 'educ' , 'exper' , 'expersq' , 'age' , 'kidslt6' , 'kidsge6']]\n",
    "X = sm.add_constant(X)\n",
    "y = df[['hours']]"
   ]
  },
  {
   "cell_type": "markdown",
   "metadata": {},
   "source": [
    "### Example 17.3. Poisson Regression for Number of Arrests"
   ]
  },
  {
   "cell_type": "code",
   "execution_count": 7,
   "metadata": {},
   "outputs": [
    {
     "name": "stdout",
     "output_type": "stream",
     "text": [
      "                            OLS Regression Results                            \n",
      "==============================================================================\n",
      "Dep. Variable:                 narr86   R-squared:                       0.072\n",
      "Model:                            OLS   Adj. R-squared:                  0.069\n",
      "Method:                 Least Squares   F-statistic:                     23.57\n",
      "Date:                Tue, 02 Jul 2024   Prob (F-statistic):           3.72e-39\n",
      "Time:                        18:19:47   Log-Likelihood:                -3349.7\n",
      "No. Observations:                2725   AIC:                             6719.\n",
      "Df Residuals:                    2715   BIC:                             6778.\n",
      "Df Model:                           9                                         \n",
      "Covariance Type:            nonrobust                                         \n",
      "==============================================================================\n",
      "                 coef    std err          t      P>|t|      [0.025      0.975]\n",
      "------------------------------------------------------------------------------\n",
      "Intercept      0.5766      0.038     15.215      0.000       0.502       0.651\n",
      "pcnv          -0.1319      0.040     -3.264      0.001      -0.211      -0.053\n",
      "avgsen        -0.0113      0.012     -0.926      0.355      -0.035       0.013\n",
      "tottime        0.0121      0.009      1.279      0.201      -0.006       0.031\n",
      "ptime86       -0.0409      0.009     -4.638      0.000      -0.058      -0.024\n",
      "qemp86        -0.0513      0.014     -3.542      0.000      -0.080      -0.023\n",
      "inc86         -0.0015      0.000     -4.261      0.000      -0.002      -0.001\n",
      "black          0.3270      0.045      7.199      0.000       0.238       0.416\n",
      "hispan         0.1938      0.040      4.880      0.000       0.116       0.272\n",
      "born60        -0.0225      0.033     -0.675      0.500      -0.088       0.043\n",
      "==============================================================================\n",
      "Omnibus:                     2395.492   Durbin-Watson:                   1.840\n",
      "Prob(Omnibus):                  0.000   Jarque-Bera (JB):           111865.117\n",
      "Skew:                           3.982   Prob(JB):                         0.00\n",
      "Kurtosis:                      33.362   Cond. No.                         291.\n",
      "==============================================================================\n",
      "\n",
      "Notes:\n",
      "[1] Standard Errors assume that the covariance matrix of the errors is correctly specified.\n"
     ]
    }
   ],
   "source": [
    "df = dataWoo(\"crime1\")\n",
    "print(smf.ols('narr86 ~ pcnv + avgsen + tottime + ptime86 + qemp86 + inc86 + black + hispan + born60', data=df).fit().summary())"
   ]
  },
  {
   "cell_type": "code",
   "execution_count": 8,
   "metadata": {},
   "outputs": [
    {
     "name": "stdout",
     "output_type": "stream",
     "text": [
      "                               GEE Regression Results                              \n",
      "===================================================================================\n",
      "Dep. Variable:                      narr86   No. Observations:                 2725\n",
      "Model:                                 GEE   No. clusters:                        2\n",
      "Method:                        Generalized   Min. cluster size:                 439\n",
      "                      Estimating Equations   Max. cluster size:                2286\n",
      "Family:                            Poisson   Mean cluster size:              1362.5\n",
      "Dependence structure:         Independence   Num. iterations:                     2\n",
      "Date:                     Tue, 02 Jul 2024   Scale:                           1.000\n",
      "Covariance type:                    robust   Time:                         18:19:47\n",
      "==============================================================================\n",
      "                 coef    std err          z      P>|z|      [0.025      0.975]\n",
      "------------------------------------------------------------------------------\n",
      "Intercept     -0.5996      0.007    -81.445      0.000      -0.614      -0.585\n",
      "pcnv          -0.4016      0.090     -4.457      0.000      -0.578      -0.225\n",
      "avgsen        -0.0238      0.015     -1.584      0.113      -0.053       0.006\n",
      "tottime        0.0245      0.005      4.621      0.000       0.014       0.035\n",
      "ptime86       -0.0986      0.024     -4.184      0.000      -0.145      -0.052\n",
      "qemp86        -0.0380      0.022     -1.757      0.079      -0.080       0.004\n",
      "inc86         -0.0081      0.000    -25.035      0.000      -0.009      -0.007\n",
      "black          0.6608      0.012     56.763      0.000       0.638       0.684\n",
      "hispan         0.4998      0.009     57.224      0.000       0.483       0.517\n",
      "born60        -0.0510      0.047     -1.090      0.276      -0.143       0.041\n",
      "==============================================================================\n",
      "Skew:                          3.9776   Kurtosis:                      30.5163\n",
      "Centered skew:                 3.9776   Centered kurtosis:             30.5163\n",
      "==============================================================================\n"
     ]
    }
   ],
   "source": [
    "from statsmodels.genmod.generalized_estimating_equations import GEE\n",
    "from statsmodels.genmod.cov_struct import (Exchangeable,\n",
    "    Independence,Autoregressive)\n",
    "from statsmodels.genmod.families import Poisson\n",
    "\n",
    "print(GEE.from_formula('narr86 ~ pcnv + avgsen + tottime + ptime86 + qemp86 + inc86 + black + hispan +born60', 'black', data=df, cov_struct=Independence(), family=Poisson()).fit().summary())"
   ]
  },
  {
   "cell_type": "markdown",
   "metadata": {},
   "source": [
    "### Example 17.5. Wage Offer Equation for Married Women"
   ]
  },
  {
   "cell_type": "code",
   "execution_count": 9,
   "metadata": {},
   "outputs": [
    {
     "name": "stdout",
     "output_type": "stream",
     "text": [
      "                            OLS Regression Results                            \n",
      "==============================================================================\n",
      "Dep. Variable:                  lwage   R-squared:                       0.157\n",
      "Model:                            OLS   Adj. R-squared:                  0.151\n",
      "Method:                 Least Squares   F-statistic:                     26.29\n",
      "Date:                Tue, 02 Jul 2024   Prob (F-statistic):           1.30e-15\n",
      "Time:                        18:19:47   Log-Likelihood:                -431.60\n",
      "No. Observations:                 428   AIC:                             871.2\n",
      "Df Residuals:                     424   BIC:                             887.4\n",
      "Df Model:                           3                                         \n",
      "Covariance Type:            nonrobust                                         \n",
      "==============================================================================\n",
      "                 coef    std err          t      P>|t|      [0.025      0.975]\n",
      "------------------------------------------------------------------------------\n",
      "Intercept     -0.5220      0.199     -2.628      0.009      -0.912      -0.132\n",
      "educ           0.1075      0.014      7.598      0.000       0.080       0.135\n",
      "exper          0.0416      0.013      3.155      0.002       0.016       0.067\n",
      "expersq       -0.0008      0.000     -2.063      0.040      -0.002   -3.82e-05\n",
      "==============================================================================\n",
      "Omnibus:                       77.792   Durbin-Watson:                   1.961\n",
      "Prob(Omnibus):                  0.000   Jarque-Bera (JB):              300.917\n",
      "Skew:                          -0.753   Prob(JB):                     4.54e-66\n",
      "Kurtosis:                       6.822   Cond. No.                     2.21e+03\n",
      "==============================================================================\n",
      "\n",
      "Notes:\n",
      "[1] Standard Errors assume that the covariance matrix of the errors is correctly specified.\n",
      "[2] The condition number is large, 2.21e+03. This might indicate that there are\n",
      "strong multicollinearity or other numerical problems.\n"
     ]
    }
   ],
   "source": [
    "df = dataWoo(\"mroz\")\n",
    "print(smf.ols('lwage ~ educ + exper + expersq', data=df).fit().summary())"
   ]
  }
 ],
 "metadata": {
  "kernelspec": {
   "display_name": "Python 3 (ipykernel)",
   "language": "python",
   "name": "python3"
  },
  "language_info": {
   "codemirror_mode": {
    "name": "ipython",
    "version": 3
   },
   "file_extension": ".py",
   "mimetype": "text/x-python",
   "name": "python",
   "nbconvert_exporter": "python",
   "pygments_lexer": "ipython3",
   "version": "3.11.7"
  }
 },
 "nbformat": 4,
 "nbformat_minor": 4
}
