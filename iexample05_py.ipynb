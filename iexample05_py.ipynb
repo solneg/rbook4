{
 "cells": [
  {
   "cell_type": "markdown",
   "metadata": {},
   "source": [
    "# Chapter 5. Multiple Regression Analysis: OLS Asymptotics \n",
    "[Home](http://solomonegash.com/) | [Stata](http://solomonegash.com/woodridge1/index.html) | [R](http://solomonegash.com/econometrics/rbook1/index.html)"
   ]
  },
  {
   "cell_type": "code",
   "execution_count": 1,
   "metadata": {},
   "outputs": [],
   "source": [
    "import statsmodels.formula.api as smf\n",
    "from statsmodels.iolib.summary2 import summary_col\n",
    "\n",
    "from wooldridge import *"
   ]
  },
  {
   "cell_type": "markdown",
   "metadata": {},
   "source": [
    "### Example 5.2  Birth weight equaiton, Standar Errors"
   ]
  },
  {
   "cell_type": "code",
   "execution_count": 2,
   "metadata": {},
   "outputs": [
    {
     "data": {
      "text/plain": [
       "694.0"
      ]
     },
     "execution_count": 2,
     "metadata": {},
     "output_type": "execute_result"
    }
   ],
   "source": [
    "df = dataWoo('bwght')\n",
    "half= df['cigs'].count()/2\n",
    "half"
   ]
  },
  {
   "cell_type": "code",
   "execution_count": 3,
   "metadata": {},
   "outputs": [
    {
     "name": "stdout",
     "output_type": "stream",
     "text": [
      "                            OLS Regression Results                            \n",
      "==============================================================================\n",
      "Dep. Variable:                 lbwght   R-squared:                       0.030\n",
      "Model:                            OLS   Adj. R-squared:                  0.027\n",
      "Method:                 Least Squares   F-statistic:                     10.52\n",
      "Date:                Sun, 30 Jun 2024   Prob (F-statistic):           3.16e-05\n",
      "Time:                        18:52:10   Log-Likelihood:                 147.30\n",
      "No. Observations:                 694   AIC:                            -288.6\n",
      "Df Residuals:                     691   BIC:                            -275.0\n",
      "Df Model:                           2                                         \n",
      "Covariance Type:            nonrobust                                         \n",
      "==============================================================================\n",
      "                 coef    std err          t      P>|t|      [0.025      0.975]\n",
      "------------------------------------------------------------------------------\n",
      "Intercept      4.7056      0.027    173.939      0.000       4.652       4.759\n",
      "cigs          -0.0046      0.001     -3.481      0.001      -0.007      -0.002\n",
      "lfaminc        0.0194      0.008      2.370      0.018       0.003       0.035\n",
      "==============================================================================\n",
      "Omnibus:                      384.000   Durbin-Watson:                   1.859\n",
      "Prob(Omnibus):                  0.000   Jarque-Bera (JB):             5273.755\n",
      "Skew:                          -2.170   Prob(JB):                         0.00\n",
      "Kurtosis:                      15.788   Cond. No.                         22.8\n",
      "==============================================================================\n",
      "\n",
      "Notes:\n",
      "[1] Standard Errors assume that the covariance matrix of the errors is correctly specified.\n"
     ]
    }
   ],
   "source": [
    "df2=df[:694]\n",
    "bwght_ols_half = smf.ols(formula='lbwght  ~ cigs  + lfaminc + 1', data=df2).fit()\n",
    "print(bwght_ols_half.summary())"
   ]
  },
  {
   "cell_type": "code",
   "execution_count": 4,
   "metadata": {},
   "outputs": [
    {
     "name": "stdout",
     "output_type": "stream",
     "text": [
      "                            OLS Regression Results                            \n",
      "==============================================================================\n",
      "Dep. Variable:                 lbwght   R-squared:                       0.026\n",
      "Model:                            OLS   Adj. R-squared:                  0.024\n",
      "Method:                 Least Squares   F-statistic:                     18.31\n",
      "Date:                Sun, 30 Jun 2024   Prob (F-statistic):           1.42e-08\n",
      "Time:                        18:52:10   Log-Likelihood:                 349.39\n",
      "No. Observations:                1388   AIC:                            -692.8\n",
      "Df Residuals:                    1385   BIC:                            -677.1\n",
      "Df Model:                           2                                         \n",
      "Covariance Type:            nonrobust                                         \n",
      "==============================================================================\n",
      "                 coef    std err          t      P>|t|      [0.025      0.975]\n",
      "------------------------------------------------------------------------------\n",
      "Intercept      4.7186      0.018    258.631      0.000       4.683       4.754\n",
      "cigs          -0.0041      0.001     -4.756      0.000      -0.006      -0.002\n",
      "lfaminc        0.0163      0.006      2.913      0.004       0.005       0.027\n",
      "==============================================================================\n",
      "Omnibus:                      610.862   Durbin-Watson:                   1.927\n",
      "Prob(Omnibus):                  0.000   Jarque-Bera (JB):             5956.668\n",
      "Skew:                          -1.786   Prob(JB):                         0.00\n",
      "Kurtosis:                      12.499   Cond. No.                         24.1\n",
      "==============================================================================\n",
      "\n",
      "Notes:\n",
      "[1] Standard Errors assume that the covariance matrix of the errors is correctly specified.\n"
     ]
    }
   ],
   "source": [
    "bwght_ols = smf.ols(formula='lbwght  ~ cigs  + lfaminc + 1', data=df).fit()\n",
    "print(bwght_ols.summary())"
   ]
  },
  {
   "cell_type": "code",
   "execution_count": 5,
   "metadata": {},
   "outputs": [
    {
     "name": "stdout",
     "output_type": "stream",
     "text": [
      "\n",
      "=======================================\n",
      "               bwght_ols_half bwght_ols\n",
      "---------------------------------------\n",
      "Intercept      4.706***       4.719*** \n",
      "               (0.027)        (0.018)  \n",
      "cigs           -0.005***      -0.004***\n",
      "               (0.001)        (0.001)  \n",
      "lfaminc        0.019**        0.016*** \n",
      "               (0.008)        (0.006)  \n",
      "R-squared      0.030          0.026    \n",
      "R-squared Adj. 0.027          0.024    \n",
      "N              694            1388     \n",
      "R2             0.030          0.026    \n",
      "=======================================\n",
      "Standard errors in parentheses.\n",
      "* p<.1, ** p<.05, ***p<.01\n"
     ]
    }
   ],
   "source": [
    "print(summary_col([bwght_ols_half, bwght_ols], stars=True,float_format='%0.3f',\n",
    "                  model_names=['bwght_ols_half','bwght_ols'],\n",
    "                  info_dict={'N':lambda x: \"{0:d}\".format(int(x.nobs)),\n",
    "                             'R2':lambda x: \"{:.3f}\".format(x.rsquared)}))"
   ]
  },
  {
   "cell_type": "markdown",
   "metadata": {},
   "source": [
    "### Example 5.3 Economic model of crime"
   ]
  },
  {
   "cell_type": "code",
   "execution_count": 6,
   "metadata": {},
   "outputs": [
    {
     "name": "stdout",
     "output_type": "stream",
     "text": [
      "                            OLS Regression Results                            \n",
      "==============================================================================\n",
      "Dep. Variable:                 narr86   R-squared:                       0.043\n",
      "Model:                            OLS   Adj. R-squared:                  0.041\n",
      "Method:                 Least Squares   F-statistic:                     24.29\n",
      "Date:                Sun, 30 Jun 2024   Prob (F-statistic):           5.43e-24\n",
      "Time:                        18:52:10   Log-Likelihood:                -3392.7\n",
      "No. Observations:                2725   AIC:                             6797.\n",
      "Df Residuals:                    2719   BIC:                             6833.\n",
      "Df Model:                           5                                         \n",
      "Covariance Type:            nonrobust                                         \n",
      "==============================================================================\n",
      "                 coef    std err          t      P>|t|      [0.025      0.975]\n",
      "------------------------------------------------------------------------------\n",
      "Intercept      0.7061      0.033     21.297      0.000       0.641       0.771\n",
      "pcnv          -0.1512      0.041     -3.701      0.000      -0.231      -0.071\n",
      "avgsen        -0.0070      0.012     -0.568      0.570      -0.031       0.017\n",
      "tottime        0.0121      0.010      1.263      0.207      -0.007       0.031\n",
      "ptime86       -0.0393      0.009     -4.403      0.000      -0.057      -0.022\n",
      "qemp86        -0.1031      0.010     -9.915      0.000      -0.123      -0.083\n",
      "==============================================================================\n",
      "Omnibus:                     2395.326   Durbin-Watson:                   1.837\n",
      "Prob(Omnibus):                  0.000   Jarque-Bera (JB):           106869.684\n",
      "Skew:                           4.001   Prob(JB):                         0.00\n",
      "Kurtosis:                      32.618   Cond. No.                         16.3\n",
      "==============================================================================\n",
      "\n",
      "Notes:\n",
      "[1] Standard Errors assume that the covariance matrix of the errors is correctly specified.\n"
     ]
    }
   ],
   "source": [
    "df = dataWoo('crime1')\n",
    "crime_ols = smf.ols(formula='narr86  ~ pcnv  + avgsen + tottime + ptime86 + qemp86 + 1', \n",
    "                    data=df).fit()\n",
    "print(crime_ols.summary())"
   ]
  },
  {
   "cell_type": "code",
   "execution_count": 7,
   "metadata": {},
   "outputs": [
    {
     "name": "stdout",
     "output_type": "stream",
     "text": [
      "                            OLS Regression Results                            \n",
      "==============================================================================\n",
      "Dep. Variable:                 narr86   R-squared:                       0.041\n",
      "Model:                            OLS   Adj. R-squared:                  0.040\n",
      "Method:                 Least Squares   F-statistic:                     39.10\n",
      "Date:                Sun, 30 Jun 2024   Prob (F-statistic):           9.91e-25\n",
      "Time:                        18:52:10   Log-Likelihood:                -3394.7\n",
      "No. Observations:                2725   AIC:                             6797.\n",
      "Df Residuals:                    2721   BIC:                             6821.\n",
      "Df Model:                           3                                         \n",
      "Covariance Type:            nonrobust                                         \n",
      "==============================================================================\n",
      "                 coef    std err          t      P>|t|      [0.025      0.975]\n",
      "------------------------------------------------------------------------------\n",
      "Intercept      0.7118      0.033     21.565      0.000       0.647       0.776\n",
      "pcnv          -0.1499      0.041     -3.669      0.000      -0.230      -0.070\n",
      "ptime86       -0.0344      0.009     -4.007      0.000      -0.051      -0.018\n",
      "qemp86        -0.1041      0.010    -10.023      0.000      -0.124      -0.084\n",
      "==============================================================================\n",
      "Omnibus:                     2394.860   Durbin-Watson:                   1.836\n",
      "Prob(Omnibus):                  0.000   Jarque-Bera (JB):           106169.153\n",
      "Skew:                           4.002   Prob(JB):                         0.00\n",
      "Kurtosis:                      32.513   Cond. No.                         8.27\n",
      "==============================================================================\n",
      "\n",
      "Notes:\n",
      "[1] Standard Errors assume that the covariance matrix of the errors is correctly specified.\n"
     ]
    }
   ],
   "source": [
    "crime_ols_r = smf.ols(formula='narr86  ~ pcnv + ptime86 + qemp86 + 1', data=df).fit()\n",
    "resid = df.narr86 - crime_ols_r.predict()\n",
    "print(crime_ols_r.summary())"
   ]
  },
  {
   "cell_type": "code",
   "execution_count": 8,
   "metadata": {},
   "outputs": [],
   "source": [
    "# print(\" (LM, p, df) = \", crime_ols.compare_lm_test(crime_ols_r))"
   ]
  },
  {
   "cell_type": "code",
   "execution_count": 9,
   "metadata": {},
   "outputs": [
    {
     "name": "stdout",
     "output_type": "stream",
     "text": [
      "                            OLS Regression Results                            \n",
      "==============================================================================\n",
      "Dep. Variable:                  resid   R-squared:                       0.001\n",
      "Model:                            OLS   Adj. R-squared:                 -0.000\n",
      "Method:                 Least Squares   F-statistic:                    0.8136\n",
      "Date:                Sun, 30 Jun 2024   Prob (F-statistic):              0.540\n",
      "Time:                        18:52:10   Log-Likelihood:                -3392.7\n",
      "No. Observations:                2725   AIC:                             6797.\n",
      "Df Residuals:                    2719   BIC:                             6833.\n",
      "Df Model:                           5                                         \n",
      "Covariance Type:            nonrobust                                         \n",
      "==============================================================================\n",
      "                 coef    std err          t      P>|t|      [0.025      0.975]\n",
      "------------------------------------------------------------------------------\n",
      "Intercept     -0.0057      0.033     -0.172      0.863      -0.071       0.059\n",
      "pcnv          -0.0013      0.041     -0.032      0.975      -0.081       0.079\n",
      "avgsen        -0.0070      0.012     -0.568      0.570      -0.031       0.017\n",
      "tottime        0.0121      0.010      1.263      0.207      -0.007       0.031\n",
      "ptime86       -0.0048      0.009     -0.543      0.587      -0.022       0.013\n",
      "qemp86         0.0010      0.010      0.098      0.922      -0.019       0.021\n",
      "==============================================================================\n",
      "Omnibus:                     2395.326   Durbin-Watson:                   1.837\n",
      "Prob(Omnibus):                  0.000   Jarque-Bera (JB):           106869.684\n",
      "Skew:                           4.001   Prob(JB):                         0.00\n",
      "Kurtosis:                      32.618   Cond. No.                         16.3\n",
      "==============================================================================\n",
      "\n",
      "Notes:\n",
      "[1] Standard Errors assume that the covariance matrix of the errors is correctly specified.\n"
     ]
    }
   ],
   "source": [
    "#Alternatively, \n",
    "crime_resid = smf.ols(formula='resid  ~ pcnv  + avgsen + tottime + ptime86 + qemp86 + 1', \n",
    "                      data=df).fit()\n",
    "print(crime_resid.summary())"
   ]
  },
  {
   "cell_type": "code",
   "execution_count": 10,
   "metadata": {},
   "outputs": [
    {
     "data": {
      "text/plain": [
       "4.0875"
      ]
     },
     "execution_count": 10,
     "metadata": {},
     "output_type": "execute_result"
    }
   ],
   "source": [
    "LM = 2725 * 0.0015 # N'Rsq\n",
    "LM"
   ]
  }
 ],
 "metadata": {
  "kernelspec": {
   "display_name": "Python 3 (ipykernel)",
   "language": "python",
   "name": "python3"
  },
  "language_info": {
   "codemirror_mode": {
    "name": "ipython",
    "version": 3
   },
   "file_extension": ".py",
   "mimetype": "text/x-python",
   "name": "python",
   "nbconvert_exporter": "python",
   "pygments_lexer": "ipython3",
   "version": "3.11.7"
  }
 },
 "nbformat": 4,
 "nbformat_minor": 4
}
