{
 "cells": [
  {
   "cell_type": "markdown",
   "metadata": {},
   "source": [
    "# Chapter 9. More on Specification and Data Issues  \n",
    "[Home](http://solomonegash.com/) | [Stata](http://solomonegash.com/woodridge1/index.html) | [R](http://solomonegash.com/econometrics/rbook1/index.html)  |  April 20, 2020\n"
   ]
  },
  {
   "cell_type": "code",
   "execution_count": 1,
   "metadata": {},
   "outputs": [],
   "source": [
    "import statsmodels.formula.api as smf\n",
    "from statsmodels.iolib.summary2 import summary_col\n",
    "\n",
    "from wooldridge import *"
   ]
  },
  {
   "cell_type": "markdown",
   "metadata": {},
   "source": [
    "### Example 9.1. Economic Model of Crime"
   ]
  },
  {
   "cell_type": "code",
   "execution_count": 2,
   "metadata": {},
   "outputs": [],
   "source": [
    "df = dataWoo('crime1')"
   ]
  },
  {
   "cell_type": "code",
   "execution_count": 3,
   "metadata": {},
   "outputs": [
    {
     "name": "stdout",
     "output_type": "stream",
     "text": [
      "\n",
      "==============================================\n",
      "               Hetrosced_r Hetrosced   Robust \n",
      "                  (b/se)     (b/se)    (b/se) \n",
      "----------------------------------------------\n",
      "Intercept      0.569***    0.505***  0.505*** \n",
      "               (0.036)     (0.037)   (0.039)  \n",
      "R-squared      0.072       0.103     0.103    \n",
      "R-squared Adj. 0.070       0.100     0.100    \n",
      "avgsen         -0.011      -0.017    -0.017   \n",
      "               (0.012)     (0.012)   (0.014)  \n",
      "black          0.327***    0.292***  0.292*** \n",
      "               (0.045)     (0.045)   (0.058)  \n",
      "hispan         0.194***    0.164***  0.164*** \n",
      "               (0.040)     (0.039)   (0.040)  \n",
      "inc86          -0.001***   -0.003*** -0.003***\n",
      "               (0.000)     (0.001)   (0.001)  \n",
      "inc86sq                    0.000***  0.000*** \n",
      "                           (0.000)   (0.000)  \n",
      "pcnv           -0.133***   0.553***  0.553*** \n",
      "               (0.040)     (0.154)   (0.170)  \n",
      "pcnvsq                     -0.730*** -0.730***\n",
      "                           (0.156)   (0.172)  \n",
      "pt86sq                     -0.030*** -0.030***\n",
      "                           (0.004)   (0.006)  \n",
      "ptime86        -0.041***   0.287***  0.287*** \n",
      "               (0.009)     (0.044)   (0.069)  \n",
      "qemp86         -0.051***   -0.014    -0.014   \n",
      "               (0.014)     (0.017)   (0.017)  \n",
      "tottime        0.012       0.012     0.012    \n",
      "               (0.009)     (0.009)   (0.013)  \n",
      "N              2725        2725      2725     \n",
      "R2             0.072       0.103     0.103    \n",
      "==============================================\n",
      "Standard errors in parentheses.\n",
      "* p<.1, ** p<.05, ***p<.01\n"
     ]
    }
   ],
   "source": [
    "crime_hetr_r = smf.ols('narr86  ~ pcnv + avgsen + tottime + ptime86 + qemp86 + inc86 + black + hispan + 1', \n",
    "                       data=df).fit()\n",
    "crime_hetr = smf.ols('narr86  ~ pcnv + avgsen + tottime + ptime86 + qemp86 + inc86 + black + hispan + pcnvsq + pt86sq + inc86sq + 1', \n",
    "                     data=df).fit()\n",
    "crime_robust = smf.ols('narr86  ~ pcnv + avgsen + tottime + ptime86 + qemp86 + inc86 + black + hispan + pcnvsq + pt86sq + inc86sq + 1',\n",
    "                       data=df).fit(cov_type='HC1')\n",
    "\n",
    "print(summary_col([crime_hetr_r, crime_hetr, crime_robust],stars=True,float_format='%0.3f',\n",
    "                  model_names=['Hetrosced_r\\n(b/se)','Hetrosced\\n(b/se)','Robust\\n(b/se)'],\n",
    "                 info_dict={'N':lambda x: \"{0:d}\".format(int(x.nobs)),\n",
    "                             'R2':lambda x: \"{:.3f}\".format(x.rsquared)}))"
   ]
  },
  {
   "cell_type": "markdown",
   "metadata": {},
   "source": [
    "### Example 9.2. Housing Price Equation"
   ]
  },
  {
   "cell_type": "code",
   "execution_count": 4,
   "metadata": {},
   "outputs": [
    {
     "name": "stdout",
     "output_type": "stream",
     "text": [
      "\n",
      "==================================\n",
      "                Linear  Polynomial\n",
      "                (b/se)    (b/se)  \n",
      "----------------------------------\n",
      "Intercept      -21.770  166.097   \n",
      "               (29.475) (317.433) \n",
      "R-squared      0.672    0.706     \n",
      "R-squared Adj. 0.661    0.688     \n",
      "bdrms          13.853   2.175     \n",
      "               (9.010)  (33.888)  \n",
      "lotsize        0.002*** 0.000     \n",
      "               (0.001)  (0.005)   \n",
      "prhat2                  0.000     \n",
      "                        (0.007)   \n",
      "prhat3                  0.000     \n",
      "                        (0.000)   \n",
      "sqrft          0.123*** 0.018     \n",
      "               (0.013)  (0.299)   \n",
      "N              88       88        \n",
      "R2             0.672    0.706     \n",
      "Adj.R2         0.661    0.688     \n",
      "==================================\n",
      "Standard errors in parentheses.\n",
      "* p<.1, ** p<.05, ***p<.01\n"
     ]
    }
   ],
   "source": [
    "df = dataWoo(\"hprice1\")\n",
    "\n",
    "hprice_reg = smf.ols('price ~ lotsize + sqrft + bdrms', data=df).fit()\n",
    "prhat2=hprice_reg.predict()**2\n",
    "prhat3=hprice_reg.predict()**3\n",
    "hprice_reg_pol = smf.ols('price ~ lotsize + sqrft + bdrms + prhat2 + prhat3 + 1 ', data=df).fit()\n",
    "\n",
    "print(summary_col([hprice_reg, hprice_reg_pol],stars=True,float_format='%0.3f',\n",
    "                  model_names=['Linear\\n(b/se)','Polynomial\\n(b/se)'],\n",
    "                 info_dict={'N':lambda x: \"{0:d}\".format(int(x.nobs)),\n",
    "                             'R2':lambda x: \"{:.3f}\".format(x.rsquared),\n",
    "                           'Adj.R2':lambda x: \"{:.3f}\".format(x.rsquared_adj)}))\n"
   ]
  },
  {
   "cell_type": "code",
   "execution_count": 5,
   "metadata": {},
   "outputs": [
    {
     "name": "stdout",
     "output_type": "stream",
     "text": [
      "<F test: F=4.668205534947545, p=0.012021711442896363, df_denom=82, df_num=2>\n"
     ]
    }
   ],
   "source": [
    "hypotheses = '(prhat2  = prhat3 = 0)'\n",
    "f_test = hprice_reg_pol.f_test(hypotheses)\n",
    "print(f_test)"
   ]
  },
  {
   "cell_type": "markdown",
   "metadata": {},
   "source": [
    "#### Logarithmic form"
   ]
  },
  {
   "cell_type": "code",
   "execution_count": 6,
   "metadata": {},
   "outputs": [
    {
     "name": "stdout",
     "output_type": "stream",
     "text": [
      "\n",
      "====================================\n",
      "               Linear_L Polynomial_L\n",
      "                (b/se)     (b/se)   \n",
      "------------------------------------\n",
      "Intercept      -1.297** 87.886      \n",
      "               (0.651)  (240.974)   \n",
      "R-squared      0.643    0.664       \n",
      "R-squared Adj. 0.630    0.643       \n",
      "bdrms          0.037    -0.925      \n",
      "               (0.028)  (2.770)     \n",
      "llotsize       0.168*** -4.181      \n",
      "               (0.038)  (12.595)    \n",
      "lprhat2                 3.910       \n",
      "                        (13.014)    \n",
      "lprhat3                 -0.193      \n",
      "                        (0.752)     \n",
      "lsqrft         0.700*** -17.349     \n",
      "               (0.093)  (52.490)    \n",
      "N              88       88          \n",
      "R2             0.643    0.664       \n",
      "Adj.R2         0.630    0.643       \n",
      "====================================\n",
      "Standard errors in parentheses.\n",
      "* p<.1, ** p<.05, ***p<.01\n"
     ]
    }
   ],
   "source": [
    "lhprice_reg = smf.ols('lprice ~ llotsize + lsqrft + bdrms', data=df).fit()\n",
    "lprhat2=lhprice_reg.predict()**2\n",
    "lprhat3=lhprice_reg.predict()**3\n",
    "lhprice_reg_pol = smf.ols('lprice ~ llotsize + lsqrft + bdrms + lprhat2 + lprhat3 + 1 ', data=df).fit()\n",
    "\n",
    "print(summary_col([lhprice_reg, lhprice_reg_pol],stars=True,float_format='%0.3f',\n",
    "                  model_names=['Linear_L\\n(b/se)','Polynomial_L\\n(b/se)'],\n",
    "                 info_dict={'N':lambda x: \"{0:d}\".format(int(x.nobs)),\n",
    "                             'R2':lambda x: \"{:.3f}\".format(x.rsquared), \n",
    "                           'Adj.R2':lambda x: \"{:.3f}\".format(x.rsquared_adj)}))"
   ]
  },
  {
   "cell_type": "code",
   "execution_count": 7,
   "metadata": {},
   "outputs": [
    {
     "name": "stdout",
     "output_type": "stream",
     "text": [
      "<F test: F=2.565046204755637, p=0.08307546624268071, df_denom=82, df_num=2>\n"
     ]
    }
   ],
   "source": [
    "hypotheses = '(lprhat2  = lprhat3 = 0)'\n",
    "f_test = lhprice_reg_pol.f_test(hypotheses)\n",
    "print(f_test)"
   ]
  },
  {
   "cell_type": "markdown",
   "metadata": {},
   "source": [
    "#### Example 9.3. IQ as a Proxy for Ability"
   ]
  },
  {
   "cell_type": "code",
   "execution_count": 8,
   "metadata": {},
   "outputs": [
    {
     "name": "stdout",
     "output_type": "stream",
     "text": [
      "\n",
      "============================================\n",
      "                  IQA       IQB       IQC   \n",
      "                 (b/se)    (b/se)    (b/se) \n",
      "--------------------------------------------\n",
      "IQ                       0.004***  -0.001   \n",
      "                         (0.001)   (0.005)  \n",
      "Intercept      5.395***  5.176***  5.648*** \n",
      "               (0.113)   (0.128)   (0.546)  \n",
      "R-squared      0.253     0.263     0.263    \n",
      "R-squared Adj. 0.247     0.256     0.256    \n",
      "black          -0.188*** -0.143*** -0.147***\n",
      "               (0.038)   (0.039)   (0.040)  \n",
      "educ           0.065***  0.054***  0.018    \n",
      "               (0.006)   (0.007)   (0.041)  \n",
      "educ:IQ                            0.000    \n",
      "                                   (0.000)  \n",
      "exper          0.014***  0.014***  0.014*** \n",
      "               (0.003)   (0.003)   (0.003)  \n",
      "married        0.199***  0.200***  0.201*** \n",
      "               (0.039)   (0.039)   (0.039)  \n",
      "south          -0.091*** -0.080*** -0.080***\n",
      "               (0.026)   (0.026)   (0.026)  \n",
      "tenure         0.012***  0.011***  0.011*** \n",
      "               (0.002)   (0.002)   (0.002)  \n",
      "urban          0.184***  0.182***  0.184*** \n",
      "               (0.027)   (0.027)   (0.027)  \n",
      "N              935       935       935      \n",
      "R2             0.253     0.263     0.263    \n",
      "Adj.R2         0.247     0.256     0.256    \n",
      "============================================\n",
      "Standard errors in parentheses.\n",
      "* p<.1, ** p<.05, ***p<.01\n"
     ]
    }
   ],
   "source": [
    "df = dataWoo(\"wage2\")\n",
    "IQA = smf.ols('lwage ~ educ + exper + tenure + married + south + urban + black + 1', data=df).fit()\n",
    "IQB = smf.ols('lwage ~ educ + exper + tenure + married + south + urban + black + IQ + 1', data=df).fit()\n",
    "IQC = smf.ols('lwage ~ educ + exper + tenure + married + south + urban + black + IQ + educ:IQ + 1', data=df).fit()\n",
    "\n",
    "print(summary_col([IQA, IQB, IQC],stars=True,float_format='%0.3f',\n",
    "                  model_names=['IQA\\n(b/se)','IQB\\n(b/se)','IQC\\n(b/se)'],\n",
    "                 info_dict={'N':lambda x: \"{0:d}\".format(int(x.nobs)),\n",
    "                             'R2':lambda x: \"{:.3f}\".format(x.rsquared), \n",
    "                           'Adj.R2':lambda x: \"{:.3f}\".format(x.rsquared_adj)}))"
   ]
  },
  {
   "cell_type": "markdown",
   "metadata": {},
   "source": [
    "### Example 9.4. City Crime Rates"
   ]
  },
  {
   "cell_type": "code",
   "execution_count": 9,
   "metadata": {},
   "outputs": [
    {
     "name": "stdout",
     "output_type": "stream",
     "text": [
      "\n",
      "=================================\n",
      "                crimeA    crimeA \n",
      "               (b/se) I (b/se) II\n",
      "---------------------------------\n",
      "Intercept      3.343**  0.076    \n",
      "               (1.251)  (0.821)  \n",
      "R-squared      0.057    0.680    \n",
      "R-squared Adj. 0.013    0.657    \n",
      "lcrmrt_1                1.194*** \n",
      "                        (0.132)  \n",
      "llawexpc       0.203    -0.140   \n",
      "               (0.173)  (0.109)  \n",
      "unem           -0.029   0.009    \n",
      "               (0.032)  (0.020)  \n",
      "N              46       46       \n",
      "R2             0.057    0.680    \n",
      "Adj.R2         0.013    0.657    \n",
      "=================================\n",
      "Standard errors in parentheses.\n",
      "* p<.1, ** p<.05, ***p<.01\n"
     ]
    }
   ],
   "source": [
    "df = dataWoo(\"crime2\")\n",
    "df = df[(df['year']==87)]\n",
    "crimeA = smf.ols('lcrmrte ~ unem + llawexpc + 1', data=df).fit()\n",
    "crimeB = smf.ols('lcrmrte ~ unem + llawexpc + lcrmrt_1 + 1', data=df).fit()\n",
    "\n",
    "print(summary_col([crimeA, crimeB],stars=True,float_format='%0.3f',\n",
    "                  model_names=['crimeA\\n(b/se)','crimeA\\n(b/se)'],\n",
    "                 info_dict={'N':lambda x: \"{0:d}\".format(int(x.nobs)),\n",
    "                             'R2':lambda x: \"{:.3f}\".format(x.rsquared), \n",
    "                           'Adj.R2':lambda x: \"{:.3f}\".format(x.rsquared_adj)}))"
   ]
  },
  {
   "cell_type": "markdown",
   "metadata": {},
   "source": [
    "### Example 9.8. R&D Intensity and Firm Size"
   ]
  },
  {
   "cell_type": "code",
   "execution_count": 10,
   "metadata": {},
   "outputs": [
    {
     "name": "stdout",
     "output_type": "stream",
     "text": [
      "\n",
      "================================\n",
      "                 RD1      RD2   \n",
      "                (b/se)   (b/se) \n",
      "--------------------------------\n",
      "Intercept      2.625*** 2.297***\n",
      "               (0.586)  (0.592) \n",
      "sales          0.000    0.000** \n",
      "               (0.000)  (0.000) \n",
      "profmarg       0.045    0.048   \n",
      "               (0.046)  (0.044) \n",
      "R-squared      0.076    0.173   \n",
      "R-squared Adj. 0.012    0.114   \n",
      "N              32       31      \n",
      "R2             0.076    0.173   \n",
      "Adj.R2         0.012    0.114   \n",
      "================================\n",
      "Standard errors in parentheses.\n",
      "* p<.1, ** p<.05, ***p<.01\n"
     ]
    }
   ],
   "source": [
    "df = dataWoo(\"rdchem\")\n",
    "RD1 = smf.ols('rdintens ~ sales + profmarg + 1', data=df).fit()\n",
    "RD2 = smf.ols('rdintens ~ sales + profmarg + 1', data=df[(df['sales']<30000)]).fit()\n",
    "\n",
    "print(summary_col([RD1, RD2],stars=True,float_format='%0.3f',\n",
    "                  model_names=['RD1\\n(b/se)','RD2\\n(b/se)'],\n",
    "                 info_dict={'N':lambda x: \"{0:d}\".format(int(x.nobs)),\n",
    "                             'R2':lambda x: \"{:.3f}\".format(x.rsquared), \n",
    "                           'Adj.R2':lambda x: \"{:.3f}\".format(x.rsquared_adj)}))"
   ]
  },
  {
   "cell_type": "markdown",
   "metadata": {},
   "source": [
    "### Example 9.9. R&D Intensity"
   ]
  },
  {
   "cell_type": "code",
   "execution_count": 11,
   "metadata": {},
   "outputs": [
    {
     "name": "stdout",
     "output_type": "stream",
     "text": [
      "\n",
      "==================================\n",
      "                RD1_Log   RD2_Log \n",
      "                 (b/se)    (b/se) \n",
      "----------------------------------\n",
      "Intercept      -4.378*** -4.404***\n",
      "               (0.468)   (0.511)  \n",
      "lsales         1.084***  1.088*** \n",
      "               (0.060)   (0.067)  \n",
      "profmarg       0.022     0.022    \n",
      "               (0.013)   (0.013)  \n",
      "R-squared      0.918     0.904    \n",
      "R-squared Adj. 0.912     0.897    \n",
      "N              32        31       \n",
      "R2             0.918     0.904    \n",
      "Adj.R2         0.912     0.897    \n",
      "==================================\n",
      "Standard errors in parentheses.\n",
      "* p<.1, ** p<.05, ***p<.01\n"
     ]
    }
   ],
   "source": [
    "df = dataWoo(\"rdchem\")\n",
    "lRD1 = smf.ols('lrd ~ lsales + profmarg + 1', data=df).fit()\n",
    "lRD2 = smf.ols('lrd ~ lsales + profmarg + 1', data=df[(df['sales']<30000)]).fit()\n",
    "\n",
    "print(summary_col([lRD1, lRD2],stars=True,float_format='%0.3f',\n",
    "                  model_names=['RD1_Log\\n(b/se)','RD2_Log\\n(b/se)'],\n",
    "                 info_dict={'N':lambda x: \"{0:d}\".format(int(x.nobs)),\n",
    "                             'R2':lambda x: \"{:.3f}\".format(x.rsquared), \n",
    "                           'Adj.R2':lambda x: \"{:.3f}\".format(x.rsquared_adj)}))"
   ]
  },
  {
   "cell_type": "markdown",
   "metadata": {},
   "source": [
    "### Example 9.10. State Infant Mortality Rates"
   ]
  },
  {
   "cell_type": "code",
   "execution_count": 12,
   "metadata": {},
   "outputs": [
    {
     "name": "stdout",
     "output_type": "stream",
     "text": [
      "\n",
      "================================\n",
      "               Infmort1 Infmort2\n",
      "                (b/se)   (b/se) \n",
      "--------------------------------\n",
      "Intercept      33.859   23.955* \n",
      "               (20.428) (12.419)\n",
      "lpcinc         -4.685*  -0.567  \n",
      "               (2.604)  (1.641) \n",
      "lphysic        4.153*** -2.742**\n",
      "               (1.513)  (1.191) \n",
      "lpopul         -0.088   0.629***\n",
      "               (0.287)  (0.191) \n",
      "R-squared      0.139    0.273   \n",
      "R-squared Adj. 0.084    0.226   \n",
      "N              51       50      \n",
      "R2             0.139    0.273   \n",
      "Adj.R2         0.084    0.226   \n",
      "================================\n",
      "Standard errors in parentheses.\n",
      "* p<.1, ** p<.05, ***p<.01\n"
     ]
    }
   ],
   "source": [
    "df = dataWoo(\"infmrt\")\n",
    "df = df[(df['year']==1990)]\n",
    "infant1  = smf.ols('infmort ~ lpcinc + lphysic + lpopul + 1', data=df).fit()\n",
    "infant2  = smf.ols('infmort ~ lpcinc + lphysic + lpopul + 1 ', data=df[(df['DC']==0)]).fit()\n",
    "\n",
    "print(summary_col([infant1, infant2],stars=True,float_format='%0.3f',\n",
    "                  model_names=['Infmort1\\n(b/se)','Infmort2\\n(b/se)'],\n",
    "                 info_dict={'N':lambda x: \"{0:d}\".format(int(x.nobs)),\n",
    "                             'R2':lambda x: \"{:.3f}\".format(x.rsquared), \n",
    "                           'Adj.R2':lambda x: \"{:.3f}\".format(x.rsquared_adj)}))"
   ]
  }
 ],
 "metadata": {
  "kernelspec": {
   "display_name": "Python 3 (ipykernel)",
   "language": "python",
   "name": "python3"
  },
  "language_info": {
   "codemirror_mode": {
    "name": "ipython",
    "version": 3
   },
   "file_extension": ".py",
   "mimetype": "text/x-python",
   "name": "python",
   "nbconvert_exporter": "python",
   "pygments_lexer": "ipython3",
   "version": "3.11.7"
  }
 },
 "nbformat": 4,
 "nbformat_minor": 4
}
